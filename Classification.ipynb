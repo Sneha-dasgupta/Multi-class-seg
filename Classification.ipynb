{
  "nbformat": 4,
  "nbformat_minor": 0,
  "metadata": {
    "colab": {
      "name": "Classification.ipynb",
      "provenance": [],
      "collapsed_sections": [],
      "toc_visible": true,
      "mount_file_id": "1dtxbjBURGSLT6U1ht2ac-oSy8hKXfVEe",
      "authorship_tag": "ABX9TyNHkC21MtZpLQMFXNInMPxs",
      "include_colab_link": true
    },
    "kernelspec": {
      "name": "python3",
      "display_name": "Python 3"
    },
    "language_info": {
      "name": "python"
    }
  },
  "cells": [
    {
      "cell_type": "markdown",
      "metadata": {
        "id": "view-in-github",
        "colab_type": "text"
      },
      "source": [
        "<a href=\"https://colab.research.google.com/github/Sneha-dasgupta/Multi-class-seg/blob/main/Classification.ipynb\" target=\"_parent\"><img src=\"https://colab.research.google.com/assets/colab-badge.svg\" alt=\"Open In Colab\"/></a>"
      ]
    },
    {
      "cell_type": "code",
      "metadata": {
        "id": "TPkKSuyn4bOI"
      },
      "source": [
        ""
      ],
      "execution_count": null,
      "outputs": []
    },
    {
      "cell_type": "markdown",
      "metadata": {
        "id": "_pHkA9QFWvOl"
      },
      "source": [
        "# Data Preparation"
      ]
    },
    {
      "cell_type": "code",
      "metadata": {
        "id": "VdsTJgDgHRob",
        "colab": {
          "base_uri": "https://localhost:8080/"
        },
        "outputId": "a1db9a9a-38a4-4409-b4f5-27d70d7141da"
      },
      "source": [
        "import os\n",
        "import numpy as np\n",
        "import cv2\n",
        "import matplotlib.pyplot as plt\n",
        "%matplotlib inline\n",
        "from glob import glob\n",
        "from tqdm import tqdm\n",
        "!pip install -U albumentations\n",
        "from albumentations import HorizontalFlip, VerticalFlip, ElasticTransform, GridDistortion, OpticalDistortion\n",
        "\n",
        "def create_dir(path):\n",
        "    if not os.path.exists(path):\n",
        "        os.makedirs(path)\n",
        "\n",
        "def load_data(path):\n",
        "    \"\"\" X = Images and Y = masks \"\"\"\n",
        "\n",
        "    train_x = sorted(glob(os.path.join(path, \"Training\", \"Images\", \"*.png\")))\n",
        "    train_y1 = sorted(glob(os.path.join(path, \"Training\", \"GT_OD\", \"*.png\")))\n",
        "    train_y2 = sorted(glob(os.path.join(path, \"Training\", \"GT_OC\", \"*.png\")))\n",
        "\n",
        "\n",
        "    test_x = sorted(glob(os.path.join(path, \"Test\", \"Images\", \"*.png\")))\n",
        "    test_y1 = sorted(glob(os.path.join(path, \"Test\", \"Test_GT_OD\", \"*.png\")))\n",
        "    test_y2 = sorted(glob(os.path.join(path, \"Test\", \"Test_GT_OC\", \"*.png\")))\n",
        "\n",
        "    return (train_x, train_y1, train_y2), (test_x, test_y1, test_y2)\n",
        "\n",
        "def augment_data(images, mask1, mask2, save_path, augment=True):\n",
        "    H = 256\n",
        "    W = 256\n",
        "\n",
        "    for idx, (x, y, z) in tqdm(enumerate(zip(images, mask1, mask2)), total=len(images)):\n",
        "        \"\"\" Extracting names \"\"\"\n",
        "        name = x.split(\"/\")[-1].split(\".\")[0]\n",
        "\n",
        "        \"\"\" Reading image and mask \"\"\"\n",
        "        x = cv2.imread(x, cv2.IMREAD_COLOR)\n",
        "        x = cv2.cvtColor(x, cv2.COLOR_BGR2RGB)\n",
        "        y = cv2.imread(y, cv2.IMREAD_COLOR)\n",
        "        z = cv2.imread(z, cv2.IMREAD_COLOR)\n",
        "        print(x.shape, y.shape, z.shape)\n",
        "\n",
        "        if augment == True:\n",
        "            aug = HorizontalFlip(p=1.0)\n",
        "            augmented = aug(image=x, mask1=y, mask2=z)\n",
        "            x1 = augmented[\"image\"]\n",
        "            y1 = augmented[\"mask1\"]\n",
        "            z1 = augmented[\"mask2\"]\n",
        "\n",
        "            aug = VerticalFlip(p=1.0)\n",
        "            augmented = aug(image=x, mask1=y, mask2=z)\n",
        "            x2 = augmented[\"image\"]\n",
        "            y2 = augmented[\"mask1\"]\n",
        "            z2 = augmented[\"mask2\"]\n",
        "\n",
        "            X = [x, x1, x2]\n",
        "            Y = [y, y1, y2]\n",
        "            Z = [z, z1, z2]\n",
        "\n",
        "        else:\n",
        "            X = [x]\n",
        "            Y = [y]\n",
        "            Z = [z]\n",
        "\n",
        "        index = 0\n",
        "        for i, m, n in zip(X, Y, Z):\n",
        "            i = cv2.resize(i, (W, H), interpolation = cv2.INTER_CUBIC)\n",
        "            #i = cv2.cvtColor(i,cv2.COLOR_BGR2RGB)\n",
        "\n",
        "            #Histogram equalisation - start\n",
        "            #img_gray = cv2.cvtColor(i, cv2.COLOR_BGR2GRAY)\n",
        "            #clahe = cv2.createCLAHE(clipLimit=2.0, tileGridSize=(8,8))\n",
        "            #i = clahe.apply(img_gray)\n",
        "            #i = cv2.cvtColor(i,cv2.COLOR_GRAY2RGB)\n",
        "            lab = cv2.cvtColor(i, cv2.COLOR_BGR2LAB)\n",
        "\n",
        "            lab_planes = cv2.split(lab)\n",
        "\n",
        "            clahe = cv2.createCLAHE(clipLimit=3.0,tileGridSize=(8,8))\n",
        "\n",
        "            lab_planes[0] = clahe.apply(lab_planes[0])\n",
        "\n",
        "            lab = cv2.merge(lab_planes)\n",
        "\n",
        "            i = cv2.cvtColor(lab, cv2.COLOR_LAB2BGR)\n",
        "            i = cv2.cvtColor(i,cv2.COLOR_BGR2RGB)\n",
        "\n",
        "            #histogram equalization - end \n",
        "\n",
        "            m = cv2.resize(m, (W, H), interpolation = cv2.INTER_CUBIC)\n",
        "            n = cv2.resize(n, (W, H), interpolation = cv2.INTER_CUBIC)\n",
        "\n",
        "            if len(X) == 1:\n",
        "                tmp_image_name = f\"{name}.png\"\n",
        "                tmp_mask1_name = f\"{name}.png\"\n",
        "                tmp_mask2_name = f\"{name}.png\"\n",
        "            else:\n",
        "                tmp_image_name = f\"{name}_{index}.png\"\n",
        "                tmp_mask1_name = f\"{name}_{index}.png\"\n",
        "                tmp_mask2_name = f\"{name}_{index}.png\"\n",
        "\n",
        "            image_path = os.path.join(save_path, \"image\", tmp_image_name)\n",
        "            mask1_path = os.path.join(save_path, \"mask1\", tmp_mask1_name)\n",
        "            mask2_path = os.path.join(save_path, \"mask2\", tmp_mask2_name)\n",
        "\n",
        "            #print(i.shape)\n",
        "\n",
        "            cv2.imwrite(image_path, i)\n",
        "            cv2.imwrite(mask1_path, m)\n",
        "            cv2.imwrite(mask2_path, n)\n",
        "\n",
        "            index += 1\n",
        "\n",
        "if __name__ == \"__main__\":\n",
        "    \"\"\" Seeding \"\"\"\n",
        "    np.random.seed(42)\n",
        "\n",
        "    \"\"\" Load the data \"\"\"\n",
        "    data_path = \"/content/drive/MyDrive/Drishti/\"\n",
        "    (train_x, train_y1, train_y2), (test_x, test_y1, test_y2) = load_data(data_path)\n",
        "\n",
        "    '''print(f\"Train: {len(train_x)} - {len(train_y)}\")\n",
        "    print(f\"Test: {len(test_x)} - {len(test_y)}\")'''\n",
        "\n",
        "    \"\"\" Creating directories \"\"\"\n",
        "    create_dir(\"new_data/train/image\")\n",
        "    create_dir(\"new_data/train/mask1\")\n",
        "    create_dir(\"new_data/train/mask2\")\n",
        "    create_dir(\"new_data/test/image\")\n",
        "    create_dir(\"new_data/test/mask1\")\n",
        "    create_dir(\"new_data/test/mask2\")\n",
        "\n",
        "    augment_data(train_x, train_y1, train_y2, \"new_data/train/\", augment=False)\n",
        "    augment_data(test_x, test_y1, test_y2, \"new_data/test/\", augment=False)"
      ],
      "execution_count": 57,
      "outputs": [
        {
          "output_type": "stream",
          "name": "stdout",
          "text": [
            "Requirement already satisfied: albumentations in /usr/local/lib/python3.7/dist-packages (1.1.0)\n",
            "Requirement already satisfied: qudida>=0.0.4 in /usr/local/lib/python3.7/dist-packages (from albumentations) (0.0.4)\n",
            "Requirement already satisfied: scikit-image>=0.16.1 in /usr/local/lib/python3.7/dist-packages (from albumentations) (0.16.2)\n",
            "Requirement already satisfied: scipy in /usr/local/lib/python3.7/dist-packages (from albumentations) (1.4.1)\n",
            "Requirement already satisfied: PyYAML in /usr/local/lib/python3.7/dist-packages (from albumentations) (3.13)\n",
            "Requirement already satisfied: opencv-python-headless>=4.1.1 in /usr/local/lib/python3.7/dist-packages (from albumentations) (4.5.3.56)\n",
            "Requirement already satisfied: numpy>=1.11.1 in /usr/local/lib/python3.7/dist-packages (from albumentations) (1.19.5)\n",
            "Requirement already satisfied: typing-extensions in /usr/local/lib/python3.7/dist-packages (from qudida>=0.0.4->albumentations) (3.7.4.3)\n",
            "Requirement already satisfied: scikit-learn>=0.19.1 in /usr/local/lib/python3.7/dist-packages (from qudida>=0.0.4->albumentations) (0.22.2.post1)\n",
            "Requirement already satisfied: PyWavelets>=0.4.0 in /usr/local/lib/python3.7/dist-packages (from scikit-image>=0.16.1->albumentations) (1.1.1)\n",
            "Requirement already satisfied: matplotlib!=3.0.0,>=2.0.0 in /usr/local/lib/python3.7/dist-packages (from scikit-image>=0.16.1->albumentations) (3.2.2)\n",
            "Requirement already satisfied: imageio>=2.3.0 in /usr/local/lib/python3.7/dist-packages (from scikit-image>=0.16.1->albumentations) (2.4.1)\n",
            "Requirement already satisfied: networkx>=2.0 in /usr/local/lib/python3.7/dist-packages (from scikit-image>=0.16.1->albumentations) (2.6.3)\n",
            "Requirement already satisfied: pillow>=4.3.0 in /usr/local/lib/python3.7/dist-packages (from scikit-image>=0.16.1->albumentations) (7.1.2)\n",
            "Requirement already satisfied: cycler>=0.10 in /usr/local/lib/python3.7/dist-packages (from matplotlib!=3.0.0,>=2.0.0->scikit-image>=0.16.1->albumentations) (0.10.0)\n",
            "Requirement already satisfied: kiwisolver>=1.0.1 in /usr/local/lib/python3.7/dist-packages (from matplotlib!=3.0.0,>=2.0.0->scikit-image>=0.16.1->albumentations) (1.3.2)\n",
            "Requirement already satisfied: python-dateutil>=2.1 in /usr/local/lib/python3.7/dist-packages (from matplotlib!=3.0.0,>=2.0.0->scikit-image>=0.16.1->albumentations) (2.8.2)\n",
            "Requirement already satisfied: pyparsing!=2.0.4,!=2.1.2,!=2.1.6,>=2.0.1 in /usr/local/lib/python3.7/dist-packages (from matplotlib!=3.0.0,>=2.0.0->scikit-image>=0.16.1->albumentations) (2.4.7)\n",
            "Requirement already satisfied: six in /usr/local/lib/python3.7/dist-packages (from cycler>=0.10->matplotlib!=3.0.0,>=2.0.0->scikit-image>=0.16.1->albumentations) (1.15.0)\n",
            "Requirement already satisfied: joblib>=0.11 in /usr/local/lib/python3.7/dist-packages (from scikit-learn>=0.19.1->qudida>=0.0.4->albumentations) (1.0.1)\n"
          ]
        },
        {
          "output_type": "stream",
          "name": "stderr",
          "text": [
            "  3%|▎         | 2/79 [00:00<00:12,  6.28it/s]"
          ]
        },
        {
          "output_type": "stream",
          "name": "stdout",
          "text": [
            "(1752, 2045, 3) (1752, 2045, 3) (1752, 2045, 3)\n",
            "(1762, 2049, 3) (1762, 2049, 3) (1762, 2049, 3)\n"
          ]
        },
        {
          "output_type": "stream",
          "name": "stderr",
          "text": [
            "  5%|▌         | 4/79 [00:00<00:12,  6.02it/s]"
          ]
        },
        {
          "output_type": "stream",
          "name": "stdout",
          "text": [
            "(1755, 2049, 3) (1755, 2049, 3) (1755, 2049, 3)\n",
            "(1757, 2140, 3) (1757, 2140, 3) (1757, 2140, 3)\n"
          ]
        },
        {
          "output_type": "stream",
          "name": "stderr",
          "text": [
            "  8%|▊         | 6/79 [00:00<00:11,  6.20it/s]"
          ]
        },
        {
          "output_type": "stream",
          "name": "stdout",
          "text": [
            "(1755, 2047, 3) (1755, 2047, 3) (1755, 2047, 3)\n",
            "(1758, 2050, 3) (1758, 2050, 3) (1758, 2050, 3)\n"
          ]
        },
        {
          "output_type": "stream",
          "name": "stderr",
          "text": [
            " 10%|█         | 8/79 [00:01<00:11,  6.24it/s]"
          ]
        },
        {
          "output_type": "stream",
          "name": "stdout",
          "text": [
            "(1760, 2051, 3) (1760, 2051, 3) (1760, 2051, 3)\n",
            "(1750, 2049, 3) (1750, 2049, 3) (1750, 2049, 3)\n"
          ]
        },
        {
          "output_type": "stream",
          "name": "stderr",
          "text": [
            " 13%|█▎        | 10/79 [00:01<00:10,  6.37it/s]"
          ]
        },
        {
          "output_type": "stream",
          "name": "stdout",
          "text": [
            "(1750, 2048, 3) (1750, 2048, 3) (1750, 2048, 3)\n",
            "(1753, 2048, 3) (1753, 2048, 3) (1753, 2048, 3)\n"
          ]
        },
        {
          "output_type": "stream",
          "name": "stderr",
          "text": [
            " 15%|█▌        | 12/79 [00:01<00:10,  6.27it/s]"
          ]
        },
        {
          "output_type": "stream",
          "name": "stdout",
          "text": [
            "(1757, 2047, 3) (1757, 2047, 3) (1757, 2047, 3)\n",
            "(1763, 2047, 3) (1763, 2047, 3) (1763, 2047, 3)\n"
          ]
        },
        {
          "output_type": "stream",
          "name": "stderr",
          "text": [
            " 18%|█▊        | 14/79 [00:02<00:10,  5.99it/s]"
          ]
        },
        {
          "output_type": "stream",
          "name": "stdout",
          "text": [
            "(1763, 2466, 3) (1763, 2466, 3) (1763, 2466, 3)\n",
            "(1759, 2049, 3) (1759, 2049, 3) (1759, 2049, 3)\n"
          ]
        },
        {
          "output_type": "stream",
          "name": "stderr",
          "text": [
            " 20%|██        | 16/79 [00:02<00:10,  6.02it/s]"
          ]
        },
        {
          "output_type": "stream",
          "name": "stdout",
          "text": [
            "(1759, 2049, 3) (1759, 2049, 3) (1759, 2049, 3)\n",
            "(1845, 2050, 3) (1845, 2050, 3) (1845, 2050, 3)\n"
          ]
        },
        {
          "output_type": "stream",
          "name": "stderr",
          "text": [
            " 23%|██▎       | 18/79 [00:02<00:09,  6.12it/s]"
          ]
        },
        {
          "output_type": "stream",
          "name": "stdout",
          "text": [
            "(1759, 2048, 3) (1759, 2048, 3) (1759, 2048, 3)\n",
            "(1760, 2048, 3) (1760, 2048, 3) (1760, 2048, 3)\n"
          ]
        },
        {
          "output_type": "stream",
          "name": "stderr",
          "text": [
            " 25%|██▌       | 20/79 [00:03<00:09,  6.13it/s]"
          ]
        },
        {
          "output_type": "stream",
          "name": "stdout",
          "text": [
            "(1762, 2049, 3) (1762, 2049, 3) (1762, 2049, 3)\n",
            "(1755, 2049, 3) (1755, 2049, 3) (1755, 2049, 3)\n"
          ]
        },
        {
          "output_type": "stream",
          "name": "stderr",
          "text": [
            " 28%|██▊       | 22/79 [00:03<00:09,  6.13it/s]"
          ]
        },
        {
          "output_type": "stream",
          "name": "stdout",
          "text": [
            "(1751, 2052, 3) (1751, 2052, 3) (1751, 2052, 3)\n",
            "(1750, 2050, 3) (1750, 2050, 3) (1750, 2050, 3)\n"
          ]
        },
        {
          "output_type": "stream",
          "name": "stderr",
          "text": [
            " 30%|███       | 24/79 [00:03<00:08,  6.18it/s]"
          ]
        },
        {
          "output_type": "stream",
          "name": "stdout",
          "text": [
            "(1751, 2047, 3) (1751, 2047, 3) (1751, 2047, 3)\n",
            "(1751, 2045, 3) (1751, 2045, 3) (1751, 2045, 3)\n"
          ]
        },
        {
          "output_type": "stream",
          "name": "stderr",
          "text": [
            " 33%|███▎      | 26/79 [00:04<00:08,  6.14it/s]"
          ]
        },
        {
          "output_type": "stream",
          "name": "stdout",
          "text": [
            "(1753, 2048, 3) (1753, 2048, 3) (1753, 2048, 3)\n",
            "(1749, 2049, 3) (1749, 2049, 3) (1749, 2049, 3)\n"
          ]
        },
        {
          "output_type": "stream",
          "name": "stderr",
          "text": [
            " 35%|███▌      | 28/79 [00:04<00:08,  6.21it/s]"
          ]
        },
        {
          "output_type": "stream",
          "name": "stdout",
          "text": [
            "(1749, 2048, 3) (1749, 2048, 3) (1749, 2048, 3)\n",
            "(1760, 2048, 3) (1760, 2048, 3) (1760, 2048, 3)\n"
          ]
        },
        {
          "output_type": "stream",
          "name": "stderr",
          "text": [
            " 38%|███▊      | 30/79 [00:04<00:07,  6.29it/s]"
          ]
        },
        {
          "output_type": "stream",
          "name": "stdout",
          "text": [
            "(1759, 2049, 3) (1759, 2049, 3) (1759, 2049, 3)\n",
            "(1764, 2050, 3) (1764, 2050, 3) (1764, 2050, 3)\n"
          ]
        },
        {
          "output_type": "stream",
          "name": "stderr",
          "text": [
            " 41%|████      | 32/79 [00:05<00:07,  6.23it/s]"
          ]
        },
        {
          "output_type": "stream",
          "name": "stdout",
          "text": [
            "(1762, 2048, 3) (1762, 2048, 3) (1762, 2048, 3)\n",
            "(1758, 2047, 3) (1758, 2047, 3) (1758, 2047, 3)\n"
          ]
        },
        {
          "output_type": "stream",
          "name": "stderr",
          "text": [
            " 43%|████▎     | 34/79 [00:05<00:07,  6.26it/s]"
          ]
        },
        {
          "output_type": "stream",
          "name": "stdout",
          "text": [
            "(1760, 2049, 3) (1760, 2049, 3) (1760, 2049, 3)\n",
            "(1756, 2049, 3) (1756, 2049, 3) (1756, 2049, 3)\n"
          ]
        },
        {
          "output_type": "stream",
          "name": "stderr",
          "text": [
            " 46%|████▌     | 36/79 [00:05<00:07,  6.13it/s]"
          ]
        },
        {
          "output_type": "stream",
          "name": "stdout",
          "text": [
            "(1841, 2289, 3) (1841, 2289, 3) (1841, 2289, 3)\n",
            "(1759, 2049, 3) (1759, 2049, 3) (1759, 2049, 3)\n"
          ]
        },
        {
          "output_type": "stream",
          "name": "stderr",
          "text": [
            " 48%|████▊     | 38/79 [00:06<00:06,  6.12it/s]"
          ]
        },
        {
          "output_type": "stream",
          "name": "stdout",
          "text": [
            "(1761, 2048, 3) (1761, 2048, 3) (1761, 2048, 3)\n",
            "(1763, 2049, 3) (1763, 2049, 3) (1763, 2049, 3)\n"
          ]
        },
        {
          "output_type": "stream",
          "name": "stderr",
          "text": [
            " 51%|█████     | 40/79 [00:06<00:06,  6.22it/s]"
          ]
        },
        {
          "output_type": "stream",
          "name": "stdout",
          "text": [
            "(1757, 2048, 3) (1757, 2048, 3) (1757, 2048, 3)\n",
            "(1760, 2049, 3) (1760, 2049, 3) (1760, 2049, 3)\n"
          ]
        },
        {
          "output_type": "stream",
          "name": "stderr",
          "text": [
            " 53%|█████▎    | 42/79 [00:06<00:06,  6.09it/s]"
          ]
        },
        {
          "output_type": "stream",
          "name": "stdout",
          "text": [
            "(1758, 2463, 3) (1758, 2463, 3) (1758, 2463, 3)\n",
            "(1755, 2047, 3) (1755, 2047, 3) (1755, 2047, 3)\n"
          ]
        },
        {
          "output_type": "stream",
          "name": "stderr",
          "text": [
            " 56%|█████▌    | 44/79 [00:07<00:05,  6.10it/s]"
          ]
        },
        {
          "output_type": "stream",
          "name": "stdout",
          "text": [
            "(1753, 2046, 3) (1753, 2046, 3) (1753, 2046, 3)\n",
            "(1752, 2047, 3) (1752, 2047, 3) (1752, 2047, 3)\n"
          ]
        },
        {
          "output_type": "stream",
          "name": "stderr",
          "text": [
            " 58%|█████▊    | 46/79 [00:07<00:05,  6.21it/s]"
          ]
        },
        {
          "output_type": "stream",
          "name": "stdout",
          "text": [
            "(1752, 2045, 3) (1752, 2045, 3) (1752, 2045, 3)\n",
            "(1760, 2048, 3) (1760, 2048, 3) (1760, 2048, 3)\n"
          ]
        },
        {
          "output_type": "stream",
          "name": "stderr",
          "text": [
            " 61%|██████    | 48/79 [00:07<00:04,  6.22it/s]"
          ]
        },
        {
          "output_type": "stream",
          "name": "stdout",
          "text": [
            "(1753, 2049, 3) (1753, 2049, 3) (1753, 2049, 3)\n",
            "(1753, 2046, 3) (1753, 2046, 3) (1753, 2046, 3)\n"
          ]
        },
        {
          "output_type": "stream",
          "name": "stderr",
          "text": [
            " 63%|██████▎   | 50/79 [00:08<00:04,  6.27it/s]"
          ]
        },
        {
          "output_type": "stream",
          "name": "stdout",
          "text": [
            "(1754, 2046, 3) (1754, 2046, 3) (1754, 2046, 3)\n",
            "(1761, 2049, 3) (1761, 2049, 3) (1761, 2049, 3)\n"
          ]
        },
        {
          "output_type": "stream",
          "name": "stderr",
          "text": [
            " 66%|██████▌   | 52/79 [00:08<00:04,  6.26it/s]"
          ]
        },
        {
          "output_type": "stream",
          "name": "stdout",
          "text": [
            "(1759, 2049, 3) (1759, 2049, 3) (1759, 2049, 3)\n",
            "(1760, 2047, 3) (1760, 2047, 3) (1760, 2047, 3)\n"
          ]
        },
        {
          "output_type": "stream",
          "name": "stderr",
          "text": [
            " 68%|██████▊   | 54/79 [00:08<00:03,  6.26it/s]"
          ]
        },
        {
          "output_type": "stream",
          "name": "stdout",
          "text": [
            "(1761, 2140, 3) (1761, 2140, 3) (1761, 2140, 3)\n",
            "(1759, 2048, 3) (1759, 2048, 3) (1759, 2048, 3)\n"
          ]
        },
        {
          "output_type": "stream",
          "name": "stderr",
          "text": [
            " 71%|███████   | 56/79 [00:09<00:03,  6.06it/s]"
          ]
        },
        {
          "output_type": "stream",
          "name": "stdout",
          "text": [
            "(1762, 2468, 3) (1762, 2468, 3) (1762, 2468, 3)\n",
            "(1757, 2047, 3) (1757, 2047, 3) (1757, 2047, 3)\n"
          ]
        },
        {
          "output_type": "stream",
          "name": "stderr",
          "text": [
            " 73%|███████▎  | 58/79 [00:09<00:03,  6.15it/s]"
          ]
        },
        {
          "output_type": "stream",
          "name": "stdout",
          "text": [
            "(1760, 2049, 3) (1760, 2049, 3) (1760, 2049, 3)\n",
            "(1762, 2048, 3) (1762, 2048, 3) (1762, 2048, 3)\n"
          ]
        },
        {
          "output_type": "stream",
          "name": "stderr",
          "text": [
            " 76%|███████▌  | 60/79 [00:09<00:03,  6.17it/s]"
          ]
        },
        {
          "output_type": "stream",
          "name": "stdout",
          "text": [
            "(1755, 2048, 3) (1755, 2048, 3) (1755, 2048, 3)\n",
            "(1754, 2046, 3) (1754, 2046, 3) (1754, 2046, 3)\n"
          ]
        },
        {
          "output_type": "stream",
          "name": "stderr",
          "text": [
            " 78%|███████▊  | 62/79 [00:10<00:02,  6.22it/s]"
          ]
        },
        {
          "output_type": "stream",
          "name": "stdout",
          "text": [
            "(1759, 2048, 3) (1759, 2048, 3) (1759, 2048, 3)\n",
            "(1760, 2048, 3) (1760, 2048, 3) (1760, 2048, 3)\n"
          ]
        },
        {
          "output_type": "stream",
          "name": "stderr",
          "text": [
            " 81%|████████  | 64/79 [00:10<00:02,  6.22it/s]"
          ]
        },
        {
          "output_type": "stream",
          "name": "stdout",
          "text": [
            "(1758, 2049, 3) (1758, 2049, 3) (1758, 2049, 3)\n",
            "(1750, 2048, 3) (1750, 2048, 3) (1750, 2048, 3)\n"
          ]
        },
        {
          "output_type": "stream",
          "name": "stderr",
          "text": [
            " 84%|████████▎ | 66/79 [00:10<00:02,  6.18it/s]"
          ]
        },
        {
          "output_type": "stream",
          "name": "stdout",
          "text": [
            "(1754, 2049, 3) (1754, 2049, 3) (1754, 2049, 3)\n",
            "(1835, 2049, 3) (1835, 2049, 3) (1835, 2049, 3)\n"
          ]
        },
        {
          "output_type": "stream",
          "name": "stderr",
          "text": [
            " 86%|████████▌ | 68/79 [00:11<00:01,  6.25it/s]"
          ]
        },
        {
          "output_type": "stream",
          "name": "stdout",
          "text": [
            "(1761, 2048, 3) (1761, 2048, 3) (1761, 2048, 3)\n",
            "(1760, 2047, 3) (1760, 2047, 3) (1760, 2047, 3)\n"
          ]
        },
        {
          "output_type": "stream",
          "name": "stderr",
          "text": [
            " 89%|████████▊ | 70/79 [00:11<00:01,  6.24it/s]"
          ]
        },
        {
          "output_type": "stream",
          "name": "stdout",
          "text": [
            "(1749, 2049, 3) (1749, 2049, 3) (1749, 2049, 3)\n",
            "(1749, 2049, 3) (1749, 2049, 3) (1749, 2049, 3)\n"
          ]
        },
        {
          "output_type": "stream",
          "name": "stderr",
          "text": [
            " 91%|█████████ | 72/79 [00:11<00:01,  6.33it/s]"
          ]
        },
        {
          "output_type": "stream",
          "name": "stdout",
          "text": [
            "(1749, 2048, 3) (1749, 2048, 3) (1749, 2048, 3)\n",
            "(1749, 2050, 3) (1749, 2050, 3) (1749, 2050, 3)\n"
          ]
        },
        {
          "output_type": "stream",
          "name": "stderr",
          "text": [
            " 94%|█████████▎| 74/79 [00:11<00:00,  6.29it/s]"
          ]
        },
        {
          "output_type": "stream",
          "name": "stdout",
          "text": [
            "(1748, 2048, 3) (1748, 2048, 3) (1748, 2048, 3)\n",
            "(1750, 2049, 3) (1750, 2049, 3) (1750, 2049, 3)\n"
          ]
        },
        {
          "output_type": "stream",
          "name": "stderr",
          "text": [
            " 96%|█████████▌| 76/79 [00:12<00:00,  6.27it/s]"
          ]
        },
        {
          "output_type": "stream",
          "name": "stdout",
          "text": [
            "(1750, 2048, 3) (1750, 2048, 3) (1750, 2048, 3)\n",
            "(1749, 2049, 3) (1749, 2049, 3) (1749, 2049, 3)\n"
          ]
        },
        {
          "output_type": "stream",
          "name": "stderr",
          "text": [
            " 99%|█████████▊| 78/79 [00:12<00:00,  6.32it/s]"
          ]
        },
        {
          "output_type": "stream",
          "name": "stdout",
          "text": [
            "(1749, 2048, 3) (1749, 2048, 3) (1749, 2048, 3)\n",
            "(1748, 2047, 3) (1748, 2047, 3) (1748, 2047, 3)\n"
          ]
        },
        {
          "output_type": "stream",
          "name": "stderr",
          "text": [
            "100%|██████████| 79/79 [00:12<00:00,  6.18it/s]\n"
          ]
        },
        {
          "output_type": "stream",
          "name": "stdout",
          "text": [
            "(1749, 2048, 3) (1749, 2048, 3) (1749, 2048, 3)\n"
          ]
        },
        {
          "output_type": "stream",
          "name": "stderr",
          "text": [
            "  5%|▍         | 1/21 [00:00<00:03,  6.59it/s]"
          ]
        },
        {
          "output_type": "stream",
          "name": "stdout",
          "text": [
            "(1751, 2049, 3) (1751, 2049, 3) (1751, 2049, 3)\n"
          ]
        },
        {
          "output_type": "stream",
          "name": "stderr",
          "text": [
            "\r 10%|▉         | 2/21 [00:00<00:02,  6.41it/s]"
          ]
        },
        {
          "output_type": "stream",
          "name": "stdout",
          "text": [
            "(1759, 2047, 3) (1759, 2047, 3) (1759, 2047, 3)\n"
          ]
        },
        {
          "output_type": "stream",
          "name": "stderr",
          "text": [
            "\r 14%|█▍        | 3/21 [00:00<00:02,  6.24it/s]"
          ]
        },
        {
          "output_type": "stream",
          "name": "stdout",
          "text": [
            "(1759, 2047, 3) (1759, 2047, 3) (1759, 2047, 3)\n"
          ]
        },
        {
          "output_type": "stream",
          "name": "stderr",
          "text": [
            "\r 19%|█▉        | 4/21 [00:00<00:02,  6.31it/s]"
          ]
        },
        {
          "output_type": "stream",
          "name": "stdout",
          "text": [
            "(1755, 2048, 3) (1755, 2048, 3) (1755, 2048, 3)\n"
          ]
        },
        {
          "output_type": "stream",
          "name": "stderr",
          "text": [
            "\r 24%|██▍       | 5/21 [00:00<00:02,  6.23it/s]"
          ]
        },
        {
          "output_type": "stream",
          "name": "stdout",
          "text": [
            "(1757, 2049, 3) (1757, 2049, 3) (1757, 2049, 3)\n"
          ]
        },
        {
          "output_type": "stream",
          "name": "stderr",
          "text": [
            "\r 29%|██▊       | 6/21 [00:00<00:02,  6.21it/s]"
          ]
        },
        {
          "output_type": "stream",
          "name": "stdout",
          "text": [
            "(1754, 2048, 3) (1754, 2048, 3) (1754, 2048, 3)\n"
          ]
        },
        {
          "output_type": "stream",
          "name": "stderr",
          "text": [
            "\r 33%|███▎      | 7/21 [00:01<00:02,  6.15it/s]"
          ]
        },
        {
          "output_type": "stream",
          "name": "stdout",
          "text": [
            "(1752, 2049, 3) (1752, 2049, 3) (1752, 2049, 3)\n"
          ]
        },
        {
          "output_type": "stream",
          "name": "stderr",
          "text": [
            "\r 38%|███▊      | 8/21 [00:01<00:02,  5.92it/s]"
          ]
        },
        {
          "output_type": "stream",
          "name": "stdout",
          "text": [
            "(1759, 2463, 3) (1759, 2463, 3) (1759, 2463, 3)\n"
          ]
        },
        {
          "output_type": "stream",
          "name": "stderr",
          "text": [
            "\r 43%|████▎     | 9/21 [00:01<00:02,  5.93it/s]"
          ]
        },
        {
          "output_type": "stream",
          "name": "stdout",
          "text": [
            "(1760, 2048, 3) (1760, 2048, 3) (1760, 2048, 3)\n"
          ]
        },
        {
          "output_type": "stream",
          "name": "stderr",
          "text": [
            "\r 48%|████▊     | 10/21 [00:01<00:01,  5.99it/s]"
          ]
        },
        {
          "output_type": "stream",
          "name": "stdout",
          "text": [
            "(1760, 2049, 3) (1760, 2049, 3) (1760, 2049, 3)\n"
          ]
        },
        {
          "output_type": "stream",
          "name": "stderr",
          "text": [
            "\r 52%|█████▏    | 11/21 [00:01<00:01,  6.09it/s]"
          ]
        },
        {
          "output_type": "stream",
          "name": "stdout",
          "text": [
            "(1757, 2048, 3) (1757, 2048, 3) (1757, 2048, 3)\n"
          ]
        },
        {
          "output_type": "stream",
          "name": "stderr",
          "text": [
            "\r 57%|█████▋    | 12/21 [00:01<00:01,  6.09it/s]"
          ]
        },
        {
          "output_type": "stream",
          "name": "stdout",
          "text": [
            "(1761, 2047, 3) (1761, 2047, 3) (1761, 2047, 3)\n",
            "(1757, 2468, 3) (1757, 2468, 3) (1757, 2468, 3)\n"
          ]
        },
        {
          "output_type": "stream",
          "name": "stderr",
          "text": [
            " 67%|██████▋   | 14/21 [00:02<00:01,  5.92it/s]"
          ]
        },
        {
          "output_type": "stream",
          "name": "stdout",
          "text": [
            "(1761, 2048, 3) (1761, 2048, 3) (1761, 2048, 3)\n"
          ]
        },
        {
          "output_type": "stream",
          "name": "stderr",
          "text": [
            "\r 71%|███████▏  | 15/21 [00:02<00:01,  5.92it/s]"
          ]
        },
        {
          "output_type": "stream",
          "name": "stdout",
          "text": [
            "(1760, 2048, 3) (1760, 2048, 3) (1760, 2048, 3)\n"
          ]
        },
        {
          "output_type": "stream",
          "name": "stderr",
          "text": [
            "\r 76%|███████▌  | 16/21 [00:02<00:00,  5.97it/s]"
          ]
        },
        {
          "output_type": "stream",
          "name": "stdout",
          "text": [
            "(1758, 2050, 3) (1758, 2050, 3) (1758, 2050, 3)\n"
          ]
        },
        {
          "output_type": "stream",
          "name": "stderr",
          "text": [
            "\r 81%|████████  | 17/21 [00:02<00:00,  6.08it/s]"
          ]
        },
        {
          "output_type": "stream",
          "name": "stdout",
          "text": [
            "(1748, 2048, 3) (1748, 2048, 3) (1748, 2048, 3)\n"
          ]
        },
        {
          "output_type": "stream",
          "name": "stderr",
          "text": [
            "\r 86%|████████▌ | 18/21 [00:02<00:00,  6.11it/s]"
          ]
        },
        {
          "output_type": "stream",
          "name": "stdout",
          "text": [
            "(1750, 2049, 3) (1750, 2049, 3) (1750, 2049, 3)\n"
          ]
        },
        {
          "output_type": "stream",
          "name": "stderr",
          "text": [
            "\r 90%|█████████ | 19/21 [00:03<00:00,  6.13it/s]"
          ]
        },
        {
          "output_type": "stream",
          "name": "stdout",
          "text": [
            "(1750, 2048, 3) (1750, 2048, 3) (1750, 2048, 3)\n"
          ]
        },
        {
          "output_type": "stream",
          "name": "stderr",
          "text": [
            "\r 95%|█████████▌| 20/21 [00:03<00:00,  6.16it/s]"
          ]
        },
        {
          "output_type": "stream",
          "name": "stdout",
          "text": [
            "(1749, 2049, 3) (1749, 2049, 3) (1749, 2049, 3)\n"
          ]
        },
        {
          "output_type": "stream",
          "name": "stderr",
          "text": [
            "100%|██████████| 21/21 [00:03<00:00,  6.09it/s]"
          ]
        },
        {
          "output_type": "stream",
          "name": "stdout",
          "text": [
            "(1749, 2048, 3) (1749, 2048, 3) (1749, 2048, 3)\n"
          ]
        },
        {
          "output_type": "stream",
          "name": "stderr",
          "text": [
            "\n"
          ]
        }
      ]
    },
    {
      "cell_type": "markdown",
      "metadata": {
        "id": "hCXtUxlIW4rQ"
      },
      "source": [
        "# CDR calculation"
      ]
    },
    {
      "cell_type": "code",
      "metadata": {
        "id": "Q9yrV5n_Qi0t"
      },
      "source": [
        "# FUNCTION TO CALCULATE CDR\n",
        "import cv2 as cv\n",
        "\n",
        "def cdr(cup,disc,plot):\n",
        "    \n",
        "    clahe = cv2.createCLAHE(clipLimit=2.0, tileGridSize=(9,9))\n",
        "    \n",
        "    R1 = cv2.morphologyEx(cup, cv2.MORPH_CLOSE, cv2.getStructuringElement(cv2.MORPH_ELLIPSE,(2,2)), iterations = 1)\n",
        "    r1 = cv2.morphologyEx(R1, cv2.MORPH_OPEN, cv2.getStructuringElement(cv2.MORPH_ELLIPSE,(7,7)), iterations = 1)\n",
        "    R2 = cv2.morphologyEx(r1, cv2.MORPH_CLOSE, cv2.getStructuringElement(cv2.MORPH_ELLIPSE,(1,21)), iterations = 1)\n",
        "    r2 = cv2.morphologyEx(R2, cv2.MORPH_OPEN, cv2.getStructuringElement(cv2.MORPH_ELLIPSE,(21,1)), iterations = 1)\n",
        "    R3 = cv2.morphologyEx(r2, cv2.MORPH_CLOSE, cv2.getStructuringElement(cv2.MORPH_ELLIPSE,(33,33)), iterations = 1)\t\n",
        "    r3 = cv2.morphologyEx(R3, cv2.MORPH_OPEN, cv2.getStructuringElement(cv2.MORPH_ELLIPSE,(43,43)), iterations = 1)\n",
        "\n",
        "    #f4 = cv2.subtract(R3,img)\n",
        "    img = clahe.apply(r3)\n",
        "    \n",
        "    \n",
        "    ret,thresh = cv2.threshold(cup,127,255,0)\n",
        "    contours,hierarchy = cv2.findContours(thresh, cv.RETR_EXTERNAL,cv.CHAIN_APPROX_SIMPLE)\n",
        "    cup_diameter = 0\n",
        "    largest_area = 0\n",
        "    cup_area = 0\n",
        "    el_cup = contours[0]\n",
        "    if len(contours) != 0:\n",
        "        for i in range(len(contours)):\n",
        "            if len(contours[i]) >= 5:\n",
        "                area = cv.contourArea(contours[i])\n",
        "\n",
        "                if (area>largest_area):\n",
        "                    largest_area=area\n",
        "                    cup_area = largest_area\n",
        "                    print(\"cup_area:\", cup_area)\n",
        "                    index = i\n",
        "                    el_cup = cv.fitEllipse(contours[i])\n",
        "                \n",
        "    cv.ellipse(img,el_cup,(140,60,150),3)\n",
        "    x,y,w,h = cv2.boundingRect(contours[index])\n",
        "    cup_diameter = max(w,h)\n",
        "    print(\"cup_diameter\", cup_diameter)\n",
        "    minor_axis = min(w,h)\n",
        "    notch_factor = (cup_diameter - minor_axis)\n",
        "    #print(notch_factor)\n",
        "    \n",
        "    \n",
        "    R1 = cv2.morphologyEx(disc, cv2.MORPH_CLOSE, cv2.getStructuringElement(cv2.MORPH_ELLIPSE,(2,2)), iterations = 1)\n",
        "    r1 = cv2.morphologyEx(R1, cv2.MORPH_OPEN, cv2.getStructuringElement(cv2.MORPH_ELLIPSE,(7,7)), iterations = 1)\n",
        "    R2 = cv2.morphologyEx(r1, cv2.MORPH_CLOSE, cv2.getStructuringElement(cv2.MORPH_ELLIPSE,(1,21)), iterations = 1)\n",
        "    r2 = cv2.morphologyEx(R2, cv2.MORPH_OPEN, cv2.getStructuringElement(cv2.MORPH_ELLIPSE,(21,1)), iterations = 1)\n",
        "    R3 = cv2.morphologyEx(r2, cv2.MORPH_CLOSE, cv2.getStructuringElement(cv2.MORPH_ELLIPSE,(33,33)), iterations = 1)\n",
        "    r3 = cv2.morphologyEx(R3, cv2.MORPH_OPEN, cv2.getStructuringElement(cv2.MORPH_ELLIPSE,(43,43)), iterations = 1)\n",
        "\n",
        "    #f4 = cv2.subtract(R3,img)\n",
        "    img2 = clahe.apply(r3)\n",
        "    \n",
        "    ret,thresh = cv.threshold(disc,127,255,0)\n",
        "    contours,hierarchy = cv.findContours(thresh, cv.RETR_EXTERNAL,cv.CHAIN_APPROX_SIMPLE)\n",
        "    disk_diameter = 0\n",
        "    largest_area = 0\n",
        "    disk_area = 0\n",
        "    el_disc = el_cup\n",
        "    if len(contours) != 0:\n",
        "          for i in range(len(contours)):\n",
        "            if len(contours[i]) >= 5:\n",
        "                area = cv.contourArea(contours[i])\n",
        "                if (area>largest_area):\n",
        "                    largest_area=area\n",
        "                    disk_area = largest_area\n",
        "                    print(\"disk_area\", disk_area)\n",
        "                    index = i\n",
        "                    el_disc = cv.fitEllipse(contours[i])\n",
        "                    \n",
        "    cv.ellipse(img2,el_disc,(140,60,150),3)\n",
        "    x,y,w,h = cv2.boundingRect(contours[index])\n",
        "    disk_diameter = max(w,h)\n",
        "    print(\"disk_diameter\", disk_diameter)\n",
        "                \n",
        "    if plot:\n",
        "        plt.imshow(img2, cmap = 'gray', interpolation = 'bicubic')\n",
        "        plt.axis(\"off\")\n",
        "        plt.title(\"Optic Disk\")\n",
        "        plt.show()\n",
        "        plt.imshow(img)\n",
        "        plt.axis(\"off\")\n",
        "        plt.title(\"Optic Cup\")\n",
        "        plt.show()\n",
        "        \n",
        "    if(disk_diameter == 0): return 1\n",
        "    dcdr = cup_diameter/disk_diameter\n",
        "    acdr = cup_area/disk_area\n",
        "\n",
        "    return dcdr, acdr, cup_diameter, disk_diameter, cup_area, disk_area"
      ],
      "execution_count": 58,
      "outputs": []
    },
    {
      "cell_type": "code",
      "metadata": {
        "id": "uY20AVqxwxTq"
      },
      "source": [
        "# FUNCTION TO CALCULATE disc diameter\n",
        "import cv2 as cv\n",
        "\n",
        "def disk_diameter(disc,plot):\n",
        "    \n",
        "    clahe = cv2.createCLAHE(clipLimit=2.0, tileGridSize=(9,9))\n",
        "   \n",
        "    R1 = cv2.morphologyEx(disc, cv2.MORPH_CLOSE, cv2.getStructuringElement(cv2.MORPH_ELLIPSE,(2,2)), iterations = 1)\n",
        "    r1 = cv2.morphologyEx(R1, cv2.MORPH_OPEN, cv2.getStructuringElement(cv2.MORPH_ELLIPSE,(7,7)), iterations = 1)\n",
        "    R2 = cv2.morphologyEx(r1, cv2.MORPH_CLOSE, cv2.getStructuringElement(cv2.MORPH_ELLIPSE,(1,21)), iterations = 1)\n",
        "    r2 = cv2.morphologyEx(R2, cv2.MORPH_OPEN, cv2.getStructuringElement(cv2.MORPH_ELLIPSE,(21,1)), iterations = 1)\n",
        "    R3 = cv2.morphologyEx(r2, cv2.MORPH_CLOSE, cv2.getStructuringElement(cv2.MORPH_ELLIPSE,(33,33)), iterations = 1)\n",
        "    r3 = cv2.morphologyEx(R3, cv2.MORPH_OPEN, cv2.getStructuringElement(cv2.MORPH_ELLIPSE,(43,43)), iterations = 1)\n",
        "\n",
        "    #f4 = cv2.subtract(R3,img)\n",
        "    img2 = clahe.apply(r3)\n",
        "    \n",
        "    ret,thresh = cv.threshold(disc,127,255,0)\n",
        "    contours,hierarchy = cv.findContours(thresh, cv.RETR_EXTERNAL,cv.CHAIN_APPROX_SIMPLE)\n",
        "    disk_diameter = 0\n",
        "    largest_area = 0\n",
        "    disk_area = 0\n",
        "    el_disc = contours[0]\n",
        "    if len(contours) != 0:\n",
        "          for i in range(len(contours)):\n",
        "            if len(contours[i]) >= 5:\n",
        "                area = cv.contourArea(contours[i])\n",
        "                if (area>largest_area):\n",
        "                    largest_area=area\n",
        "                    disk_area = largest_area\n",
        "                    print(\"disk_area\", disk_area)\n",
        "                    index = i\n",
        "                    el_disc = cv.fitEllipse(contours[i])\n",
        "                    \n",
        "    cv.ellipse(img2,el_disc,(140,60,150),3)\n",
        "    x,y,w,h = cv2.boundingRect(contours[index])\n",
        "    disk_diameter = max(w,h)\n",
        "    print(\"disk_diameter\", disk_diameter)\n",
        "                \n",
        "    if plot:\n",
        "        plt.imshow(img2, cmap = 'gray', interpolation = 'bicubic')\n",
        "        plt.axis(\"off\")\n",
        "        plt.title(\"Optic Disk\")\n",
        "        plt.show()\n",
        "        plt.imshow(img)\n",
        "        plt.axis(\"off\")\n",
        "        plt.title(\"Optic Cup\")\n",
        "        plt.show()\n",
        "\n",
        "    return disk_diameter"
      ],
      "execution_count": 59,
      "outputs": []
    },
    {
      "cell_type": "code",
      "metadata": {
        "id": "OmGN2xDUiOV5"
      },
      "source": [
        "# FUNCTION TO CALCULATE NOTCH\n",
        "import cv2 as cv\n",
        "from skimage import transform \n",
        "from skimage import img_as_ubyte\n",
        "import math\n",
        "from scipy.spatial import distance\n",
        "import statistics\n",
        "\n",
        "\n",
        "\n",
        "def notch(cup,disc,plot,dd):\n",
        "    \n",
        "    clahe = cv2.createCLAHE(clipLimit=2.0, tileGridSize=(9,9))\n",
        "    \n",
        "    R1 = cv2.morphologyEx(cup, cv2.MORPH_CLOSE, cv2.getStructuringElement(cv2.MORPH_ELLIPSE,(2,2)), iterations = 1)\n",
        "    r1 = cv2.morphologyEx(R1, cv2.MORPH_OPEN, cv2.getStructuringElement(cv2.MORPH_ELLIPSE,(7,7)), iterations = 1)\n",
        "    R2 = cv2.morphologyEx(r1, cv2.MORPH_CLOSE, cv2.getStructuringElement(cv2.MORPH_ELLIPSE,(1,21)), iterations = 1)\n",
        "    r2 = cv2.morphologyEx(R2, cv2.MORPH_OPEN, cv2.getStructuringElement(cv2.MORPH_ELLIPSE,(21,1)), iterations = 1)\n",
        "    R3 = cv2.morphologyEx(r2, cv2.MORPH_CLOSE, cv2.getStructuringElement(cv2.MORPH_ELLIPSE,(33,33)), iterations = 1)\t\n",
        "    r3 = cv2.morphologyEx(R3, cv2.MORPH_OPEN, cv2.getStructuringElement(cv2.MORPH_ELLIPSE,(43,43)), iterations = 1)\n",
        "\n",
        "    #f4 = cv2.subtract(R3,img)\n",
        "    img = clahe.apply(r3)\n",
        "    \n",
        "    \n",
        "    ret,thresh = cv2.threshold(cup,127,255,0)\n",
        "    contours,hierarchy = cv2.findContours(thresh, cv.RETR_EXTERNAL,cv.CHAIN_APPROX_SIMPLE)\n",
        "\n",
        "    thresh_c = thresh\n",
        "\n",
        "    el_cup = contours[0]\n",
        "    # calculate moments of binary image\n",
        "    M = cv2.moments(el_cup)\n",
        "    # calculate x,y coordinate of center\n",
        "    cX = int(M[\"m10\"] / M[\"m00\"])\n",
        "    cY = int(M[\"m01\"] / M[\"m00\"])\n",
        "    print(cX, cY)\n",
        "\n",
        "    # Step #3\n",
        "    out = cup.copy()\n",
        "\n",
        "    # Step #4\n",
        "    ref_c = np.zeros_like(thresh_c)\n",
        "    cv2.drawContours(ref_c, contours, 0, 255, 1)\n",
        "\n",
        "    R1 = cv2.morphologyEx(disc, cv2.MORPH_CLOSE, cv2.getStructuringElement(cv2.MORPH_ELLIPSE,(2,2)), iterations = 1)\n",
        "    r1 = cv2.morphologyEx(R1, cv2.MORPH_OPEN, cv2.getStructuringElement(cv2.MORPH_ELLIPSE,(7,7)), iterations = 1)\n",
        "    R2 = cv2.morphologyEx(r1, cv2.MORPH_CLOSE, cv2.getStructuringElement(cv2.MORPH_ELLIPSE,(1,21)), iterations = 1)\n",
        "    r2 = cv2.morphologyEx(R2, cv2.MORPH_OPEN, cv2.getStructuringElement(cv2.MORPH_ELLIPSE,(21,1)), iterations = 1)\n",
        "    R3 = cv2.morphologyEx(r2, cv2.MORPH_CLOSE, cv2.getStructuringElement(cv2.MORPH_ELLIPSE,(33,33)), iterations = 1)\n",
        "    r3 = cv2.morphologyEx(R3, cv2.MORPH_OPEN, cv2.getStructuringElement(cv2.MORPH_ELLIPSE,(43,43)), iterations = 1)\n",
        "\n",
        "    #f4 = cv2.subtract(R3,img)\n",
        "    img2 = clahe.apply(r3)\n",
        "    \n",
        "    ret,thresh = cv.threshold(disc,127,255,0)\n",
        "    contours,hierarchy = cv.findContours(thresh, cv.RETR_EXTERNAL,cv.CHAIN_APPROX_SIMPLE)\n",
        "\n",
        "    thresh_d = thresh\n",
        "\n",
        "    el_disc = contours[0]\n",
        "    # calculate moments of binary image\n",
        "    N = cv2.moments(el_disc)\n",
        "    # calculate x,y coordinate of center\n",
        "    print(int(N[\"m00\"]))\n",
        "    if N[\"m00\"] != 0:\n",
        "        dX = int(N[\"m10\"] / N[\"m00\"])\n",
        "        dY = int(N[\"m01\"] / N[\"m00\"])\n",
        "    else:\n",
        "    # set values as what you need in the situation\n",
        "        dX, dY = 0, 0\n",
        "    print(dX, dY)\n",
        "\n",
        "    # Step #3\n",
        "    out_d = disc.copy()\n",
        "\n",
        "    # Step #4\n",
        "    ref_d = np.zeros_like(thresh_d)\n",
        "    cv2.drawContours(ref_d, contours, 0, 255, 1)\n",
        "\n",
        "    # Get dimensions of the image\n",
        "    width_c = cup.shape[1]\n",
        "    height_c = cup.shape[0]\n",
        "    width_d = disc.shape[1]\n",
        "    height_d = disc.shape[0]\n",
        "\n",
        "    Rtimax = 0\n",
        "    Rti = []\n",
        "    Rtsmax = 0\n",
        "    Rts = []\n",
        "    Rttmax = 0\n",
        "    Rtt = []\n",
        "    Rtnmax = 0\n",
        "    Rtn = []\n",
        "\n",
        "    for i in range(0,361):\n",
        "        tmp_c = np.zeros_like(thresh_c)\n",
        "        tmp_d = np.zeros_like(thresh_d)\n",
        "\n",
        "        # Step #6b\n",
        "        theta = (i)\n",
        "        theta *= np.pi/180.0\n",
        "\n",
        "        # Step #6c\n",
        "        cv2.line(tmp_c, (cX, cY),\n",
        "                (int(cX+np.cos(theta)*width_c),\n",
        "                int(cY-np.sin(theta)*height_c)), 255, 5)\n",
        "        if (dX==0 and dY==0):\n",
        "            print(\"\")\n",
        "            #col_d[0],row_d[0] = 0, 0\n",
        "        else:\n",
        "            cv2.line(tmp_d, (dX, dY),\n",
        "                    (int(dX+np.cos(theta)*width_d),\n",
        "                    int(dY-np.sin(theta)*height_d)), 255, 5)\n",
        "\n",
        "\n",
        "        # Step #6d\n",
        "        (row_c,col_c) = np.nonzero(np.logical_and(tmp_c, ref_c))\n",
        "        (row_d,col_d) = np.nonzero(np.logical_and(tmp_d, ref_d))\n",
        "\n",
        "        # Step #6e\n",
        "        #cv2.line(out, (cX, cY), (col_c[0],row_c[0]), 0, 1)\n",
        "        #cv2.line(out_d, (dX, dY), (col_d[0],row_d[0]), 0, 1)\n",
        "\n",
        "\n",
        "        #print(\"Boundary co-ordinate for cup\", col_c[0],row_c[0])\n",
        "        #print(\"Boundary co-ordinate for disc\", col_d[0],row_d[0])\n",
        "        if ((dX != 0) and (dY !=0)):\n",
        "            Dc = distance.euclidean([cX, cY], [col_c[0],row_c[0]])\n",
        "            Dd = distance.euclidean([dX, dY], [col_d[0],row_d[0]])\n",
        "            #print(\"Dc\", Dc)\n",
        "            #print(\"Dd\", Dd)\n",
        "            Rt = Dd - Dc\n",
        "            Rt = Rt/dd\n",
        "            #print(\"Rt\", Rt)\n",
        "            if ((0< i <46) or (315< i <361)):\n",
        "                Rtimax = Rtimax + Rt\n",
        "                Rti.append(Rt)\n",
        "             \n",
        "            elif (135< i <226):\n",
        "                Rtsmax = Rtsmax + Rt\n",
        "                Rts.append(Rt)\n",
        "             \n",
        "            elif (45< i <136):\n",
        "                Rttmax = Rttmax + Rt\n",
        "                Rtt.append(Rt)\n",
        "           \n",
        "            else:\n",
        "                Rtnmax = Rtnmax + Rt\n",
        "                Rtn.append(Rt)\n",
        "        else:\n",
        "            #print(\"discard\") \n",
        "            Rt = 0\n",
        "            Rti.append(Rt)   \n",
        "            Rts.append(Rt)\n",
        "            Rtt.append(Rt)\n",
        "            Rtn.append(Rt)\n",
        "\n",
        "\n",
        "    print(\"Rtimax =\", Rtimax)\n",
        "    print(\"Rtsmax =\", Rtsmax)\n",
        "    print(\"Rttmax =\", Rttmax)\n",
        "    print(\"Rtnmax =\", Rtnmax)\n",
        "    i = statistics.mean(Rti)\n",
        "    print(\"mean(i)\", i)\n",
        "    s = statistics.mean(Rts)\n",
        "    print(\"mean(s)\", s)\n",
        "    n = statistics.mean(Rtn)\n",
        "    print(\"mean(n)\", n)\n",
        "    t = statistics.mean(Rtt)\n",
        "    print(\"mean(t)\", t)\n",
        "\n",
        "\n",
        "    return i, s"
      ],
      "execution_count": 60,
      "outputs": []
    },
    {
      "cell_type": "markdown",
      "metadata": {
        "id": "nKsIhWJwW_aK"
      },
      "source": [
        "# Train Dataset Features Extraction"
      ]
    },
    {
      "cell_type": "code",
      "metadata": {
        "id": "ArEltEqfRlF1",
        "colab": {
          "base_uri": "https://localhost:8080/"
        },
        "outputId": "c7282f87-8f6f-4b12-f846-6a1f219d4568"
      },
      "source": [
        "# MAIN FUNCTION\n",
        "\n",
        "import pandas as pd\n",
        "\n",
        "CDR = []\n",
        "VAL = []\n",
        "count = 0\n",
        "\n",
        "folder_train_y1 = \"/content/new_data/train/mask1/\"\n",
        "train_y1 = os.listdir(folder_train_y1)\n",
        "train_y1.sort(key = len)\n",
        "\n",
        "folder_train_y2 = \"/content/new_data/train/mask2/\"\n",
        "train_y2 = os.listdir(folder_train_y2)\n",
        "train_y2.sort(key = len)\n",
        "\n",
        "folder_train_y3 = \"/content/new_data/train/image/\"\n",
        "train_y3 = os.listdir(folder_train_y3)\n",
        "train_y3.sort(key = len)\n",
        "\n",
        "create_dir(\"results\")\n",
        "SCORE = []\n",
        "\n",
        "for x, y, z in tqdm(zip(train_y1, train_y2, train_y3 ), total=len(train_y1)):\n",
        "    \"\"\" Extracting names \"\"\"\n",
        "    name = x.split(\"/\")[-1].split(\".\")[0]\n",
        "    disc = cv2.imread(folder_train_y1+x,0)\n",
        "\n",
        "    cup = cv2.imread(folder_train_y2+y,0)\n",
        "\n",
        "    print(\"@@@@@@@@@@@@@@@@@@@@@@@@@@@@@@@@@@@@@@@@@@@@@@@@@@@@@@@@@@@@@@@@@@@@@@@@@@@\")\n",
        "    dcdr_cal, acdr_cal, cup_d, disc_d, cup_a, disc_a = cdr(cup,disc,False)\n",
        "    dd = disk_diameter(disc,False)\n",
        "    i, s = notch(cup,disc,False,dd)\n",
        "    print(\"DCDR\", dcdr_cal)\n",
        "    print(\"ACDR\", acdr_cal)\n",
        "    print(name)\n",
        "    print(\"I-distance\", i)\n",
        "    print(\"S-distance\", s)\n",
        "\n",
        "    Name = name\n",
        "    ACDR = acdr_cal\n",
        "    DCDR = dcdr_cal\n",
        "    cup_diameter = cup_d\n",
        "    disc_diameter = disc_d\n",
        "    cup_area = cup_a\n",
        "    disc_area = disc_a\n",
        "    i_distance = i\n",
        "    s_distance = s\n",
        "\n",
        "    SCORE.append([Name, ACDR, DCDR, cup_diameter, disc_diameter, cup_area, disc_area, i_distance, s_distance])\n",
        "\n",
        "    count = count + 1\n",
        "\n",
        "    SCORE.sort(reverse=False)\n",
        "    df = pd.DataFrame(SCORE, columns=[\"Name\", \"ACDR\", \"DCDR\", \"Cup diameter\", \"Disc diameter\", \"Cup area\", \"Disc area\", \"I distance\", \"S distance\"])\n",
        "    df.to_csv(\"results/extracted_features_train.csv\")"
      ],
      "execution_count": 61,
      "outputs": [
        {
          "output_type": "stream",
          "name": "stderr",
          "text": [
            "\r  0%|          | 0/79 [00:00<?, ?it/s]"
          ]
        },
        {
          "output_type": "stream",
          "name": "stdout",
          "text": [
            "@@@@@@@@@@@@@@@@@@@@@@@@@@@@@@@@@@@@@@@@@@@@@@@@@@@@@@@@@@@@@@@@@@@@@@@@@@@\n",
            "cup_area: 1673.5\n",
            "cup_diameter 53\n",
            "disk_area 2159.5\n",
            "disk_diameter 61\n",
            "disk_area 2159.5\n",
            "disk_diameter 61\n",
            "109 132\n",
            "2159\n",
            "110 132\n"
          ]
        },
        {
          "output_type": "stream",
          "name": "stderr",
          "text": [
            "\r  1%|▏         | 1/79 [00:00<00:19,  3.92it/s]"
          ]
        },
        {
          "output_type": "stream",
          "name": "stdout",
          "text": [
            "Rtimax = 4.746443732571681\n",
            "Rtsmax = 4.209872147119586\n",
            "Rttmax = 6.079841349567143\n",
            "Rtnmax = 4.0980944306260305\n",
            "mean(i) 0.052738263695240886\n",
            "mean(s) 0.04677635719021761\n",
            "mean(n) 0.045034004732154194\n",
            "mean(t) 0.06755379277296829\n",
            "DCDR 0.8688524590163934\n",
            "ACDR 0.774947904607548\n",
            "drishtiGS_076\n",
            "I-distance 0.052738263695240886\n",
            "S-distance 0.04677635719021761\n",
            "@@@@@@@@@@@@@@@@@@@@@@@@@@@@@@@@@@@@@@@@@@@@@@@@@@@@@@@@@@@@@@@@@@@@@@@@@@@\n",
            "cup_area: 1240.5\n",
            "cup_diameter 45\n",
            "disk_area 2347.5\n",
            "disk_diameter 62\n",
            "disk_area 2347.5\n",
            "disk_diameter 62\n",
            "120 143\n",
            "2347\n",
            "121 144\n"
          ]
        },
        {
          "output_type": "stream",
          "name": "stderr",
          "text": [
            "\r  3%|▎         | 2/79 [00:00<00:19,  4.00it/s]"
          ]
        },
        {
          "output_type": "stream",
          "name": "stdout",
          "text": [
            "Rtimax = 9.87720819971816\n",
            "Rtsmax = 10.250067294398077\n",
            "Rttmax = 11.583515844692124\n",
            "Rtnmax = 11.895797304450175\n",
            "mean(i) 0.10974675777464628\n",
            "mean(s) 0.11388963660442313\n",
            "mean(n) 0.1307230473016503\n",
            "mean(t) 0.1287057316076903\n",
            "DCDR 0.7258064516129032\n",
            "ACDR 0.5284345047923322\n",
            "drishtiGS_036\n",
            "I-distance 0.10974675777464628\n",
            "S-distance 0.11388963660442313\n",
            "@@@@@@@@@@@@@@@@@@@@@@@@@@@@@@@@@@@@@@@@@@@@@@@@@@@@@@@@@@@@@@@@@@@@@@@@@@@\n",
            "cup_area: 375.5\n",
            "cup_diameter 26\n",
            "disk_area 1808.0\n",
            "disk_diameter 56\n",
            "disk_area 1808.0\n",
            "disk_diameter 56\n",
            "126 150\n",
            "1808\n",
            "126 150\n"
          ]
        },
        {
          "output_type": "stream",
          "name": "stderr",
          "text": [
            "\r  4%|▍         | 3/79 [00:00<00:18,  4.02it/s]"
          ]
        },
        {
          "output_type": "stream",
          "name": "stdout",
          "text": [
            "Rtimax = 16.824962998092932\n",
            "Rtsmax = 19.61653183452654\n",
            "Rttmax = 23.700249624529654\n",
            "Rtnmax = 23.92412724593003\n",
            "mean(i) 0.18694403331214365\n",
            "mean(s) 0.21796146482807266\n",
            "mean(n) 0.26290249720802233\n",
            "mean(t) 0.26333610693921844\n",
            "DCDR 0.4642857142857143\n",
            "ACDR 0.20768805309734514\n",
            "drishtiGS_089\n",
            "I-distance 0.18694403331214365\n",
            "S-distance 0.21796146482807266\n",
            "@@@@@@@@@@@@@@@@@@@@@@@@@@@@@@@@@@@@@@@@@@@@@@@@@@@@@@@@@@@@@@@@@@@@@@@@@@@\n",
            "cup_area: 1093.5\n",
            "cup_diameter 44\n",
            "disk_area 1813.0\n",
            "disk_diameter 54\n",
            "disk_area 1813.0\n",
            "disk_diameter 54\n",
            "125 137\n",
            "1813\n",
            "125 136\n"
          ]
        },
        {
          "output_type": "stream",
          "name": "stderr",
          "text": [
            "\r  5%|▌         | 4/79 [00:00<00:18,  4.04it/s]"
          ]
        },
        {
          "output_type": "stream",
          "name": "stdout",
          "text": [
            "Rtimax = 10.037014242784887\n",
            "Rtsmax = 7.6280604650802815\n",
            "Rttmax = 8.212247104977635\n",
            "Rtnmax = 9.866524187072\n",
            "mean(i) 0.11152238047538765\n",
            "mean(s) 0.08475622738978086\n",
            "mean(n) 0.10842334271507684\n",
            "mean(t) 0.09124719005530701\n",
            "DCDR 0.8148148148148148\n",
            "ACDR 0.6031439602868174\n",
            "drishtiGS_044\n",
            "I-distance 0.11152238047538765\n",
            "S-distance 0.08475622738978086\n",
            "@@@@@@@@@@@@@@@@@@@@@@@@@@@@@@@@@@@@@@@@@@@@@@@@@@@@@@@@@@@@@@@@@@@@@@@@@@@\n",
            "cup_area: 982.5\n",
            "cup_diameter 42\n",
            "disk_area 1807.0\n",
            "disk_diameter 56\n",
            "disk_area 1807.0\n",
            "disk_diameter 56\n",
            "122 129\n",
            "1807\n",
            "122 127\n"
          ]
        },
        {
          "output_type": "stream",
          "name": "stderr",
          "text": [
            "\r  6%|▋         | 5/79 [00:01<00:18,  4.01it/s]"
          ]
        },
        {
          "output_type": "stream",
          "name": "stdout",
          "text": [
            "Rtimax = 9.060586306874526\n",
            "Rtsmax = 8.692524625057054\n",
            "Rttmax = 10.811073805967576\n",
            "Rtnmax = 12.000338924711983\n",
            "mean(i) 0.1006731811874947\n",
            "mean(s) 0.09658360694507839\n",
            "mean(n) 0.13187185631551632\n",
            "mean(t) 0.12012304228852855\n",
            "DCDR 0.75\n",
            "ACDR 0.5437188710570006\n",
            "drishtiGS_066\n",
            "I-distance 0.1006731811874947\n",
            "S-distance 0.09658360694507839\n",
            "@@@@@@@@@@@@@@@@@@@@@@@@@@@@@@@@@@@@@@@@@@@@@@@@@@@@@@@@@@@@@@@@@@@@@@@@@@@\n",
            "cup_area: 1219.5\n",
            "cup_diameter 46\n",
            "disk_area 1609.5\n",
            "disk_diameter 53\n",
            "disk_area 1609.5\n",
            "disk_diameter 53\n",
            "135 151\n",
            "1609\n",
            "134 150\n"
          ]
        },
        {
          "output_type": "stream",
          "name": "stderr",
          "text": [
            "\r  8%|▊         | 6/79 [00:01<00:18,  3.92it/s]"
          ]
        },
        {
          "output_type": "stream",
          "name": "stdout",
          "text": [
            "Rtimax = 5.51282941998812\n",
            "Rtsmax = 3.7933292291962912\n",
            "Rttmax = 4.043737053900441\n",
            "Rtnmax = 6.418415245021992\n",
            "mean(i) 0.06125366022209024\n",
            "mean(s) 0.04214810254662544\n",
            "mean(n) 0.07053203565958237\n",
            "mean(t) 0.044930411710004864\n",
            "DCDR 0.8679245283018868\n",
            "ACDR 0.7576887232059646\n",
            "drishtiGS_012\n",
            "I-distance 0.06125366022209024\n",
            "S-distance 0.04214810254662544\n",
            "@@@@@@@@@@@@@@@@@@@@@@@@@@@@@@@@@@@@@@@@@@@@@@@@@@@@@@@@@@@@@@@@@@@@@@@@@@@\n",
            "cup_area: 600.5\n",
            "cup_diameter 31\n",
            "disk_area 1684.5\n",
            "disk_diameter 53\n",
            "disk_area 1684.5\n",
            "disk_diameter 53\n",
            "103 126\n",
            "1684\n",
            "104 125\n"
          ]
        },
        {
          "output_type": "stream",
          "name": "stderr",
          "text": [
            "\r  9%|▉         | 7/79 [00:01<00:18,  3.91it/s]"
          ]
        },
        {
          "output_type": "stream",
          "name": "stdout",
          "text": [
            "Rtimax = 13.22146290457497\n",
            "Rtsmax = 15.118924821693957\n",
            "Rttmax = 18.465480778001012\n",
            "Rtnmax = 17.202984763727024\n",
            "mean(i) 0.1469051433841663\n",
            "mean(s) 0.16798805357437732\n",
            "mean(n) 0.18904378861238502\n",
            "mean(t) 0.20517200864445576\n",
            "DCDR 0.5849056603773585\n",
            "ACDR 0.3564856040368062\n",
            "drishtiGS_017\n",
            "I-distance 0.1469051433841663\n",
            "S-distance 0.16798805357437732\n",
            "@@@@@@@@@@@@@@@@@@@@@@@@@@@@@@@@@@@@@@@@@@@@@@@@@@@@@@@@@@@@@@@@@@@@@@@@@@@\n",
            "cup_area: 1623.5\n",
            "cup_diameter 52\n",
            "disk_area 2717.5\n",
            "disk_diameter 67\n",
            "disk_area 2717.5\n",
            "disk_diameter 67\n",
            "121 137\n",
            "2717\n",
            "122 137\n"
          ]
        },
        {
          "output_type": "stream",
          "name": "stderr",
          "text": [
            "\r 10%|█         | 8/79 [00:02<00:17,  3.96it/s]"
          ]
        },
        {
          "output_type": "stream",
          "name": "stdout",
          "text": [
            "Rtimax = 7.507014473334672\n",
            "Rtsmax = 8.475957928981543\n",
            "Rttmax = 8.75275474036831\n",
            "Rtnmax = 10.46776509825557\n",
            "mean(i) 0.08341127192594078\n",
            "mean(s) 0.09417731032201711\n",
            "mean(n) 0.11503038569511619\n",
            "mean(t) 0.09725283044853679\n",
            "DCDR 0.7761194029850746\n",
            "ACDR 0.5974241030358786\n",
            "drishtiGS_063\n",
            "I-distance 0.08341127192594078\n",
            "S-distance 0.09417731032201711\n",
            "@@@@@@@@@@@@@@@@@@@@@@@@@@@@@@@@@@@@@@@@@@@@@@@@@@@@@@@@@@@@@@@@@@@@@@@@@@@\n",
            "cup_area: 1000.0\n",
            "cup_diameter 44\n",
            "disk_area 1616.5\n",
            "disk_diameter 51\n",
            "disk_area 1616.5\n",
            "disk_diameter 51\n",
            "135 144\n",
            "1616\n",
            "136 142\n"
          ]
        },
        {
          "output_type": "stream",
          "name": "stderr",
          "text": [
            "\r 11%|█▏        | 9/79 [00:02<00:17,  3.97it/s]"
          ]
        },
        {
          "output_type": "stream",
          "name": "stdout",
          "text": [
            "Rtimax = 8.163920008130495\n",
            "Rtsmax = 10.070752901004706\n",
            "Rttmax = 7.237064535078823\n",
            "Rtnmax = 9.599101596028815\n",
            "mean(i) 0.09071022231256104\n",
            "mean(s) 0.11189725445560791\n",
            "mean(n) 0.10548463292339348\n",
            "mean(t) 0.08041182816754247\n",
            "DCDR 0.8627450980392157\n",
            "ACDR 0.6186204763377667\n",
            "drishtiGS_058\n",
            "I-distance 0.09071022231256104\n",
            "S-distance 0.11189725445560791\n",
            "@@@@@@@@@@@@@@@@@@@@@@@@@@@@@@@@@@@@@@@@@@@@@@@@@@@@@@@@@@@@@@@@@@@@@@@@@@@\n",
            "cup_area: 1437.0\n",
            "cup_diameter 49\n",
            "disk_area 2336.0\n",
            "disk_diameter 63\n",
            "disk_area 2336.0\n",
            "disk_diameter 63\n",
            "118 132\n",
            "2336\n",
            "117 129\n"
          ]
        },
        {
          "output_type": "stream",
          "name": "stderr",
          "text": [
            "\r 13%|█▎        | 10/79 [00:02<00:17,  3.95it/s]"
          ]
        },
        {
          "output_type": "stream",
          "name": "stdout",
          "text": [
            "Rtimax = 6.730293300050799\n",
            "Rtsmax = 6.834038341400498\n",
            "Rttmax = 10.68609178810707\n",
            "Rtnmax = 9.013875047635732\n",
            "mean(i) 0.0747810366672311\n",
            "mean(s) 0.07593375934889443\n",
            "mean(n) 0.09905357195204105\n",
            "mean(t) 0.11873435320118972\n",
            "DCDR 0.7777777777777778\n",
            "ACDR 0.615154109589041\n",
            "drishtiGS_080\n",
            "I-distance 0.0747810366672311\n",
            "S-distance 0.07593375934889443\n",
            "@@@@@@@@@@@@@@@@@@@@@@@@@@@@@@@@@@@@@@@@@@@@@@@@@@@@@@@@@@@@@@@@@@@@@@@@@@@\n",
            "cup_area: 899.5\n",
            "cup_diameter 40\n",
            "disk_area 1953.5\n",
            "disk_diameter 55\n",
            "disk_area 1953.5\n",
            "disk_diameter 55\n",
            "129 142\n",
            "1953\n",
            "127 141\n"
          ]
        },
        {
          "output_type": "stream",
          "name": "stderr",
          "text": [
            "\r 14%|█▍        | 11/79 [00:02<00:17,  3.98it/s]"
          ]
        },
        {
          "output_type": "stream",
          "name": "stdout",
          "text": [
            "Rtimax = 13.485334978564739\n",
            "Rtsmax = 12.443798152403104\n",
            "Rttmax = 12.938852416156712\n",
            "Rtnmax = 13.497870203469349\n",
            "mean(i) 0.14983705531738598\n",
            "mean(s) 0.13826442391559007\n",
            "mean(n) 0.14832824399416863\n",
            "mean(t) 0.14376502684618575\n",
            "DCDR 0.7272727272727273\n",
            "ACDR 0.46045559252623497\n",
            "drishtiGS_067\n",
            "I-distance 0.14983705531738598\n",
            "S-distance 0.13826442391559007\n",
            "@@@@@@@@@@@@@@@@@@@@@@@@@@@@@@@@@@@@@@@@@@@@@@@@@@@@@@@@@@@@@@@@@@@@@@@@@@@\n",
            "cup_area: 808.0\n",
            "cup_diameter 39\n",
            "disk_area 1350.0\n",
            "disk_diameter 49\n",
            "disk_area 1350.0\n",
            "disk_diameter 49\n",
            "116 150\n",
            "1350\n",
            "116 148\n"
          ]
        },
        {
          "output_type": "stream",
          "name": "stderr",
          "text": [
            "\r 15%|█▌        | 12/79 [00:03<00:16,  3.98it/s]"
          ]
        },
        {
          "output_type": "stream",
          "name": "stdout",
          "text": [
            "Rtimax = 8.706147240216033\n",
            "Rtsmax = 7.793286567484621\n",
            "Rttmax = 9.307305413540853\n",
            "Rtnmax = 9.427979838634794\n",
            "mean(i) 0.09673496933573368\n",
            "mean(s) 0.08659207297205133\n",
            "mean(n) 0.10360417405093174\n",
            "mean(t) 0.10341450459489837\n",
            "DCDR 0.7959183673469388\n",
            "ACDR 0.5985185185185186\n",
            "drishtiGS_054\n",
            "I-distance 0.09673496933573368\n",
            "S-distance 0.08659207297205133\n",
            "@@@@@@@@@@@@@@@@@@@@@@@@@@@@@@@@@@@@@@@@@@@@@@@@@@@@@@@@@@@@@@@@@@@@@@@@@@@\n",
            "cup_area: 1483.0\n",
            "cup_diameter 52\n",
            "disk_area 2198.5\n",
            "disk_diameter 60\n",
            "disk_area 2198.5\n",
            "disk_diameter 60\n",
            "125 140\n",
            "2198\n",
            "124 140\n"
          ]
        },
        {
          "output_type": "stream",
          "name": "stderr",
          "text": [
            "\r 16%|█▋        | 13/79 [00:03<00:16,  3.98it/s]"
          ]
        },
        {
          "output_type": "stream",
          "name": "stdout",
          "text": [
            "Rtimax = 8.77421565743845\n",
            "Rtsmax = 6.228021722596014\n",
            "Rttmax = 7.119372729562219\n",
            "Rtnmax = 7.1065436494478735\n",
            "mean(i) 0.09749128508264943\n",
            "mean(s) 0.06920024136217791\n",
            "mean(n) 0.07809388625766896\n",
            "mean(t) 0.07910414143958021\n",
            "DCDR 0.8666666666666667\n",
            "ACDR 0.6745508301114396\n",
            "drishtiGS_086\n",
            "I-distance 0.09749128508264943\n",
            "S-distance 0.06920024136217791\n",
            "@@@@@@@@@@@@@@@@@@@@@@@@@@@@@@@@@@@@@@@@@@@@@@@@@@@@@@@@@@@@@@@@@@@@@@@@@@@\n",
            "cup_area: 575.0\n",
            "cup_diameter 31\n",
            "disk_area 1716.0\n",
            "disk_diameter 52\n",
            "disk_area 1716.0\n",
            "disk_diameter 52\n",
            "137 139\n",
            "1716\n",
            "136 139\n"
          ]
        },
        {
          "output_type": "stream",
          "name": "stderr",
          "text": [
            "\r 18%|█▊        | 14/79 [00:03<00:16,  3.98it/s]"
          ]
        },
        {
          "output_type": "stream",
          "name": "stdout",
          "text": [
            "Rtimax = 15.037628707889636\n",
            "Rtsmax = 16.338996093051282\n",
            "Rttmax = 18.5833241637267\n",
            "Rtnmax = 18.609540313189378\n",
            "mean(i) 0.16708476342099596\n",
            "mean(s) 0.18154440103390312\n",
            "mean(n) 0.20450044300208092\n",
            "mean(t) 0.20648137959696342\n",
            "DCDR 0.5961538461538461\n",
            "ACDR 0.3350815850815851\n",
            "drishtiGS_008\n",
            "I-distance 0.16708476342099596\n",
            "S-distance 0.18154440103390312\n",
            "@@@@@@@@@@@@@@@@@@@@@@@@@@@@@@@@@@@@@@@@@@@@@@@@@@@@@@@@@@@@@@@@@@@@@@@@@@@\n",
            "cup_area: 1193.0\n",
            "cup_diameter 44\n",
            "disk_area 2193.0\n",
            "disk_diameter 59\n",
            "disk_area 2193.0\n",
            "disk_diameter 59\n",
            "129 101\n",
            "2193\n",
            "127 103\n"
          ]
        },
        {
          "output_type": "stream",
          "name": "stderr",
          "text": [
            "\r 19%|█▉        | 15/79 [00:03<00:16,  3.94it/s]"
          ]
        },
        {
          "output_type": "stream",
          "name": "stdout",
          "text": [
            "Rtimax = 11.448707565693146\n",
            "Rtsmax = 9.384192148468133\n",
            "Rttmax = 10.327093516601003\n",
            "Rtnmax = 11.186214298473436\n",
            "mean(i) 0.12720786184103494\n",
            "mean(s) 0.1042688016496459\n",
            "mean(n) 0.12292543185135647\n",
            "mean(t) 0.11474548351778896\n",
            "DCDR 0.7457627118644068\n",
            "ACDR 0.5440036479708162\n",
            "drishtiGS_062\n",
            "I-distance 0.12720786184103494\n",
            "S-distance 0.1042688016496459\n",
            "@@@@@@@@@@@@@@@@@@@@@@@@@@@@@@@@@@@@@@@@@@@@@@@@@@@@@@@@@@@@@@@@@@@@@@@@@@@\n",
            "cup_area: 415.0\n",
            "cup_diameter 26\n",
            "disk_area 1698.0\n",
            "disk_diameter 52\n",
            "disk_area 1698.0\n",
            "disk_diameter 52\n",
            "119 156\n",
            "1698\n",
            "120 155\n"
          ]
        },
        {
          "output_type": "stream",
          "name": "stderr",
          "text": [
            "\r 20%|██        | 16/79 [00:04<00:15,  4.00it/s]"
          ]
        },
        {
          "output_type": "stream",
          "name": "stdout",
          "text": [
            "Rtimax = 19.55473851462737\n",
            "Rtsmax = 18.70729876806471\n",
            "Rttmax = 22.03437376212919\n",
            "Rtnmax = 21.37351687789363\n",
            "mean(i) 0.2172748723847486\n",
            "mean(s) 0.2078588752007192\n",
            "mean(n) 0.23487381184498493\n",
            "mean(t) 0.24482637513476874\n",
            "DCDR 0.5\n",
            "ACDR 0.24440518256772673\n",
            "drishtiGS_056\n",
            "I-distance 0.2172748723847486\n",
            "S-distance 0.2078588752007192\n",
            "@@@@@@@@@@@@@@@@@@@@@@@@@@@@@@@@@@@@@@@@@@@@@@@@@@@@@@@@@@@@@@@@@@@@@@@@@@@\n",
            "cup_area: 701.5\n",
            "cup_diameter 35\n",
            "disk_area 1843.5\n",
            "disk_diameter 56\n",
            "disk_area 1843.5\n",
            "disk_diameter 56\n",
            "123 138\n",
            "1843\n",
            "123 139\n"
          ]
        },
        {
          "output_type": "stream",
          "name": "stderr",
          "text": [
            "\r 22%|██▏       | 17/79 [00:04<00:15,  4.02it/s]"
          ]
        },
        {
          "output_type": "stream",
          "name": "stdout",
          "text": [
            "Rtimax = 12.980020743168254\n",
            "Rtsmax = 14.875680343763525\n",
            "Rttmax = 16.28605078761145\n",
            "Rtnmax = 16.16499550025363\n",
            "mean(i) 0.14422245270186954\n",
            "mean(s) 0.16528533715292795\n",
            "mean(n) 0.17763731318960035\n",
            "mean(t) 0.18095611986234933\n",
            "DCDR 0.625\n",
            "ACDR 0.38052617304041225\n",
            "drishtiGS_078\n",
            "I-distance 0.14422245270186954\n",
            "S-distance 0.16528533715292795\n",
            "@@@@@@@@@@@@@@@@@@@@@@@@@@@@@@@@@@@@@@@@@@@@@@@@@@@@@@@@@@@@@@@@@@@@@@@@@@@\n",
            "cup_area: 187.0\n",
            "cup_diameter 18\n",
            "disk_area 1511.5\n",
            "disk_diameter 50\n",
            "disk_area 1511.5\n",
            "disk_diameter 50\n",
            "128 152\n",
            "1511\n",
            "128 149\n"
          ]
        },
        {
          "output_type": "stream",
          "name": "stderr",
          "text": [
            "\r 23%|██▎       | 18/79 [00:04<00:15,  3.98it/s]"
          ]
        },
        {
          "output_type": "stream",
          "name": "stdout",
          "text": [
            "Rtimax = 23.977869311174008\n",
            "Rtsmax = 24.053022723993056\n",
            "Rttmax = 28.751988366511313\n",
            "Rtnmax = 26.87796220151547\n",
            "mean(i) 0.26642077012415555\n",
            "mean(s) 0.26725580804436716\n",
            "mean(n) 0.2953622219946753\n",
            "mean(t) 0.3194665374056817\n",
            "DCDR 0.36\n",
            "ACDR 0.12371816076744956\n",
            "drishtiGS_101\n",
            "I-distance 0.26642077012415555\n",
            "S-distance 0.26725580804436716\n",
            "@@@@@@@@@@@@@@@@@@@@@@@@@@@@@@@@@@@@@@@@@@@@@@@@@@@@@@@@@@@@@@@@@@@@@@@@@@@\n",
            "cup_area: 898.0\n",
            "cup_diameter 39\n",
            "disk_area 1688.5\n",
            "disk_diameter 52\n",
            "disk_area 1688.5\n",
            "disk_diameter 52\n",
            "122 151\n",
            "1688\n",
            "122 150\n"
          ]
        },
        {
          "output_type": "stream",
          "name": "stderr",
          "text": [
            "\r 24%|██▍       | 19/79 [00:04<00:15,  3.99it/s]"
          ]
        },
        {
          "output_type": "stream",
          "name": "stdout",
          "text": [
            "Rtimax = 10.773423737957154\n",
            "Rtsmax = 11.101347309000163\n",
            "Rttmax = 10.966112840598516\n",
            "Rtnmax = 11.237052648452677\n",
            "mean(i) 0.11970470819952396\n",
            "mean(s) 0.12334830343333512\n",
            "mean(n) 0.12348409503794144\n",
            "mean(t) 0.12184569822887242\n",
            "DCDR 0.75\n",
            "ACDR 0.5318329878590465\n",
            "drishtiGS_037\n",
            "I-distance 0.11970470819952396\n",
            "S-distance 0.12334830343333512\n",
            "@@@@@@@@@@@@@@@@@@@@@@@@@@@@@@@@@@@@@@@@@@@@@@@@@@@@@@@@@@@@@@@@@@@@@@@@@@@\n",
            "cup_area: 1214.0\n",
            "cup_diameter 44\n",
            "disk_area 2077.5\n",
            "disk_diameter 57\n",
            "disk_area 2077.5\n",
            "disk_diameter 57\n",
            "123 133\n",
            "2077\n",
            "123 132\n"
          ]
        },
        {
          "output_type": "stream",
          "name": "stderr",
          "text": [
            "\r 25%|██▌       | 20/79 [00:05<00:14,  4.03it/s]"
          ]
        },
        {
          "output_type": "stream",
          "name": "stdout",
          "text": [
            "Rtimax = 8.842943794690546\n",
            "Rtsmax = 9.483541452044141\n",
            "Rttmax = 9.107164012468292\n",
            "Rtnmax = 10.569500351736977\n",
            "mean(i) 0.09825493105211719\n",
            "mean(s) 0.10537268280049049\n",
            "mean(n) 0.1161483555135932\n",
            "mean(t) 0.10119071124964775\n",
            "DCDR 0.7719298245614035\n",
            "ACDR 0.5843561973525873\n",
            "drishtiGS_083\n",
            "I-distance 0.09825493105211719\n",
            "S-distance 0.10537268280049049\n",
            "@@@@@@@@@@@@@@@@@@@@@@@@@@@@@@@@@@@@@@@@@@@@@@@@@@@@@@@@@@@@@@@@@@@@@@@@@@@\n",
            "cup_area: 1080.0\n",
            "cup_diameter 46\n",
            "disk_area 1897.5\n",
            "disk_diameter 58\n",
            "disk_area 1897.5\n",
            "disk_diameter 58\n",
            "106 123\n",
            "1897\n",
            "105 122\n"
          ]
        },
        {
          "output_type": "stream",
          "name": "stderr",
          "text": [
            "\r 27%|██▋       | 21/79 [00:05<00:14,  4.04it/s]"
          ]
        },
        {
          "output_type": "stream",
          "name": "stdout",
          "text": [
            "Rtimax = 9.07783695237941\n",
            "Rtsmax = 7.3826473474946805\n",
            "Rttmax = 9.650116438684691\n",
            "Rtnmax = 11.070690515909646\n",
            "mean(i) 0.10086485502643791\n",
            "mean(s) 0.08202941497216312\n",
            "mean(n) 0.12165593973527085\n",
            "mean(t) 0.10722351598538538\n",
            "DCDR 0.7931034482758621\n",
            "ACDR 0.5691699604743083\n",
            "drishtiGS_071\n",
            "I-distance 0.10086485502643791\n",
            "S-distance 0.08202941497216312\n",
            "@@@@@@@@@@@@@@@@@@@@@@@@@@@@@@@@@@@@@@@@@@@@@@@@@@@@@@@@@@@@@@@@@@@@@@@@@@@\n",
            "cup_area: 596.0\n",
            "cup_diameter 30\n",
            "disk_area 2166.5\n",
            "disk_diameter 59\n",
            "disk_area 2166.5\n",
            "disk_diameter 59\n",
            "121 135\n",
            "2166\n",
            "122 137\n"
          ]
        },
        {
          "output_type": "stream",
          "name": "stderr",
          "text": [
            "\r 28%|██▊       | 22/79 [00:05<00:14,  4.01it/s]"
          ]
        },
        {
          "output_type": "stream",
          "name": "stdout",
          "text": [
            "Rtimax = 17.84817401244021\n",
            "Rtsmax = 17.197602055255985\n",
            "Rttmax = 20.693467448205638\n",
            "Rtnmax = 20.56455941148455\n",
            "mean(i) 0.19831304458266905\n",
            "mean(s) 0.19108446728062212\n",
            "mean(n) 0.2259841693569731\n",
            "mean(t) 0.22992741609117381\n",
            "DCDR 0.5084745762711864\n",
            "ACDR 0.275098084468036\n",
            "drishtiGS_042\n",
            "I-distance 0.19831304458266905\n",
            "S-distance 0.19108446728062212\n",
            "@@@@@@@@@@@@@@@@@@@@@@@@@@@@@@@@@@@@@@@@@@@@@@@@@@@@@@@@@@@@@@@@@@@@@@@@@@@\n",
            "cup_area: 1910.5\n",
            "cup_diameter 54\n",
            "disk_area 2808.0\n",
            "disk_diameter 68\n",
            "disk_area 2808.0\n",
            "disk_diameter 68\n",
            "133 135\n",
            "2808\n",
            "133 135\n"
          ]
        },
        {
          "output_type": "stream",
          "name": "stderr",
          "text": [
            "\r 29%|██▉       | 23/79 [00:05<00:14,  3.99it/s]"
          ]
        },
        {
          "output_type": "stream",
          "name": "stdout",
          "text": [
            "Rtimax = 5.983660902460183\n",
            "Rtsmax = 5.957512024184696\n",
            "Rttmax = 7.720376280535632\n",
            "Rtnmax = 7.8506317227464395\n",
            "mean(i) 0.06648512113844646\n",
            "mean(s) 0.06619457804649662\n",
            "mean(n) 0.08627067827193888\n",
            "mean(t) 0.08578195867261812\n",
            "DCDR 0.7941176470588235\n",
            "ACDR 0.6803774928774928\n",
            "drishtiGS_069\n",
            "I-distance 0.06648512113844646\n",
            "S-distance 0.06619457804649662\n",
            "@@@@@@@@@@@@@@@@@@@@@@@@@@@@@@@@@@@@@@@@@@@@@@@@@@@@@@@@@@@@@@@@@@@@@@@@@@@\n",
            "cup_area: 1086.5\n",
            "cup_diameter 44\n",
            "disk_area 1736.5\n",
            "disk_diameter 53\n",
            "disk_area 1736.5\n",
            "disk_diameter 53\n",
            "134 125\n",
            "1736\n",
            "133 127\n"
          ]
        },
        {
          "output_type": "stream",
          "name": "stderr",
          "text": [
            "\r 30%|███       | 24/79 [00:06<00:13,  3.96it/s]"
          ]
        },
        {
          "output_type": "stream",
          "name": "stdout",
          "text": [
            "Rtimax = 8.881001233581625\n",
            "Rtsmax = 8.287489185967312\n",
            "Rttmax = 9.202788912861356\n",
            "Rtnmax = 8.06260581770545\n",
            "mean(i) 0.0986777914842403\n",
            "mean(s) 0.09208321317741451\n",
            "mean(n) 0.08860006393082906\n",
            "mean(t) 0.10225321014290392\n",
            "DCDR 0.8301886792452831\n",
            "ACDR 0.6256838468183127\n",
            "drishtiGS_043\n",
            "I-distance 0.0986777914842403\n",
            "S-distance 0.09208321317741451\n",
            "@@@@@@@@@@@@@@@@@@@@@@@@@@@@@@@@@@@@@@@@@@@@@@@@@@@@@@@@@@@@@@@@@@@@@@@@@@@\n",
            "cup_area: 358.5\n",
            "cup_diameter 26\n",
            "disk_area 1629.5\n",
            "disk_diameter 52\n",
            "disk_area 1629.5\n",
            "disk_diameter 52\n",
            "129 169\n",
            "1629\n",
            "126 164\n"
          ]
        },
        {
          "output_type": "stream",
          "name": "stderr",
          "text": [
            "\r 32%|███▏      | 25/79 [00:06<00:13,  3.97it/s]"
          ]
        },
        {
          "output_type": "stream",
          "name": "stdout",
          "text": [
            "Rtimax = 19.914938388664364\n",
            "Rtsmax = 18.975964941961262\n",
            "Rttmax = 21.92315435504964\n",
            "Rtnmax = 23.359037515295807\n",
            "mean(i) 0.22127709320738193\n",
            "mean(s) 0.21084405491068073\n",
            "mean(n) 0.25669271994830556\n",
            "mean(t) 0.24359060394499604\n",
            "DCDR 0.5\n",
            "ACDR 0.22000613685179504\n",
            "drishtiGS_096\n",
            "I-distance 0.22127709320738193\n",
            "S-distance 0.21084405491068073\n",
            "@@@@@@@@@@@@@@@@@@@@@@@@@@@@@@@@@@@@@@@@@@@@@@@@@@@@@@@@@@@@@@@@@@@@@@@@@@@\n",
            "cup_area: 1723.5\n",
            "cup_diameter 55\n",
            "disk_area 2236.5\n",
            "disk_diameter 62\n",
            "disk_area 2236.5\n",
            "disk_diameter 62\n",
            "116 132\n",
            "2236\n",
            "117 130\n"
          ]
        },
        {
          "output_type": "stream",
          "name": "stderr",
          "text": [
            "\r 33%|███▎      | 26/79 [00:06<00:13,  3.93it/s]"
          ]
        },
        {
          "output_type": "stream",
          "name": "stdout",
          "text": [
            "Rtimax = 3.935656486086178\n",
            "Rtsmax = 5.659578063186911\n",
            "Rttmax = 3.943194174192469\n",
            "Rtnmax = 5.538673751538388\n",
            "mean(i) 0.04372951651206867\n",
            "mean(s) 0.06288420070207679\n",
            "mean(n) 0.06086454672020209\n",
            "mean(t) 0.04381326860213854\n",
            "DCDR 0.8870967741935484\n",
            "ACDR 0.7706237424547284\n",
            "drishtiGS_010\n",
            "I-distance 0.04372951651206867\n",
            "S-distance 0.06288420070207679\n",
            "@@@@@@@@@@@@@@@@@@@@@@@@@@@@@@@@@@@@@@@@@@@@@@@@@@@@@@@@@@@@@@@@@@@@@@@@@@@\n",
            "cup_area: 598.5\n",
            "cup_diameter 31\n",
            "disk_area 1644.5\n",
            "disk_diameter 53\n",
            "disk_area 1644.5\n",
            "disk_diameter 53\n",
            "127 137\n",
            "1644\n",
            "129 136\n"
          ]
        },
        {
          "output_type": "stream",
          "name": "stderr",
          "text": [
            "\r 34%|███▍      | 27/79 [00:06<00:13,  3.97it/s]"
          ]
        },
        {
          "output_type": "stream",
          "name": "stdout",
          "text": [
            "Rtimax = 14.002005403348807\n",
            "Rtsmax = 13.379705520974136\n",
            "Rttmax = 17.274981277723825\n",
            "Rtnmax = 16.54429058120851\n",
            "mean(i) 0.15557783781498663\n",
            "mean(s) 0.14866339467749037\n",
            "mean(n) 0.1818053910022913\n",
            "mean(t) 0.19194423641915362\n",
            "DCDR 0.5849056603773585\n",
            "ACDR 0.3639404074186683\n",
            "drishtiGS_018\n",
            "I-distance 0.15557783781498663\n",
            "S-distance 0.14866339467749037\n",
            "@@@@@@@@@@@@@@@@@@@@@@@@@@@@@@@@@@@@@@@@@@@@@@@@@@@@@@@@@@@@@@@@@@@@@@@@@@@\n",
            "cup_area: 1263.0\n",
            "cup_diameter 47\n",
            "disk_area 1633.5\n",
            "disk_diameter 52\n",
            "disk_area 1633.5\n",
            "disk_diameter 52\n",
            "107 117\n",
            "1633\n",
            "107 117\n"
          ]
        },
        {
          "output_type": "stream",
          "name": "stderr",
          "text": [
            "\r 35%|███▌      | 28/79 [00:07<00:12,  4.00it/s]"
          ]
        },
        {
          "output_type": "stream",
          "name": "stdout",
          "text": [
            "Rtimax = 4.543885692846908\n",
            "Rtsmax = 5.495413253283884\n",
            "Rttmax = 4.961560371499212\n",
            "Rtnmax = 4.68551831788662\n",
            "mean(i) 0.05048761880941009\n",
            "mean(s) 0.06106014725870983\n",
            "mean(n) 0.05148921228446836\n",
            "mean(t) 0.05512844857221352\n",
            "DCDR 0.9038461538461539\n",
            "ACDR 0.7731864095500459\n",
            "drishtiGS_026\n",
            "I-distance 0.05048761880941009\n",
            "S-distance 0.06106014725870983\n",
            "@@@@@@@@@@@@@@@@@@@@@@@@@@@@@@@@@@@@@@@@@@@@@@@@@@@@@@@@@@@@@@@@@@@@@@@@@@@\n",
            "cup_area: 435.5\n",
            "cup_diameter 27\n",
            "disk_area 2038.0\n",
            "disk_diameter 57\n",
            "disk_area 2038.0\n",
            "disk_diameter 57\n",
            "130 138\n",
            "2038\n",
            "128 134\n"
          ]
        },
        {
          "output_type": "stream",
          "name": "stderr",
          "text": [
            "\r 37%|███▋      | 29/79 [00:07<00:12,  3.97it/s]"
          ]
        },
        {
          "output_type": "stream",
          "name": "stdout",
          "text": [
            "Rtimax = 21.103902445982346\n",
            "Rtsmax = 18.53638068698997\n",
            "Rttmax = 23.307702658257977\n",
            "Rtnmax = 23.650266753731195\n",
            "mean(i) 0.23448780495535948\n",
            "mean(s) 0.20595978541099966\n",
            "mean(n) 0.2598930412497933\n",
            "mean(t) 0.25897447398064444\n",
            "DCDR 0.47368421052631576\n",
            "ACDR 0.21368989205103042\n",
            "drishtiGS_093\n",
            "I-distance 0.23448780495535948\n",
            "S-distance 0.20595978541099966\n",
            "@@@@@@@@@@@@@@@@@@@@@@@@@@@@@@@@@@@@@@@@@@@@@@@@@@@@@@@@@@@@@@@@@@@@@@@@@@@\n",
            "cup_area: 870.0\n",
            "cup_diameter 40\n",
            "disk_area 1267.0\n",
            "disk_diameter 47\n",
            "disk_area 1267.0\n",
            "disk_diameter 47\n",
            "144 121\n",
            "1267\n",
            "144 120\n"
          ]
        },
        {
          "output_type": "stream",
          "name": "stderr",
          "text": [
            "\r 38%|███▊      | 30/79 [00:07<00:12,  3.93it/s]"
          ]
        },
        {
          "output_type": "stream",
          "name": "stdout",
          "text": [
            "Rtimax = 5.8109315747432335\n",
            "Rtsmax = 6.728034702561306\n",
            "Rttmax = 7.918155261581205\n",
            "Rtnmax = 6.496312631233395\n",
            "mean(i) 0.06456590638603588\n",
            "mean(s) 0.07475594113957006\n",
            "mean(n) 0.07138805089267466\n",
            "mean(t) 0.08797950290645783\n",
            "DCDR 0.851063829787234\n",
            "ACDR 0.6866614048934491\n",
            "drishtiGS_055\n",
            "I-distance 0.06456590638603588\n",
            "S-distance 0.07475594113957006\n",
            "@@@@@@@@@@@@@@@@@@@@@@@@@@@@@@@@@@@@@@@@@@@@@@@@@@@@@@@@@@@@@@@@@@@@@@@@@@@\n",
            "cup_area: 402.5\n",
            "cup_diameter 25\n",
            "disk_area 1880.5\n",
            "disk_diameter 57\n",
            "disk_area 1880.5\n",
            "disk_diameter 57\n",
            "133 141\n",
            "1880\n",
            "133 140\n"
          ]
        },
        {
          "output_type": "stream",
          "name": "stderr",
          "text": [
            "\r 39%|███▉      | 31/79 [00:07<00:12,  3.95it/s]"
          ]
        },
        {
          "output_type": "stream",
          "name": "stdout",
          "text": [
            "Rtimax = 18.01549148555436\n",
            "Rtsmax = 19.03833347138488\n",
            "Rttmax = 24.841392087279626\n",
            "Rtnmax = 21.98389595214065\n",
            "mean(i) 0.20017212761727066\n",
            "mean(s) 0.21153703857094314\n",
            "mean(n) 0.24158127419934786\n",
            "mean(t) 0.2760154676364403\n",
            "DCDR 0.43859649122807015\n",
            "ACDR 0.2140388194629088\n",
            "drishtiGS_090\n",
            "I-distance 0.20017212761727066\n",
            "S-distance 0.21153703857094314\n",
            "@@@@@@@@@@@@@@@@@@@@@@@@@@@@@@@@@@@@@@@@@@@@@@@@@@@@@@@@@@@@@@@@@@@@@@@@@@@\n",
            "cup_area: 1085.5\n",
            "cup_diameter 46\n",
            "disk_area 1815.0\n",
            "disk_diameter 55\n",
            "disk_area 1815.0\n",
            "disk_diameter 55\n",
            "119 147\n",
            "1815\n",
            "117 145\n"
          ]
        },
        {
          "output_type": "stream",
          "name": "stderr",
          "text": [
            "\r 41%|████      | 32/79 [00:08<00:11,  3.94it/s]"
          ]
        },
        {
          "output_type": "stream",
          "name": "stdout",
          "text": [
            "Rtimax = 9.349195624760783\n",
            "Rtsmax = 9.254205137328194\n",
            "Rttmax = 7.625067364945225\n",
            "Rtnmax = 9.746131452884342\n",
            "mean(i) 0.10387995138623098\n",
            "mean(s) 0.10282450152586885\n",
            "mean(n) 0.10710034563609175\n",
            "mean(t) 0.08472297072161368\n",
            "DCDR 0.8363636363636363\n",
            "ACDR 0.5980716253443527\n",
            "drishtiGS_082\n",
            "I-distance 0.10387995138623098\n",
            "S-distance 0.10282450152586885\n",
            "@@@@@@@@@@@@@@@@@@@@@@@@@@@@@@@@@@@@@@@@@@@@@@@@@@@@@@@@@@@@@@@@@@@@@@@@@@@\n",
            "cup_area: 1735.0\n",
            "cup_diameter 58\n",
            "disk_area 2686.0\n",
            "disk_diameter 70\n",
            "disk_area 2686.0\n",
            "disk_diameter 70\n",
            "145 133\n",
            "2686\n",
            "145 131\n"
          ]
        },
        {
          "output_type": "stream",
          "name": "stderr",
          "text": [
            "\r 42%|████▏     | 33/79 [00:08<00:11,  3.93it/s]"
          ]
        },
        {
          "output_type": "stream",
          "name": "stdout",
          "text": [
            "Rtimax = 8.486255763249261\n",
            "Rtsmax = 5.671218861175501\n",
            "Rttmax = 6.854799892179475\n",
            "Rtnmax = 8.532466601830407\n",
            "mean(i) 0.09429173070276953\n",
            "mean(s) 0.06301354290195002\n",
            "mean(n) 0.09376336925088359\n",
            "mean(t) 0.07616444324643867\n",
            "DCDR 0.8285714285714286\n",
            "ACDR 0.6459419210722264\n",
            "drishtiGS_033\n",
            "I-distance 0.09429173070276953\n",
            "S-distance 0.06301354290195002\n",
            "@@@@@@@@@@@@@@@@@@@@@@@@@@@@@@@@@@@@@@@@@@@@@@@@@@@@@@@@@@@@@@@@@@@@@@@@@@@\n",
            "cup_area: 654.5\n",
            "cup_diameter 33\n",
            "disk_area 1854.0\n",
            "disk_diameter 54\n",
            "disk_area 1854.0\n",
            "disk_diameter 54\n",
            "138 114\n",
            "1854\n",
            "139 116\n"
          ]
        },
        {
          "output_type": "stream",
          "name": "stderr",
          "text": [
            "\r 43%|████▎     | 34/79 [00:08<00:11,  3.92it/s]"
          ]
        },
        {
          "output_type": "stream",
          "name": "stdout",
          "text": [
            "Rtimax = 15.844889883717112\n",
            "Rtsmax = 15.395017151776893\n",
            "Rttmax = 17.672097332422123\n",
            "Rtnmax = 17.197438240378098\n",
            "mean(i) 0.1760543320413012\n",
            "mean(s) 0.1710557461308543\n",
            "mean(n) 0.18898283780635278\n",
            "mean(t) 0.1963566370269123\n",
            "DCDR 0.6111111111111112\n",
            "ACDR 0.3530204962243797\n",
            "drishtiGS_072\n",
            "I-distance 0.1760543320413012\n",
            "S-distance 0.1710557461308543\n",
            "@@@@@@@@@@@@@@@@@@@@@@@@@@@@@@@@@@@@@@@@@@@@@@@@@@@@@@@@@@@@@@@@@@@@@@@@@@@\n",
            "cup_area: 1126.5\n",
            "cup_diameter 47\n",
            "disk_area 1597.5\n",
            "disk_diameter 52\n",
            "disk_area 1597.5\n",
            "disk_diameter 52\n",
            "133 137\n",
            "1597\n",
            "132 137\n"
          ]
        },
        {
          "output_type": "stream",
          "name": "stderr",
          "text": [
            "\r 44%|████▍     | 35/79 [00:08<00:11,  3.97it/s]"
          ]
        },
        {
          "output_type": "stream",
          "name": "stdout",
          "text": [
            "Rtimax = 8.327410004601939\n",
            "Rtsmax = 6.089413423257571\n",
            "Rttmax = 6.298421444080423\n",
            "Rtnmax = 5.506769917745601\n",
            "mean(i) 0.09252677782891044\n",
            "mean(s) 0.06766014914730631\n",
            "mean(n) 0.06051395514006156\n",
            "mean(t) 0.06998246048978252\n",
            "DCDR 0.9038461538461539\n",
            "ACDR 0.7051643192488263\n",
            "drishtiGS_016\n",
            "I-distance 0.09252677782891044\n",
            "S-distance 0.06766014914730631\n",
            "@@@@@@@@@@@@@@@@@@@@@@@@@@@@@@@@@@@@@@@@@@@@@@@@@@@@@@@@@@@@@@@@@@@@@@@@@@@\n",
            "cup_area: 1069.0\n",
            "cup_diameter 44\n",
            "disk_area 1741.5\n",
            "disk_diameter 54\n",
            "disk_area 1741.5\n",
            "disk_diameter 54\n",
            "130 150\n",
            "1741\n",
            "130 148\n"
          ]
        },
        {
          "output_type": "stream",
          "name": "stderr",
          "text": [
            "\r 46%|████▌     | 36/79 [00:09<00:10,  3.93it/s]"
          ]
        },
        {
          "output_type": "stream",
          "name": "stdout",
          "text": [
            "Rtimax = 7.342239533558321\n",
            "Rtsmax = 8.498566551652724\n",
            "Rttmax = 8.090460547915365\n",
            "Rtnmax = 9.780525443914607\n",
            "mean(i) 0.08158043926175916\n",
            "mean(s) 0.09442851724058585\n",
            "mean(n) 0.10747830158147925\n",
            "mean(t) 0.08989400608794847\n",
            "DCDR 0.8148148148148148\n",
            "ACDR 0.6138386448463968\n",
            "drishtiGS_087\n",
            "I-distance 0.08158043926175916\n",
            "S-distance 0.09442851724058585\n",
            "@@@@@@@@@@@@@@@@@@@@@@@@@@@@@@@@@@@@@@@@@@@@@@@@@@@@@@@@@@@@@@@@@@@@@@@@@@@\n",
            "cup_area: 1427.5\n",
            "cup_diameter 50\n",
            "disk_area 2057.5\n",
            "disk_diameter 58\n",
            "disk_area 2057.5\n",
            "disk_diameter 58\n",
            "107 128\n",
            "2057\n",
            "108 127\n"
          ]
        },
        {
          "output_type": "stream",
          "name": "stderr",
          "text": [
            "\r 47%|████▋     | 37/79 [00:09<00:10,  3.95it/s]"
          ]
        },
        {
          "output_type": "stream",
          "name": "stdout",
          "text": [
            "Rtimax = 6.004156119369911\n",
            "Rtsmax = 7.3861925428771125\n",
            "Rttmax = 6.724553522434417\n",
            "Rtnmax = 6.833407248958799\n",
            "mean(i) 0.06671284577077677\n",
            "mean(s) 0.08206880603196795\n",
            "mean(n) 0.07509238735119557\n",
            "mean(t) 0.07471726136038241\n",
            "DCDR 0.8620689655172413\n",
            "ACDR 0.6938031591737546\n",
            "drishtiGS_060\n",
            "I-distance 0.06671284577077677\n",
            "S-distance 0.08206880603196795\n",
            "@@@@@@@@@@@@@@@@@@@@@@@@@@@@@@@@@@@@@@@@@@@@@@@@@@@@@@@@@@@@@@@@@@@@@@@@@@@\n",
            "cup_area: 1732.0\n",
            "cup_diameter 52\n",
            "disk_area 2868.5\n",
            "disk_diameter 69\n",
            "disk_area 2868.5\n",
            "disk_diameter 69\n",
            "120 130\n",
            "2868\n",
            "119 131\n"
          ]
        },
        {
          "output_type": "stream",
          "name": "stderr",
          "text": [
            "\r 48%|████▊     | 38/79 [00:09<00:10,  3.89it/s]"
          ]
        },
        {
          "output_type": "stream",
          "name": "stdout",
          "text": [
            "Rtimax = 8.115908008437247\n",
            "Rtsmax = 7.845089925473987\n",
            "Rttmax = 10.307204269528734\n",
            "Rtnmax = 9.205973219659759\n",
            "mean(i) 0.09017675564930272\n",
            "mean(s) 0.08716766583859979\n",
            "mean(n) 0.10116454087538193\n",
            "mean(t) 0.1145244918836526\n",
            "DCDR 0.7536231884057971\n",
            "ACDR 0.6037998954157225\n",
            "drishtiGS_068\n",
            "I-distance 0.09017675564930272\n",
            "S-distance 0.08716766583859979\n",
            "@@@@@@@@@@@@@@@@@@@@@@@@@@@@@@@@@@@@@@@@@@@@@@@@@@@@@@@@@@@@@@@@@@@@@@@@@@@\n",
            "cup_area: 1310.0\n",
            "cup_diameter 49\n",
            "disk_area 1983.0\n",
            "disk_diameter 59\n",
            "disk_area 1983.0\n",
            "disk_diameter 59\n",
            "126 129\n",
            "1983\n",
            "125 128\n"
          ]
        },
        {
          "output_type": "stream",
          "name": "stderr",
          "text": [
            "\r 49%|████▉     | 39/79 [00:09<00:10,  3.95it/s]"
          ]
        },
        {
          "output_type": "stream",
          "name": "stdout",
          "text": [
            "Rtimax = 7.043772331660793\n",
            "Rtsmax = 6.923437115975342\n",
            "Rttmax = 6.449763640327064\n",
            "Rtnmax = 8.454128044652053\n",
            "mean(i) 0.0782641370184533\n",
            "mean(s) 0.07692707906639268\n",
            "mean(n) 0.09290250598518744\n",
            "mean(t) 0.07166404044807852\n",
            "DCDR 0.8305084745762712\n",
            "ACDR 0.6606152294503278\n",
            "drishtiGS_065\n",
            "I-distance 0.0782641370184533\n",
            "S-distance 0.07692707906639268\n",
            "@@@@@@@@@@@@@@@@@@@@@@@@@@@@@@@@@@@@@@@@@@@@@@@@@@@@@@@@@@@@@@@@@@@@@@@@@@@\n",
            "cup_area: 1188.5\n",
            "cup_diameter 45\n",
            "disk_area 2160.0\n",
            "disk_diameter 59\n",
            "disk_area 2160.0\n",
            "disk_diameter 59\n",
            "128 131\n",
            "2160\n",
            "131 127\n"
          ]
        },
        {
          "output_type": "stream",
          "name": "stderr",
          "text": [
            "\r 51%|█████     | 40/79 [00:10<00:09,  4.00it/s]"
          ]
        },
        {
          "output_type": "stream",
          "name": "stdout",
          "text": [
            "Rtimax = 9.406628177824938\n",
            "Rtsmax = 11.011397515156036\n",
            "Rttmax = 9.730083310818909\n",
            "Rtnmax = 11.441778505147603\n",
            "mean(i) 0.10451809086472154\n",
            "mean(s) 0.1223488612795115\n",
            "mean(n) 0.12573382972689678\n",
            "mean(t) 0.1081120367868768\n",
            "DCDR 0.7627118644067796\n",
            "ACDR 0.5502314814814815\n",
            "drishtiGS_049\n",
            "I-distance 0.10451809086472154\n",
            "S-distance 0.1223488612795115\n",
            "@@@@@@@@@@@@@@@@@@@@@@@@@@@@@@@@@@@@@@@@@@@@@@@@@@@@@@@@@@@@@@@@@@@@@@@@@@@\n",
            "cup_area: 705.5\n",
            "cup_diameter 34\n",
            "disk_area 1426.0\n",
            "disk_diameter 48\n",
            "disk_area 1426.0\n",
            "disk_diameter 48\n",
            "117 142\n",
            "1426\n",
            "116 141\n"
          ]
        },
        {
          "output_type": "stream",
          "name": "stderr",
          "text": [
            "\r 52%|█████▏    | 41/79 [00:10<00:09,  4.00it/s]"
          ]
        },
        {
          "output_type": "stream",
          "name": "stdout",
          "text": [
            "Rtimax = 11.61949511599016\n",
            "Rtsmax = 11.18444411798023\n",
            "Rttmax = 12.758353599565417\n",
            "Rtnmax = 12.422538523071518\n",
            "mean(i) 0.12910550128877957\n",
            "mean(s) 0.12427160131089143\n",
            "mean(n) 0.13651141234144515\n",
            "mean(t) 0.14175948443961572\n",
            "DCDR 0.7083333333333334\n",
            "ACDR 0.4947405329593268\n",
            "drishtiGS_022\n",
            "I-distance 0.12910550128877957\n",
            "S-distance 0.12427160131089143\n",
            "@@@@@@@@@@@@@@@@@@@@@@@@@@@@@@@@@@@@@@@@@@@@@@@@@@@@@@@@@@@@@@@@@@@@@@@@@@@\n",
            "cup_area: 643.5\n",
            "cup_diameter 36\n",
            "disk_area 1497.5\n",
            "disk_diameter 50\n",
            "disk_area 1497.5\n",
            "disk_diameter 50\n",
            "131 155\n",
            "1497\n",
            "131 151\n"
          ]
        },
        {
          "output_type": "stream",
          "name": "stderr",
          "text": [
            "\r 53%|█████▎    | 42/79 [00:10<00:09,  3.96it/s]"
          ]
        },
        {
          "output_type": "stream",
          "name": "stdout",
          "text": [
            "Rtimax = 15.465652889398557\n",
            "Rtsmax = 12.729825410109381\n",
            "Rttmax = 12.7062688566824\n",
            "Rtnmax = 13.982871902562842\n",
            "mean(i) 0.17184058765998397\n",
            "mean(s) 0.1414425045567709\n",
            "mean(n) 0.15365793299519595\n",
            "mean(t) 0.14118076507424895\n",
            "DCDR 0.72\n",
            "ACDR 0.4297161936560935\n",
            "drishtiGS_057\n",
            "I-distance 0.17184058765998397\n",
            "S-distance 0.1414425045567709\n",
            "@@@@@@@@@@@@@@@@@@@@@@@@@@@@@@@@@@@@@@@@@@@@@@@@@@@@@@@@@@@@@@@@@@@@@@@@@@@\n",
            "cup_area: 804.0\n",
            "cup_diameter 38\n",
            "disk_area 1403.0\n",
            "disk_diameter 47\n",
            "disk_area 1403.0\n",
            "disk_diameter 47\n",
            "123 125\n",
            "1403\n",
            "123 122\n"
          ]
        },
        {
          "output_type": "stream",
          "name": "stderr",
          "text": [
            "\r 54%|█████▍    | 43/79 [00:10<00:09,  3.99it/s]"
          ]
        },
        {
          "output_type": "stream",
          "name": "stdout",
          "text": [
            "Rtimax = 9.656919910688048\n",
            "Rtsmax = 10.107975040982822\n",
            "Rttmax = 8.871033754785373\n",
            "Rtnmax = 10.276348240631028\n",
            "mean(i) 0.10729911011875609\n",
            "mean(s) 0.11231083378869802\n",
            "mean(n) 0.11292690374319816\n",
            "mean(t) 0.09856704171983753\n",
            "DCDR 0.8085106382978723\n",
            "ACDR 0.5730577334283677\n",
            "drishtiGS_002\n",
            "I-distance 0.10729911011875609\n",
            "S-distance 0.11231083378869802\n",
            "@@@@@@@@@@@@@@@@@@@@@@@@@@@@@@@@@@@@@@@@@@@@@@@@@@@@@@@@@@@@@@@@@@@@@@@@@@@\n",
            "cup_area: 1256.5\n",
            "cup_diameter 49\n",
            "disk_area 1900.0\n",
            "disk_diameter 56\n",
            "disk_area 1900.0\n",
            "disk_diameter 56\n",
            "105 134\n",
            "1900\n",
            "105 133\n"
          ]
        },
        {
          "output_type": "stream",
          "name": "stderr",
          "text": [
            "\r 56%|█████▌    | 44/79 [00:11<00:08,  4.01it/s]"
          ]
        },
        {
          "output_type": "stream",
          "name": "stdout",
          "text": [
            "Rtimax = 7.62556076058668\n",
            "Rtsmax = 7.035182571518037\n",
            "Rttmax = 7.253080501395851\n",
            "Rtnmax = 7.947312255629087\n",
            "mean(i) 0.08472845289540752\n",
            "mean(s) 0.07816869523908927\n",
            "mean(n) 0.08733310171020972\n",
            "mean(t) 0.08058978334884281\n",
            "DCDR 0.875\n",
            "ACDR 0.6613157894736842\n",
            "drishtiGS_073\n",
            "I-distance 0.08472845289540752\n",
            "S-distance 0.07816869523908927\n",
            "@@@@@@@@@@@@@@@@@@@@@@@@@@@@@@@@@@@@@@@@@@@@@@@@@@@@@@@@@@@@@@@@@@@@@@@@@@@\n",
            "cup_area: 1323.0\n",
            "cup_diameter 49\n",
            "disk_area 1828.0\n",
            "disk_diameter 53\n",
            "disk_area 1828.0\n",
            "disk_diameter 53\n",
            "138 130\n",
            "1828\n",
            "137 130\n"
          ]
        },
        {
          "output_type": "stream",
          "name": "stderr",
          "text": [
            "\r 57%|█████▋    | 45/79 [00:11<00:08,  3.97it/s]"
          ]
        },
        {
          "output_type": "stream",
          "name": "stdout",
          "text": [
            "Rtimax = 6.513830695534324\n",
            "Rtsmax = 7.780794831313538\n",
            "Rttmax = 5.01870400318736\n",
            "Rtnmax = 6.1164383644604685\n",
            "mean(i) 0.07237589661704806\n",
            "mean(s) 0.08645327590348376\n",
            "mean(n) 0.06721360840066445\n",
            "mean(t) 0.05576337781319288\n",
            "DCDR 0.9245283018867925\n",
            "ACDR 0.723741794310722\n",
            "drishtiGS_015\n",
            "I-distance 0.07237589661704806\n",
            "S-distance 0.08645327590348376\n",
            "@@@@@@@@@@@@@@@@@@@@@@@@@@@@@@@@@@@@@@@@@@@@@@@@@@@@@@@@@@@@@@@@@@@@@@@@@@@\n",
            "cup_area: 1387.0\n",
            "cup_diameter 51\n",
            "disk_area 2014.5\n",
            "disk_diameter 59\n",
            "disk_area 2014.5\n",
            "disk_diameter 59\n",
            "115 117\n",
            "2014\n",
            "115 115\n"
          ]
        },
        {
          "output_type": "stream",
          "name": "stderr",
          "text": [
            "\r 58%|█████▊    | 46/79 [00:11<00:08,  3.95it/s]"
          ]
        },
        {
          "output_type": "stream",
          "name": "stdout",
          "text": [
            "Rtimax = 5.776671596281599\n",
            "Rtsmax = 6.1322142566319595\n",
            "Rttmax = 7.367918814920183\n",
            "Rtnmax = 6.828793205619504\n",
            "mean(i) 0.06418523995868448\n",
            "mean(s) 0.06813571396257735\n",
            "mean(n) 0.0750416835782363\n",
            "mean(t) 0.08186576461022427\n",
            "DCDR 0.864406779661017\n",
            "ACDR 0.6885083147182924\n",
            "drishtiGS_040\n",
            "I-distance 0.06418523995868448\n",
            "S-distance 0.06813571396257735\n",
            "@@@@@@@@@@@@@@@@@@@@@@@@@@@@@@@@@@@@@@@@@@@@@@@@@@@@@@@@@@@@@@@@@@@@@@@@@@@\n",
            "cup_area: 372.0\n",
            "cup_diameter 25\n",
            "disk_area 1516.5\n",
            "disk_diameter 51\n",
            "disk_area 1516.5\n",
            "disk_diameter 51\n",
            "120 148\n",
            "1516\n",
            "118 146\n"
          ]
        },
        {
          "output_type": "stream",
          "name": "stderr",
          "text": [
            "\r 59%|█████▉    | 47/79 [00:11<00:08,  3.97it/s]"
          ]
        },
        {
          "output_type": "stream",
          "name": "stdout",
          "text": [
            "Rtimax = 18.150688051451603\n",
            "Rtsmax = 16.465732777806306\n",
            "Rttmax = 20.252709236753883\n",
            "Rtnmax = 22.791095690356382\n",
            "mean(i) 0.20167431168279568\n",
            "mean(s) 0.18295258642007015\n",
            "mean(n) 0.2504516009929273\n",
            "mean(t) 0.22503010263059872\n",
            "DCDR 0.49019607843137253\n",
            "ACDR 0.24530168150346193\n",
            "drishtiGS_094\n",
            "I-distance 0.20167431168279568\n",
            "S-distance 0.18295258642007015\n",
            "@@@@@@@@@@@@@@@@@@@@@@@@@@@@@@@@@@@@@@@@@@@@@@@@@@@@@@@@@@@@@@@@@@@@@@@@@@@\n",
            "cup_area: 1632.5\n",
            "cup_diameter 53\n",
            "disk_area 2989.5\n",
            "disk_diameter 75\n",
            "disk_area 2989.5\n",
            "disk_diameter 75\n",
            "111 132\n",
            "2989\n",
            "111 133\n"
          ]
        },
        {
          "output_type": "stream",
          "name": "stderr",
          "text": [
            "\r 61%|██████    | 48/79 [00:12<00:07,  3.92it/s]"
          ]
        },
        {
          "output_type": "stream",
          "name": "stdout",
          "text": [
            "Rtimax = 6.638798991328033\n",
            "Rtsmax = 8.894688514861805\n",
            "Rttmax = 11.118482225179758\n",
            "Rtnmax = 11.211107501593029\n",
            "mean(i) 0.07376443323697812\n",
            "mean(s) 0.09882987238735334\n",
            "mean(n) 0.12319898353398934\n",
            "mean(t) 0.12353869139088622\n",
            "DCDR 0.7066666666666667\n",
            "ACDR 0.5460779394547584\n",
            "drishtiGS_032\n",
            "I-distance 0.07376443323697812\n",
            "S-distance 0.09882987238735334\n",
            "@@@@@@@@@@@@@@@@@@@@@@@@@@@@@@@@@@@@@@@@@@@@@@@@@@@@@@@@@@@@@@@@@@@@@@@@@@@\n",
            "cup_area: 820.5\n",
            "cup_diameter 41\n",
            "disk_area 1601.0\n",
            "disk_diameter 55\n",
            "disk_area 1601.0\n",
            "disk_diameter 55\n",
            "134 123\n",
            "1601\n",
            "135 121\n"
          ]
        },
        {
          "output_type": "stream",
          "name": "stderr",
          "text": [
            "\r 62%|██████▏   | 49/79 [00:12<00:07,  3.94it/s]"
          ]
        },
        {
          "output_type": "stream",
          "name": "stdout",
          "text": [
            "Rtimax = 10.980205766182387\n",
            "Rtsmax = 8.423103206970266\n",
            "Rttmax = 10.323852267262073\n",
            "Rtnmax = 12.50460644182196\n",
            "mean(i) 0.1220022862909154\n",
            "mean(s) 0.09359003563300297\n",
            "mean(n) 0.1374132576024391\n",
            "mean(t) 0.11470946963624526\n",
            "DCDR 0.7454545454545455\n",
            "ACDR 0.5124921923797626\n",
            "drishtiGS_031\n",
            "I-distance 0.1220022862909154\n",
            "S-distance 0.09359003563300297\n",
            "@@@@@@@@@@@@@@@@@@@@@@@@@@@@@@@@@@@@@@@@@@@@@@@@@@@@@@@@@@@@@@@@@@@@@@@@@@@\n",
            "cup_area: 1085.5\n",
            "cup_diameter 46\n",
            "disk_area 1711.0\n",
            "disk_diameter 53\n",
            "disk_area 1711.0\n",
            "disk_diameter 53\n",
            "117 141\n",
            "1711\n",
            "118 139\n"
          ]
        },
        {
          "output_type": "stream",
          "name": "stderr",
          "text": [
            "\r 63%|██████▎   | 50/79 [00:12<00:07,  3.95it/s]"
          ]
        },
        {
          "output_type": "stream",
          "name": "stdout",
          "text": [
            "Rtimax = 6.936375925261751\n",
            "Rtsmax = 9.112510700227714\n",
            "Rttmax = 8.263324497574118\n",
            "Rtnmax = 8.673673973981005\n",
            "mean(i) 0.07707084361401949\n",
            "mean(s) 0.10125011889141901\n",
            "mean(n) 0.09531509861517588\n",
            "mean(t) 0.0918147166397124\n",
            "DCDR 0.8679245283018868\n",
            "ACDR 0.6344243132670953\n",
            "drishtiGS_081\n",
            "I-distance 0.07707084361401949\n",
            "S-distance 0.10125011889141901\n",
            "@@@@@@@@@@@@@@@@@@@@@@@@@@@@@@@@@@@@@@@@@@@@@@@@@@@@@@@@@@@@@@@@@@@@@@@@@@@\n",
            "cup_area: 1210.5\n",
            "cup_diameter 42\n",
            "disk_area 1960.0\n",
            "disk_diameter 55\n",
            "disk_area 1960.0\n",
            "disk_diameter 55\n",
            "120 133\n",
            "1960\n",
            "120 132\n"
          ]
        },
        {
          "output_type": "stream",
          "name": "stderr",
          "text": [
            "\r 65%|██████▍   | 51/79 [00:12<00:07,  3.99it/s]"
          ]
        },
        {
          "output_type": "stream",
          "name": "stdout",
          "text": [
            "Rtimax = 7.06128168227073\n",
            "Rtsmax = 8.263672800351468\n",
            "Rttmax = 9.001021616560818\n",
            "Rtnmax = 10.476087642294718\n",
            "mean(i) 0.07845868535856368\n",
            "mean(s) 0.0918185866705719\n",
            "mean(n) 0.1151218422230189\n",
            "mean(t) 0.10001135129512015\n",
            "DCDR 0.7636363636363637\n",
            "ACDR 0.6176020408163265\n",
            "drishtiGS_035\n",
            "I-distance 0.07845868535856368\n",
            "S-distance 0.0918185866705719\n",
            "@@@@@@@@@@@@@@@@@@@@@@@@@@@@@@@@@@@@@@@@@@@@@@@@@@@@@@@@@@@@@@@@@@@@@@@@@@@\n",
            "cup_area: 1309.5\n",
            "cup_diameter 47\n",
            "disk_area 2117.0\n",
            "disk_diameter 59\n",
            "disk_area 2117.0\n",
            "disk_diameter 59\n",
            "126 121\n",
            "2117\n",
            "125 120\n"
          ]
        },
        {
          "output_type": "stream",
          "name": "stderr",
          "text": [
            "\r 66%|██████▌   | 52/79 [00:13<00:06,  4.01it/s]"
          ]
        },
        {
          "output_type": "stream",
          "name": "stdout",
          "text": [
            "Rtimax = 8.85511123589676\n",
            "Rtsmax = 6.590693603884947\n",
            "Rttmax = 8.446590521585644\n",
            "Rtnmax = 9.975605482072973\n",
            "mean(i) 0.09839012484329727\n",
            "mean(s) 0.07322992893205496\n",
            "mean(n) 0.10962203826453829\n",
            "mean(t) 0.0938510057953961\n",
            "DCDR 0.7966101694915254\n",
            "ACDR 0.6185640056683986\n",
            "drishtiGS_085\n",
            "I-distance 0.09839012484329727\n",
            "S-distance 0.07322992893205496\n",
            "@@@@@@@@@@@@@@@@@@@@@@@@@@@@@@@@@@@@@@@@@@@@@@@@@@@@@@@@@@@@@@@@@@@@@@@@@@@\n",
            "cup_area: 1064.5\n",
            "cup_diameter 51\n",
            "disk_area 1740.5\n",
            "disk_diameter 60\n",
            "disk_area 1740.5\n",
            "disk_diameter 60\n",
            "124 123\n",
            "1740\n",
            "125 124\n"
          ]
        },
        {
          "output_type": "stream",
          "name": "stderr",
          "text": [
            "\r 67%|██████▋   | 53/79 [00:13<00:06,  4.01it/s]"
          ]
        },
        {
          "output_type": "stream",
          "name": "stdout",
          "text": [
            "Rtimax = 8.170477786325458\n",
            "Rtsmax = 6.998212174780621\n",
            "Rttmax = 7.592173053773121\n",
            "Rtnmax = 8.982055885138314\n",
            "mean(i) 0.09078308651472733\n",
            "mean(s) 0.077757913053118\n",
            "mean(n) 0.09870391082569582\n",
            "mean(t) 0.08435747837525692\n",
            "DCDR 0.85\n",
            "ACDR 0.6116058603849469\n",
            "drishtiGS_061\n",
            "I-distance 0.09078308651472733\n",
            "S-distance 0.077757913053118\n",
            "@@@@@@@@@@@@@@@@@@@@@@@@@@@@@@@@@@@@@@@@@@@@@@@@@@@@@@@@@@@@@@@@@@@@@@@@@@@\n",
            "cup_area: 356.5\n",
            "cup_diameter 25\n",
            "disk_area 1573.5\n",
            "disk_diameter 50\n",
            "disk_area 1573.5\n",
            "disk_diameter 50\n",
            "141 142\n",
            "1573\n",
            "142 141\n"
          ]
        },
        {
          "output_type": "stream",
          "name": "stderr",
          "text": [
            "\r 68%|██████▊   | 54/79 [00:13<00:06,  3.98it/s]"
          ]
        },
        {
          "output_type": "stream",
          "name": "stdout",
          "text": [
            "Rtimax = 19.66286108837273\n",
            "Rtsmax = 18.9905132458016\n",
            "Rttmax = 21.652836104877967\n",
            "Rtnmax = 23.825185206443688\n",
            "mean(i) 0.2184762343152526\n",
            "mean(s) 0.21100570273112892\n",
            "mean(n) 0.26181522204883184\n",
            "mean(t) 0.24058706783197736\n",
            "DCDR 0.5\n",
            "ACDR 0.2265649825230378\n",
            "drishtiGS_095\n",
            "I-distance 0.2184762343152526\n",
            "S-distance 0.21100570273112892\n",
            "@@@@@@@@@@@@@@@@@@@@@@@@@@@@@@@@@@@@@@@@@@@@@@@@@@@@@@@@@@@@@@@@@@@@@@@@@@@\n",
            "cup_area: 379.0\n",
            "cup_diameter 25\n",
            "disk_area 1525.0\n",
            "disk_diameter 49\n",
            "disk_area 1525.0\n",
            "disk_diameter 49\n",
            "128 139\n",
            "1525\n",
            "128 137\n"
          ]
        },
        {
          "output_type": "stream",
          "name": "stderr",
          "text": [
            "\r 70%|██████▉   | 55/79 [00:13<00:06,  3.97it/s]"
          ]
        },
        {
          "output_type": "stream",
          "name": "stdout",
          "text": [
            "Rtimax = 19.51493949374533\n",
            "Rtsmax = 18.19895919899995\n",
            "Rttmax = 20.903213759953204\n",
            "Rtnmax = 22.46940534056122\n",
            "mean(i) 0.2168326610416149\n",
            "mean(s) 0.20221065776666608\n",
            "mean(n) 0.2469165422039694\n",
            "mean(t) 0.2322579306661469\n",
            "DCDR 0.5102040816326531\n",
            "ACDR 0.24852459016393444\n",
            "drishtiGS_091\n",
            "I-distance 0.2168326610416149\n",
            "S-distance 0.20221065776666608\n",
            "@@@@@@@@@@@@@@@@@@@@@@@@@@@@@@@@@@@@@@@@@@@@@@@@@@@@@@@@@@@@@@@@@@@@@@@@@@@\n",
            "cup_area: 517.0\n",
            "cup_diameter 29\n",
            "disk_area 1720.5\n",
            "disk_diameter 54\n",
            "disk_area 1720.5\n",
            "disk_diameter 54\n",
            "125 127\n",
            "1720\n",
            "125 127\n"
          ]
        },
        {
          "output_type": "stream",
          "name": "stderr",
          "text": [
            "\r 71%|███████   | 56/79 [00:14<00:05,  4.00it/s]"
          ]
        },
        {
          "output_type": "stream",
          "name": "stdout",
          "text": [
            "Rtimax = 15.51703451220486\n",
            "Rtsmax = 16.771801955773203\n",
            "Rttmax = 19.87070363835835\n",
            "Rtnmax = 18.653336807714574\n",
            "mean(i) 0.17241149458005398\n",
            "mean(s) 0.18635335506414666\n",
            "mean(n) 0.2049817231616988\n",
            "mean(t) 0.22078559598175926\n",
            "DCDR 0.5370370370370371\n",
            "ACDR 0.3004940424295263\n",
            "drishtiGS_046\n",
            "I-distance 0.17241149458005398\n",
            "S-distance 0.18635335506414666\n",
            "@@@@@@@@@@@@@@@@@@@@@@@@@@@@@@@@@@@@@@@@@@@@@@@@@@@@@@@@@@@@@@@@@@@@@@@@@@@\n",
            "cup_area: 1363.0\n",
            "cup_diameter 49\n",
            "disk_area 2158.5\n",
            "disk_diameter 64\n",
            "disk_area 2158.5\n",
            "disk_diameter 64\n",
            "118 131\n",
            "2158\n",
            "117 132\n"
          ]
        },
        {
          "output_type": "stream",
          "name": "stderr",
          "text": [
            "\r 72%|███████▏  | 57/79 [00:14<00:05,  3.99it/s]"
          ]
        },
        {
          "output_type": "stream",
          "name": "stdout",
          "text": [
            "Rtimax = 6.954701101890288\n",
            "Rtsmax = 5.859083321478361\n",
            "Rttmax = 9.077250674545642\n",
            "Rtnmax = 7.6730721232018055\n",
            "mean(i) 0.07727445668766983\n",
            "mean(s) 0.06510092579420401\n",
            "mean(n) 0.08431947388133855\n",
            "mean(t) 0.10085834082828499\n",
            "DCDR 0.765625\n",
            "ACDR 0.6314570303451471\n",
            "drishtiGS_024\n",
            "I-distance 0.07727445668766983\n",
            "S-distance 0.06510092579420401\n",
            "@@@@@@@@@@@@@@@@@@@@@@@@@@@@@@@@@@@@@@@@@@@@@@@@@@@@@@@@@@@@@@@@@@@@@@@@@@@\n",
            "cup_area: 1355.5\n",
            "cup_diameter 48\n",
            "disk_area 2331.0\n",
            "disk_diameter 61\n",
            "disk_area 2331.0\n",
            "disk_diameter 61\n",
            "110 154\n",
            "2331\n",
            "111 152\n"
          ]
        },
        {
          "output_type": "stream",
          "name": "stderr",
          "text": [
            "\r 73%|███████▎  | 58/79 [00:14<00:05,  3.96it/s]"
          ]
        },
        {
          "output_type": "stream",
          "name": "stdout",
          "text": [
            "Rtimax = 9.729729178384638\n",
            "Rtsmax = 9.181925813639065\n",
            "Rttmax = 8.978312929350762\n",
            "Rtnmax = 10.544586560421667\n",
            "mean(i) 0.10810810198205155\n",
            "mean(s) 0.10202139792932292\n",
            "mean(n) 0.11587457758705134\n",
            "mean(t) 0.09975903254834179\n",
            "DCDR 0.7868852459016393\n",
            "ACDR 0.5815100815100815\n",
            "drishtiGS_052\n",
            "I-distance 0.10810810198205155\n",
            "S-distance 0.10202139792932292\n",
            "@@@@@@@@@@@@@@@@@@@@@@@@@@@@@@@@@@@@@@@@@@@@@@@@@@@@@@@@@@@@@@@@@@@@@@@@@@@\n",
            "cup_area: 1018.0\n",
            "cup_diameter 47\n",
            "disk_area 1990.0\n",
            "disk_diameter 65\n",
            "disk_area 1990.0\n",
            "disk_diameter 65\n",
            "149 147\n",
            "1990\n",
            "148 149\n"
          ]
        },
        {
          "output_type": "stream",
          "name": "stderr",
          "text": [
            "\r 75%|███████▍  | 59/79 [00:14<00:05,  3.98it/s]"
          ]
        },
        {
          "output_type": "stream",
          "name": "stdout",
          "text": [
            "Rtimax = 9.358352277156728\n",
            "Rtsmax = 6.796877188071862\n",
            "Rttmax = 10.876612516059302\n",
            "Rtnmax = 12.258103184504378\n",
            "mean(i) 0.10398169196840812\n",
            "mean(s) 0.07552085764524291\n",
            "mean(n) 0.13470443059894918\n",
            "mean(t) 0.12085125017843677\n",
            "DCDR 0.7230769230769231\n",
            "ACDR 0.5115577889447236\n",
            "drishtiGS_075\n",
            "I-distance 0.10398169196840812\n",
            "S-distance 0.07552085764524291\n",
            "@@@@@@@@@@@@@@@@@@@@@@@@@@@@@@@@@@@@@@@@@@@@@@@@@@@@@@@@@@@@@@@@@@@@@@@@@@@\n",
            "cup_area: 565.5\n",
            "cup_diameter 30\n",
            "disk_area 1556.0\n",
            "disk_diameter 50\n",
            "disk_area 1556.0\n",
            "disk_diameter 50\n",
            "98 150\n",
            "1556\n",
            "98 149\n"
          ]
        },
        {
          "output_type": "stream",
          "name": "stderr",
          "text": [
            "\r 76%|███████▌  | 60/79 [00:15<00:04,  4.03it/s]"
          ]
        },
        {
          "output_type": "stream",
          "name": "stdout",
          "text": [
            "Rtimax = 15.738307384566953\n",
            "Rtsmax = 14.207240666229712\n",
            "Rttmax = 16.43211756373188\n",
            "Rtnmax = 17.55306963071653\n",
            "mean(i) 0.17487008205074386\n",
            "mean(s) 0.15785822962477455\n",
            "mean(n) 0.19289087506281902\n",
            "mean(t) 0.1825790840414651\n",
            "DCDR 0.6\n",
            "ACDR 0.3634318766066838\n",
            "drishtiGS_045\n",
            "I-distance 0.17487008205074386\n",
            "S-distance 0.15785822962477455\n",
            "@@@@@@@@@@@@@@@@@@@@@@@@@@@@@@@@@@@@@@@@@@@@@@@@@@@@@@@@@@@@@@@@@@@@@@@@@@@\n",
            "cup_area: 896.5\n",
            "cup_diameter 38\n",
            "disk_area 2328.5\n",
            "disk_diameter 62\n",
            "disk_area 2328.5\n",
            "disk_diameter 62\n",
            "136 116\n",
            "2328\n",
            "136 118\n"
          ]
        },
        {
          "output_type": "stream",
          "name": "stderr",
          "text": [
            "\r 77%|███████▋  | 61/79 [00:15<00:04,  3.97it/s]"
          ]
        },
        {
          "output_type": "stream",
          "name": "stdout",
          "text": [
            "Rtimax = 15.381248579526591\n",
            "Rtsmax = 12.349465085162834\n",
            "Rttmax = 15.860020825884254\n",
            "Rtnmax = 16.303563628297216\n",
            "mean(i) 0.17090276199473992\n",
            "mean(s) 0.13721627872403155\n",
            "mean(n) 0.17916003987139803\n",
            "mean(t) 0.17622245362093622\n",
            "DCDR 0.6129032258064516\n",
            "ACDR 0.38501181017822633\n",
            "drishtiGS_099\n",
            "I-distance 0.17090276199473992\n",
            "S-distance 0.13721627872403155\n",
            "@@@@@@@@@@@@@@@@@@@@@@@@@@@@@@@@@@@@@@@@@@@@@@@@@@@@@@@@@@@@@@@@@@@@@@@@@@@\n",
            "cup_area: 1276.0\n",
            "cup_diameter 45\n",
            "disk_area 1948.5\n",
            "disk_diameter 55\n",
            "disk_area 1948.5\n",
            "disk_diameter 55\n",
            "123 150\n",
            "1948\n",
            "123 149\n"
          ]
        },
        {
          "output_type": "stream",
          "name": "stderr",
          "text": [
            "\r 78%|███████▊  | 62/79 [00:15<00:04,  3.95it/s]"
          ]
        },
        {
          "output_type": "stream",
          "name": "stdout",
          "text": [
            "Rtimax = 6.7355853305689095\n",
            "Rtsmax = 8.705060598955411\n",
            "Rttmax = 7.619725287287665\n",
            "Rtnmax = 7.920947300472535\n",
            "mean(i) 0.07483983700632121\n",
            "mean(s) 0.09672289554394894\n",
            "mean(n) 0.08704337692826962\n",
            "mean(t) 0.08466361430319629\n",
            "DCDR 0.8181818181818182\n",
            "ACDR 0.6548627149089042\n",
            "drishtiGS_084\n",
            "I-distance 0.07483983700632121\n",
            "S-distance 0.09672289554394894\n",
            "@@@@@@@@@@@@@@@@@@@@@@@@@@@@@@@@@@@@@@@@@@@@@@@@@@@@@@@@@@@@@@@@@@@@@@@@@@@\n",
            "cup_area: 908.5\n",
            "cup_diameter 41\n",
            "disk_area 1571.5\n",
            "disk_diameter 53\n",
            "disk_area 1571.5\n",
            "disk_diameter 53\n",
            "131 124\n",
            "1571\n",
            "132 122\n"
          ]
        },
        {
          "output_type": "stream",
          "name": "stderr",
          "text": [
            "\r 80%|███████▉  | 63/79 [00:15<00:04,  3.98it/s]"
          ]
        },
        {
          "output_type": "stream",
          "name": "stdout",
          "text": [
            "Rtimax = 7.235516028298614\n",
            "Rtsmax = 9.43040732412461\n",
            "Rttmax = 10.940331641950317\n",
            "Rtnmax = 9.984230434103749\n",
            "mean(i) 0.08039462253665125\n",
            "mean(s) 0.10478230360138455\n",
            "mean(n) 0.1097168179571841\n",
            "mean(t) 0.12155924046611463\n",
            "DCDR 0.7735849056603774\n",
            "ACDR 0.5781100859051861\n",
            "drishtiGS_050\n",
            "I-distance 0.08039462253665125\n",
            "S-distance 0.10478230360138455\n",
            "@@@@@@@@@@@@@@@@@@@@@@@@@@@@@@@@@@@@@@@@@@@@@@@@@@@@@@@@@@@@@@@@@@@@@@@@@@@\n",
            "cup_area: 540.5\n",
            "cup_diameter 31\n",
            "disk_area 1654.5\n",
            "disk_diameter 52\n",
            "disk_area 1654.5\n",
            "disk_diameter 52\n",
            "124 147\n",
            "1654\n",
            "125 147\n"
          ]
        },
        {
          "output_type": "stream",
          "name": "stderr",
          "text": [
            "\r 81%|████████  | 64/79 [00:16<00:03,  3.95it/s]"
          ]
        },
        {
          "output_type": "stream",
          "name": "stdout",
          "text": [
            "Rtimax = 16.165570378286315\n",
            "Rtsmax = 16.718620480711724\n",
            "Rttmax = 18.0404893567101\n",
            "Rtnmax = 17.835004756778318\n",
            "mean(i) 0.17961744864762566\n",
            "mean(s) 0.18576244978568576\n",
            "mean(n) 0.1959890632613002\n",
            "mean(t) 0.2004498817412235\n",
            "DCDR 0.5961538461538461\n",
            "ACDR 0.32668479903294045\n",
            "drishtiGS_088\n",
            "I-distance 0.17961744864762566\n",
            "S-distance 0.18576244978568576\n",
            "@@@@@@@@@@@@@@@@@@@@@@@@@@@@@@@@@@@@@@@@@@@@@@@@@@@@@@@@@@@@@@@@@@@@@@@@@@@\n",
            "cup_area: 1333.5\n",
            "cup_diameter 48\n",
            "disk_area 2178.5\n",
            "disk_diameter 59\n",
            "disk_area 2178.5\n",
            "disk_diameter 59\n",
            "139 140\n",
            "2178\n",
            "140 137\n"
          ]
        },
        {
          "output_type": "stream",
          "name": "stderr",
          "text": [
            "\r 82%|████████▏ | 65/79 [00:16<00:03,  3.96it/s]"
          ]
        },
        {
          "output_type": "stream",
          "name": "stdout",
          "text": [
            "Rtimax = 8.817759558662177\n",
            "Rtsmax = 9.738669697359164\n",
            "Rttmax = 8.948920396180243\n",
            "Rtnmax = 8.234737182158318\n",
            "mean(i) 0.0979751062073575\n",
            "mean(s) 0.10820744108176847\n",
            "mean(n) 0.09049161738635511\n",
            "mean(t) 0.0994324488464472\n",
            "DCDR 0.8135593220338984\n",
            "ACDR 0.6121184301124627\n",
            "drishtiGS_053\n",
            "I-distance 0.0979751062073575\n",
            "S-distance 0.10820744108176847\n",
            "@@@@@@@@@@@@@@@@@@@@@@@@@@@@@@@@@@@@@@@@@@@@@@@@@@@@@@@@@@@@@@@@@@@@@@@@@@@\n",
            "cup_area: 513.0\n",
            "cup_diameter 29\n",
            "disk_area 1891.5\n",
            "disk_diameter 57\n",
            "disk_area 1891.5\n",
            "disk_diameter 57\n",
            "117 154\n",
            "1891\n",
            "112 154\n"
          ]
        },
        {
          "output_type": "stream",
          "name": "stderr",
          "text": [
            "\r 84%|████████▎ | 66/79 [00:16<00:03,  3.92it/s]"
          ]
        },
        {
          "output_type": "stream",
          "name": "stdout",
          "text": [
            "Rtimax = 18.245152218889583\n",
            "Rtsmax = 15.296317851507904\n",
            "Rttmax = 21.61555824289591\n",
            "Rtnmax = 19.558984605740125\n",
            "mean(i) 0.20272391354321762\n",
            "mean(s) 0.16995908723897676\n",
            "mean(n) 0.21493389676637512\n",
            "mean(t) 0.24017286936551008\n",
            "DCDR 0.5087719298245614\n",
            "ACDR 0.2712133227597145\n",
            "drishtiGS_092\n",
            "I-distance 0.20272391354321762\n",
            "S-distance 0.16995908723897676\n",
            "@@@@@@@@@@@@@@@@@@@@@@@@@@@@@@@@@@@@@@@@@@@@@@@@@@@@@@@@@@@@@@@@@@@@@@@@@@@\n",
            "cup_area: 1321.5\n",
            "cup_diameter 45\n",
            "disk_area 1845.0\n",
            "disk_diameter 54\n",
            "disk_area 1845.0\n",
            "disk_diameter 54\n",
            "130 135\n",
            "1845\n",
            "130 135\n"
          ]
        },
        {
          "output_type": "stream",
          "name": "stderr",
          "text": [
            "\r 85%|████████▍ | 67/79 [00:16<00:03,  3.94it/s]"
          ]
        },
        {
          "output_type": "stream",
          "name": "stdout",
          "text": [
            "Rtimax = 5.72391211456085\n",
            "Rtsmax = 6.021937040803215\n",
            "Rttmax = 7.6320833027620285\n",
            "Rtnmax = 5.904684604549835\n",
            "mean(i) 0.06359902349512052\n",
            "mean(s) 0.06691041156448019\n",
            "mean(n) 0.06488664400604213\n",
            "mean(t) 0.08480092558624469\n",
            "DCDR 0.8333333333333334\n",
            "ACDR 0.7162601626016261\n",
            "drishtiGS_074\n",
            "I-distance 0.06359902349512052\n",
            "S-distance 0.06691041156448019\n",
            "@@@@@@@@@@@@@@@@@@@@@@@@@@@@@@@@@@@@@@@@@@@@@@@@@@@@@@@@@@@@@@@@@@@@@@@@@@@\n",
            "cup_area: 1265.5\n",
            "cup_diameter 49\n",
            "disk_area 2587.0\n",
            "disk_diameter 64\n",
            "disk_area 2587.0\n",
            "disk_diameter 64\n",
            "80 98\n",
            "2587\n",
            "80 97\n"
          ]
        },
        {
          "output_type": "stream",
          "name": "stderr",
          "text": [
            "\r 86%|████████▌ | 68/79 [00:17<00:02,  3.98it/s]"
          ]
        },
        {
          "output_type": "stream",
          "name": "stdout",
          "text": [
            "Rtimax = 13.223702235151656\n",
            "Rtsmax = 11.709759207406055\n",
            "Rttmax = 11.3223455583658\n",
            "Rtnmax = 12.927520817918131\n",
            "mean(i) 0.1469300248350184\n",
            "mean(s) 0.13010843563784505\n",
            "mean(n) 0.14206066832877062\n",
            "mean(t) 0.12580383953739782\n",
            "DCDR 0.765625\n",
            "ACDR 0.4891766524932354\n",
            "drishtiGS_048\n",
            "I-distance 0.1469300248350184\n",
            "S-distance 0.13010843563784505\n",
            "@@@@@@@@@@@@@@@@@@@@@@@@@@@@@@@@@@@@@@@@@@@@@@@@@@@@@@@@@@@@@@@@@@@@@@@@@@@\n",
            "cup_area: 1238.5\n",
            "cup_diameter 51\n",
            "disk_area 1873.0\n",
            "disk_diameter 59\n",
            "disk_area 1873.0\n",
            "disk_diameter 59\n",
            "123 143\n",
            "1873\n",
            "124 144\n"
          ]
        },
        {
          "output_type": "stream",
          "name": "stderr",
          "text": [
            "\r 87%|████████▋ | 69/79 [00:17<00:02,  3.96it/s]"
          ]
        },
        {
          "output_type": "stream",
          "name": "stdout",
          "text": [
            "Rtimax = 6.958157989072369\n",
            "Rtsmax = 8.383455148310967\n",
            "Rttmax = 6.931134438687534\n",
            "Rtnmax = 6.467351636308689\n",
            "mean(i) 0.07731286654524858\n",
            "mean(s) 0.09314950164789967\n",
            "mean(n) 0.07106979820119438\n",
            "mean(t) 0.07701260487430596\n",
            "DCDR 0.864406779661017\n",
            "ACDR 0.6612386545648692\n",
            "drishtiGS_070\n",
            "I-distance 0.07731286654524858\n",
            "S-distance 0.09314950164789967\n",
            "@@@@@@@@@@@@@@@@@@@@@@@@@@@@@@@@@@@@@@@@@@@@@@@@@@@@@@@@@@@@@@@@@@@@@@@@@@@\n",
            "cup_area: 1250.0\n",
            "cup_diameter 46\n",
            "disk_area 1916.5\n",
            "disk_diameter 55\n",
            "disk_area 1916.5\n",
            "disk_diameter 55\n",
            "115 142\n",
            "1916\n",
            "115 141\n"
          ]
        },
        {
          "output_type": "stream",
          "name": "stderr",
          "text": [
            "\r 89%|████████▊ | 70/79 [00:17<00:02,  3.94it/s]"
          ]
        },
        {
          "output_type": "stream",
          "name": "stdout",
          "text": [
            "Rtimax = 7.144957415745144\n",
            "Rtsmax = 7.869142707791591\n",
            "Rttmax = 8.220491883384453\n",
            "Rtnmax = 7.7944035066946915\n",
            "mean(i) 0.07938841573050161\n",
            "mean(s) 0.08743491897546214\n",
            "mean(n) 0.08565278578785378\n",
            "mean(t) 0.09133879870427176\n",
            "DCDR 0.8363636363636363\n",
            "ACDR 0.6522306287503261\n",
            "drishtiGS_079\n",
            "I-distance 0.07938841573050161\n",
            "S-distance 0.08743491897546214\n",
            "@@@@@@@@@@@@@@@@@@@@@@@@@@@@@@@@@@@@@@@@@@@@@@@@@@@@@@@@@@@@@@@@@@@@@@@@@@@\n",
            "cup_area: 904.5\n",
            "cup_diameter 38\n",
            "disk_area 2402.0\n",
            "disk_diameter 62\n",
            "disk_area 2402.0\n",
            "disk_diameter 62\n",
            "102 143\n",
            "2402\n",
            "103 142\n"
          ]
        },
        {
          "output_type": "stream",
          "name": "stderr",
          "text": [
            "\r 90%|████████▉ | 71/79 [00:17<00:02,  3.94it/s]"
          ]
        },
        {
          "output_type": "stream",
          "name": "stdout",
          "text": [
            "Rtimax = 14.713034385603455\n",
            "Rtsmax = 13.96117007692151\n",
            "Rttmax = 15.316929388457527\n",
            "Rtnmax = 17.159148412445525\n",
            "mean(i) 0.16347815984003833\n",
            "mean(s) 0.15512411196579454\n",
            "mean(n) 0.18856207046643436\n",
            "mean(t) 0.17018810431619472\n",
            "DCDR 0.6129032258064516\n",
            "ACDR 0.3765611990008326\n",
            "drishtiGS_098\n",
            "I-distance 0.16347815984003833\n",
            "S-distance 0.15512411196579454\n",
            "@@@@@@@@@@@@@@@@@@@@@@@@@@@@@@@@@@@@@@@@@@@@@@@@@@@@@@@@@@@@@@@@@@@@@@@@@@@\n",
            "cup_area: 737.5\n",
            "cup_diameter 36\n",
            "disk_area 1633.5\n",
            "disk_diameter 51\n",
            "disk_area 1633.5\n",
            "disk_diameter 51\n",
            "140 144\n",
            "1633\n",
            "141 143\n"
          ]
        },
        {
          "output_type": "stream",
          "name": "stderr",
          "text": [
            "\r 91%|█████████ | 72/79 [00:18<00:01,  3.96it/s]"
          ]
        },
        {
          "output_type": "stream",
          "name": "stdout",
          "text": [
            "Rtimax = 11.76276900317656\n",
            "Rtsmax = 13.444435514897268\n",
            "Rttmax = 12.552558970209557\n",
            "Rtnmax = 14.591103041761754\n",
            "mean(i) 0.1306974333686285\n",
            "mean(s) 0.14938261683219187\n",
            "mean(n) 0.1603417916677115\n",
            "mean(t) 0.1394728774467729\n",
            "DCDR 0.7058823529411765\n",
            "ACDR 0.4514845423936333\n",
            "drishtiGS_038\n",
            "I-distance 0.1306974333686285\n",
            "S-distance 0.14938261683219187\n",
            "@@@@@@@@@@@@@@@@@@@@@@@@@@@@@@@@@@@@@@@@@@@@@@@@@@@@@@@@@@@@@@@@@@@@@@@@@@@\n",
            "cup_area: 1460.0\n",
            "cup_diameter 54\n",
            "disk_area 2191.0\n",
            "disk_diameter 64\n",
            "disk_area 2191.0\n",
            "disk_diameter 64\n",
            "114 137\n",
            "2191\n",
            "113 138\n"
          ]
        },
        {
          "output_type": "stream",
          "name": "stderr",
          "text": [
            "\r 92%|█████████▏| 73/79 [00:18<00:01,  3.94it/s]"
          ]
        },
        {
          "output_type": "stream",
          "name": "stdout",
          "text": [
            "Rtimax = 6.55996968553999\n",
            "Rtsmax = 5.4942636721254905\n",
            "Rttmax = 7.475412449792048\n",
            "Rtnmax = 7.440833006643847\n",
            "mean(i) 0.07288855206155542\n",
            "mean(s) 0.06104737413472765\n",
            "mean(n) 0.08176739567740493\n",
            "mean(t) 0.0830601383310228\n",
            "DCDR 0.84375\n",
            "ACDR 0.6663623916020082\n",
            "drishtiGS_064\n",
            "I-distance 0.07288855206155542\n",
            "S-distance 0.06104737413472765\n",
            "@@@@@@@@@@@@@@@@@@@@@@@@@@@@@@@@@@@@@@@@@@@@@@@@@@@@@@@@@@@@@@@@@@@@@@@@@@@\n",
            "cup_area: 1369.5\n",
            "cup_diameter 47\n",
            "disk_area 2249.5\n",
            "disk_diameter 62\n",
            "disk_area 2249.5\n",
            "disk_diameter 62\n",
            "132 144\n",
            "2249\n",
            "132 144\n"
          ]
        },
        {
          "output_type": "stream",
          "name": "stderr",
          "text": [
            "\r 94%|█████████▎| 74/79 [00:18<00:01,  3.93it/s]"
          ]
        },
        {
          "output_type": "stream",
          "name": "stdout",
          "text": [
            "Rtimax = 6.990491494682808\n",
            "Rtsmax = 7.159077109151862\n",
            "Rttmax = 10.718954961173383\n",
            "Rtnmax = 9.30208956477784\n",
            "mean(i) 0.07767212771869784\n",
            "mean(s) 0.07954530121279849\n",
            "mean(n) 0.10222076444810806\n",
            "mean(t) 0.11909949956859313\n",
            "DCDR 0.7580645161290323\n",
            "ACDR 0.60880195599022\n",
            "drishtiGS_077\n",
            "I-distance 0.07767212771869784\n",
            "S-distance 0.07954530121279849\n",
            "@@@@@@@@@@@@@@@@@@@@@@@@@@@@@@@@@@@@@@@@@@@@@@@@@@@@@@@@@@@@@@@@@@@@@@@@@@@\n",
            "cup_area: 846.5\n",
            "cup_diameter 36\n",
            "disk_area 2208.0\n",
            "disk_diameter 59\n",
            "disk_area 2208.0\n",
            "disk_diameter 59\n",
            "124 159\n",
            "2208\n",
            "124 160\n"
          ]
        },
        {
          "output_type": "stream",
          "name": "stderr",
          "text": [
            "\r 95%|█████████▍| 75/79 [00:18<00:01,  3.94it/s]"
          ]
        },
        {
          "output_type": "stream",
          "name": "stdout",
          "text": [
            "Rtimax = 13.768291434629921\n",
            "Rtsmax = 14.923613457898176\n",
            "Rttmax = 17.4450784063517\n",
            "Rtnmax = 16.166815122825266\n",
            "mean(i) 0.1529810159403324\n",
            "mean(s) 0.16581792730997974\n",
            "mean(n) 0.17765730904203592\n",
            "mean(t) 0.19383420451501887\n",
            "DCDR 0.6101694915254238\n",
            "ACDR 0.3833786231884058\n",
            "drishtiGS_041\n",
            "I-distance 0.1529810159403324\n",
            "S-distance 0.16581792730997974\n",
            "@@@@@@@@@@@@@@@@@@@@@@@@@@@@@@@@@@@@@@@@@@@@@@@@@@@@@@@@@@@@@@@@@@@@@@@@@@@\n",
            "cup_area: 1032.0\n",
            "cup_diameter 44\n",
            "disk_area 1787.5\n",
            "disk_diameter 54\n",
            "disk_area 1787.5\n",
            "disk_diameter 54\n",
            "118 149\n",
            "1787\n",
            "118 148\n"
          ]
        },
        {
          "output_type": "stream",
          "name": "stderr",
          "text": [
            "\r 96%|█████████▌| 76/79 [00:19<00:00,  3.94it/s]"
          ]
        },
        {
          "output_type": "stream",
          "name": "stdout",
          "text": [
            "Rtimax = 10.282097556593959\n",
            "Rtsmax = 8.436937653663424\n",
            "Rttmax = 9.07105637323991\n",
            "Rtnmax = 10.980492796819966\n",
            "mean(i) 0.11424552840659949\n",
            "mean(s) 0.09374375170737136\n",
            "mean(n) 0.12066475600901058\n",
            "mean(t) 0.1007895152582212\n",
            "DCDR 0.8148148148148148\n",
            "ACDR 0.5773426573426573\n",
            "drishtiGS_059\n",
            "I-distance 0.11424552840659949\n",
            "S-distance 0.09374375170737136\n",
            "@@@@@@@@@@@@@@@@@@@@@@@@@@@@@@@@@@@@@@@@@@@@@@@@@@@@@@@@@@@@@@@@@@@@@@@@@@@\n",
            "cup_area: 1114.5\n",
            "cup_diameter 43\n",
            "disk_area 1690.5\n",
            "disk_diameter 52\n",
            "disk_area 1690.5\n",
            "disk_diameter 52\n",
            "122 160\n",
            "1690\n",
            "122 159\n"
          ]
        },
        {
          "output_type": "stream",
          "name": "stderr",
          "text": [
            "\r 97%|█████████▋| 77/79 [00:19<00:00,  3.94it/s]"
          ]
        },
        {
          "output_type": "stream",
          "name": "stdout",
          "text": [
            "Rtimax = 7.148590485814756\n",
            "Rtsmax = 7.721088324207081\n",
            "Rttmax = 8.377098694113863\n",
            "Rtnmax = 7.9144763079688625\n",
            "mean(i) 0.07942878317571953\n",
            "mean(s) 0.08578987026896757\n",
            "mean(n) 0.08697226712053696\n",
            "mean(t) 0.09307887437904294\n",
            "DCDR 0.8269230769230769\n",
            "ACDR 0.6592724046140195\n",
            "drishtiGS_004\n",
            "I-distance 0.07942878317571953\n",
            "S-distance 0.08578987026896757\n",
            "@@@@@@@@@@@@@@@@@@@@@@@@@@@@@@@@@@@@@@@@@@@@@@@@@@@@@@@@@@@@@@@@@@@@@@@@@@@\n",
            "cup_area: 963.5\n",
            "cup_diameter 41\n",
            "disk_area 1527.0\n",
            "disk_diameter 52\n",
            "disk_area 1527.0\n",
            "disk_diameter 52\n",
            "141 117\n",
            "1527\n",
            "141 116\n"
          ]
        },
        {
          "output_type": "stream",
          "name": "stderr",
          "text": [
            "\r 99%|█████████▊| 78/79 [00:19<00:00,  3.92it/s]"
          ]
        },
        {
          "output_type": "stream",
          "name": "stdout",
          "text": [
            "Rtimax = 7.294923462258379\n",
            "Rtsmax = 7.024094694150628\n",
            "Rttmax = 7.638993114828815\n",
            "Rtnmax = 9.336522168228363\n",
            "mean(i) 0.08105470513620422\n",
            "mean(s) 0.07804549660167366\n",
            "mean(n) 0.10259914470580618\n",
            "mean(t) 0.08487770127587572\n",
            "DCDR 0.7884615384615384\n",
            "ACDR 0.6309757694826457\n",
            "drishtiGS_051\n",
            "I-distance 0.08105470513620422\n",
            "S-distance 0.07804549660167366\n",
            "@@@@@@@@@@@@@@@@@@@@@@@@@@@@@@@@@@@@@@@@@@@@@@@@@@@@@@@@@@@@@@@@@@@@@@@@@@@\n",
            "cup_area: 410.0\n",
            "cup_diameter 27\n",
            "disk_area 1584.5\n",
            "disk_diameter 51\n",
            "disk_area 1584.5\n",
            "disk_diameter 51\n",
            "143 162\n",
            "1584\n",
            "143 161\n"
          ]
        },
        {
          "output_type": "stream",
          "name": "stderr",
          "text": [
            "100%|██████████| 79/79 [00:19<00:00,  3.97it/s]"
          ]
        },
        {
          "output_type": "stream",
          "name": "stdout",
          "text": [
            "Rtimax = 18.48271945750266\n",
            "Rtsmax = 18.885414423584265\n",
            "Rttmax = 18.640947149346363\n",
            "Rtnmax = 21.804760940484925\n",
            "mean(i) 0.20536354952780736\n",
            "mean(s) 0.20983793803982517\n",
            "mean(n) 0.23961275758774653\n",
            "mean(t) 0.20712163499273736\n",
            "DCDR 0.5294117647058824\n",
            "ACDR 0.2587567055853582\n",
            "drishtiGS_047\n",
            "I-distance 0.20536354952780736\n",
            "S-distance 0.20983793803982517\n"
          ]
        },
        {
          "output_type": "stream",
          "name": "stderr",
          "text": [
            "\n"
          ]
        }
      ]
    },
    {
      "cell_type": "code",
      "metadata": {
        "id": "osdRiAiIxUq5"
      },
      "source": [
        ""
      ],
      "execution_count": null,
      "outputs": []
    },
    {
      "cell_type": "markdown",
      "metadata": {
        "id": "z_ChnYDxXIME"
      },
      "source": [
        "# Test Dataset Features Extraction"
      ]
    },
    {
      "cell_type": "code",
      "metadata": {
        "id": "p12Vx5452jf2",
        "colab": {
          "base_uri": "https://localhost:8080/"
        },
        "outputId": "892445ad-a489-4f5b-cf79-cc3c76894659"
      },
      "source": [
        "# MAIN FUNCTION\n",
        "\n",
        "import pandas as pd\n",
        "\n",
        "CDR = []\n",
        "VAL = []\n",
        "count = 0\n",
        "\n",
        "folder_test_y1 = \"/content/new_data/test/mask1/\"\n",
        "test_y1 = os.listdir(folder_test_y1)\n",
        "test_y1.sort(key = len)\n",
        "\n",
        "folder_test_y2 = \"/content/new_data/test/mask2/\"\n",
        "test_y2 = os.listdir(folder_test_y2)\n",
        "test_y2.sort(key = len)\n",
        "\n",
        "folder_test_y3 = \"/content/new_data/test/image/\"\n",
        "test_y3 = os.listdir(folder_test_y3)\n",
        "test_y3.sort(key = len)\n",
        "\n",
        "#create_dir(\"results\")\n",
        "SCORE_TEST = []\n",
        "\n",
        "for x, y, z in tqdm(zip(test_y1, test_y2, test_y3 ), total=len(test_y1)):\n",
        "    \"\"\" Extracting names \"\"\"\n",
        "    name = x.split(\"/\")[-1].split(\".\")[0]\n",
        "    disc = cv2.imread(folder_test_y1+x,0)\n",
        "    cup = cv2.imread(folder_test_y2+y,0)\n",
        "    #print(disc.shape)\n",
        "    #print(cup.shape)\n",
        "    print(\"@@@@@@@@@@@@@@@@@@@@@@@@@@@@@@@@@@@@@@@@@@@@@@@@@@@@@@@@@@@@@@@@@@@@@@@@@@@\")\n",
        "    dcdr_cal, acdr_cal, cup_d, disc_d, cup_a, disc_a = cdr(cup,disc,False)\n",
        "    dd = disk_diameter(disc,False)\n",
        "    i, s = notch(cup,disc,False,dd)\n",
        "\n",
        "    print(\"DCDR\", dcdr_cal)\n",
        "    print(\"ACDR\", acdr_cal)\n",
        "    print(name)\n",
        "    print(\"I-distance\", i)\n",
        "    print(\"S-distance\", s)\n",
        "\n",
        "    Name = name\n",
        "    ACDR = acdr_cal\n",
        "    DCDR = dcdr_cal\n",
        "    cup_diameter = cup_d\n",
        "    disc_diameter = disc_d\n",
        "    cup_area = cup_a\n",
        "    disc_area = disc_a\n",
        "    i_distance = i\n",
        "    s_distance = s\n",
        "    SCORE_TEST.append([Name, ACDR, DCDR, cup_diameter, disc_diameter, cup_area, disc_area, i_distance, s_distance])\n",
        "\n",
        "    count = count + 1\n",
        "\n",
        "    SCORE_TEST.sort(reverse=False)\n",
        "    df = pd.DataFrame(SCORE_TEST, columns=[\"Name\", \"ACDR\", \"DCDR\", \"Cup diameter\", \"Disc diameter\", \"Cup area\", \"Disc area\", \"I distance\", \"S distance\"])\n",
        "    df.to_csv(\"results/extracted_features_test.csv\")"
      ],
      "execution_count": 62,
      "outputs": [
        {
          "output_type": "stream",
          "name": "stderr",
          "text": [
            "\r  0%|          | 0/21 [00:00<?, ?it/s]"
          ]
        },
        {
          "output_type": "stream",
          "name": "stdout",
          "text": [
            "@@@@@@@@@@@@@@@@@@@@@@@@@@@@@@@@@@@@@@@@@@@@@@@@@@@@@@@@@@@@@@@@@@@@@@@@@@@\n",
            "cup_area: 2355.0\n",
            "cup_diameter 64\n",
            "disk_area 3441.0\n",
            "disk_diameter 76\n",
            "disk_area 3441.0\n",
            "disk_diameter 76\n",
            "111 148\n",
            "3441\n",
            "112 147\n"
          ]
        },
        {
          "output_type": "stream",
          "name": "stderr",
          "text": [
            "\r  5%|▍         | 1/21 [00:00<00:05,  3.98it/s]"
          ]
        },
        {
          "output_type": "stream",
          "name": "stdout",
          "text": [
            "Rtimax = 6.364789082955187\n",
            "Rtsmax = 6.222616933372714\n",
            "Rttmax = 7.34352755300426\n",
            "Rtnmax = 7.535736558926675\n",
            "mean(i) 0.07071987869950208\n",
            "mean(s) 0.06914018814858572\n",
            "mean(n) 0.08281029185633708\n",
            "mean(t) 0.08159475058893624\n",
            "DCDR 0.8421052631578947\n",
            "ACDR 0.6843940714908456\n",
            "drishtiGS_005\n",
            "I-distance 0.07071987869950208\n",
            "S-distance 0.06914018814858572\n",
            "@@@@@@@@@@@@@@@@@@@@@@@@@@@@@@@@@@@@@@@@@@@@@@@@@@@@@@@@@@@@@@@@@@@@@@@@@@@\n",
            "cup_area: 1655.5\n",
            "cup_diameter 52\n",
            "disk_area 2668.5\n",
            "disk_diameter 65\n",
            "disk_area 2668.5\n",
            "disk_diameter 65\n",
            "130 128\n",
            "2668\n",
            "129 128\n"
          ]
        },
        {
          "output_type": "stream",
          "name": "stderr",
          "text": [
            "\r 10%|▉         | 2/21 [00:00<00:04,  4.03it/s]"
          ]
        },
        {
          "output_type": "stream",
          "name": "stdout",
          "text": [
            "Rtimax = 9.346928692750524\n",
            "Rtsmax = 7.704761167213101\n",
            "Rttmax = 9.29089894148771\n",
            "Rtnmax = 8.405039607174766\n",
            "mean(i) 0.10385476325278364\n",
            "mean(s) 0.08560845741347892\n",
            "mean(n) 0.09236307260631614\n",
            "mean(t) 0.10323221046097455\n",
            "DCDR 0.8\n",
            "ACDR 0.620385984635563\n",
            "drishtiGS_007\n",
            "I-distance 0.10385476325278364\n",
            "S-distance 0.08560845741347892\n",
            "@@@@@@@@@@@@@@@@@@@@@@@@@@@@@@@@@@@@@@@@@@@@@@@@@@@@@@@@@@@@@@@@@@@@@@@@@@@\n",
            "cup_area: 1086.5\n",
            "cup_diameter 43\n",
            "disk_area 1897.0\n",
            "disk_diameter 55\n",
            "disk_area 1897.0\n",
            "disk_diameter 55\n",
            "114 137\n",
            "1897\n",
            "115 136\n"
          ]
        },
        {
          "output_type": "stream",
          "name": "stderr",
          "text": [
            "\r 14%|█▍        | 3/21 [00:00<00:04,  4.03it/s]"
          ]
        },
        {
          "output_type": "stream",
          "name": "stdout",
          "text": [
            "Rtimax = 10.18020912196363\n",
            "Rtsmax = 10.020329448133202\n",
            "Rttmax = 9.884825441106479\n",
            "Rtnmax = 9.619193098564375\n",
            "mean(i) 0.11311343468848487\n",
            "mean(s) 0.11133699386814662\n",
            "mean(n) 0.10570541866554262\n",
            "mean(t) 0.109831393790072\n",
            "DCDR 0.7818181818181819\n",
            "ACDR 0.5727464417501318\n",
            "drishtiGS_003\n",
            "I-distance 0.11311343468848487\n",
            "S-distance 0.11133699386814662\n",
            "@@@@@@@@@@@@@@@@@@@@@@@@@@@@@@@@@@@@@@@@@@@@@@@@@@@@@@@@@@@@@@@@@@@@@@@@@@@\n",
            "cup_area: 1279.5\n",
            "cup_diameter 46\n",
            "disk_area 1713.0\n",
            "disk_diameter 52\n",
            "disk_area 1713.0\n",
            "disk_diameter 52\n",
            "123 140\n",
            "1713\n",
            "123 140\n"
          ]
        },
        {
          "output_type": "stream",
          "name": "stderr",
          "text": [
            "\r 19%|█▉        | 4/21 [00:00<00:04,  4.02it/s]"
          ]
        },
        {
          "output_type": "stream",
          "name": "stdout",
          "text": [
            "Rtimax = 5.086998004425637\n",
            "Rtsmax = 4.575325518695062\n",
            "Rttmax = 6.305328549265076\n",
            "Rtnmax = 5.5830849334792285\n",
            "mean(i) 0.05652220004917378\n",
            "mean(s) 0.0508369502077229\n",
            "mean(n) 0.06135258168658495\n",
            "mean(t) 0.07005920610294533\n",
            "DCDR 0.8846153846153846\n",
            "ACDR 0.7469352014010507\n",
            "drishtiGS_028\n",
            "I-distance 0.05652220004917378\n",
            "S-distance 0.0508369502077229\n",
            "@@@@@@@@@@@@@@@@@@@@@@@@@@@@@@@@@@@@@@@@@@@@@@@@@@@@@@@@@@@@@@@@@@@@@@@@@@@\n",
            "cup_area: 1451.5\n",
            "cup_diameter 51\n",
            "disk_area 2101.0\n",
            "disk_diameter 60\n",
            "disk_area 2101.0\n",
            "disk_diameter 60\n",
            "114 127\n",
            "2101\n",
            "114 127\n"
          ]
        },
        {
          "output_type": "stream",
          "name": "stderr",
          "text": [
            "\r 24%|██▍       | 5/21 [00:01<00:04,  3.94it/s]"
          ]
        },
        {
          "output_type": "stream",
          "name": "stdout",
          "text": [
            "Rtimax = 5.898429824217059\n",
            "Rtsmax = 6.299768879686342\n",
            "Rttmax = 7.081244398984426\n",
            "Rtnmax = 6.92821121349786\n",
            "mean(i) 0.0655381091579673\n",
            "mean(s) 0.06999743199651494\n",
            "mean(n) 0.0761341891593171\n",
            "mean(t) 0.07868049332204918\n",
            "DCDR 0.85\n",
            "ACDR 0.690861494526416\n",
            "drishtiGS_014\n",
            "I-distance 0.0655381091579673\n",
            "S-distance 0.06999743199651494\n",
            "@@@@@@@@@@@@@@@@@@@@@@@@@@@@@@@@@@@@@@@@@@@@@@@@@@@@@@@@@@@@@@@@@@@@@@@@@@@\n",
            "cup_area: 358.5\n",
            "cup_diameter 26\n",
            "disk_area 1629.5\n",
            "disk_diameter 52\n",
            "disk_area 1629.5\n",
            "disk_diameter 52\n",
            "129 169\n",
            "1629\n",
            "126 164\n"
          ]
        },
        {
          "output_type": "stream",
          "name": "stderr",
          "text": [
            "\r 29%|██▊       | 6/21 [00:01<00:03,  3.98it/s]"
          ]
        },
        {
          "output_type": "stream",
          "name": "stdout",
          "text": [
            "Rtimax = 19.914938388664364\n",
            "Rtsmax = 18.975964941961262\n",
            "Rttmax = 21.92315435504964\n",
            "Rtnmax = 23.359037515295807\n",
            "mean(i) 0.22127709320738193\n",
            "mean(s) 0.21084405491068073\n",
            "mean(n) 0.25669271994830556\n",
            "mean(t) 0.24359060394499604\n",
            "DCDR 0.5\n",
            "ACDR 0.22000613685179504\n",
            "drishtiGS_096\n",
            "I-distance 0.22127709320738193\n",
            "S-distance 0.21084405491068073\n",
            "@@@@@@@@@@@@@@@@@@@@@@@@@@@@@@@@@@@@@@@@@@@@@@@@@@@@@@@@@@@@@@@@@@@@@@@@@@@\n",
            "cup_area: 1629.5\n",
            "cup_diameter 53\n",
            "disk_area 2242.0\n",
            "disk_diameter 61\n",
            "disk_area 2242.0\n",
            "disk_diameter 61\n",
            "125 133\n",
            "2242\n",
            "125 133\n"
          ]
        },
        {
          "output_type": "stream",
          "name": "stderr",
          "text": [
            "\r 33%|███▎      | 7/21 [00:01<00:03,  3.96it/s]"
          ]
        },
        {
          "output_type": "stream",
          "name": "stdout",
          "text": [
            "Rtimax = 5.552168430964005\n",
            "Rtsmax = 5.7717764077958265\n",
            "Rttmax = 6.115533747908556\n",
            "Rtnmax = 6.066967012881598\n",
            "mean(i) 0.0616907603440445\n",
            "mean(s) 0.06413084897550919\n",
            "mean(n) 0.06666996717452303\n",
            "mean(t) 0.06795037497676172\n",
            "DCDR 0.8688524590163934\n",
            "ACDR 0.7268064228367529\n",
            "drishtiGS_020\n",
            "I-distance 0.0616907603440445\n",
            "S-distance 0.06413084897550919\n",
            "@@@@@@@@@@@@@@@@@@@@@@@@@@@@@@@@@@@@@@@@@@@@@@@@@@@@@@@@@@@@@@@@@@@@@@@@@@@\n",
            "cup_area: 1205.0\n",
            "cup_diameter 48\n",
            "disk_area 2217.5\n",
            "disk_diameter 61\n",
            "disk_area 2217.5\n",
            "disk_diameter 61\n",
            "124 128\n",
            "2217\n",
            "123 128\n"
          ]
        },
        {
          "output_type": "stream",
          "name": "stderr",
          "text": [
            "\r 38%|███▊      | 8/21 [00:02<00:03,  3.94it/s]"
          ]
        },
        {
          "output_type": "stream",
          "name": "stdout",
          "text": [
            "Rtimax = 10.419029353112096\n",
            "Rtsmax = 11.57234400120225\n",
            "Rttmax = 8.676668175477714\n",
            "Rtnmax = 11.33075204081854\n",
            "mean(i) 0.11576699281235656\n",
            "mean(s) 0.12858160001335833\n",
            "mean(n) 0.12451375869031364\n",
            "mean(t) 0.09640742417197465\n",
            "DCDR 0.7868852459016393\n",
            "ACDR 0.5434047350620068\n",
            "drishtiGS_034\n",
            "I-distance 0.11576699281235656\n",
            "S-distance 0.12858160001335833\n",
            "@@@@@@@@@@@@@@@@@@@@@@@@@@@@@@@@@@@@@@@@@@@@@@@@@@@@@@@@@@@@@@@@@@@@@@@@@@@\n",
            "cup_area: 435.5\n",
            "cup_diameter 27\n",
            "disk_area 2038.0\n",
            "disk_diameter 57\n",
            "disk_area 2038.0\n",
            "disk_diameter 57\n",
            "130 138\n",
            "2038\n",
            "128 134\n"
          ]
        },
        {
          "output_type": "stream",
          "name": "stderr",
          "text": [
            "\r 43%|████▎     | 9/21 [00:02<00:03,  3.93it/s]"
          ]
        },
        {
          "output_type": "stream",
          "name": "stdout",
          "text": [
            "Rtimax = 21.103902445982346\n",
            "Rtsmax = 18.53638068698997\n",
            "Rttmax = 23.307702658257977\n",
            "Rtnmax = 23.650266753731195\n",
            "mean(i) 0.23448780495535948\n",
            "mean(s) 0.20595978541099966\n",
            "mean(n) 0.2598930412497933\n",
            "mean(t) 0.25897447398064444\n",
            "DCDR 0.47368421052631576\n",
            "ACDR 0.21368989205103042\n",
            "drishtiGS_093\n",
            "I-distance 0.23448780495535948\n",
            "S-distance 0.20595978541099966\n",
            "@@@@@@@@@@@@@@@@@@@@@@@@@@@@@@@@@@@@@@@@@@@@@@@@@@@@@@@@@@@@@@@@@@@@@@@@@@@\n",
            "cup_area: 1064.5\n",
            "cup_diameter 42\n",
            "disk_area 2520.0\n",
            "disk_diameter 62\n",
            "disk_area 2520.0\n",
            "disk_diameter 62\n",
            "123 154\n",
            "2520\n",
            "122 153\n"
          ]
        },
        {
          "output_type": "stream",
          "name": "stderr",
          "text": [
            "\r 48%|████▊     | 10/21 [00:02<00:02,  3.96it/s]"
          ]
        },
        {
          "output_type": "stream",
          "name": "stdout",
          "text": [
            "Rtimax = 14.052098049260248\n",
            "Rtsmax = 13.575863479981228\n",
            "Rttmax = 15.89300903602038\n",
            "Rtnmax = 14.295670579125451\n",
            "mean(i) 0.1561344227695583\n",
            "mean(s) 0.15084292755534703\n",
            "mean(n) 0.1570952810892907\n",
            "mean(t) 0.1765889892891154\n",
            "DCDR 0.6774193548387096\n",
            "ACDR 0.4224206349206349\n",
            "drishtiGS_006\n",
            "I-distance 0.1561344227695583\n",
            "S-distance 0.15084292755534703\n",
            "@@@@@@@@@@@@@@@@@@@@@@@@@@@@@@@@@@@@@@@@@@@@@@@@@@@@@@@@@@@@@@@@@@@@@@@@@@@\n",
            "cup_area: 1279.0\n",
            "cup_diameter 46\n",
            "disk_area 1938.5\n",
            "disk_diameter 56\n",
            "disk_area 1938.5\n",
            "disk_diameter 56\n",
            "111 136\n",
            "1938\n",
            "111 136\n"
          ]
        },
        {
          "output_type": "stream",
          "name": "stderr",
          "text": [
            "\r 52%|█████▏    | 11/21 [00:02<00:02,  3.96it/s]"
          ]
        },
        {
          "output_type": "stream",
          "name": "stdout",
          "text": [
            "Rtimax = 7.631087686738807\n",
            "Rtsmax = 7.471260030616073\n",
            "Rttmax = 8.337537049228635\n",
            "Rtnmax = 7.381095447475225\n",
            "mean(i) 0.08478986318598676\n",
            "mean(s) 0.0830140003401786\n",
            "mean(n) 0.08111093898324422\n",
            "mean(t) 0.09263930054698478\n",
            "DCDR 0.8214285714285714\n",
            "ACDR 0.6597884962599948\n",
            "drishtiGS_021\n",
            "I-distance 0.08478986318598676\n",
            "S-distance 0.0830140003401786\n",
            "@@@@@@@@@@@@@@@@@@@@@@@@@@@@@@@@@@@@@@@@@@@@@@@@@@@@@@@@@@@@@@@@@@@@@@@@@@@\n",
            "cup_area: 372.0\n",
            "cup_diameter 25\n",
            "disk_area 1516.5\n",
            "disk_diameter 51\n",
            "disk_area 1516.5\n",
            "disk_diameter 51\n",
            "120 148\n",
            "1516\n",
            "118 146\n"
          ]
        },
        {
          "output_type": "stream",
          "name": "stderr",
          "text": [
            "\r 57%|█████▋    | 12/21 [00:03<00:02,  3.99it/s]"
          ]
        },
        {
          "output_type": "stream",
          "name": "stdout",
          "text": [
            "Rtimax = 18.150688051451603\n",
            "Rtsmax = 16.465732777806306\n",
            "Rttmax = 20.252709236753883\n",
            "Rtnmax = 22.791095690356382\n",
            "mean(i) 0.20167431168279568\n",
            "mean(s) 0.18295258642007015\n",
            "mean(n) 0.2504516009929273\n",
            "mean(t) 0.22503010263059872\n",
            "DCDR 0.49019607843137253\n",
            "ACDR 0.24530168150346193\n",
            "drishtiGS_094\n",
            "I-distance 0.20167431168279568\n",
            "S-distance 0.18295258642007015\n",
            "@@@@@@@@@@@@@@@@@@@@@@@@@@@@@@@@@@@@@@@@@@@@@@@@@@@@@@@@@@@@@@@@@@@@@@@@@@@\n",
            "cup_area: 1987.0\n",
            "cup_diameter 60\n",
            "disk_area 3054.5\n",
            "disk_diameter 74\n",
            "disk_area 3054.5\n",
            "disk_diameter 74\n",
            "130 128\n",
            "3054\n",
            "131 128\n"
          ]
        },
        {
          "output_type": "stream",
          "name": "stderr",
          "text": [
            "\r 62%|██████▏   | 13/21 [00:03<00:01,  4.01it/s]"
          ]
        },
        {
          "output_type": "stream",
          "name": "stdout",
          "text": [
            "Rtimax = 6.0859172157442485\n",
            "Rtsmax = 7.084622764789132\n",
            "Rttmax = 7.69495269941254\n",
            "Rtnmax = 8.633210782492748\n",
            "mean(i) 0.0676213023971583\n",
            "mean(s) 0.07871803071987925\n",
            "mean(n) 0.094870448159261\n",
            "mean(t) 0.08549947443791714\n",
            "DCDR 0.8108108108108109\n",
            "ACDR 0.6505156326731053\n",
            "drishtiGS_001\n",
            "I-distance 0.0676213023971583\n",
            "S-distance 0.07871803071987925\n",
            "@@@@@@@@@@@@@@@@@@@@@@@@@@@@@@@@@@@@@@@@@@@@@@@@@@@@@@@@@@@@@@@@@@@@@@@@@@@\n",
            "cup_area: 1158.5\n",
            "cup_diameter 45\n",
            "disk_area 1988.0\n",
            "disk_diameter 59\n",
            "disk_area 1988.0\n",
            "disk_diameter 59\n",
            "121 136\n",
            "1988\n",
            "122 133\n"
          ]
        },
        {
          "output_type": "stream",
          "name": "stderr",
          "text": [
            "\r 67%|██████▋   | 14/21 [00:03<00:01,  3.99it/s]"
          ]
        },
        {
          "output_type": "stream",
          "name": "stdout",
          "text": [
            "Rtimax = 8.478498495156925\n",
            "Rtsmax = 8.110979349479425\n",
            "Rttmax = 9.665428136802777\n",
            "Rtnmax = 9.979897349277577\n",
            "mean(i) 0.09420553883507694\n",
            "mean(s) 0.0901219927719936\n",
            "mean(n) 0.10966920164041292\n",
            "mean(t) 0.10739364596447527\n",
            "DCDR 0.7627118644067796\n",
            "ACDR 0.5827464788732394\n",
            "drishtiGS_030\n",
            "I-distance 0.09420553883507694\n",
            "S-distance 0.0901219927719936\n",
            "@@@@@@@@@@@@@@@@@@@@@@@@@@@@@@@@@@@@@@@@@@@@@@@@@@@@@@@@@@@@@@@@@@@@@@@@@@@\n",
            "cup_area: 356.5\n",
            "cup_diameter 25\n",
            "disk_area 1573.5\n",
            "disk_diameter 50\n",
            "disk_area 1573.5\n",
            "disk_diameter 50\n",
            "141 142\n",
            "1573\n",
            "142 141\n"
          ]
        },
        {
          "output_type": "stream",
          "name": "stderr",
          "text": [
            "\r 71%|███████▏  | 15/21 [00:03<00:01,  3.98it/s]"
          ]
        },
        {
          "output_type": "stream",
          "name": "stdout",
          "text": [
            "Rtimax = 19.66286108837273\n",
            "Rtsmax = 18.9905132458016\n",
            "Rttmax = 21.652836104877967\n",
            "Rtnmax = 23.825185206443688\n",
            "mean(i) 0.2184762343152526\n",
            "mean(s) 0.21100570273112892\n",
            "mean(n) 0.26181522204883184\n",
            "mean(t) 0.24058706783197736\n",
            "DCDR 0.5\n",
            "ACDR 0.2265649825230378\n",
            "drishtiGS_095\n",
            "I-distance 0.2184762343152526\n",
            "S-distance 0.21100570273112892\n",
            "@@@@@@@@@@@@@@@@@@@@@@@@@@@@@@@@@@@@@@@@@@@@@@@@@@@@@@@@@@@@@@@@@@@@@@@@@@@\n",
            "cup_area: 1919.0\n",
            "cup_diameter 58\n",
            "disk_area 2786.0\n",
            "disk_diameter 68\n",
            "disk_area 2786.0\n",
            "disk_diameter 68\n",
            "123 132\n",
            "2786\n",
            "122 131\n"
          ]
        },
        {
          "output_type": "stream",
          "name": "stderr",
          "text": [
            "\r 76%|███████▌  | 16/21 [00:04<00:01,  3.94it/s]"
          ]
        },
        {
          "output_type": "stream",
          "name": "stdout",
          "text": [
            "Rtimax = 6.274799774879676\n",
            "Rtsmax = 7.809282312630587\n",
            "Rttmax = 7.193852832440822\n",
            "Rtnmax = 6.205426974916886\n",
            "mean(i) 0.0697199974986631\n",
            "mean(s) 0.0867698034736732\n",
            "mean(n) 0.06819150521886688\n",
            "mean(t) 0.07993169813823134\n",
            "DCDR 0.8529411764705882\n",
            "ACDR 0.6888011486001435\n",
            "drishtiGS_019\n",
            "I-distance 0.0697199974986631\n",
            "S-distance 0.0867698034736732\n",
            "@@@@@@@@@@@@@@@@@@@@@@@@@@@@@@@@@@@@@@@@@@@@@@@@@@@@@@@@@@@@@@@@@@@@@@@@@@@\n",
            "cup_area: 524.5\n",
            "cup_diameter 30\n",
            "disk_area 1878.0\n",
            "disk_diameter 55\n",
            "disk_area 1878.0\n",
            "disk_diameter 55\n",
            "111 125\n",
            "1878\n",
            "111 126\n"
          ]
        },
        {
          "output_type": "stream",
          "name": "stderr",
          "text": [
            "\r 81%|████████  | 17/21 [00:04<00:01,  3.94it/s]"
          ]
        },
        {
          "output_type": "stream",
          "name": "stdout",
          "text": [
            "Rtimax = 17.929174815451553\n",
            "Rtsmax = 17.033923540781753\n",
            "Rttmax = 20.017791812093993\n",
            "Rtnmax = 20.55941728938475\n",
            "mean(i) 0.1992130535050173\n",
            "mean(s) 0.18926581711979715\n",
            "mean(n) 0.22592766252071148\n",
            "mean(t) 0.22241990902326647\n",
            "DCDR 0.5454545454545454\n",
            "ACDR 0.27928647497337594\n",
            "drishtiGS_009\n",
            "I-distance 0.1992130535050173\n",
            "S-distance 0.18926581711979715\n",
            "@@@@@@@@@@@@@@@@@@@@@@@@@@@@@@@@@@@@@@@@@@@@@@@@@@@@@@@@@@@@@@@@@@@@@@@@@@@\n",
            "cup_area: 826.5\n",
            "cup_diameter 44\n",
            "disk_area 1744.0\n",
            "disk_diameter 62\n",
            "disk_area 1744.0\n",
            "disk_diameter 62\n",
            "165 127\n",
            "1744\n",
            "167 129\n"
          ]
        },
        {
          "output_type": "stream",
          "name": "stderr",
          "text": [
            "\r 86%|████████▌ | 18/21 [00:04<00:00,  3.97it/s]"
          ]
        },
        {
          "output_type": "stream",
          "name": "stdout",
          "text": [
            "Rtimax = 8.461623741389444\n",
            "Rtsmax = 10.19318105983765\n",
            "Rttmax = 11.787302070442347\n",
            "Rtnmax = 12.17473615288088\n",
            "mean(i) 0.09401804157099378\n",
            "mean(s) 0.11325756733152939\n",
            "mean(n) 0.1337883093723174\n",
            "mean(t) 0.13097002300491503\n",
            "DCDR 0.7096774193548387\n",
            "ACDR 0.4739105504587156\n",
            "drishtiGS_013\n",
            "I-distance 0.09401804157099378\n",
            "S-distance 0.11325756733152939\n",
            "@@@@@@@@@@@@@@@@@@@@@@@@@@@@@@@@@@@@@@@@@@@@@@@@@@@@@@@@@@@@@@@@@@@@@@@@@@@\n",
            "cup_area: 1223.5\n",
            "cup_diameter 50\n",
            "disk_area 1691.0\n",
            "disk_diameter 57\n",
            "disk_area 1691.0\n",
            "disk_diameter 57\n",
            "137 115\n",
            "1691\n",
            "137 115\n"
          ]
        },
        {
          "output_type": "stream",
          "name": "stderr",
          "text": [
            "\r 90%|█████████ | 19/21 [00:04<00:00,  3.98it/s]"
          ]
        },
        {
          "output_type": "stream",
          "name": "stdout",
          "text": [
            "Rtimax = 4.37813178992875\n",
            "Rtsmax = 4.6581293327221545\n",
            "Rttmax = 6.5430586546694345\n",
            "Rtnmax = 6.25910268000362\n",
            "mean(i) 0.04864590877698611\n",
            "mean(s) 0.05175699258580172\n",
            "mean(n) 0.06878134813190798\n",
            "mean(t) 0.07270065171854925\n",
            "DCDR 0.8771929824561403\n",
            "ACDR 0.7235363690124187\n",
            "drishtiGS_025\n",
            "I-distance 0.04864590877698611\n",
            "S-distance 0.05175699258580172\n",
            "@@@@@@@@@@@@@@@@@@@@@@@@@@@@@@@@@@@@@@@@@@@@@@@@@@@@@@@@@@@@@@@@@@@@@@@@@@@\n",
            "cup_area: 904.5\n",
            "cup_diameter 38\n",
            "disk_area 2402.0\n",
            "disk_diameter 62\n",
            "disk_area 2402.0\n",
            "disk_diameter 62\n",
            "102 143\n",
            "2402\n",
            "103 142\n"
          ]
        },
        {
          "output_type": "stream",
          "name": "stderr",
          "text": [
            "\r 95%|█████████▌| 20/21 [00:05<00:00,  4.01it/s]"
          ]
        },
        {
          "output_type": "stream",
          "name": "stdout",
          "text": [
            "Rtimax = 14.713034385603455\n",
            "Rtsmax = 13.96117007692151\n",
            "Rttmax = 15.316929388457527\n",
            "Rtnmax = 17.159148412445525\n",
            "mean(i) 0.16347815984003833\n",
            "mean(s) 0.15512411196579454\n",
            "mean(n) 0.18856207046643436\n",
            "mean(t) 0.17018810431619472\n",
            "DCDR 0.6129032258064516\n",
            "ACDR 0.3765611990008326\n",
            "drishtiGS_098\n",
            "I-distance 0.16347815984003833\n",
            "S-distance 0.15512411196579454\n",
            "@@@@@@@@@@@@@@@@@@@@@@@@@@@@@@@@@@@@@@@@@@@@@@@@@@@@@@@@@@@@@@@@@@@@@@@@@@@\n",
            "cup_area: 1076.5\n",
            "cup_diameter 43\n",
            "disk_area 1579.0\n",
            "disk_diameter 52\n",
            "disk_area 1579.0\n",
            "disk_diameter 52\n",
            "115 134\n",
            "1579\n",
            "116 134\n"
          ]
        },
        {
          "output_type": "stream",
          "name": "stderr",
          "text": [
            "100%|██████████| 21/21 [00:05<00:00,  3.97it/s]"
          ]
        },
        {
          "output_type": "stream",
          "name": "stdout",
          "text": [
            "Rtimax = 5.518815804512246\n",
            "Rtsmax = 6.09241201333485\n",
            "Rttmax = 6.893823124412758\n",
            "Rtnmax = 8.18624262654887\n",
            "mean(i) 0.06132017560569163\n",
            "mean(s) 0.06769346681483167\n",
            "mean(n) 0.08995871018185572\n",
            "mean(t) 0.07659803471569736\n",
            "DCDR 0.8269230769230769\n",
            "ACDR 0.681760607979734\n",
            "drishtiGS_011\n",
            "I-distance 0.06132017560569163\n",
            "S-distance 0.06769346681483167\n"
          ]
        },
        {
          "output_type": "stream",
          "name": "stderr",
          "text": [
            "\n"
          ]
        }
      ]
    },
    {
      "cell_type": "code",
      "metadata": {
        "id": "fEA7mNNT-Rrl"
      },
      "source": [
        ""
      ],
      "execution_count": null,
      "outputs": []
    },
    {
      "cell_type": "markdown",
      "metadata": {
        "id": "v8b7JvRkXQ4p"
      },
      "source": [
        "# Predicted Dataset Features Extraction"
      ]
    },
    {
      "cell_type": "code",
      "metadata": {
        "id": "LxrTNswf-Sxr",
        "colab": {
          "base_uri": "https://localhost:8080/"
        },
        "outputId": "2e238d83-ed06-4d94-e023-bb1d4e12ecfa"
      },
      "source": [
        "# MAIN FUNCTION\n",
        "\n",
        "import pandas as pd\n",
        "\n",
        "CDR = []\n",
        "VAL = []\n",
        "count = 0\n",
        "\n",
        "folder_pred_y1 = \"/content/drive/MyDrive/Project(Final)/Segmentation/Cup/Results_Cup/results/Segmented Cup/\"\n",
        "pred_y1 = os.listdir(folder_pred_y1)\n",
        "pred_y1.sort(key = len)\n",
        "\n",
        "folder_pred_y2 = \"/content/drive/MyDrive/Project(Final)/Segmentation/Disc/results_disc/content/results/segmented disc/\"\n",
        "pred_y2 = os.listdir(folder_pred_y2)\n",
        "pred_y2.sort(key = len)\n",
        "\n",
        "\n",
        "#create_dir(\"results\")\n",
        "SCORE_PRED = []\n",
        "\n",
        "for x, y in tqdm(zip(pred_y1, pred_y2), total=len(pred_y1)):\n",
        "    \"\"\" Extracting names \"\"\"\n",
        "    name = x.split(\"/\")[-1].split(\".\")[0]\n",
        "    disc = cv2.imread(folder_pred_y2+y,0)\n",
        "    disc = cv2.resize(disc,(256,256), interpolation = cv2.INTER_NEAREST)\n",
        "    #disc = cv2.cvtColor(disc, cv2.COLOR_RGB2GRAY)\n",
        "    cup = cv2.imread(folder_pred_y1+x,0)\n",
        "    cup = cv2.resize(cup,(256,256), interpolation = cv2.INTER_NEAREST)\n",
        "    print(cup.shape)\n",
        "    #cup = cv2.resize(cup,(256,256), interpolation = cv2.INTER_NEAREST)\n",
        "    #cup = cv2.cvtColor(cup, cv2.COLOR_RGB2GRAY)\n",
        "    print(\"@@@@@@@@@@@@@@@@@@@@@@@@@@@@@@@@@@@@@@@@@@@@@@@@@@@@@@@@@@@@@@@@@@@@@@@@@@@\")\n",
        "    dcdr_cal, acdr_cal, cup_d, disc_d, cup_a, disc_a = cdr(cup,disc,False)\n",
        "    dd = disk_diameter(disc,False)\n",
        "    i, s = notch(cup,disc,False,dd)\n",
        "    print(\"DCDR\", dcdr_cal)\n",
        "    print(\"ACDR\", acdr_cal)\n",
        "    print(name)\n",
        "    print(\"I-distance\", i)\n",
        "    print(\"S-distance\", s)\n",
        "\n",
        "    Name = name\n",
        "    ACDR = acdr_cal\n",
        "    DCDR = dcdr_cal\n",
        "    cup_diameter = cup_d\n",
        "    disc_diameter = disc_d\n",
        "    cup_area = cup_a\n",
        "    disc_area = disc_a\n",
        "    i_distance = i\n",
        "    s_distance = s\n",
        "    SCORE_PRED.append([Name, ACDR, DCDR, cup_diameter, disc_diameter, cup_area, disc_area, i_distance, s_distance])\n",
        "\n",
        "    count = count + 1\n",
        "\n",
        "    SCORE_PRED.sort(reverse=False)\n",
        "    df = pd.DataFrame(SCORE_PRED, columns=[\"Name\", \"ACDR\", \"DCDR\", \"Cup diameter\", \"Disc diameter\", \"Cup area\", \"Disc area\", \"I distance\", \"S distance\"])\n",
        "    df.to_csv(\"results/extracted_features_pred.csv\")"
      ],
      "execution_count": 63,
      "outputs": [
        {
          "output_type": "stream",
          "name": "stderr",
          "text": [
            "\r  0%|          | 0/20 [00:00<?, ?it/s]"
          ]
        },
        {
          "output_type": "stream",
          "name": "stdout",
          "text": [
            "(256, 256)\n",
            "@@@@@@@@@@@@@@@@@@@@@@@@@@@@@@@@@@@@@@@@@@@@@@@@@@@@@@@@@@@@@@@@@@@@@@@@@@@\n",
            "cup_area: 380.0\n",
            "cup_diameter 26\n",
            "disk_area 1533.5\n",
            "disk_diameter 50\n",
            "disk_area 1533.5\n",
            "disk_diameter 50\n",
            "120 148\n",
            "1533\n",
            "119 147\n"
          ]
        },
        {
          "output_type": "stream",
          "name": "stderr",
          "text": [
            "\r  5%|▌         | 1/20 [00:00<00:05,  3.67it/s]"
          ]
        },
        {
          "output_type": "stream",
          "name": "stdout",
          "text": [
            "Rtimax = 16.856046563388507\n",
            "Rtsmax = 18.76393844602118\n",
            "Rttmax = 21.93834761246273\n",
            "Rtnmax = 22.38661415509089\n",
            "mean(i) 0.18728940625987234\n",
            "mean(s) 0.2084882049557909\n",
            "mean(n) 0.24600674895704266\n",
            "mean(t) 0.24375941791625272\n",
            "DCDR 0.52\n",
            "ACDR 0.24779915226605803\n",
            "drishtiGS_094\n",
            "I-distance 0.18728940625987234\n",
            "S-distance 0.2084882049557909\n",
            "(256, 256)\n",
            "@@@@@@@@@@@@@@@@@@@@@@@@@@@@@@@@@@@@@@@@@@@@@@@@@@@@@@@@@@@@@@@@@@@@@@@@@@@\n",
            "cup_area: 919.0\n",
            "cup_diameter 38\n",
            "disk_area 2427.0\n",
            "disk_diameter 62\n",
            "disk_area 2427.0\n",
            "disk_diameter 62\n",
            "103 143\n",
            "2427\n",
            "104 143\n"
          ]
        },
        {
          "output_type": "stream",
          "name": "stderr",
          "text": [
            "\r 10%|█         | 2/20 [00:00<00:04,  3.60it/s]"
          ]
        },
        {
          "output_type": "stream",
          "name": "stdout",
          "text": [
            "Rtimax = 15.120355289462788\n",
            "Rtsmax = 14.257476601217235\n",
            "Rttmax = 16.696418234194788\n",
            "Rtnmax = 16.039690085388237\n",
            "mean(i) 0.1680039476606977\n",
            "mean(s) 0.1584164066801916\n",
            "mean(n) 0.17626033060866184\n",
            "mean(t) 0.18551575815771967\n",
            "DCDR 0.6129032258064516\n",
            "ACDR 0.37865677791512153\n",
            "drishtiGS_098\n",
            "I-distance 0.1680039476606977\n",
            "S-distance 0.1584164066801916\n",
            "(256, 256)\n",
            "@@@@@@@@@@@@@@@@@@@@@@@@@@@@@@@@@@@@@@@@@@@@@@@@@@@@@@@@@@@@@@@@@@@@@@@@@@@\n",
            "cup_area: 365.5\n",
            "cup_diameter 26\n",
            "disk_area 1598.5\n",
            "disk_diameter 51\n",
            "disk_area 1598.5\n",
            "disk_diameter 51\n",
            "142 142\n",
            "1598\n",
            "143 142\n"
          ]
        },
        {
          "output_type": "stream",
          "name": "stderr",
          "text": [
            "\r 15%|█▌        | 3/20 [00:00<00:04,  3.52it/s]"
          ]
        },
        {
          "output_type": "stream",
          "name": "stdout",
          "text": [
            "Rtimax = 18.932928948133444\n",
            "Rtsmax = 19.493438049679728\n",
            "Rttmax = 22.76115568537503\n",
            "Rtnmax = 22.29083058429642\n",
            "mean(i) 0.21036587720148273\n",
            "mean(s) 0.21659375610755255\n",
            "mean(n) 0.24495418224501564\n",
            "mean(t) 0.2529017298375004\n",
            "DCDR 0.5098039215686274\n",
            "ACDR 0.22865186111979982\n",
            "drishtiGS_095\n",
            "I-distance 0.21036587720148273\n",
            "S-distance 0.21659375610755255\n",
            "(256, 256)\n",
            "@@@@@@@@@@@@@@@@@@@@@@@@@@@@@@@@@@@@@@@@@@@@@@@@@@@@@@@@@@@@@@@@@@@@@@@@@@@\n",
            "cup_area: 365.0\n",
            "cup_diameter 26\n",
            "disk_area 1643.0\n",
            "disk_diameter 52\n",
            "disk_area 1643.0\n",
            "disk_diameter 52\n",
            "129 169\n",
            "1643\n",
            "127 165\n"
          ]
        },
        {
          "output_type": "stream",
          "name": "stderr",
          "text": [
            "\r 20%|██        | 4/20 [00:01<00:04,  3.59it/s]"
          ]
        },
        {
          "output_type": "stream",
          "name": "stdout",
          "text": [
            "Rtimax = 18.550335060278822\n",
            "Rtsmax = 20.964149996817216\n",
            "Rttmax = 24.025569091390185\n",
            "Rtnmax = 22.304404023890786\n",
            "mean(i) 0.20611483400309802\n",
            "mean(s) 0.23293499996463582\n",
            "mean(n) 0.24510334092187683\n",
            "mean(t) 0.26695076768211295\n",
            "DCDR 0.5\n",
            "ACDR 0.22215459525258674\n",
            "drishtiGS_096\n",
            "I-distance 0.20611483400309802\n",
            "S-distance 0.23293499996463582\n",
            "(256, 256)\n",
            "@@@@@@@@@@@@@@@@@@@@@@@@@@@@@@@@@@@@@@@@@@@@@@@@@@@@@@@@@@@@@@@@@@@@@@@@@@@\n",
            "cup_area: 441.0\n",
            "cup_diameter 27\n",
            "disk_area 2061.5\n",
            "disk_diameter 57\n",
            "disk_area 2061.5\n",
            "disk_diameter 57\n",
            "130 139\n",
            "2061\n",
            "129 135\n"
          ]
        },
        {
          "output_type": "stream",
          "name": "stderr",
          "text": [
            "\r 25%|██▌       | 5/20 [00:01<00:04,  3.59it/s]"
          ]
        },
        {
          "output_type": "stream",
          "name": "stdout",
          "text": [
            "Rtimax = 19.852530722883852\n",
            "Rtsmax = 20.26858581596107\n",
            "Rttmax = 23.375710151724174\n",
            "Rtnmax = 23.553148916014436\n",
            "mean(i) 0.2205836746987095\n",
            "mean(s) 0.2252065090662342\n",
            "mean(n) 0.25882581226389484\n",
            "mean(t) 0.2597301127969355\n",
            "DCDR 0.47368421052631576\n",
            "ACDR 0.21392190152801357\n",
            "drishtiGS_093\n",
            "I-distance 0.2205836746987095\n",
            "S-distance 0.2252065090662342\n",
            "(256, 256)\n",
            "@@@@@@@@@@@@@@@@@@@@@@@@@@@@@@@@@@@@@@@@@@@@@@@@@@@@@@@@@@@@@@@@@@@@@@@@@@@\n",
            "cup_area: 1648.0\n",
            "cup_diameter 56\n",
            "disk_area 2878.0\n",
            "disk_diameter 71\n",
            "disk_area 2878.0\n",
            "disk_diameter 71\n",
            "134 129\n",
            "2878\n",
            "131 128\n"
          ]
        },
        {
          "output_type": "stream",
          "name": "stderr",
          "text": [
            "\r 30%|███       | 6/20 [00:01<00:03,  3.64it/s]"
          ]
        },
        {
          "output_type": "stream",
          "name": "stdout",
          "text": [
            "Rtimax = 9.211797928411771\n",
            "Rtsmax = 9.386838308876817\n",
            "Rttmax = 10.277023080133022\n",
            "Rtnmax = 9.337842974075683\n",
            "mean(i) 0.10235331031568631\n",
            "mean(s) 0.10429820343196466\n",
            "mean(n) 0.10261365905577681\n",
            "mean(t) 0.11418914533481136\n",
            "DCDR 0.7887323943661971\n",
            "ACDR 0.5726198749131342\n",
            "drishtiGS_007\n",
            "I-distance 0.10235331031568631\n",
            "S-distance 0.10429820343196466\n",
            "(256, 256)\n",
            "@@@@@@@@@@@@@@@@@@@@@@@@@@@@@@@@@@@@@@@@@@@@@@@@@@@@@@@@@@@@@@@@@@@@@@@@@@@\n",
            "cup_area: 1230.5\n",
            "cup_diameter 49\n",
            "disk_area 1786.5\n",
            "disk_diameter 53\n",
            "disk_area 1786.5\n",
            "disk_diameter 53\n",
            "117 133\n",
            "0\n",
            "0 0\n",
            "\n",
            "\n",
            "\n",
            "\n",
            "\n",
            "\n",
            "\n",
            "\n",
            "\n",
            "\n",
            "\n",
            "\n",
            "\n",
            "\n",
            "\n",
            "\n",
            "\n",
            "\n",
            "\n",
            "\n",
            "\n",
            "\n",
            "\n",
            "\n",
            "\n",
            "\n",
            "\n",
            "\n",
            "\n",
            "\n",
            "\n",
            "\n",
            "\n",
            "\n",
            "\n",
            "\n",
            "\n",
            "\n",
            "\n",
            "\n",
            "\n",
            "\n",
            "\n",
            "\n",
            "\n",
            "\n",
            "\n",
            "\n",
            "\n",
            "\n",
            "\n",
            "\n",
            "\n",
            "\n",
            "\n",
            "\n",
            "\n",
            "\n",
            "\n",
            "\n",
            "\n",
            "\n",
            "\n",
            "\n",
            "\n",
            "\n",
            "\n",
            "\n",
            "\n",
            "\n",
            "\n",
            "\n",
            "\n",
            "\n",
            "\n",
            "\n",
            "\n",
            "\n",
            "\n",
            "\n",
            "\n",
            "\n",
            "\n",
            "\n",
            "\n",
            "\n",
            "\n",
            "\n",
            "\n",
            "\n",
            "\n",
            "\n",
            "\n",
            "\n",
            "\n",
            "\n",
            "\n",
            "\n",
            "\n",
            "\n",
            "\n",
            "\n",
            "\n",
            "\n",
            "\n",
            "\n",
            "\n",
            "\n",
            "\n",
            "\n",
            "\n",
            "\n",
            "\n",
            "\n",
            "\n",
            "\n",
            "\n",
            "\n",
            "\n",
            "\n",
            "\n",
            "\n",
            "\n",
            "\n",
            "\n",
            "\n",
            "\n",
            "\n",
            "\n",
            "\n",
            "\n",
            "\n",
            "\n",
            "\n",
            "\n",
            "\n",
            "\n",
            "\n",
            "\n",
            "\n",
            "\n",
            "\n",
            "\n",
            "\n",
            "\n",
            "\n",
            "\n",
            "\n",
            "\n",
            "\n",
            "\n",
            "\n",
            "\n",
            "\n",
            "\n",
            "\n",
            "\n",
            "\n",
            "\n",
            "\n",
            "\n",
            "\n",
            "\n",
            "\n",
            "\n",
            "\n",
            "\n",
            "\n",
            "\n",
            "\n",
            "\n",
            "\n",
            "\n",
            "\n",
            "\n",
            "\n",
            "\n",
            "\n",
            "\n",
            "\n",
            "\n",
            "\n",
            "\n",
            "\n",
            "\n",
            "\n",
            "\n",
            "\n",
            "\n",
            "\n",
            "\n",
            "\n",
            "\n",
            "\n",
            "\n",
            "\n",
            "\n",
            "\n",
            "\n",
            "\n",
            "\n",
            "\n",
            "\n",
            "\n",
            "\n",
            "\n",
            "\n",
            "\n",
            "\n",
            "\n",
            "\n",
            "\n",
            "\n",
            "\n",
            "\n",
            "\n",
            "\n",
            "\n",
            "\n",
            "\n",
            "\n",
            "\n",
            "\n",
            "\n",
            "\n",
            "\n",
            "\n",
            "\n",
            "\n",
            "\n",
            "\n",
            "\n",
            "\n",
            "\n",
            "\n",
            "\n",
            "\n",
            "\n",
            "\n",
            "\n",
            "\n",
            "\n",
            "\n",
            "\n",
            "\n",
            "\n",
            "\n",
            "\n",
            "\n",
            "\n",
            "\n",
            "\n",
            "\n",
            "\n",
            "\n",
            "\n",
            "\n",
            "\n",
            "\n",
            "\n",
            "\n",
            "\n",
            "\n",
            "\n",
            "\n",
            "\n",
            "\n",
            "\n",
            "\n",
            "\n",
            "\n",
            "\n",
            "\n",
            "\n",
            "\n",
            "\n",
            "\n",
            "\n",
            "\n",
            "\n",
            "\n",
            "\n",
            "\n",
            "\n",
            "\n",
            "\n",
            "\n",
            "\n",
            "\n",
            "\n",
            "\n",
            "\n",
            "\n",
            "\n",
            "\n",
            "\n",
            "\n",
            "\n",
            "\n",
            "\n",
            "\n",
            "\n",
            "\n",
            "\n",
            "\n",
            "\n",
            "\n",
            "\n",
            "\n",
            "\n",
            "\n",
            "\n",
            "\n",
            "\n",
            "\n",
            "\n",
            "\n",
            "\n",
            "\n",
            "\n",
            "\n",
            "\n",
            "\n",
            "\n",
            "\n",
            "\n",
            "\n",
            "\n",
            "\n",
            "\n",
            "\n",
            "\n",
            "\n",
            "\n",
            "\n",
            "\n",
            "\n",
            "\n",
            "\n",
            "\n"
          ]
        },
        {
          "output_type": "stream",
          "name": "stderr",
          "text": [
            "\r 35%|███▌      | 7/20 [00:02<00:04,  3.07it/s]"
          ]
        },
        {
          "output_type": "stream",
          "name": "stdout",
          "text": [
            "\n",
            "\n",
            "\n",
            "\n",
            "\n",
            "\n",
            "\n",
            "\n",
            "\n",
            "\n",
            "\n",
            "\n",
            "\n",
            "\n",
            "\n",
            "\n",
            "\n",
            "\n",
            "\n",
            "\n",
            "\n",
            "Rtimax = 0\n",
            "Rtsmax = 0\n",
            "Rttmax = 0\n",
            "Rtnmax = 0\n",
            "mean(i) 0\n",
            "mean(s) 0\n",
            "mean(n) 0\n",
            "mean(t) 0\n",
            "DCDR 0.9245283018867925\n",
            "ACDR 0.6887769381472152\n",
            "drishtiGS_011\n",
            "I-distance 0\n",
            "S-distance 0\n",
            "(256, 256)\n",
            "@@@@@@@@@@@@@@@@@@@@@@@@@@@@@@@@@@@@@@@@@@@@@@@@@@@@@@@@@@@@@@@@@@@@@@@@@@@\n",
            "cup_area: 1833.5\n",
            "cup_diameter 58\n",
            "disk_area 2439.5\n",
            "disk_diameter 59\n",
            "disk_area 2439.5\n",
            "disk_diameter 59\n",
            "131 127\n",
            "2439\n",
            "122 153\n"
          ]
        },
        {
          "output_type": "stream",
          "name": "stderr",
          "text": [
            "\r 40%|████      | 8/20 [00:02<00:03,  3.27it/s]"
          ]
        },
        {
          "output_type": "stream",
          "name": "stdout",
          "text": [
            "Rtimax = 8.52360168043735\n",
            "Rtsmax = 8.022782400409865\n",
            "Rttmax = 2.6185231273134204\n",
            "Rtnmax = 4.745658973251018\n",
            "mean(i) 0.09470668533819282\n",
            "mean(s) 0.08914202667122073\n",
            "mean(n) 0.05215009860715404\n",
            "mean(t) 0.029094701414593558\n",
            "DCDR 0.9830508474576272\n",
            "ACDR 0.7515884402541504\n",
            "drishtiGS_001\n",
            "I-distance 0.09470668533819282\n",
            "S-distance 0.08914202667122073\n",
            "(256, 256)\n",
            "@@@@@@@@@@@@@@@@@@@@@@@@@@@@@@@@@@@@@@@@@@@@@@@@@@@@@@@@@@@@@@@@@@@@@@@@@@@\n",
            "cup_area: 1811.5\n",
            "cup_diameter 55\n",
            "disk_area 2527.0\n",
            "disk_diameter 62\n",
            "disk_area 2527.0\n",
            "disk_diameter 62\n",
            "123 135\n",
            "2527\n",
            "129 128\n"
          ]
        },
        {
          "output_type": "stream",
          "name": "stderr",
          "text": [
            "\r 45%|████▌     | 9/20 [00:02<00:03,  3.42it/s]"
          ]
        },
        {
          "output_type": "stream",
          "name": "stdout",
          "text": [
            "Rtimax = 7.3303080481824106\n",
            "Rtsmax = 7.512910929266453\n",
            "Rttmax = 4.826890781510402\n",
            "Rtnmax = 6.3935130374136016\n",
            "mean(i) 0.08144786720202682\n",
            "mean(s) 0.08347678810296062\n",
            "mean(n) 0.07025838502652308\n",
            "mean(t) 0.05363211979456005\n",
            "DCDR 0.8870967741935484\n",
            "ACDR 0.7168579343094579\n",
            "drishtiGS_019\n",
            "I-distance 0.08144786720202682\n",
            "S-distance 0.08347678810296062\n",
            "(256, 256)\n",
            "@@@@@@@@@@@@@@@@@@@@@@@@@@@@@@@@@@@@@@@@@@@@@@@@@@@@@@@@@@@@@@@@@@@@@@@@@@@\n",
            "cup_area: 1566.5\n",
            "cup_diameter 52\n",
            "disk_area 1796.0\n",
            "disk_diameter 54\n",
            "disk_area 1796.0\n",
            "disk_diameter 54\n",
            "123 128\n",
            "1796\n",
            "112 126\n"
          ]
        },
        {
          "output_type": "stream",
          "name": "stderr",
          "text": [
            "\r 50%|█████     | 10/20 [00:02<00:02,  3.50it/s]"
          ]
        },
        {
          "output_type": "stream",
          "name": "stdout",
          "text": [
            "Rtimax = 2.411952459885731\n",
            "Rtsmax = 4.3357585641204555\n",
            "Rttmax = 0.929014029785987\n",
            "Rtnmax = 2.651899892005168\n",
            "mean(i) 0.026799471776508134\n",
            "mean(s) 0.048175095156893936\n",
            "mean(n) 0.02914175705500184\n",
            "mean(t) 0.010322378108733194\n",
            "DCDR 0.9629629629629629\n",
            "ACDR 0.8722160356347439\n",
            "drishtiGS_034\n",
            "I-distance 0.026799471776508134\n",
            "S-distance 0.048175095156893936\n",
            "(256, 256)\n",
            "@@@@@@@@@@@@@@@@@@@@@@@@@@@@@@@@@@@@@@@@@@@@@@@@@@@@@@@@@@@@@@@@@@@@@@@@@@@\n",
            "cup_area: 1258.5\n",
            "cup_diameter 48\n",
            "disk_area 1439.5\n",
            "disk_diameter 52\n",
            "disk_area 1439.5\n",
            "disk_diameter 52\n",
            "125 139\n",
            "1439\n",
            "165 127\n"
          ]
        },
        {
          "output_type": "stream",
          "name": "stderr",
          "text": [
            "\r 55%|█████▌    | 11/20 [00:03<00:02,  3.62it/s]"
          ]
        },
        {
          "output_type": "stream",
          "name": "stdout",
          "text": [
            "Rtimax = 3.5954906529111432\n",
            "Rtsmax = 4.235760726976239\n",
            "Rttmax = 3.460206731969497\n",
            "Rtnmax = 0.37308232540345093\n",
            "mean(i) 0.039949896143457155\n",
            "mean(s) 0.04706400807751377\n",
            "mean(n) 0.004099805773664295\n",
            "mean(t) 0.03844674146632771\n",
            "DCDR 0.9230769230769231\n",
            "ACDR 0.8742618964918375\n",
            "drishtiGS_028\n",
            "I-distance 0.039949896143457155\n",
            "S-distance 0.04706400807751377\n",
            "(256, 256)\n",
            "@@@@@@@@@@@@@@@@@@@@@@@@@@@@@@@@@@@@@@@@@@@@@@@@@@@@@@@@@@@@@@@@@@@@@@@@@@@\n",
            "cup_area: 1522.0\n",
            "cup_diameter 57\n",
            "disk_area 1522.0\n",
            "disk_diameter 50\n",
            "disk_area 1522.0\n",
            "disk_diameter 50\n",
            "137 116\n",
            "1522\n",
            "117 135\n"
          ]
        },
        {
          "output_type": "stream",
          "name": "stderr",
          "text": [
            "\r 60%|██████    | 12/20 [00:03<00:02,  3.71it/s]"
          ]
        },
        {
          "output_type": "stream",
          "name": "stdout",
          "text": [
            "Rtimax = 2.231076393267919\n",
            "Rtsmax = 3.8123596484305997\n",
            "Rttmax = -2.243836710475704\n",
            "Rtnmax = -1.387407590490572\n",
            "mean(i) 0.024789737702976877\n",
            "mean(s) 0.04235955164922889\n",
            "mean(n) -0.015246237258138149\n",
            "mean(t) -0.02493151900528563\n",
            "DCDR 1.14\n",
            "ACDR 1.0\n",
            "drishtiGS_025\n",
            "I-distance 0.024789737702976877\n",
            "S-distance 0.04235955164922889\n",
            "(256, 256)\n",
            "@@@@@@@@@@@@@@@@@@@@@@@@@@@@@@@@@@@@@@@@@@@@@@@@@@@@@@@@@@@@@@@@@@@@@@@@@@@\n",
            "cup_area: 1657.0\n",
            "cup_diameter 54\n",
            "disk_area 2064.5\n",
            "disk_diameter 60\n",
            "disk_area 2064.5\n",
            "disk_diameter 60\n",
            "115 125\n",
            "2064\n",
            "114 127\n"
          ]
        },
        {
          "output_type": "stream",
          "name": "stderr",
          "text": [
            "\r 65%|██████▌   | 13/20 [00:03<00:01,  3.74it/s]"
          ]
        },
        {
          "output_type": "stream",
          "name": "stdout",
          "text": [
            "Rtimax = 4.580789169941388\n",
            "Rtsmax = 2.88262635431653\n",
            "Rttmax = 4.293570621412993\n",
            "Rtnmax = 4.5777009858674225\n",
            "mean(i) 0.050897657443793216\n",
            "mean(s) 0.03202918171462811\n",
            "mean(n) 0.05030440643810359\n",
            "mean(t) 0.04770634023792214\n",
            "DCDR 0.9\n",
            "ACDR 0.80261564543473\n",
            "drishtiGS_014\n",
            "I-distance 0.050897657443793216\n",
            "S-distance 0.03202918171462811\n",
            "(256, 256)\n",
            "@@@@@@@@@@@@@@@@@@@@@@@@@@@@@@@@@@@@@@@@@@@@@@@@@@@@@@@@@@@@@@@@@@@@@@@@@@@\n",
            "cup_area: 1347.0\n",
            "cup_diameter 47\n",
            "disk_area 2913.5\n",
            "disk_diameter 70\n",
            "disk_area 2913.5\n",
            "disk_diameter 70\n",
            "112 126\n",
            "2913\n",
            "122 131\n"
          ]
        },
        {
          "output_type": "stream",
          "name": "stderr",
          "text": [
            "\r 70%|███████   | 14/20 [00:03<00:01,  3.75it/s]"
          ]
        },
        {
          "output_type": "stream",
          "name": "stdout",
          "text": [
            "Rtimax = 11.60515117143646\n",
            "Rtsmax = 10.235091983301484\n",
            "Rttmax = 13.454398339659683\n",
            "Rtnmax = 14.457272324089717\n",
            "mean(i) 0.12894612412707177\n",
            "mean(s) 0.11372324425890538\n",
            "mean(n) 0.1588711244405464\n",
            "mean(t) 0.14949331488510761\n",
            "DCDR 0.6714285714285714\n",
            "ACDR 0.4623305302900292\n",
            "drishtiGS_009\n",
            "I-distance 0.12894612412707177\n",
            "S-distance 0.11372324425890538\n",
            "(256, 256)\n",
            "@@@@@@@@@@@@@@@@@@@@@@@@@@@@@@@@@@@@@@@@@@@@@@@@@@@@@@@@@@@@@@@@@@@@@@@@@@@\n",
            "cup_area: 1401.5\n",
            "cup_diameter 48\n",
            "disk_area 1983.5\n",
            "disk_diameter 58\n",
            "disk_area 1983.5\n",
            "disk_diameter 58\n",
            "120 152\n",
            "1983\n",
            "112 137\n"
          ]
        },
        {
          "output_type": "stream",
          "name": "stderr",
          "text": [
            "\r 75%|███████▌  | 15/20 [00:04<00:01,  3.79it/s]"
          ]
        },
        {
          "output_type": "stream",
          "name": "stdout",
          "text": [
            "Rtimax = 4.891984216487686\n",
            "Rtsmax = 4.907485282558891\n",
            "Rttmax = 7.542638133959382\n",
            "Rtnmax = 7.189813861116903\n",
            "mean(i) 0.05435538018319653\n",
            "mean(s) 0.054527614250654374\n",
            "mean(n) 0.07900894352875716\n",
            "mean(t) 0.08380709037732642\n",
            "DCDR 0.8275862068965517\n",
            "ACDR 0.7065792790521805\n",
            "drishtiGS_006\n",
            "I-distance 0.05435538018319653\n",
            "S-distance 0.054527614250654374\n",
            "(256, 256)\n",
            "@@@@@@@@@@@@@@@@@@@@@@@@@@@@@@@@@@@@@@@@@@@@@@@@@@@@@@@@@@@@@@@@@@@@@@@@@@@\n",
            "cup_area: 1704.0\n",
            "cup_diameter 57\n",
            "disk_area 2247.5\n",
            "disk_diameter 60\n",
            "disk_area 2247.5\n",
            "disk_diameter 60\n",
            "114 133\n",
            "2247\n",
            "124 133\n"
          ]
        },
        {
          "output_type": "stream",
          "name": "stderr",
          "text": [
            "\r 80%|████████  | 16/20 [00:04<00:01,  3.71it/s]"
          ]
        },
        {
          "output_type": "stream",
          "name": "stdout",
          "text": [
            "Rtimax = 7.922717494213554\n",
            "Rtsmax = 4.837898775960911\n",
            "Rttmax = 2.900455935545123\n",
            "Rtnmax = 5.630226980402391\n",
            "mean(i) 0.08803019438015063\n",
            "mean(s) 0.053754430844010145\n",
            "mean(n) 0.061870626158268015\n",
            "mean(t) 0.032227288172723606\n",
            "DCDR 0.95\n",
            "ACDR 0.7581757508342603\n",
            "drishtiGS_021\n",
            "I-distance 0.08803019438015063\n",
            "S-distance 0.053754430844010145\n",
            "(256, 256)\n",
            "@@@@@@@@@@@@@@@@@@@@@@@@@@@@@@@@@@@@@@@@@@@@@@@@@@@@@@@@@@@@@@@@@@@@@@@@@@@\n",
            "cup_area: 1513.0\n",
            "cup_diameter 52\n",
            "disk_area 1785.5\n",
            "disk_diameter 59\n",
            "disk_area 1785.5\n",
            "disk_diameter 59\n",
            "122 134\n",
            "1785\n",
            "137 115\n"
          ]
        },
        {
          "output_type": "stream",
          "name": "stderr",
          "text": [
            "\r 85%|████████▌ | 17/20 [00:04<00:00,  3.74it/s]"
          ]
        },
        {
          "output_type": "stream",
          "name": "stdout",
          "text": [
            "Rtimax = 0.7631816547329968\n",
            "Rtsmax = 0.9429580721880827\n",
            "Rttmax = 5.4987964769315525\n",
            "Rtnmax = 3.6492229820695976\n",
            "mean(i) 0.008479796163699963\n",
            "mean(s) 0.010477311913200926\n",
            "mean(n) 0.04010135145131428\n",
            "mean(t) 0.06109773863257282\n",
            "DCDR 0.8813559322033898\n",
            "ACDR 0.8473816858022962\n",
            "drishtiGS_030\n",
            "I-distance 0.008479796163699963\n",
            "S-distance 0.010477311913200926\n",
            "(256, 256)\n",
            "@@@@@@@@@@@@@@@@@@@@@@@@@@@@@@@@@@@@@@@@@@@@@@@@@@@@@@@@@@@@@@@@@@@@@@@@@@@\n",
            "cup_area: 1380.5\n",
            "cup_diameter 49\n",
            "disk_area 1989.0\n",
            "disk_diameter 59\n",
            "disk_area 1989.0\n",
            "disk_diameter 59\n",
            "114 136\n",
            "1989\n",
            "122 133\n"
          ]
        },
        {
          "output_type": "stream",
          "name": "stderr",
          "text": [
            "\r 90%|█████████ | 18/20 [00:04<00:00,  3.78it/s]"
          ]
        },
        {
          "output_type": "stream",
          "name": "stdout",
          "text": [
            "Rtimax = 5.478122299495033\n",
            "Rtsmax = 4.337019549986079\n",
            "Rttmax = 7.519474084686375\n",
            "Rtnmax = 7.884113031274604\n",
            "mean(i) 0.060868025549944846\n",
            "mean(s) 0.048189106110956455\n",
            "mean(n) 0.08663860473928135\n",
            "mean(t) 0.08354971205207086\n",
            "DCDR 0.8305084745762712\n",
            "ACDR 0.6940673705379587\n",
            "drishtiGS_003\n",
            "I-distance 0.060868025549944846\n",
            "S-distance 0.048189106110956455\n",
            "(256, 256)\n",
            "@@@@@@@@@@@@@@@@@@@@@@@@@@@@@@@@@@@@@@@@@@@@@@@@@@@@@@@@@@@@@@@@@@@@@@@@@@@\n",
            "cup_area: 1772.0\n",
            "cup_diameter 54\n",
            "disk_area 1529.5\n",
            "disk_diameter 51\n",
            "disk_area 1529.5\n",
            "disk_diameter 51\n",
            "125 132\n",
            "1529\n",
            "124 141\n"
          ]
        },
        {
          "output_type": "stream",
          "name": "stderr",
          "text": [
            "\r 95%|█████████▌| 19/20 [00:05<00:00,  3.82it/s]"
          ]
        },
        {
          "output_type": "stream",
          "name": "stdout",
          "text": [
            "Rtimax = -1.09476804541778\n",
            "Rtsmax = -4.661214971039846\n",
            "Rttmax = -2.7875054215908617\n",
            "Rtnmax = -3.0558990107546835\n",
            "mean(i) -0.012164089393530897\n",
            "mean(s) -0.051791277455998305\n",
            "mean(n) -0.03358130781049105\n",
            "mean(t) -0.030972282462120717\n",
            "DCDR 1.0588235294117647\n",
            "ACDR 1.158548545276234\n",
            "drishtiGS_020\n",
            "I-distance -0.012164089393530897\n",
            "S-distance -0.051791277455998305\n",
            "(256, 256)\n",
            "@@@@@@@@@@@@@@@@@@@@@@@@@@@@@@@@@@@@@@@@@@@@@@@@@@@@@@@@@@@@@@@@@@@@@@@@@@@\n",
            "cup_area: 1073.5\n",
            "cup_diameter 44\n",
            "disk_area 2069.0\n",
            "disk_diameter 60\n",
            "disk_area 2069.0\n",
            "disk_diameter 60\n",
            "166 128\n",
            "2069\n",
            "123 128\n"
          ]
        },
        {
          "output_type": "stream",
          "name": "stderr",
          "text": [
            "100%|██████████| 20/20 [00:05<00:00,  3.64it/s]"
          ]
        },
        {
          "output_type": "stream",
          "name": "stdout",
          "text": [
            "Rtimax = 10.153131560183345\n",
            "Rtsmax = 9.201738979832536\n",
            "Rttmax = 11.73109039669587\n",
            "Rtnmax = 11.693361924269835\n",
            "mean(i) 0.11281257289092608\n",
            "mean(s) 0.10224154422036148\n",
            "mean(n) 0.12849848268428402\n",
            "mean(t) 0.1303454488521765\n",
            "DCDR 0.7333333333333333\n",
            "ACDR 0.5188496858385694\n",
            "drishtiGS_013\n",
            "I-distance 0.11281257289092608\n",
            "S-distance 0.10224154422036148\n"
          ]
        },
        {
          "output_type": "stream",
          "name": "stderr",
          "text": [
            "\n"
          ]
        }
      ]
    },
    {
      "cell_type": "markdown",
      "metadata": {
        "id": "Q10-edZIZPMH"
      },
      "source": [
        "# X_train"
      ]
    },
    {
      "cell_type": "code",
      "metadata": {
        "id": "azzsq_dTlB-z"
      },
      "source": [
        "# Importing the libraries\n",
        "import numpy as np\n",
        "import matplotlib.pyplot as plt\n",
        "import pandas as pd"
      ],
      "execution_count": 64,
      "outputs": []
    },
    {
      "cell_type": "code",
      "metadata": {
        "colab": {
          "base_uri": "https://localhost:8080/"
        },
        "id": "HluymPFplUEV",
        "outputId": "bcd6f1bb-e810-4537-c5ad-aba48cb37653"
      },
      "source": [
        "# Importing the dataset\n",
        "dataset = pd.read_csv('/content/results/extracted_features_train.csv')\n",
        "X_train = dataset.iloc[:, [2, 3, 4, 5, 6, 7, 8, 9]].values\n",
        "print(X_train)\n"
      ],
      "execution_count": 65,
      "outputs": [
        {
          "output_type": "stream",
          "name": "stdout",
          "text": [
            "[[5.73057733e-01 8.08510638e-01 3.80000000e+01 4.70000000e+01\n",
            "  8.04000000e+02 1.40300000e+03 1.07299110e-01 1.12310834e-01]\n",
            " [6.59272405e-01 8.26923077e-01 4.30000000e+01 5.20000000e+01\n",
            "  1.11450000e+03 1.69050000e+03 7.94287832e-02 8.57898703e-02]\n",
            " [3.35081585e-01 5.96153846e-01 3.10000000e+01 5.20000000e+01\n",
            "  5.75000000e+02 1.71600000e+03 1.67084763e-01 1.81544401e-01]\n",
            " [7.70623742e-01 8.87096774e-01 5.50000000e+01 6.20000000e+01\n",
            "  1.72350000e+03 2.23650000e+03 4.37295165e-02 6.28842007e-02]\n",
            " [7.57688723e-01 8.67924528e-01 4.60000000e+01 5.30000000e+01\n",
            "  1.21950000e+03 1.60950000e+03 6.12536602e-02 4.21481025e-02]\n",
            " [7.23741794e-01 9.24528302e-01 4.90000000e+01 5.30000000e+01\n",
            "  1.32300000e+03 1.82800000e+03 7.23758966e-02 8.64532759e-02]\n",
            " [7.05164319e-01 9.03846154e-01 4.70000000e+01 5.20000000e+01\n",
            "  1.12650000e+03 1.59750000e+03 9.25267778e-02 6.76601491e-02]\n",
            " [3.56485604e-01 5.84905660e-01 3.10000000e+01 5.30000000e+01\n",
            "  6.00500000e+02 1.68450000e+03 1.46905143e-01 1.67988054e-01]\n",
            " [3.63940407e-01 5.84905660e-01 3.10000000e+01 5.30000000e+01\n",
            "  5.98500000e+02 1.64450000e+03 1.55577838e-01 1.48663395e-01]\n",
            " [4.94740533e-01 7.08333333e-01 3.40000000e+01 4.80000000e+01\n",
            "  7.05500000e+02 1.42600000e+03 1.29105501e-01 1.24271601e-01]\n",
            " [6.31457030e-01 7.65625000e-01 4.90000000e+01 6.40000000e+01\n",
            "  1.36300000e+03 2.15850000e+03 7.72744567e-02 6.51009258e-02]\n",
            " [7.73186410e-01 9.03846154e-01 4.70000000e+01 5.20000000e+01\n",
            "  1.26300000e+03 1.63350000e+03 5.04876188e-02 6.10601473e-02]\n",
            " [5.12492192e-01 7.45454545e-01 4.10000000e+01 5.50000000e+01\n",
            "  8.20500000e+02 1.60100000e+03 1.22002286e-01 9.35900356e-02]\n",
            " [5.46077939e-01 7.06666667e-01 5.30000000e+01 7.50000000e+01\n",
            "  1.63250000e+03 2.98950000e+03 7.37644332e-02 9.88298724e-02]\n",
            " [6.45941921e-01 8.28571429e-01 5.80000000e+01 7.00000000e+01\n",
            "  1.73500000e+03 2.68600000e+03 9.42917307e-02 6.30135429e-02]\n",
            " [6.17602041e-01 7.63636364e-01 4.20000000e+01 5.50000000e+01\n",
            "  1.21050000e+03 1.96000000e+03 7.84586854e-02 9.18185867e-02]\n",
            " [5.28434505e-01 7.25806452e-01 4.50000000e+01 6.20000000e+01\n",
            "  1.24050000e+03 2.34750000e+03 1.09746758e-01 1.13889637e-01]\n",
            " [5.31832988e-01 7.50000000e-01 3.90000000e+01 5.20000000e+01\n",
            "  8.98000000e+02 1.68850000e+03 1.19704708e-01 1.23348303e-01]\n",
            " [4.51484542e-01 7.05882353e-01 3.60000000e+01 5.10000000e+01\n",
            "  7.37500000e+02 1.63350000e+03 1.30697433e-01 1.49382617e-01]\n",
            " [6.88508315e-01 8.64406780e-01 5.10000000e+01 5.90000000e+01\n",
            "  1.38700000e+03 2.01450000e+03 6.41852400e-02 6.81357140e-02]\n",
            " [3.83378623e-01 6.10169492e-01 3.60000000e+01 5.90000000e+01\n",
            "  8.46500000e+02 2.20800000e+03 1.52981016e-01 1.65817927e-01]\n",
            " [2.75098084e-01 5.08474576e-01 3.00000000e+01 5.90000000e+01\n",
            "  5.96000000e+02 2.16650000e+03 1.98313045e-01 1.91084467e-01]\n",
            " [6.25683847e-01 8.30188679e-01 4.40000000e+01 5.30000000e+01\n",
            "  1.08650000e+03 1.73650000e+03 9.86777915e-02 9.20832132e-02]\n",
            " [6.03143960e-01 8.14814815e-01 4.40000000e+01 5.40000000e+01\n",
            "  1.09350000e+03 1.81300000e+03 1.11522380e-01 8.47562274e-02]\n",
            " [3.63431877e-01 6.00000000e-01 3.00000000e+01 5.00000000e+01\n",
            "  5.65500000e+02 1.55600000e+03 1.74870082e-01 1.57858230e-01]\n",
            " [3.00494042e-01 5.37037037e-01 2.90000000e+01 5.40000000e+01\n",
            "  5.17000000e+02 1.72050000e+03 1.72411495e-01 1.86353355e-01]\n",
            " [2.58756706e-01 5.29411765e-01 2.70000000e+01 5.10000000e+01\n",
            "  4.10000000e+02 1.58450000e+03 2.05363550e-01 2.09837938e-01]\n",
            " [4.89176652e-01 7.65625000e-01 4.90000000e+01 6.40000000e+01\n",
            "  1.26550000e+03 2.58700000e+03 1.46930025e-01 1.30108436e-01]\n",
            " [5.50231481e-01 7.62711864e-01 4.50000000e+01 5.90000000e+01\n",
            "  1.18850000e+03 2.16000000e+03 1.04518091e-01 1.22348861e-01]\n",
            " [5.78110086e-01 7.73584906e-01 4.10000000e+01 5.30000000e+01\n",
            "  9.08500000e+02 1.57150000e+03 8.03946225e-02 1.04782304e-01]\n",
            " [6.30975769e-01 7.88461538e-01 4.10000000e+01 5.20000000e+01\n",
            "  9.63500000e+02 1.52700000e+03 8.10547051e-02 7.80454966e-02]\n",
            " [5.81510082e-01 7.86885246e-01 4.80000000e+01 6.10000000e+01\n",
            "  1.35550000e+03 2.33100000e+03 1.08108102e-01 1.02021398e-01]\n",
            " [6.12118430e-01 8.13559322e-01 4.80000000e+01 5.90000000e+01\n",
            "  1.33350000e+03 2.17850000e+03 9.79751062e-02 1.08207441e-01]\n",
            " [5.98518519e-01 7.95918367e-01 3.90000000e+01 4.90000000e+01\n",
            "  8.08000000e+02 1.35000000e+03 9.67349693e-02 8.65920730e-02]\n",
            " [6.86661405e-01 8.51063830e-01 4.00000000e+01 4.70000000e+01\n",
            "  8.70000000e+02 1.26700000e+03 6.45659064e-02 7.47559411e-02]\n",
            " [2.44405183e-01 5.00000000e-01 2.60000000e+01 5.20000000e+01\n",
            "  4.15000000e+02 1.69800000e+03 2.17274872e-01 2.07858875e-01]\n",
            " [4.29716194e-01 7.20000000e-01 3.60000000e+01 5.00000000e+01\n",
            "  6.43500000e+02 1.49750000e+03 1.71840588e-01 1.41442505e-01]\n",
            " [6.18620476e-01 8.62745098e-01 4.40000000e+01 5.10000000e+01\n",
            "  1.00000000e+03 1.61650000e+03 9.07102223e-02 1.11897254e-01]\n",
            " [5.77342657e-01 8.14814815e-01 4.40000000e+01 5.40000000e+01\n",
            "  1.03200000e+03 1.78750000e+03 1.14245528e-01 9.37437517e-02]\n",
            " [6.93803159e-01 8.62068966e-01 5.00000000e+01 5.80000000e+01\n",
            "  1.42750000e+03 2.05750000e+03 6.67128458e-02 8.20688060e-02]\n",
            " [6.11605860e-01 8.50000000e-01 5.10000000e+01 6.00000000e+01\n",
            "  1.06450000e+03 1.74050000e+03 9.07830865e-02 7.77579131e-02]\n",
            " [5.44003648e-01 7.45762712e-01 4.40000000e+01 5.90000000e+01\n",
            "  1.19300000e+03 2.19300000e+03 1.27207862e-01 1.04268802e-01]\n",
            " [5.97424103e-01 7.76119403e-01 5.20000000e+01 6.70000000e+01\n",
            "  1.62350000e+03 2.71750000e+03 8.34112719e-02 9.41773103e-02]\n",
            " [6.66362392e-01 8.43750000e-01 5.40000000e+01 6.40000000e+01\n",
            "  1.46000000e+03 2.19100000e+03 7.28885521e-02 6.10473741e-02]\n",
            " [6.60615229e-01 8.30508475e-01 4.90000000e+01 5.90000000e+01\n",
            "  1.31000000e+03 1.98300000e+03 7.82641370e-02 7.69270791e-02]\n",
            " [5.43718871e-01 7.50000000e-01 4.20000000e+01 5.60000000e+01\n",
            "  9.82500000e+02 1.80700000e+03 1.00673181e-01 9.65836069e-02]\n",
            " [4.60455593e-01 7.27272727e-01 4.00000000e+01 5.50000000e+01\n",
            "  8.99500000e+02 1.95350000e+03 1.49837055e-01 1.38264424e-01]\n",
            " [6.03799895e-01 7.53623188e-01 5.20000000e+01 6.90000000e+01\n",
            "  1.73200000e+03 2.86850000e+03 9.01767556e-02 8.71676658e-02]\n",
            " [6.80377493e-01 7.94117647e-01 5.40000000e+01 6.80000000e+01\n",
            "  1.91050000e+03 2.80800000e+03 6.64851211e-02 6.61945780e-02]\n",
            " [6.61238655e-01 8.64406780e-01 5.10000000e+01 5.90000000e+01\n",
            "  1.23850000e+03 1.87300000e+03 7.73128665e-02 9.31495016e-02]\n",
            " [5.69169960e-01 7.93103448e-01 4.60000000e+01 5.80000000e+01\n",
            "  1.08000000e+03 1.89750000e+03 1.00864855e-01 8.20294150e-02]\n",
            " [3.53020496e-01 6.11111111e-01 3.30000000e+01 5.40000000e+01\n",
            "  6.54500000e+02 1.85400000e+03 1.76054332e-01 1.71055746e-01]\n",
            " [6.61315789e-01 8.75000000e-01 4.90000000e+01 5.60000000e+01\n",
            "  1.25650000e+03 1.90000000e+03 8.47284529e-02 7.81686952e-02]\n",
            " [7.16260163e-01 8.33333333e-01 4.50000000e+01 5.40000000e+01\n",
            "  1.32150000e+03 1.84500000e+03 6.35990235e-02 6.69104116e-02]\n",
            " [5.11557789e-01 7.23076923e-01 4.70000000e+01 6.50000000e+01\n",
            "  1.01800000e+03 1.99000000e+03 1.03981692e-01 7.55208576e-02]\n",
            " [7.74947905e-01 8.68852459e-01 5.30000000e+01 6.10000000e+01\n",
            "  1.67350000e+03 2.15950000e+03 5.27382637e-02 4.67763572e-02]\n",
            " [6.08801956e-01 7.58064516e-01 4.70000000e+01 6.20000000e+01\n",
            "  1.36950000e+03 2.24950000e+03 7.76721277e-02 7.95453012e-02]\n",
            " [3.80526173e-01 6.25000000e-01 3.50000000e+01 5.60000000e+01\n",
            "  7.01500000e+02 1.84350000e+03 1.44222453e-01 1.65285337e-01]\n",
            " [6.52230629e-01 8.36363636e-01 4.60000000e+01 5.50000000e+01\n",
            "  1.25000000e+03 1.91650000e+03 7.93884157e-02 8.74349190e-02]\n",
            " [6.15154110e-01 7.77777778e-01 4.90000000e+01 6.30000000e+01\n",
            "  1.43700000e+03 2.33600000e+03 7.47810367e-02 7.59337593e-02]\n",
            " [6.34424313e-01 8.67924528e-01 4.60000000e+01 5.30000000e+01\n",
            "  1.08550000e+03 1.71100000e+03 7.70708436e-02 1.01250119e-01]\n",
            " [5.98071625e-01 8.36363636e-01 4.60000000e+01 5.50000000e+01\n",
            "  1.08550000e+03 1.81500000e+03 1.03879951e-01 1.02824502e-01]\n",
            " [5.84356197e-01 7.71929825e-01 4.40000000e+01 5.70000000e+01\n",
            "  1.21400000e+03 2.07750000e+03 9.82549311e-02 1.05372683e-01]\n",
            " [6.54862715e-01 8.18181818e-01 4.50000000e+01 5.50000000e+01\n",
            "  1.27600000e+03 1.94850000e+03 7.48398370e-02 9.67228955e-02]\n",
            " [6.18564006e-01 7.96610169e-01 4.70000000e+01 5.90000000e+01\n",
            "  1.30950000e+03 2.11700000e+03 9.83901248e-02 7.32299289e-02]\n",
            " [6.74550830e-01 8.66666667e-01 5.20000000e+01 6.00000000e+01\n",
            "  1.48300000e+03 2.19850000e+03 9.74912851e-02 6.92002414e-02]\n",
            " [6.13838645e-01 8.14814815e-01 4.40000000e+01 5.40000000e+01\n",
            "  1.06900000e+03 1.74150000e+03 8.15804393e-02 9.44285172e-02]\n",
            " [3.26684799e-01 5.96153846e-01 3.10000000e+01 5.20000000e+01\n",
            "  5.40500000e+02 1.65450000e+03 1.79617449e-01 1.85762450e-01]\n",
            " [2.07688053e-01 4.64285714e-01 2.60000000e+01 5.60000000e+01\n",
            "  3.75500000e+02 1.80800000e+03 1.86944033e-01 2.17961465e-01]\n",
            " [2.14038819e-01 4.38596491e-01 2.50000000e+01 5.70000000e+01\n",
            "  4.02500000e+02 1.88050000e+03 2.00172128e-01 2.11537039e-01]\n",
            " [2.48524590e-01 5.10204082e-01 2.50000000e+01 4.90000000e+01\n",
            "  3.79000000e+02 1.52500000e+03 2.16832661e-01 2.02210658e-01]\n",
            " [2.71213323e-01 5.08771930e-01 2.90000000e+01 5.70000000e+01\n",
            "  5.13000000e+02 1.89150000e+03 2.02723914e-01 1.69959087e-01]\n",
            " [2.13689892e-01 4.73684211e-01 2.70000000e+01 5.70000000e+01\n",
            "  4.35500000e+02 2.03800000e+03 2.34487805e-01 2.05959785e-01]\n",
            " [2.45301682e-01 4.90196078e-01 2.50000000e+01 5.10000000e+01\n",
            "  3.72000000e+02 1.51650000e+03 2.01674312e-01 1.82952586e-01]\n",
            " [2.26564983e-01 5.00000000e-01 2.50000000e+01 5.00000000e+01\n",
            "  3.56500000e+02 1.57350000e+03 2.18476234e-01 2.11005703e-01]\n",
            " [2.20006137e-01 5.00000000e-01 2.60000000e+01 5.20000000e+01\n",
            "  3.58500000e+02 1.62950000e+03 2.21277093e-01 2.10844055e-01]\n",
            " [3.76561199e-01 6.12903226e-01 3.80000000e+01 6.20000000e+01\n",
            "  9.04500000e+02 2.40200000e+03 1.63478160e-01 1.55124112e-01]\n",
            " [3.85011810e-01 6.12903226e-01 3.80000000e+01 6.20000000e+01\n",
            "  8.96500000e+02 2.32850000e+03 1.70902762e-01 1.37216279e-01]\n",
            " [1.23718161e-01 3.60000000e-01 1.80000000e+01 5.00000000e+01\n",
            "  1.87000000e+02 1.51150000e+03 2.66420770e-01 2.67255808e-01]]\n"
          ]
        }
      ]
    },
    {
      "cell_type": "code",
      "metadata": {
        "id": "hnAJspSLvgx8"
      },
      "source": [
        ""
      ],
      "execution_count": null,
      "outputs": []
    },
    {
      "cell_type": "markdown",
      "metadata": {
        "id": "rclLeCCaZYcW"
      },
      "source": [
        "# Y_train (Labels)"
      ]
    },
    {
      "cell_type": "code",
      "metadata": {
        "id": "Q6QnQxOVnH03"
      },
      "source": [
        "from scipy import signal\n",
        "import cv2\n",
        "import sys\n",
        "import pandas as pd\n",
        "\n",
        "from sklearn.linear_model import LogisticRegression\n",
        "from sklearn.metrics import f1_score\n",
        "import os\n",
        "import xlrd \n",
        "import math\n",
        "from pylab import*\n",
        "from scipy import signal\n",
        "import numpy as np\n",
        "from matplotlib import pyplot as plt\n",
        "from skimage.feature import greycomatrix, greycoprops\n",
        "from skimage import data"
      ],
      "execution_count": 66,
      "outputs": []
    },
    {
      "cell_type": "code",
      "metadata": {
        "colab": {
          "base_uri": "https://localhost:8080/"
        },
        "id": "UE_7qCS7nLof",
        "outputId": "7dfc8ade-cd9c-4134-c8b3-5e6a84111332"
      },
      "source": [
        "wb = xlrd.open_workbook(\"/content/drive/MyDrive/Drishti/Drishti-GS1_diagnosis.xlsx\") \n",
        "sheet = wb.sheet_by_index(0) \n",
        "row_count = sheet.nrows\n",
        "col_count = sheet.ncols\n",
        "print(row_count)\n",
        "print(col_count)"
      ],
      "execution_count": 67,
      "outputs": [
        {
          "output_type": "stream",
          "name": "stdout",
          "text": [
            "80\n",
            "9\n"
          ]
        }
      ]
    },
    {
      "cell_type": "code",
      "metadata": {
        "id": "TctrTop33gLu",
        "colab": {
          "base_uri": "https://localhost:8080/"
        },
        "outputId": "674b748f-588a-429c-8aca-f2787bb51f79"
      },
      "source": [
        "CELL = []\n",
        "Val=0\n",
        "for cur_row in range(1, row_count):\n",
        "        cell1 = sheet.cell(cur_row, 1)\n",
        "        cell2 = sheet.cell(cur_row, 8)\n",
        "        if (cell2.value == 'Glaucomatous'):\n",
        "              Val = 1\n",
        "        else:\n",
        "              Val = 0\n",
        "        print(cell1.value)\n",
        "        print(cell2.value)\n",
        "        print(Val)\n",
        "        Name = cell1.value\n",
        "        Total = cell2.value\n",
        "        Class = Val\n",
        "        CELL.append([Name, Total, Class])       \n",
        "\n",
        "CELL.sort(reverse=False)\n",
        "df = pd.DataFrame(CELL, columns=[ \"Name\", \"Total\", \"Class\"])\n",
        "df.to_csv(\"results/Class_train.csv\")  "
      ],
      "execution_count": 68,
      "outputs": [
        {
          "output_type": "stream",
          "name": "stdout",
          "text": [
            "drishtiGS_002\n",
            "Glaucomatous\n",
            "1\n",
            "drishtiGS_004\n",
            "Glaucomatous\n",
            "1\n",
            "drishtiGS_008\n",
            "Normal\n",
            "0\n",
            "drishtiGS_010\n",
            "Glaucomatous\n",
            "1\n",
            "drishtiGS_012\n",
            "Glaucomatous\n",
            "1\n",
            "drishtiGS_015\n",
            "Glaucomatous\n",
            "1\n",
            "drishtiGS_016\n",
            "Glaucomatous\n",
            "1\n",
            "drishtiGS_017\n",
            "Normal\n",
            "0\n",
            "drishtiGS_018\n",
            "Normal\n",
            "0\n",
            "drishtiGS_022\n",
            "Glaucomatous\n",
            "1\n",
            "drishtiGS_024\n",
            "Glaucomatous\n",
            "1\n",
            "drishtiGS_026\n",
            "Glaucomatous\n",
            "1\n",
            "drishtiGS_031\n",
            "Glaucomatous\n",
            "1\n",
            "drishtiGS_032\n",
            "Glaucomatous\n",
            "1\n",
            "drishtiGS_033\n",
            "Normal\n",
            "0\n",
            "drishtiGS_035\n",
            "Normal\n",
            "0\n",
            "drishtiGS_036\n",
            "Normal\n",
            "0\n",
            "drishtiGS_037\n",
            "Normal\n",
            "0\n",
            "drishtiGS_038\n",
            "Glaucomatous\n",
            "1\n",
            "drishtiGS_040\n",
            "Glaucomatous\n",
            "1\n",
            "drishtiGS_041\n",
            "Normal\n",
            "0\n",
            "drishtiGS_042\n",
            "Normal\n",
            "0\n",
            "drishtiGS_043\n",
            "Glaucomatous\n",
            "1\n",
            "drishtiGS_044\n",
            "Glaucomatous\n",
            "1\n",
            "drishtiGS_045\n",
            "Glaucomatous\n",
            "1\n",
            "drishtiGS_046\n",
            "Normal\n",
            "0\n",
            "drishtiGS_047\n",
            "Normal\n",
            "0\n",
            "drishtiGS_048\n",
            "Glaucomatous\n",
            "1\n",
            "drishtiGS_049\n",
            "Glaucomatous\n",
            "1\n",
            "drishtiGS_050\n",
            "Glaucomatous\n",
            "1\n",
            "drishtiGS_051\n",
            "Glaucomatous\n",
            "1\n",
            "drishtiGS_052\n",
            "Glaucomatous\n",
            "1\n",
            "drishtiGS_053\n",
            "Glaucomatous\n",
            "1\n",
            "drishtiGS_054\n",
            "Glaucomatous\n",
            "1\n",
            "drishtiGS_055\n",
            "Glaucomatous\n",
            "1\n",
            "drishtiGS_056\n",
            "Glaucomatous\n",
            "1\n",
            "drishtiGS_057\n",
            "Normal\n",
            "0\n",
            "drishtiGS_058\n",
            "Glaucomatous\n",
            "1\n",
            "drishtiGS_059\n",
            "Glaucomatous\n",
            "1\n",
            "drishtiGS_060\n",
            "Glaucomatous\n",
            "1\n",
            "drishtiGS_061\n",
            "Glaucomatous\n",
            "1\n",
            "drishtiGS_062\n",
            "Glaucomatous\n",
            "1\n",
            "drishtiGS_063\n",
            "Glaucomatous\n",
            "1\n",
            "drishtiGS_064\n",
            "Glaucomatous\n",
            "1\n",
            "drishtiGS_065\n",
            "Glaucomatous\n",
            "1\n",
            "drishtiGS_066\n",
            "Glaucomatous\n",
            "1\n",
            "drishtiGS_067\n",
            "Glaucomatous\n",
            "1\n",
            "drishtiGS_068\n",
            "Glaucomatous\n",
            "1\n",
            "drishtiGS_069\n",
            "Glaucomatous\n",
            "1\n",
            "drishtiGS_070\n",
            "Glaucomatous\n",
            "1\n",
            "drishtiGS_071\n",
            "Glaucomatous\n",
            "1\n",
            "drishtiGS_072\n",
            "Normal\n",
            "0\n",
            "drishtiGS_073\n",
            "Glaucomatous\n",
            "1\n",
            "drishtiGS_074\n",
            "Glaucomatous\n",
            "1\n",
            "drishtiGS_075\n",
            "Glaucomatous\n",
            "1\n",
            "drishtiGS_076\n",
            "Glaucomatous\n",
            "1\n",
            "drishtiGS_077\n",
            "Glaucomatous\n",
            "1\n",
            "drishtiGS_078\n",
            "Normal\n",
            "0\n",
            "drishtiGS_079\n",
            "Glaucomatous\n",
            "1\n",
            "drishtiGS_080\n",
            "Glaucomatous\n",
            "1\n",
            "drishtiGS_081\n",
            "Glaucomatous\n",
            "1\n",
            "drishtiGS_082\n",
            "Glaucomatous\n",
            "1\n",
            "drishtiGS_083\n",
            "Glaucomatous\n",
            "1\n",
            "drishtiGS_084\n",
            "Glaucomatous\n",
            "1\n",
            "drishtiGS_085\n",
            "Normal\n",
            "0\n",
            "drishtiGS_086\n",
            "Glaucomatous\n",
            "1\n",
            "drishtiGS_087\n",
            "Glaucomatous\n",
            "1\n",
            "drishtiGS_088\n",
            "Glaucomatous\n",
            "1\n",
            "drishtiGS_089\n",
            "Normal\n",
            "0\n",
            "drishtiGS_090\n",
            "Normal\n",
            "0\n",
            "drishtiGS_091\n",
            "Normal\n",
            "0\n",
            "drishtiGS_092\n",
            "Normal\n",
            "0\n",
            "drishtiGS_093\n",
            "Normal\n",
            "0\n",
            "drishtiGS_094\n",
            "Normal\n",
            "0\n",
            "drishtiGS_095\n",
            "Normal\n",
            "0\n",
            "drishtiGS_096\n",
            "Normal\n",
            "0\n",
            "drishtiGS_098\n",
            "Normal\n",
            "0\n",
            "drishtiGS_099\n",
            "Normal\n",
            "0\n",
            "drishtiGS_101\n",
            "Normal\n",
            "0\n"
          ]
        }
      ]
    },
    {
      "cell_type": "code",
      "metadata": {
        "colab": {
          "base_uri": "https://localhost:8080/"
        },
        "id": "kR2qkPPLZ-cf",
        "outputId": "75ce6683-8006-4144-e6fa-4603ea963332"
      },
      "source": [
        "# Importing the dataset\n",
        "dataset = pd.read_csv('/content/results/Class_train.csv')\n",
        "Y_train = dataset.iloc[:, [3]].values\n",
        "print(Y_train)"
      ],
      "execution_count": 69,
      "outputs": [
        {
          "output_type": "stream",
          "name": "stdout",
          "text": [
            "[[1]\n",
            " [1]\n",
            " [0]\n",
            " [1]\n",
            " [1]\n",
            " [1]\n",
            " [1]\n",
            " [0]\n",
            " [0]\n",
            " [1]\n",
            " [1]\n",
            " [1]\n",
            " [1]\n",
            " [1]\n",
            " [0]\n",
            " [0]\n",
            " [0]\n",
            " [0]\n",
            " [1]\n",
            " [1]\n",
            " [0]\n",
            " [0]\n",
            " [1]\n",
            " [1]\n",
            " [1]\n",
            " [0]\n",
            " [0]\n",
            " [1]\n",
            " [1]\n",
            " [1]\n",
            " [1]\n",
            " [1]\n",
            " [1]\n",
            " [1]\n",
            " [1]\n",
            " [1]\n",
            " [0]\n",
            " [1]\n",
            " [1]\n",
            " [1]\n",
            " [1]\n",
            " [1]\n",
            " [1]\n",
            " [1]\n",
            " [1]\n",
            " [1]\n",
            " [1]\n",
            " [1]\n",
            " [1]\n",
            " [1]\n",
            " [1]\n",
            " [0]\n",
            " [1]\n",
            " [1]\n",
            " [1]\n",
            " [1]\n",
            " [1]\n",
            " [0]\n",
            " [1]\n",
            " [1]\n",
            " [1]\n",
            " [1]\n",
            " [1]\n",
            " [1]\n",
            " [0]\n",
            " [1]\n",
            " [1]\n",
            " [1]\n",
            " [0]\n",
            " [0]\n",
            " [0]\n",
            " [0]\n",
            " [0]\n",
            " [0]\n",
            " [0]\n",
            " [0]\n",
            " [0]\n",
            " [0]\n",
            " [0]]\n"
          ]
        }
      ]
    },
    {
      "cell_type": "markdown",
      "metadata": {
        "id": "t34FZQx6adwb"
      },
      "source": [
        "# Y_test (Labels for GT)"
      ]
    },
    {
      "cell_type": "code",
      "metadata": {
        "colab": {
          "base_uri": "https://localhost:8080/"
        },
        "id": "PyC8e61a3g3U",
        "outputId": "48e0ff16-6966-458e-9b21-2e00566c1c92"
      },
      "source": [
        "wb = xlrd.open_workbook(\"/content/drive/MyDrive/Drishti/DrishtiGS_diagnosis_test.xlsx\") \n",
        "sheet = wb.sheet_by_index(0) \n",
        "row_count = sheet.nrows\n",
        "col_count = sheet.ncols\n",
        "print(row_count)\n",
        "print(col_count)"
      ],
      "execution_count": 70,
      "outputs": [
        {
          "output_type": "stream",
          "name": "stdout",
          "text": [
            "21\n",
            "9\n"
          ]
        }
      ]
    },
    {
      "cell_type": "code",
      "metadata": {
        "colab": {
          "base_uri": "https://localhost:8080/"
        },
        "id": "jZJBE4jkwcU5",
        "outputId": "68125516-8734-48d2-fd9b-6cf63104751c"
      },
      "source": [
        "CELL = []\n",
        "Val=0\n",
        "for cur_row in range(1, row_count):\n",
        "        cell1 = sheet.cell(cur_row, 1)\n",
        "        cell2 = sheet.cell(cur_row, 8)\n",
        "        if (cell2.value == 'Glaucomatous'):\n",
        "              Val = 1\n",
        "        else:\n",
        "              Val = 0\n",
        "        print(cell1.value)\n",
        "        print(cell2.value)\n",
        "        print(Val)\n",
        "        Name = cell1.value\n",
        "        Total = cell2.value\n",
        "        Class = Val\n",
        "        CELL.append([Name, Total, Class])       \n",
        "\n",
        "CELL.sort(reverse=False)\n",
        "df = pd.DataFrame(CELL, columns=[ \"Name\", \"Total\", \"Class\"])\n",
        "df.to_csv(\"results/Class_test.csv\")     "
      ],
      "execution_count": 71,
      "outputs": [
        {
          "output_type": "stream",
          "name": "stdout",
          "text": [
            "drishtiGS_001\n",
            "Glaucomatous\n",
            "1\n",
            "drishtiGS_003\n",
            "Glaucomatous\n",
            "1\n",
            "drishtiGS_006\n",
            "Glaucomatous\n",
            "1\n",
            "drishtiGS_007\n",
            "Normal\n",
            "0\n",
            "drishtiGS_009\n",
            "Normal\n",
            "0\n",
            "drishtiGS_011\n",
            "Glaucomatous\n",
            "1\n",
            "drishtiGS_013\n",
            "Normal\n",
            "0\n",
            "drishtiGS_014\n",
            "Glaucomatous\n",
            "1\n",
            "drishtiGS_019\n",
            "Glaucomatous\n",
            "1\n",
            "drishtiGS_020\n",
            "Glaucomatous\n",
            "1\n",
            "drishtiGS_021\n",
            "Glaucomatous\n",
            "1\n",
            "drishtiGS_025\n",
            "Glaucomatous\n",
            "1\n",
            "drishtiGS_028\n",
            "Glaucomatous\n",
            "1\n",
            "drishtiGS_030\n",
            "Glaucomatous\n",
            "1\n",
            "drishtiGS_034\n",
            "Glaucomatous\n",
            "1\n",
            "drishtiGS_093\n",
            "Normal\n",
            "0\n",
            "drishtiGS_094\n",
            "Normal\n",
            "0\n",
            "drishtiGS_095\n",
            "Normal\n",
            "0\n",
            "drishtiGS_096\n",
            "Normal\n",
            "0\n",
            "drishtiGS_098\n",
            "Normal\n",
            "0\n"
          ]
        }
      ]
    },
    {
      "cell_type": "code",
      "metadata": {
        "id": "YbTpkbdN3p_C"
      },
      "source": [
        ""
      ],
      "execution_count": null,
      "outputs": []
    },
    {
      "cell_type": "code",
      "metadata": {
        "colab": {
          "base_uri": "https://localhost:8080/"
        },
        "id": "L216WmSHz53U",
        "outputId": "d82dc1b5-6eb3-4621-bae6-5279c0cbf04a"
      },
      "source": [
        "# Importing the dataset\n",
        "dataset = pd.read_csv('/content/results/Class_test.csv')\n",
        "Y_test = dataset.iloc[:, [3]].values\n",
        "print(Y_test)\n",
        "print(Y_test.shape)"
      ],
      "execution_count": 72,
      "outputs": [
        {
          "output_type": "stream",
          "name": "stdout",
          "text": [
            "[[1]\n",
            " [1]\n",
            " [1]\n",
            " [0]\n",
            " [0]\n",
            " [1]\n",
            " [0]\n",
            " [1]\n",
            " [1]\n",
            " [1]\n",
            " [1]\n",
            " [1]\n",
            " [1]\n",
            " [1]\n",
            " [1]\n",
            " [0]\n",
            " [0]\n",
            " [0]\n",
            " [0]\n",
            " [0]]\n",
            "(20, 1)\n"
          ]
        }
      ]
    },
    {
      "cell_type": "markdown",
      "metadata": {
        "id": "BkfYMldXbt95"
      },
      "source": [
        "# X_test (obtained from predicted images)"
      ]
    },
    {
      "cell_type": "code",
      "metadata": {
        "colab": {
          "base_uri": "https://localhost:8080/"
        },
        "id": "V3vjcMrK0hDA",
        "outputId": "53dcf475-0876-465b-fa21-5ef114469c64"
      },
      "source": [
        "# Importing the dataset\n",
        "dataset = pd.read_csv('/content/results/extracted_features_pred.csv')\n",
        "X_test = dataset.iloc[:, [2, 3, 4, 5, 6, 7, 8, 9]].values\n",
        "print(X_test.shape)"
      ],
      "execution_count": 73,
      "outputs": [
        {
          "output_type": "stream",
          "name": "stdout",
          "text": [
            "(20, 8)\n"
          ]
        }
      ]
    },
    {
      "cell_type": "code",
      "metadata": {
        "id": "eeGnSrcX3JK1"
      },
      "source": [
        ""
      ],
      "execution_count": null,
      "outputs": []
    },
    {
      "cell_type": "markdown",
      "metadata": {
        "id": "oQH7H1mTb9M2"
      },
      "source": [
        "# SVM"
      ]
    },
    {
      "cell_type": "code",
      "metadata": {
        "colab": {
          "base_uri": "https://localhost:8080/"
        },
        "id": "ncon8Rs92JR9",
        "outputId": "b570b5e0-7816-43cb-db6c-0dbf1409808b"
      },
      "source": [
        "# Fitting SVM to the Training set\n",
        "from sklearn.svm import SVC\n",
        "classifier_svm = SVC(kernel = 'rbf', random_state = 0, class_weight={0:4, 1:1})\n",
        "classifier_svm.fit(X_train, np.ravel(Y_train, order='C'))"
      ],
      "execution_count": 74,
      "outputs": [
        {
          "output_type": "execute_result",
          "data": {
            "text/plain": [
              "SVC(C=1.0, break_ties=False, cache_size=200, class_weight={0: 4, 1: 1},\n",
              "    coef0=0.0, decision_function_shape='ovr', degree=3, gamma='scale',\n",
              "    kernel='rbf', max_iter=-1, probability=False, random_state=0,\n",
              "    shrinking=True, tol=0.001, verbose=False)"
            ]
          },
          "metadata": {},
          "execution_count": 74
        }
      ]
    },
    {
      "cell_type": "markdown",
      "metadata": {
        "id": "QApT7oB7cBMj"
      },
      "source": [
        "# Random Forest"
      ]
    },
    {
      "cell_type": "code",
      "metadata": {
        "colab": {
          "base_uri": "https://localhost:8080/"
        },
        "id": "iScCqqWQ6sQa",
        "outputId": "4a5756dd-ce65-4f65-8742-5e4dc8825eff"
      },
      "source": [
        "# Fitting RF to the Training set\n",
        "from sklearn.ensemble import RandomForestClassifier\n",
        "classifier_rd = RandomForestClassifier(n_estimators = 400, criterion = \"gini\")\n",
        "classifier_rd.fit(X_train, np.ravel(Y_train, order='C'))"
      ],
      "execution_count": 75,
      "outputs": [
        {
          "output_type": "execute_result",
          "data": {
            "text/plain": [
              "RandomForestClassifier(bootstrap=True, ccp_alpha=0.0, class_weight=None,\n",
              "                       criterion='gini', max_depth=None, max_features='auto',\n",
              "                       max_leaf_nodes=None, max_samples=None,\n",
              "                       min_impurity_decrease=0.0, min_impurity_split=None,\n",
              "                       min_samples_leaf=1, min_samples_split=2,\n",
              "                       min_weight_fraction_leaf=0.0, n_estimators=400,\n",
              "                       n_jobs=None, oob_score=False, random_state=None,\n",
              "                       verbose=0, warm_start=False)"
            ]
          },
          "metadata": {},
          "execution_count": 75
        }
      ]
    },
    {
      "cell_type": "markdown",
      "metadata": {
        "id": "8ztjgiC3cH4k"
      },
      "source": [
        "# KNN"
      ]
    },
    {
      "cell_type": "code",
      "metadata": {
        "id": "3tljtGyG8m1M",
        "colab": {
          "base_uri": "https://localhost:8080/"
        },
        "outputId": "6afe796f-fda3-4d46-b65f-8c383d11b675"
      },
      "source": [
        "# Fitting knn to the Training set\n",
        "from sklearn.neighbors import KNeighborsClassifier  \n",
        "classifier_knn = KNeighborsClassifier(n_neighbors=3, p=3)  \n",
        "classifier_knn.fit(X_train, np.ravel(Y_train, order='C'))"
      ],
      "execution_count": 76,
      "outputs": [
        {
          "output_type": "execute_result",
          "data": {
            "text/plain": [
              "KNeighborsClassifier(algorithm='auto', leaf_size=30, metric='minkowski',\n",
              "                     metric_params=None, n_jobs=None, n_neighbors=3, p=3,\n",
              "                     weights='uniform')"
            ]
          },
          "metadata": {},
          "execution_count": 76
        }
      ]
    },
    {
      "cell_type": "markdown",
      "metadata": {
        "id": "KE2t7s2wcL74"
      },
      "source": [
        "# y_pred (Predicting labels)"
      ]
    },
    {
      "cell_type": "code",
      "metadata": {
        "id": "UW2Scfme2V3A"
      },
      "source": [
        "# Predicting the Test set results\n",
        "y_pred_svm = classifier_svm.predict(X_test)"
      ],
      "execution_count": 77,
      "outputs": []
    },
    {
      "cell_type": "code",
      "metadata": {
        "id": "aErLQmb6dzFy",
        "colab": {
          "base_uri": "https://localhost:8080/"
        },
        "outputId": "9b42ffbc-7360-44d4-9f6d-db0b85994c52"
      },
      "source": [
        "print(np.ravel(Y_test, order='C'))"
      ],
      "execution_count": 78,
      "outputs": [
        {
          "output_type": "stream",
          "name": "stdout",
          "text": [
            "[1 1 1 0 0 1 0 1 1 1 1 1 1 1 1 0 0 0 0 0]\n"
          ]
        }
      ]
    },
    {
      "cell_type": "code",
      "metadata": {
        "id": "26ARPDZJd4lt"
      },
      "source": [
        "# Predicting the Test set results\n",
        "y_pred_rd = classifier_rd.predict(X_test)"
      ],
      "execution_count": 79,
      "outputs": []
    },
    {
      "cell_type": "code",
      "metadata": {
        "id": "X6p-o2isdzam"
      },
      "source": [
        "# Predicting the Test set results\n",
        "y_pred_knn = classifier_knn.predict(X_test)"
      ],
      "execution_count": 80,
      "outputs": []
    },
    {
      "cell_type": "code",
      "metadata": {
        "id": "JBsvPDoh8lfC",
        "colab": {
          "base_uri": "https://localhost:8080/"
        },
        "outputId": "795d8544-89ca-43ee-8868-27501ac0c73c"
      },
      "source": [
        "print(y_pred_svm)\n",
        "print(y_pred_svm.shape)"
      ],
      "execution_count": 81,
      "outputs": [
        {
          "output_type": "stream",
          "name": "stdout",
          "text": [
            "[1 1 1 1 0 1 0 1 1 1 1 1 1 1 1 0 0 0 0 0]\n",
            "(20,)\n"
          ]
        }
      ]
    },
    {
      "cell_type": "code",
      "metadata": {
        "id": "H9bio7j2eBWc"
      },
      "source": [
        ""
      ],
      "execution_count": null,
      "outputs": []
    },
    {
      "cell_type": "code",
      "metadata": {
        "colab": {
          "base_uri": "https://localhost:8080/"
        },
        "id": "kDsVaA66eFLH",
        "outputId": "af20e0b6-701a-4ddb-cac1-f53cb99c8e66"
      },
      "source": [
        "print(y_pred_rd)\n",
        "print(y_pred_rd.shape)"
      ],
      "execution_count": 82,
      "outputs": [
        {
          "output_type": "stream",
          "name": "stdout",
          "text": [
            "[1 1 1 1 1 1 1 1 1 1 1 1 1 1 1 0 0 0 0 0]\n",
            "(20,)\n"
          ]
        }
      ]
    },
    {
      "cell_type": "code",
      "metadata": {
        "colab": {
          "base_uri": "https://localhost:8080/"
        },
        "id": "sdlhuNTJeCI3",
        "outputId": "68826230-99d2-49f7-cfef-38b38b7f8dc4"
      },
      "source": [
        "print(y_pred_knn)\n",
        "print(y_pred_knn.shape)"
      ],
      "execution_count": 83,
      "outputs": [
        {
          "output_type": "stream",
          "name": "stdout",
          "text": [
            "[1 1 1 1 1 1 1 1 1 1 1 1 1 1 1 0 0 0 0 0]\n",
            "(20,)\n"
          ]
        }
      ]
    },
    {
      "cell_type": "markdown",
      "metadata": {
        "id": "UYtzJyRncWk2"
      },
      "source": [
        "# Confusion Matrix"
      ]
    },
    {
      "cell_type": "code",
      "metadata": {
        "colab": {
          "base_uri": "https://localhost:8080/"
        },
        "id": "fTpbTE3W2cJ4",
        "outputId": "f5cab656-0cec-48d8-dcb9-fc0d396521ee"
      },
      "source": [
        "# Making the Confusion Matrix\n",
        "from sklearn.metrics import confusion_matrix\n",
        "cm = confusion_matrix(Y_test, y_pred_svm)\n",
        "print(cm)\n"
      ],
      "execution_count": 84,
      "outputs": [
        {
          "output_type": "stream",
          "name": "stdout",
          "text": [
            "[[ 7  1]\n",
            " [ 0 12]]\n"
          ]
        }
      ]
    },
    {
      "cell_type": "code",
      "metadata": {
        "colab": {
          "base_uri": "https://localhost:8080/"
        },
        "id": "psTn7xzZvi8X",
        "outputId": "24cc1cb0-dcda-4cff-ffca-8dd9c507cc17"
      },
      "source": [
        "# Making the Confusion Matrix\n",
        "from sklearn.metrics import confusion_matrix\n",
        "cm_knn = confusion_matrix(Y_test, y_pred_knn)\n",
        "print(cm_knn)"
      ],
      "execution_count": 85,
      "outputs": [
        {
          "output_type": "stream",
          "name": "stdout",
          "text": [
            "[[ 5  3]\n",
            " [ 0 12]]\n"
          ]
        }
      ]
    },
    {
      "cell_type": "code",
      "metadata": {
        "colab": {
          "base_uri": "https://localhost:8080/"
        },
        "id": "3tJx0oAPemxU",
        "outputId": "056e19ae-4a44-4b62-9dc2-e5b56870c489"
      },
      "source": [
        "tn, fp, fn, tp = cm.ravel()\n",
        "sen=tp/(tp+fn)\n",
        "print('\\nSensitivity =', sen)\n",
        "spec= tn/(tn+fp)\n",
        "print('\\nSpecificity =', spec)\n",
        "accuracy = (tp+tn)/(tp+tn+fp+fn)\n",
        "print('\\nAccuracy =', accuracy,'\\n')"
      ],
      "execution_count": 86,
      "outputs": [
        {
          "output_type": "stream",
          "name": "stdout",
          "text": [
            "\n",
            "Sensitivity = 1.0\n",
            "\n",
            "Specificity = 0.875\n",
            "\n",
            "Accuracy = 0.95 \n",
            "\n"
          ]
        }
      ]
    },
    {
      "cell_type": "code",
      "metadata": {
        "colab": {
          "base_uri": "https://localhost:8080/"
        },
        "id": "4JTzJQJdvupm",
        "outputId": "2553ba67-e67e-4e1b-c5a0-e3afff2c2ce8"
      },
      "source": [
        "tn, fp, fn, tp = cm_knn.ravel()\n",
        "sen=tp/(tp+fn)\n",
        "print('\\nSensitivity =', sen)\n",
        "spec= tn/(tn+fp)\n",
        "print('\\nSpecificity =', spec)\n",
        "accuracy = (tp+tn)/(tp+tn+fp+fn)\n",
        "print('\\nAccuracy =', accuracy,'\\n')"
      ],
      "execution_count": 87,
      "outputs": [
        {
          "output_type": "stream",
          "name": "stdout",
          "text": [
            "\n",
            "Sensitivity = 1.0\n",
            "\n",
            "Specificity = 0.625\n",
            "\n",
            "Accuracy = 0.85 \n",
            "\n"
          ]
        }
      ]
    },
    {
      "cell_type": "code",
      "metadata": {
        "colab": {
          "base_uri": "https://localhost:8080/"
        },
        "id": "AaOlcaq4enXw",
        "outputId": "d0f41030-5b7b-4cbf-f564-168994343da7"
      },
      "source": [
        "print(\"Model = Classification\")\n",
        "from sklearn.metrics import classification_report, confusion_matrix\n",
        "print('\\nClassification Report')\n",
        "target_names = ['Normal', 'Glaucomatous']\n",
        "print(classification_report(Y_test, y_pred_svm, target_names=target_names))\n",
        "\n"
      ],
      "execution_count": 88,
      "outputs": [
        {
          "output_type": "stream",
          "name": "stdout",
          "text": [
            "Model = Classification\n",
            "\n",
            "Classification Report\n",
            "              precision    recall  f1-score   support\n",
            "\n",
            "      Normal       1.00      0.88      0.93         8\n",
            "Glaucomatous       0.92      1.00      0.96        12\n",
            "\n",
            "    accuracy                           0.95        20\n",
            "   macro avg       0.96      0.94      0.95        20\n",
            "weighted avg       0.95      0.95      0.95        20\n",
            "\n"
          ]
        }
      ]
    },
    {
      "cell_type": "markdown",
      "metadata": {
        "id": "Iwq4eMncSCFf"
      },
      "source": [
        "# Mischelleneous"
      ]
    },
    {
      "cell_type": "code",
      "metadata": {
        "id": "SHdjJ8rnrUfm"
      },
      "source": [
        "import pandas as pd\n",
        "\n",
        "CDR = []\n",
        "VAL = []\n",
        "count = 0\n",
        "\n",
        "folder_train_y1 = \"/content/new_data/train/mask1/\"\n",
        "train_y1 = os.listdir(folder_train_y1)\n",
        "train_y1.sort(key = len)\n",
        "\n",
        "folder_train_y2 = \"/content/new_data/train/mask2/\"\n",
        "train_y2 = os.listdir(folder_train_y2)\n",
        "train_y2.sort(key = len)\n",
        "\n",
        "folder_train_y3 = \"/content/new_data/train/image/\"\n",
        "train_y3 = os.listdir(folder_train_y3)\n",
        "train_y3.sort(key = len)\n",
        "\n",
        "create_dir(\"results\")\n",
        "SCORE = []\n",
        "\n",
        "for x, y, z in tqdm(zip(train_y1, train_y2, train_y3 ), total=len(train_y1)):\n",
        "    \"\"\" Extracting names \"\"\"\n",
        "    name = x.split(\"/\")[-1].split(\".\")[0]\n",
        "    disc = cv2.imread(folder_train_y1+x,0)\n",
        "\n",
        "    cup = cv2.imread(folder_train_y2+y,0)\n",
        "    if (name != 'drishtiGS_097'):\n",
        "        print(\"@@@@@@@@@@@@@@@@@@@@@@@@@@@@@@@@@@@@@@@@@@@@@@@@@@@@@@@@@@@@@@@@@@@@@@@@@@@\")\n",
        "        dd = disk_diameter(disc,False)\n",
        "        i, s = notch(cup,disc,False,dd)\n",
        "        print(\"S distance\", s)\n",
        "        print(\"I distance\", i)\n",
        "        print(name)\n",
        "    else:\n",
        "      print(\"discard\")\n"
      ],
      "execution_count": null,
      "outputs": []
    },
    {
      "cell_type": "code",
      "metadata": {
        "id": "u65lnxKYSGGr"
      },
      "source": [
        "    cv2.drawContours(img_as_ubyte(cup), el_cup, -1, (0, 255, 0), 2)\n",
        "    cv2.circle(img_as_ubyte(cup), (cX, cY), 1, (0, 0, 255), 10)\n",
        "    cv2.putText(img_as_ubyte(cup), \"center\", (cX - 20, cY - 20),\n",
        "    cv2.FONT_HERSHEY_SIMPLEX, 0.5, (255, 255, 255), 2)\n",
        "\n",
        "    plt.imshow(cup)\n",
        "    plt.axis(\"off\")\n",
        "    plt.title(\"Optic Cup\")\n",
        "    plt.show()\n",
        "\n",
        "    cv2.drawContours(img_as_ubyte(disc), el_disc, -1, (0, 255, 0), 2)\n",
        "    cv2.circle(img_as_ubyte(disc), (dX, dY), 1, (0, 0, 255), 10)\n",
        "    cv2.putText(img_as_ubyte(disc), \"center\", (dX - 20, dY - 20),\n",
        "    cv2.FONT_HERSHEY_SIMPLEX, 0.5, (255, 255, 255), 2)\n",
        "\n",
        "    plt.imshow(disc)\n",
        "    plt.axis(\"off\")\n",
        "    plt.title(\"Optic Disc\")\n",
        "    plt.show()"
      ],
      "execution_count": null,
      "outputs": []
    },
    {
      "cell_type": "code",
      "metadata": {
        "id": "dowAcsYyUtli"
      },
      "source": [
        "# FUNCTION TO CALCULATE NOTCH\n",
        "import cv2 as cv\n",
        "from skimage import transform \n",
        "from skimage import img_as_ubyte\n",
        "from skimage.viewer import ImageViewer\n",
        "\n",
        "\n",
        "def notch(cup,disc,plot):\n",
        "    \n",
        "    clahe = cv2.createCLAHE(clipLimit=2.0, tileGridSize=(9,9))\n",
        "    \n",
        "    R1 = cv2.morphologyEx(cup, cv2.MORPH_CLOSE, cv2.getStructuringElement(cv2.MORPH_ELLIPSE,(2,2)), iterations = 1)\n",
        "    r1 = cv2.morphologyEx(R1, cv2.MORPH_OPEN, cv2.getStructuringElement(cv2.MORPH_ELLIPSE,(7,7)), iterations = 1)\n",
        "    R2 = cv2.morphologyEx(r1, cv2.MORPH_CLOSE, cv2.getStructuringElement(cv2.MORPH_ELLIPSE,(1,21)), iterations = 1)\n",
        "    r2 = cv2.morphologyEx(R2, cv2.MORPH_OPEN, cv2.getStructuringElement(cv2.MORPH_ELLIPSE,(21,1)), iterations = 1)\n",
        "    R3 = cv2.morphologyEx(r2, cv2.MORPH_CLOSE, cv2.getStructuringElement(cv2.MORPH_ELLIPSE,(33,33)), iterations = 1)\t\n",
        "    r3 = cv2.morphologyEx(R3, cv2.MORPH_OPEN, cv2.getStructuringElement(cv2.MORPH_ELLIPSE,(43,43)), iterations = 1)\n",
        "\n",
        "    #f4 = cv2.subtract(R3,img)\n",
        "    img = clahe.apply(r3)\n",
        "    \n",
        "    \n",
        "    ret,thresh = cv2.threshold(cup,127,255,0)\n",
        "    contours,hierarchy = cv2.findContours(thresh, cv.RETR_EXTERNAL,cv.CHAIN_APPROX_SIMPLE)\n",
        "\n",
        "    thresh_c = thresh\n",
        "\n",
        "    el_cup = contours[0]\n",
        "    # calculate moments of binary image\n",
        "    M = cv2.moments(el_cup)\n",
        "    # calculate x,y coordinate of center\n",
        "    cX = int(M[\"m10\"] / M[\"m00\"])\n",
        "    cY = int(M[\"m01\"] /M[\"m00\"])\n",
        "    print(cX, cY)\n",
        "\n",
        "    # Step #3\n",
        "    out = cup.copy()\n",
        "\n",
        "    # Step #4\n",
        "    ref_c = np.zeros_like(thresh_c)\n",
        "    cv2.drawContours(ref_c, contours, 0, 255, 1)\n",
        "\n",
        "    # Get dimensions of the image\n",
        "    width_c = cup.shape[1]\n",
        "    height_c = cup.shape[0]\n",
        "\n",
        "    tmp_c = np.zeros_like(thresh_c)\n",
        "\n",
        "    # Step #6b\n",
        "    theta = (360/6)\n",
        "    theta *= np.pi/180.0\n",
        "\n",
        "    # Step #6c\n",
        "    cv2.line(tmp_c, (cX, cY),\n",
        "            (int(cX+np.cos(theta)*width_c),\n",
        "            int(cY-np.sin(theta)*height_c)), 255, 5)\n",
        "\n",
        "    # Step #6d\n",
        "    (row_c,col_c) = np.nonzero(np.logical_and(tmp_c, ref_c))\n",
        "\n",
        "    # Step #6e\n",
        "    cv2.line(out, (cX, cY), (col_c[0],row_c[0]), 0, 1)\n",
        "\n",
        "    print(\"Boundary co-ordinate\", col_c[0],row_c[0])\n",
        "   \n",
        "\n",
        "    plt.imshow(out)\n",
        "    plt.axis(\"off\")\n",
        "    plt.title(\"Optic Cup\")\n",
        "    plt.show()\n",
        "\n",
        "   \n",
        "    \n",
        "    R1 = cv2.morphologyEx(disc, cv2.MORPH_CLOSE, cv2.getStructuringElement(cv2.MORPH_ELLIPSE,(2,2)), iterations = 1)\n",
        "    r1 = cv2.morphologyEx(R1, cv2.MORPH_OPEN, cv2.getStructuringElement(cv2.MORPH_ELLIPSE,(7,7)), iterations = 1)\n",
        "    R2 = cv2.morphologyEx(r1, cv2.MORPH_CLOSE, cv2.getStructuringElement(cv2.MORPH_ELLIPSE,(1,21)), iterations = 1)\n",
        "    r2 = cv2.morphologyEx(R2, cv2.MORPH_OPEN, cv2.getStructuringElement(cv2.MORPH_ELLIPSE,(21,1)), iterations = 1)\n",
        "    R3 = cv2.morphologyEx(r2, cv2.MORPH_CLOSE, cv2.getStructuringElement(cv2.MORPH_ELLIPSE,(33,33)), iterations = 1)\n",
        "    r3 = cv2.morphologyEx(R3, cv2.MORPH_OPEN, cv2.getStructuringElement(cv2.MORPH_ELLIPSE,(43,43)), iterations = 1)\n",
        "\n",
        "    #f4 = cv2.subtract(R3,img)\n",
        "    img2 = clahe.apply(r3)\n",
        "    \n",
        "    ret,thresh = cv.threshold(disc,127,255,0)\n",
        "    contours,hierarchy = cv.findContours(thresh, cv.RETR_EXTERNAL,cv.CHAIN_APPROX_SIMPLE)\n",
        "\n",
        "    el_disc = contours[0]\n",
        "    # calculate moments of binary image\n",
        "    N = cv2.moments(el_disc)\n",
        "    # calculate x,y coordinate of center\n",
        "    print(int(N[\"m00\"]))\n",
        "    if N[\"m00\"] != 0:\n",
        "        dX = int(N[\"m10\"] / N[\"m00\"])\n",
        "        dY = int(N[\"m01\"] / N[\"m00\"])\n",
        "    else:\n",
        "    # set values as what you need in the situation\n",
        "        dX, dY = 0, 0\n",
        "    #dX = int(N[\"m10\"] / N[\"m00\"])\n",
        "    #dY = int(N[\"m01\"] / N[\"m00\"])\n",
        "    print(dX, dY)\n",
        "\n",
        "    # Step #3\n",
        "    out_d = disc.copy()\n",
        "\n",
        "    # Step #4\n",
        "    ref = np.zeros_like(thresh)\n",
        "    cv2.drawContours(ref, contours, 0, 255, 1)\n",
        "\n",
        "    # Get dimensions of the image\n",
        "    width = disc.shape[1]\n",
        "    height = disc.shape[0]\n",
        "\n",
        "    tmp = np.zeros_like(thresh)\n",
        "\n",
        "    # Step #6b\n",
        "    theta = (360/6)\n",
        "    theta *= np.pi/180.0\n",
        "\n",
        "    # Step #6c\n",
        "    if (dX==0 and dY==0):\n",
        "      print(\"Discard this case\")\n",
        "      col[0],row[0] = 0, 0\n",
        "    else:\n",
        "      cv2.line(tmp, (dX, dY),\n",
        "            (int(dX+np.cos(theta)*width),\n",
        "            int(dY-np.sin(theta)*height)), 255, 5)\n",
        "\n",
        "      # Step #6d\n",
        "      (row,col) = np.nonzero(np.logical_and(tmp, ref))\n",
        "\n",
        "      # Step #6e\n",
        "      cv2.line(out_d, (dX, dY), (col[0],row[0]), 0, 1)\n",
        "\n",
        "    print(\"Boundary co-ordinate\", col[0],row[0])\n",
        "\n",
        "    plt.imshow(out_d)\n",
        "    plt.axis(\"off\")\n",
        "    plt.title(\"Optic Disk\")\n",
        "    plt.show()\n",
        "\n",
        "\n",
        "    return cX, cY, dX, dY"
      ],
      "execution_count": null,
      "outputs": []
    }
  ]
}