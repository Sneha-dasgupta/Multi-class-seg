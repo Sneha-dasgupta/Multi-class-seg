{
  "nbformat": 4,
  "nbformat_minor": 0,
  "metadata": {
    "colab": {
      "name": "Optic_Disk_Segmentation_UNet.ipynb",
      "provenance": [],
      "mount_file_id": "136xb_d4PyvrIBaOwGB9tQuLv3BhMnf6J",
      "authorship_tag": "ABX9TyMKs2ggRg3Pc7dqgrzt86p4",
      "include_colab_link": true
    },
    "kernelspec": {
      "name": "python3",
      "display_name": "Python 3"
    },
    "language_info": {
      "name": "python"
    },
    "accelerator": "GPU"
  },
  "cells": [
    {
      "cell_type": "markdown",
      "metadata": {
        "id": "view-in-github",
        "colab_type": "text"
      },
      "source": [
        "<a href=\"https://colab.research.google.com/github/Sneha-dasgupta/Multi-class-seg/blob/main/Optic_Disk_Segmentation_UNet.ipynb\" target=\"_parent\"><img src=\"https://colab.research.google.com/assets/colab-badge.svg\" alt=\"Open In Colab\"/></a>"
      ]
    },
    {
      "cell_type": "code",
      "metadata": {
        "id": "o1WDCnw5sPjy"
      },
      "source": [
        ""
      ],
      "execution_count": null,
      "outputs": []
    },
    {
      "cell_type": "markdown",
      "metadata": {
        "id": "otyxwiobtSFv"
      },
      "source": [
        "# Data"
      ]
    },
    {
      "cell_type": "code",
      "metadata": {
        "id": "26tCVsJutUuF",
        "colab": {
          "base_uri": "https://localhost:8080/"
        },
        "outputId": "f85a63f7-dc71-4419-b0d7-edf0da366456"
      },
      "source": [
        "import os\n",
        "import numpy as np\n",
        "import cv2\n",
        "import matplotlib.pyplot as plt\n",
        "%matplotlib inline\n",
        "from glob import glob\n",
        "from tqdm import tqdm\n",
        "!pip install -U albumentations\n",
        "from albumentations import HorizontalFlip, VerticalFlip, ElasticTransform, GridDistortion, OpticalDistortion\n",
        "\n",
        "def create_dir(path):\n",
        "    if not os.path.exists(path):\n",
        "        os.makedirs(path)\n",
        "\n",
        "def load_data(path):\n",
        "    \"\"\" X = Images and Y = masks \"\"\"\n",
        "\n",
        "    train_x = sorted(glob(os.path.join(path, \"Training\", \"Images\", \"*.png\")))\n",
        "    train_y = sorted(glob(os.path.join(path, \"Training\", \"GT_OD\", \"*.png\")))\n",
        "\n",
        "    test_x = sorted(glob(os.path.join(path, \"Test\", \"Images\", \"*.png\")))\n",
        "    test_y = sorted(glob(os.path.join(path, \"Test\", \"Test_GT_OD\", \"*.png\")))\n",
        "\n",
        "    return (train_x, train_y), (test_x, test_y)\n",
        "\n",
        "def augment_data(images, masks, save_path, augment=True):\n",
        "    H = 512\n",
        "    W = 512\n",
        "\n",
        "    for idx, (x, y) in tqdm(enumerate(zip(images, masks)), total=len(images)):\n",
        "        \"\"\" Extracting names \"\"\"\n",
        "        name = x.split(\"/\")[-1].split(\".\")[0]\n",
        "\n",
        "        \"\"\" Reading image and mask \"\"\"\n",
        "        x = cv2.imread(x, cv2.IMREAD_COLOR)\n",
        "        x = cv2.cvtColor(x, cv2.COLOR_BGR2RGB)\n",
        "        y = cv2.imread(y, cv2.IMREAD_COLOR)\n",
        "        print(x.shape, y.shape)\n",
        "\n",
        "        if augment == True:\n",
        "            aug = HorizontalFlip(p=1.0)\n",
        "            augmented = aug(image=x, mask=y)\n",
        "            x1 = augmented[\"image\"]\n",
        "            y1 = augmented[\"mask\"]\n",
        "\n",
        "            aug = VerticalFlip(p=1.0)\n",
        "            augmented = aug(image=x, mask=y)\n",
        "            x2 = augmented[\"image\"]\n",
        "            y2 = augmented[\"mask\"]\n",
        "\n",
        "            aug = ElasticTransform(p=1, alpha=120, sigma=120 * 0.05, alpha_affine=120 * 0.03)\n",
        "            augmented = aug(image=x, mask=y)\n",
        "            x3 = augmented['image']\n",
        "            y3 = augmented['mask']\n",
        "\n",
        "            aug = GridDistortion(p=1)\n",
        "            augmented = aug(image=x, mask=y)\n",
        "            x4 = augmented['image']\n",
        "            y4 = augmented['mask']\n",
        "\n",
        "            aug = OpticalDistortion(p=1, distort_limit=2, shift_limit=0.5)\n",
        "            augmented = aug(image=x, mask=y)\n",
        "            x5 = augmented['image']\n",
        "            y5 = augmented['mask']\n",
        "\n",
        "            X = [x, x1, x2, x3, x4, x5]\n",
        "            Y = [y, y1, y2, y3, y4, y5]\n",
        "\n",
        "        else:\n",
        "            X = [x]\n",
        "            Y = [y]\n",
        "\n",
        "        index = 0\n",
        "        for i, m in zip(X, Y):\n",
        "            i = cv2.resize(i, (W, H), interpolation = cv2.INTER_CUBIC)\n",
        "            #i = cv2.cvtColor(i,cv2.COLOR_BGR2RGB)\n",
        "\n",
        "            #Histogram equalisation - start\n",
        "            #img_gray = cv2.cvtColor(i, cv2.COLOR_BGR2GRAY)\n",
        "            #clahe = cv2.createCLAHE(clipLimit=2.0, tileGridSize=(8,8))\n",
        "            #i = clahe.apply(img_gray)\n",
        "            #i = cv2.cvtColor(i,cv2.COLOR_GRAY2RGB)\n",
        "            lab = cv2.cvtColor(i, cv2.COLOR_BGR2LAB)\n",
        "\n",
        "            lab_planes = cv2.split(lab)\n",
        "\n",
        "            clahe = cv2.createCLAHE(clipLimit=3.0,tileGridSize=(10,10))\n",
        "\n",
        "            lab_planes[0] = clahe.apply(lab_planes[0])\n",
        "\n",
        "            lab = cv2.merge(lab_planes)\n",
        "\n",
        "            i = cv2.cvtColor(lab, cv2.COLOR_LAB2BGR)\n",
        "            i = cv2.cvtColor(i,cv2.COLOR_BGR2RGB)\n",
        "\n",
        "            #histogram equalization - end \n",
        "\n",
        "            m = cv2.resize(m, (W, H), interpolation = cv2.INTER_CUBIC)\n",
        "\n",
        "            if len(X) == 1:\n",
        "                tmp_image_name = f\"{name}.png\"\n",
        "                tmp_mask_name = f\"{name}.png\"\n",
        "            else:\n",
        "                tmp_image_name = f\"{name}_{index}.png\"\n",
        "                tmp_mask_name = f\"{name}_{index}.png\"\n",
        "\n",
        "            image_path = os.path.join(save_path, \"image\", tmp_image_name)\n",
        "            mask_path = os.path.join(save_path, \"mask\", tmp_mask_name)\n",
        "\n",
        "            cv2.imwrite(image_path, i)\n",
        "            cv2.imwrite(mask_path, m)\n",
        "\n",
        "            index += 1\n",
        "\n",
        "if __name__ == \"__main__\":\n",
        "    \"\"\" Seeding \"\"\"\n",
        "    np.random.seed(42)\n",
        "\n",
        "    \"\"\" Load the data \"\"\"\n",
        "    data_path = \"/content/drive/MyDrive/Drishti/\"\n",
        "    (train_x, train_y), (test_x, test_y) = load_data(data_path)\n",
        "\n",
        "    '''print(f\"Train: {len(train_x)} - {len(train_y)}\")\n",
        "    print(f\"Test: {len(test_x)} - {len(test_y)}\")'''\n",
        "\n",
        "    \"\"\" Creating directories \"\"\"\n",
        "    create_dir(\"new_data/train/image\")\n",
        "    create_dir(\"new_data/train/mask\")\n",
        "    create_dir(\"new_data/test/image\")\n",
        "    create_dir(\"new_data/test/mask\")\n",
        "\n",
        "    augment_data(train_x, train_y, \"new_data/train/\", augment=False)\n",
        "    augment_data(test_x, test_y, \"new_data/test/\", augment=False)"
      ],
      "execution_count": 2,
      "outputs": [
        {
          "output_type": "stream",
          "name": "stdout",
          "text": [
            "Requirement already satisfied: albumentations in /usr/local/lib/python3.7/dist-packages (1.1.0)\n",
            "Requirement already satisfied: numpy>=1.11.1 in /usr/local/lib/python3.7/dist-packages (from albumentations) (1.19.5)\n",
            "Requirement already satisfied: scipy in /usr/local/lib/python3.7/dist-packages (from albumentations) (1.4.1)\n",
            "Requirement already satisfied: PyYAML in /usr/local/lib/python3.7/dist-packages (from albumentations) (3.13)\n",
            "Requirement already satisfied: opencv-python-headless>=4.1.1 in /usr/local/lib/python3.7/dist-packages (from albumentations) (4.5.3.56)\n",
            "Requirement already satisfied: scikit-image>=0.16.1 in /usr/local/lib/python3.7/dist-packages (from albumentations) (0.16.2)\n",
            "Requirement already satisfied: qudida>=0.0.4 in /usr/local/lib/python3.7/dist-packages (from albumentations) (0.0.4)\n",
            "Requirement already satisfied: typing-extensions in /usr/local/lib/python3.7/dist-packages (from qudida>=0.0.4->albumentations) (3.7.4.3)\n",
            "Requirement already satisfied: scikit-learn>=0.19.1 in /usr/local/lib/python3.7/dist-packages (from qudida>=0.0.4->albumentations) (0.22.2.post1)\n",
            "Requirement already satisfied: PyWavelets>=0.4.0 in /usr/local/lib/python3.7/dist-packages (from scikit-image>=0.16.1->albumentations) (1.1.1)\n",
            "Requirement already satisfied: pillow>=4.3.0 in /usr/local/lib/python3.7/dist-packages (from scikit-image>=0.16.1->albumentations) (7.1.2)\n",
            "Requirement already satisfied: networkx>=2.0 in /usr/local/lib/python3.7/dist-packages (from scikit-image>=0.16.1->albumentations) (2.6.3)\n",
            "Requirement already satisfied: matplotlib!=3.0.0,>=2.0.0 in /usr/local/lib/python3.7/dist-packages (from scikit-image>=0.16.1->albumentations) (3.2.2)\n",
            "Requirement already satisfied: imageio>=2.3.0 in /usr/local/lib/python3.7/dist-packages (from scikit-image>=0.16.1->albumentations) (2.4.1)\n",
            "Requirement already satisfied: python-dateutil>=2.1 in /usr/local/lib/python3.7/dist-packages (from matplotlib!=3.0.0,>=2.0.0->scikit-image>=0.16.1->albumentations) (2.8.2)\n",
            "Requirement already satisfied: kiwisolver>=1.0.1 in /usr/local/lib/python3.7/dist-packages (from matplotlib!=3.0.0,>=2.0.0->scikit-image>=0.16.1->albumentations) (1.3.2)\n",
            "Requirement already satisfied: cycler>=0.10 in /usr/local/lib/python3.7/dist-packages (from matplotlib!=3.0.0,>=2.0.0->scikit-image>=0.16.1->albumentations) (0.10.0)\n",
            "Requirement already satisfied: pyparsing!=2.0.4,!=2.1.2,!=2.1.6,>=2.0.1 in /usr/local/lib/python3.7/dist-packages (from matplotlib!=3.0.0,>=2.0.0->scikit-image>=0.16.1->albumentations) (2.4.7)\n",
            "Requirement already satisfied: six in /usr/local/lib/python3.7/dist-packages (from cycler>=0.10->matplotlib!=3.0.0,>=2.0.0->scikit-image>=0.16.1->albumentations) (1.15.0)\n",
            "Requirement already satisfied: joblib>=0.11 in /usr/local/lib/python3.7/dist-packages (from scikit-learn>=0.19.1->qudida>=0.0.4->albumentations) (1.0.1)\n"
          ]
        },
        {
          "output_type": "stream",
          "name": "stderr",
          "text": [
            "  1%|▏         | 1/80 [00:00<00:13,  6.03it/s]"
          ]
        },
        {
          "output_type": "stream",
          "name": "stdout",
          "text": [
            "(1752, 2045, 3) (1752, 2045, 3)\n"
          ]
        },
        {
          "output_type": "stream",
          "name": "stderr",
          "text": [
            "\r  2%|▎         | 2/80 [00:01<01:17,  1.00it/s]"
          ]
        },
        {
          "output_type": "stream",
          "name": "stdout",
          "text": [
            "(1762, 2049, 3) (1762, 2049, 3)\n"
          ]
        },
        {
          "output_type": "stream",
          "name": "stderr",
          "text": [
            "\r  4%|▍         | 3/80 [00:02<01:22,  1.07s/it]"
          ]
        },
        {
          "output_type": "stream",
          "name": "stdout",
          "text": [
            "(1755, 2049, 3) (1755, 2049, 3)\n"
          ]
        },
        {
          "output_type": "stream",
          "name": "stderr",
          "text": [
            "\r  5%|▌         | 4/80 [00:03<01:04,  1.17it/s]"
          ]
        },
        {
          "output_type": "stream",
          "name": "stdout",
          "text": [
            "(1757, 2140, 3) (1757, 2140, 3)\n"
          ]
        },
        {
          "output_type": "stream",
          "name": "stderr",
          "text": [
            "\r  6%|▋         | 5/80 [00:04<01:01,  1.22it/s]"
          ]
        },
        {
          "output_type": "stream",
          "name": "stdout",
          "text": [
            "(1755, 2047, 3) (1755, 2047, 3)\n"
          ]
        },
        {
          "output_type": "stream",
          "name": "stderr",
          "text": [
            "\r  8%|▊         | 6/80 [00:05<01:17,  1.04s/it]"
          ]
        },
        {
          "output_type": "stream",
          "name": "stdout",
          "text": [
            "(1758, 2050, 3) (1758, 2050, 3)\n"
          ]
        },
        {
          "output_type": "stream",
          "name": "stderr",
          "text": [
            "\r  9%|▉         | 7/80 [00:06<01:09,  1.04it/s]"
          ]
        },
        {
          "output_type": "stream",
          "name": "stdout",
          "text": [
            "(1760, 2051, 3) (1760, 2051, 3)\n"
          ]
        },
        {
          "output_type": "stream",
          "name": "stderr",
          "text": [
            "\r 10%|█         | 8/80 [00:07<01:04,  1.12it/s]"
          ]
        },
        {
          "output_type": "stream",
          "name": "stdout",
          "text": [
            "(1750, 2049, 3) (1750, 2049, 3)\n"
          ]
        },
        {
          "output_type": "stream",
          "name": "stderr",
          "text": [
            "\r 11%|█▏        | 9/80 [00:08<01:05,  1.09it/s]"
          ]
        },
        {
          "output_type": "stream",
          "name": "stdout",
          "text": [
            "(1750, 2048, 3) (1750, 2048, 3)\n"
          ]
        },
        {
          "output_type": "stream",
          "name": "stderr",
          "text": [
            "\r 12%|█▎        | 10/80 [00:09<01:17,  1.11s/it]"
          ]
        },
        {
          "output_type": "stream",
          "name": "stdout",
          "text": [
            "(1753, 2048, 3) (1753, 2048, 3)\n"
          ]
        },
        {
          "output_type": "stream",
          "name": "stderr",
          "text": [
            "\r 14%|█▍        | 11/80 [00:10<01:16,  1.11s/it]"
          ]
        },
        {
          "output_type": "stream",
          "name": "stdout",
          "text": [
            "(1757, 2047, 3) (1757, 2047, 3)\n"
          ]
        },
        {
          "output_type": "stream",
          "name": "stderr",
          "text": [
            "\r 15%|█▌        | 12/80 [00:11<01:15,  1.11s/it]"
          ]
        },
        {
          "output_type": "stream",
          "name": "stdout",
          "text": [
            "(1763, 2047, 3) (1763, 2047, 3)\n"
          ]
        },
        {
          "output_type": "stream",
          "name": "stderr",
          "text": [
            "\r 16%|█▋        | 13/80 [00:13<01:14,  1.11s/it]"
          ]
        },
        {
          "output_type": "stream",
          "name": "stdout",
          "text": [
            "(1763, 2466, 3) (1763, 2466, 3)\n"
          ]
        },
        {
          "output_type": "stream",
          "name": "stderr",
          "text": [
            "\r 18%|█▊        | 14/80 [00:13<01:07,  1.02s/it]"
          ]
        },
        {
          "output_type": "stream",
          "name": "stdout",
          "text": [
            "(1759, 2049, 3) (1759, 2049, 3)\n"
          ]
        },
        {
          "output_type": "stream",
          "name": "stderr",
          "text": [
            "\r 19%|█▉        | 15/80 [00:14<01:01,  1.05it/s]"
          ]
        },
        {
          "output_type": "stream",
          "name": "stdout",
          "text": [
            "(1759, 2049, 3) (1759, 2049, 3)\n"
          ]
        },
        {
          "output_type": "stream",
          "name": "stderr",
          "text": [
            "\r 20%|██        | 16/80 [00:15<00:57,  1.11it/s]"
          ]
        },
        {
          "output_type": "stream",
          "name": "stdout",
          "text": [
            "(1845, 2050, 3) (1845, 2050, 3)\n"
          ]
        },
        {
          "output_type": "stream",
          "name": "stderr",
          "text": [
            "\r 21%|██▏       | 17/80 [00:16<01:02,  1.01it/s]"
          ]
        },
        {
          "output_type": "stream",
          "name": "stdout",
          "text": [
            "(1759, 2048, 3) (1759, 2048, 3)\n"
          ]
        },
        {
          "output_type": "stream",
          "name": "stderr",
          "text": [
            "\r 22%|██▎       | 18/80 [00:17<01:00,  1.02it/s]"
          ]
        },
        {
          "output_type": "stream",
          "name": "stdout",
          "text": [
            "(1760, 2048, 3) (1760, 2048, 3)\n"
          ]
        },
        {
          "output_type": "stream",
          "name": "stderr",
          "text": [
            "\r 24%|██▍       | 19/80 [00:18<01:04,  1.05s/it]"
          ]
        },
        {
          "output_type": "stream",
          "name": "stdout",
          "text": [
            "(1762, 2049, 3) (1762, 2049, 3)\n"
          ]
        },
        {
          "output_type": "stream",
          "name": "stderr",
          "text": [
            "\r 25%|██▌       | 20/80 [00:20<01:09,  1.16s/it]"
          ]
        },
        {
          "output_type": "stream",
          "name": "stdout",
          "text": [
            "(1755, 2049, 3) (1755, 2049, 3)\n"
          ]
        },
        {
          "output_type": "stream",
          "name": "stderr",
          "text": [
            "\r 26%|██▋       | 21/80 [00:21<01:04,  1.09s/it]"
          ]
        },
        {
          "output_type": "stream",
          "name": "stdout",
          "text": [
            "(1751, 2052, 3) (1751, 2052, 3)\n"
          ]
        },
        {
          "output_type": "stream",
          "name": "stderr",
          "text": [
            "\r 28%|██▊       | 22/80 [00:22<01:09,  1.20s/it]"
          ]
        },
        {
          "output_type": "stream",
          "name": "stdout",
          "text": [
            "(1750, 2050, 3) (1750, 2050, 3)\n"
          ]
        },
        {
          "output_type": "stream",
          "name": "stderr",
          "text": [
            "\r 29%|██▉       | 23/80 [00:24<01:12,  1.28s/it]"
          ]
        },
        {
          "output_type": "stream",
          "name": "stdout",
          "text": [
            "(1751, 2047, 3) (1751, 2047, 3)\n"
          ]
        },
        {
          "output_type": "stream",
          "name": "stderr",
          "text": [
            "\r 30%|███       | 24/80 [00:24<01:04,  1.15s/it]"
          ]
        },
        {
          "output_type": "stream",
          "name": "stdout",
          "text": [
            "(1751, 2045, 3) (1751, 2045, 3)\n"
          ]
        },
        {
          "output_type": "stream",
          "name": "stderr",
          "text": [
            "\r 31%|███▏      | 25/80 [00:25<00:55,  1.01s/it]"
          ]
        },
        {
          "output_type": "stream",
          "name": "stdout",
          "text": [
            "(1753, 2048, 3) (1753, 2048, 3)\n"
          ]
        },
        {
          "output_type": "stream",
          "name": "stderr",
          "text": [
            "\r 32%|███▎      | 26/80 [00:26<00:54,  1.00s/it]"
          ]
        },
        {
          "output_type": "stream",
          "name": "stdout",
          "text": [
            "(1749, 2049, 3) (1749, 2049, 3)\n"
          ]
        },
        {
          "output_type": "stream",
          "name": "stderr",
          "text": [
            "\r 34%|███▍      | 27/80 [00:27<00:47,  1.11it/s]"
          ]
        },
        {
          "output_type": "stream",
          "name": "stdout",
          "text": [
            "(1749, 2048, 3) (1749, 2048, 3)\n"
          ]
        },
        {
          "output_type": "stream",
          "name": "stderr",
          "text": [
            "\r 35%|███▌      | 28/80 [00:28<00:45,  1.15it/s]"
          ]
        },
        {
          "output_type": "stream",
          "name": "stdout",
          "text": [
            "(1760, 2048, 3) (1760, 2048, 3)\n"
          ]
        },
        {
          "output_type": "stream",
          "name": "stderr",
          "text": [
            "\r 36%|███▋      | 29/80 [00:29<00:51,  1.01s/it]"
          ]
        },
        {
          "output_type": "stream",
          "name": "stdout",
          "text": [
            "(1759, 2049, 3) (1759, 2049, 3)\n"
          ]
        },
        {
          "output_type": "stream",
          "name": "stderr",
          "text": [
            "\r 38%|███▊      | 30/80 [00:30<00:55,  1.10s/it]"
          ]
        },
        {
          "output_type": "stream",
          "name": "stdout",
          "text": [
            "(1764, 2050, 3) (1764, 2050, 3)\n"
          ]
        },
        {
          "output_type": "stream",
          "name": "stderr",
          "text": [
            "\r 39%|███▉      | 31/80 [00:32<00:58,  1.20s/it]"
          ]
        },
        {
          "output_type": "stream",
          "name": "stdout",
          "text": [
            "(1762, 2048, 3) (1762, 2048, 3)\n"
          ]
        },
        {
          "output_type": "stream",
          "name": "stderr",
          "text": [
            "\r 40%|████      | 32/80 [00:32<00:50,  1.06s/it]"
          ]
        },
        {
          "output_type": "stream",
          "name": "stdout",
          "text": [
            "(1758, 2047, 3) (1758, 2047, 3)\n"
          ]
        },
        {
          "output_type": "stream",
          "name": "stderr",
          "text": [
            "\r 41%|████▏     | 33/80 [00:33<00:45,  1.03it/s]"
          ]
        },
        {
          "output_type": "stream",
          "name": "stdout",
          "text": [
            "(1760, 2049, 3) (1760, 2049, 3)\n"
          ]
        },
        {
          "output_type": "stream",
          "name": "stderr",
          "text": [
            "\r 42%|████▎     | 34/80 [00:34<00:40,  1.15it/s]"
          ]
        },
        {
          "output_type": "stream",
          "name": "stdout",
          "text": [
            "(1756, 2049, 3) (1756, 2049, 3)\n"
          ]
        },
        {
          "output_type": "stream",
          "name": "stderr",
          "text": [
            "\r 44%|████▍     | 35/80 [00:35<00:45,  1.01s/it]"
          ]
        },
        {
          "output_type": "stream",
          "name": "stdout",
          "text": [
            "(1841, 2289, 3) (1841, 2289, 3)\n"
          ]
        },
        {
          "output_type": "stream",
          "name": "stderr",
          "text": [
            "\r 45%|████▌     | 36/80 [00:36<00:41,  1.06it/s]"
          ]
        },
        {
          "output_type": "stream",
          "name": "stdout",
          "text": [
            "(1759, 2049, 3) (1759, 2049, 3)\n"
          ]
        },
        {
          "output_type": "stream",
          "name": "stderr",
          "text": [
            "\r 46%|████▋     | 37/80 [00:37<00:45,  1.05s/it]"
          ]
        },
        {
          "output_type": "stream",
          "name": "stdout",
          "text": [
            "(1761, 2048, 3) (1761, 2048, 3)\n"
          ]
        },
        {
          "output_type": "stream",
          "name": "stderr",
          "text": [
            "\r 48%|████▊     | 38/80 [00:38<00:42,  1.02s/it]"
          ]
        },
        {
          "output_type": "stream",
          "name": "stdout",
          "text": [
            "(1763, 2049, 3) (1763, 2049, 3)\n"
          ]
        },
        {
          "output_type": "stream",
          "name": "stderr",
          "text": [
            "\r 49%|████▉     | 39/80 [00:39<00:44,  1.07s/it]"
          ]
        },
        {
          "output_type": "stream",
          "name": "stdout",
          "text": [
            "(1757, 2048, 3) (1757, 2048, 3)\n"
          ]
        },
        {
          "output_type": "stream",
          "name": "stderr",
          "text": [
            "\r 50%|█████     | 40/80 [00:40<00:41,  1.03s/it]"
          ]
        },
        {
          "output_type": "stream",
          "name": "stdout",
          "text": [
            "(1760, 2049, 3) (1760, 2049, 3)\n"
          ]
        },
        {
          "output_type": "stream",
          "name": "stderr",
          "text": [
            "\r 51%|█████▏    | 41/80 [00:42<00:43,  1.12s/it]"
          ]
        },
        {
          "output_type": "stream",
          "name": "stdout",
          "text": [
            "(1758, 2463, 3) (1758, 2463, 3)\n"
          ]
        },
        {
          "output_type": "stream",
          "name": "stderr",
          "text": [
            "\r 52%|█████▎    | 42/80 [00:42<00:40,  1.06s/it]"
          ]
        },
        {
          "output_type": "stream",
          "name": "stdout",
          "text": [
            "(1755, 2047, 3) (1755, 2047, 3)\n"
          ]
        },
        {
          "output_type": "stream",
          "name": "stderr",
          "text": [
            "\r 54%|█████▍    | 43/80 [00:44<00:41,  1.11s/it]"
          ]
        },
        {
          "output_type": "stream",
          "name": "stdout",
          "text": [
            "(1753, 2046, 3) (1753, 2046, 3)\n"
          ]
        },
        {
          "output_type": "stream",
          "name": "stderr",
          "text": [
            "\r 55%|█████▌    | 44/80 [00:45<00:39,  1.08s/it]"
          ]
        },
        {
          "output_type": "stream",
          "name": "stdout",
          "text": [
            "(1752, 2047, 3) (1752, 2047, 3)\n"
          ]
        },
        {
          "output_type": "stream",
          "name": "stderr",
          "text": [
            "\r 56%|█████▋    | 45/80 [00:46<00:36,  1.04s/it]"
          ]
        },
        {
          "output_type": "stream",
          "name": "stdout",
          "text": [
            "(1752, 2045, 3) (1752, 2045, 3)\n"
          ]
        },
        {
          "output_type": "stream",
          "name": "stderr",
          "text": [
            "\r 57%|█████▊    | 46/80 [00:47<00:40,  1.19s/it]"
          ]
        },
        {
          "output_type": "stream",
          "name": "stdout",
          "text": [
            "(1760, 2048, 3) (1760, 2048, 3)\n"
          ]
        },
        {
          "output_type": "stream",
          "name": "stderr",
          "text": [
            "\r 59%|█████▉    | 47/80 [00:48<00:38,  1.17s/it]"
          ]
        },
        {
          "output_type": "stream",
          "name": "stdout",
          "text": [
            "(1753, 2049, 3) (1753, 2049, 3)\n"
          ]
        },
        {
          "output_type": "stream",
          "name": "stderr",
          "text": [
            "\r 60%|██████    | 48/80 [00:50<00:41,  1.29s/it]"
          ]
        },
        {
          "output_type": "stream",
          "name": "stdout",
          "text": [
            "(1753, 2046, 3) (1753, 2046, 3)\n"
          ]
        },
        {
          "output_type": "stream",
          "name": "stderr",
          "text": [
            "\r 61%|██████▏   | 49/80 [00:51<00:36,  1.19s/it]"
          ]
        },
        {
          "output_type": "stream",
          "name": "stdout",
          "text": [
            "(1754, 2046, 3) (1754, 2046, 3)\n"
          ]
        },
        {
          "output_type": "stream",
          "name": "stderr",
          "text": [
            "\r 62%|██████▎   | 50/80 [00:52<00:33,  1.11s/it]"
          ]
        },
        {
          "output_type": "stream",
          "name": "stdout",
          "text": [
            "(1761, 2049, 3) (1761, 2049, 3)\n"
          ]
        },
        {
          "output_type": "stream",
          "name": "stderr",
          "text": [
            "\r 64%|██████▍   | 51/80 [00:53<00:32,  1.12s/it]"
          ]
        },
        {
          "output_type": "stream",
          "name": "stdout",
          "text": [
            "(1759, 2049, 3) (1759, 2049, 3)\n"
          ]
        },
        {
          "output_type": "stream",
          "name": "stderr",
          "text": [
            "\r 65%|██████▌   | 52/80 [00:54<00:34,  1.23s/it]"
          ]
        },
        {
          "output_type": "stream",
          "name": "stdout",
          "text": [
            "(1760, 2047, 3) (1760, 2047, 3)\n"
          ]
        },
        {
          "output_type": "stream",
          "name": "stderr",
          "text": [
            "\r 66%|██████▋   | 53/80 [00:55<00:31,  1.15s/it]"
          ]
        },
        {
          "output_type": "stream",
          "name": "stdout",
          "text": [
            "(1761, 2140, 3) (1761, 2140, 3)\n"
          ]
        },
        {
          "output_type": "stream",
          "name": "stderr",
          "text": [
            "\r 68%|██████▊   | 54/80 [00:56<00:27,  1.04s/it]"
          ]
        },
        {
          "output_type": "stream",
          "name": "stdout",
          "text": [
            "(1759, 2048, 3) (1759, 2048, 3)\n"
          ]
        },
        {
          "output_type": "stream",
          "name": "stderr",
          "text": [
            "\r 69%|██████▉   | 55/80 [00:58<00:29,  1.19s/it]"
          ]
        },
        {
          "output_type": "stream",
          "name": "stdout",
          "text": [
            "(1762, 2468, 3) (1762, 2468, 3)\n"
          ]
        },
        {
          "output_type": "stream",
          "name": "stderr",
          "text": [
            "\r 70%|███████   | 56/80 [00:59<00:31,  1.33s/it]"
          ]
        },
        {
          "output_type": "stream",
          "name": "stdout",
          "text": [
            "(1757, 2047, 3) (1757, 2047, 3)\n"
          ]
        },
        {
          "output_type": "stream",
          "name": "stderr",
          "text": [
            "\r 71%|███████▏  | 57/80 [01:00<00:28,  1.26s/it]"
          ]
        },
        {
          "output_type": "stream",
          "name": "stdout",
          "text": [
            "(1760, 2049, 3) (1760, 2049, 3)\n"
          ]
        },
        {
          "output_type": "stream",
          "name": "stderr",
          "text": [
            "\r 72%|███████▎  | 58/80 [01:01<00:26,  1.19s/it]"
          ]
        },
        {
          "output_type": "stream",
          "name": "stdout",
          "text": [
            "(1762, 2048, 3) (1762, 2048, 3)\n"
          ]
        },
        {
          "output_type": "stream",
          "name": "stderr",
          "text": [
            "\r 74%|███████▍  | 59/80 [01:03<00:24,  1.15s/it]"
          ]
        },
        {
          "output_type": "stream",
          "name": "stdout",
          "text": [
            "(1755, 2048, 3) (1755, 2048, 3)\n"
          ]
        },
        {
          "output_type": "stream",
          "name": "stderr",
          "text": [
            "\r 75%|███████▌  | 60/80 [01:03<00:21,  1.07s/it]"
          ]
        },
        {
          "output_type": "stream",
          "name": "stdout",
          "text": [
            "(1754, 2046, 3) (1754, 2046, 3)\n"
          ]
        },
        {
          "output_type": "stream",
          "name": "stderr",
          "text": [
            "\r 76%|███████▋  | 61/80 [01:04<00:17,  1.09it/s]"
          ]
        },
        {
          "output_type": "stream",
          "name": "stdout",
          "text": [
            "(1759, 2048, 3) (1759, 2048, 3)\n"
          ]
        },
        {
          "output_type": "stream",
          "name": "stderr",
          "text": [
            "\r 78%|███████▊  | 62/80 [01:05<00:17,  1.03it/s]"
          ]
        },
        {
          "output_type": "stream",
          "name": "stdout",
          "text": [
            "(1760, 2048, 3) (1760, 2048, 3)\n"
          ]
        },
        {
          "output_type": "stream",
          "name": "stderr",
          "text": [
            "\r 79%|███████▉  | 63/80 [01:06<00:16,  1.05it/s]"
          ]
        },
        {
          "output_type": "stream",
          "name": "stdout",
          "text": [
            "(1758, 2049, 3) (1758, 2049, 3)\n"
          ]
        },
        {
          "output_type": "stream",
          "name": "stderr",
          "text": [
            "\r 80%|████████  | 64/80 [01:07<00:16,  1.04s/it]"
          ]
        },
        {
          "output_type": "stream",
          "name": "stdout",
          "text": [
            "(1750, 2048, 3) (1750, 2048, 3)\n"
          ]
        },
        {
          "output_type": "stream",
          "name": "stderr",
          "text": [
            "\r 81%|████████▏ | 65/80 [01:08<00:14,  1.05it/s]"
          ]
        },
        {
          "output_type": "stream",
          "name": "stdout",
          "text": [
            "(1754, 2049, 3) (1754, 2049, 3)\n"
          ]
        },
        {
          "output_type": "stream",
          "name": "stderr",
          "text": [
            "\r 82%|████████▎ | 66/80 [01:09<00:15,  1.12s/it]"
          ]
        },
        {
          "output_type": "stream",
          "name": "stdout",
          "text": [
            "(1835, 2049, 3) (1835, 2049, 3)\n"
          ]
        },
        {
          "output_type": "stream",
          "name": "stderr",
          "text": [
            "\r 84%|████████▍ | 67/80 [01:10<00:13,  1.02s/it]"
          ]
        },
        {
          "output_type": "stream",
          "name": "stdout",
          "text": [
            "(1761, 2048, 3) (1761, 2048, 3)\n"
          ]
        },
        {
          "output_type": "stream",
          "name": "stderr",
          "text": [
            "\r 85%|████████▌ | 68/80 [01:12<00:13,  1.12s/it]"
          ]
        },
        {
          "output_type": "stream",
          "name": "stdout",
          "text": [
            "(1760, 2047, 3) (1760, 2047, 3)\n"
          ]
        },
        {
          "output_type": "stream",
          "name": "stderr",
          "text": [
            "\r 86%|████████▋ | 69/80 [01:12<00:11,  1.04s/it]"
          ]
        },
        {
          "output_type": "stream",
          "name": "stdout",
          "text": [
            "(1749, 2049, 3) (1749, 2049, 3)\n"
          ]
        },
        {
          "output_type": "stream",
          "name": "stderr",
          "text": [
            "\r 88%|████████▊ | 70/80 [01:14<00:11,  1.10s/it]"
          ]
        },
        {
          "output_type": "stream",
          "name": "stdout",
          "text": [
            "(1749, 2049, 3) (1749, 2049, 3)\n"
          ]
        },
        {
          "output_type": "stream",
          "name": "stderr",
          "text": [
            "\r 89%|████████▉ | 71/80 [01:15<00:09,  1.06s/it]"
          ]
        },
        {
          "output_type": "stream",
          "name": "stdout",
          "text": [
            "(1749, 2048, 3) (1749, 2048, 3)\n"
          ]
        },
        {
          "output_type": "stream",
          "name": "stderr",
          "text": [
            "\r 90%|█████████ | 72/80 [01:16<00:08,  1.07s/it]"
          ]
        },
        {
          "output_type": "stream",
          "name": "stdout",
          "text": [
            "(1749, 2050, 3) (1749, 2050, 3)\n"
          ]
        },
        {
          "output_type": "stream",
          "name": "stderr",
          "text": [
            "\r 91%|█████████▏| 73/80 [01:17<00:07,  1.02s/it]"
          ]
        },
        {
          "output_type": "stream",
          "name": "stdout",
          "text": [
            "(1748, 2048, 3) (1748, 2048, 3)\n"
          ]
        },
        {
          "output_type": "stream",
          "name": "stderr",
          "text": [
            "\r 92%|█████████▎| 74/80 [01:19<00:08,  1.39s/it]"
          ]
        },
        {
          "output_type": "stream",
          "name": "stdout",
          "text": [
            "(1750, 2049, 3) (1750, 2049, 3)\n"
          ]
        },
        {
          "output_type": "stream",
          "name": "stderr",
          "text": [
            "\r 94%|█████████▍| 75/80 [01:20<00:06,  1.24s/it]"
          ]
        },
        {
          "output_type": "stream",
          "name": "stdout",
          "text": [
            "(1750, 2048, 3) (1750, 2048, 3)\n"
          ]
        },
        {
          "output_type": "stream",
          "name": "stderr",
          "text": [
            "\r 95%|█████████▌| 76/80 [01:21<00:04,  1.20s/it]"
          ]
        },
        {
          "output_type": "stream",
          "name": "stdout",
          "text": [
            "(1749, 2049, 3) (1749, 2049, 3)\n"
          ]
        },
        {
          "output_type": "stream",
          "name": "stderr",
          "text": [
            "\r 96%|█████████▋| 77/80 [01:22<00:03,  1.27s/it]"
          ]
        },
        {
          "output_type": "stream",
          "name": "stdout",
          "text": [
            "(1749, 2049, 3) (1749, 2049, 3)\n"
          ]
        },
        {
          "output_type": "stream",
          "name": "stderr",
          "text": [
            "\r 98%|█████████▊| 78/80 [01:23<00:02,  1.11s/it]"
          ]
        },
        {
          "output_type": "stream",
          "name": "stdout",
          "text": [
            "(1749, 2048, 3) (1749, 2048, 3)\n"
          ]
        },
        {
          "output_type": "stream",
          "name": "stderr",
          "text": [
            "\r 99%|█████████▉| 79/80 [01:24<00:01,  1.12s/it]"
          ]
        },
        {
          "output_type": "stream",
          "name": "stdout",
          "text": [
            "(1748, 2047, 3) (1748, 2047, 3)\n"
          ]
        },
        {
          "output_type": "stream",
          "name": "stderr",
          "text": [
            "100%|██████████| 80/80 [01:25<00:00,  1.07s/it]\n"
          ]
        },
        {
          "output_type": "stream",
          "name": "stdout",
          "text": [
            "(1749, 2048, 3) (1749, 2048, 3)\n"
          ]
        },
        {
          "output_type": "stream",
          "name": "stderr",
          "text": [
            "  6%|▋         | 1/16 [00:00<00:11,  1.27it/s]"
          ]
        },
        {
          "output_type": "stream",
          "name": "stdout",
          "text": [
            "(1751, 2049, 3) (1751, 2049, 3)\n"
          ]
        },
        {
          "output_type": "stream",
          "name": "stderr",
          "text": [
            "\r 12%|█▎        | 2/16 [00:01<00:11,  1.18it/s]"
          ]
        },
        {
          "output_type": "stream",
          "name": "stdout",
          "text": [
            "(1759, 2047, 3) (1759, 2047, 3)\n"
          ]
        },
        {
          "output_type": "stream",
          "name": "stderr",
          "text": [
            "\r 19%|█▉        | 3/16 [00:02<00:11,  1.16it/s]"
          ]
        },
        {
          "output_type": "stream",
          "name": "stdout",
          "text": [
            "(1759, 2047, 3) (1759, 2047, 3)\n"
          ]
        },
        {
          "output_type": "stream",
          "name": "stderr",
          "text": [
            "\r 25%|██▌       | 4/16 [00:04<00:16,  1.37s/it]"
          ]
        },
        {
          "output_type": "stream",
          "name": "stdout",
          "text": [
            "(1755, 2048, 3) (1755, 2048, 3)\n"
          ]
        },
        {
          "output_type": "stream",
          "name": "stderr",
          "text": [
            "\r 31%|███▏      | 5/16 [00:05<00:13,  1.20s/it]"
          ]
        },
        {
          "output_type": "stream",
          "name": "stdout",
          "text": [
            "(1757, 2049, 3) (1757, 2049, 3)\n"
          ]
        },
        {
          "output_type": "stream",
          "name": "stderr",
          "text": [
            "\r 38%|███▊      | 6/16 [00:06<00:11,  1.19s/it]"
          ]
        },
        {
          "output_type": "stream",
          "name": "stdout",
          "text": [
            "(1754, 2048, 3) (1754, 2048, 3)\n"
          ]
        },
        {
          "output_type": "stream",
          "name": "stderr",
          "text": [
            "\r 44%|████▍     | 7/16 [00:07<00:10,  1.11s/it]"
          ]
        },
        {
          "output_type": "stream",
          "name": "stdout",
          "text": [
            "(1752, 2049, 3) (1752, 2049, 3)\n"
          ]
        },
        {
          "output_type": "stream",
          "name": "stderr",
          "text": [
            "\r 50%|█████     | 8/16 [00:08<00:09,  1.13s/it]"
          ]
        },
        {
          "output_type": "stream",
          "name": "stdout",
          "text": [
            "(1759, 2463, 3) (1759, 2463, 3)\n"
          ]
        },
        {
          "output_type": "stream",
          "name": "stderr",
          "text": [
            "\r 56%|█████▋    | 9/16 [00:09<00:07,  1.10s/it]"
          ]
        },
        {
          "output_type": "stream",
          "name": "stdout",
          "text": [
            "(1760, 2048, 3) (1760, 2048, 3)\n"
          ]
        },
        {
          "output_type": "stream",
          "name": "stderr",
          "text": [
            "\r 62%|██████▎   | 10/16 [00:10<00:06,  1.08s/it]"
          ]
        },
        {
          "output_type": "stream",
          "name": "stdout",
          "text": [
            "(1760, 2049, 3) (1760, 2049, 3)\n"
          ]
        },
        {
          "output_type": "stream",
          "name": "stderr",
          "text": [
            "\r 69%|██████▉   | 11/16 [00:12<00:05,  1.17s/it]"
          ]
        },
        {
          "output_type": "stream",
          "name": "stdout",
          "text": [
            "(1757, 2048, 3) (1757, 2048, 3)\n"
          ]
        },
        {
          "output_type": "stream",
          "name": "stderr",
          "text": [
            "\r 75%|███████▌  | 12/16 [00:13<00:04,  1.19s/it]"
          ]
        },
        {
          "output_type": "stream",
          "name": "stdout",
          "text": [
            "(1761, 2047, 3) (1761, 2047, 3)\n"
          ]
        },
        {
          "output_type": "stream",
          "name": "stderr",
          "text": [
            "\r 81%|████████▏ | 13/16 [00:14<00:03,  1.15s/it]"
          ]
        },
        {
          "output_type": "stream",
          "name": "stdout",
          "text": [
            "(1757, 2468, 3) (1757, 2468, 3)\n"
          ]
        },
        {
          "output_type": "stream",
          "name": "stderr",
          "text": [
            "\r 88%|████████▊ | 14/16 [00:15<00:02,  1.07s/it]"
          ]
        },
        {
          "output_type": "stream",
          "name": "stdout",
          "text": [
            "(1761, 2048, 3) (1761, 2048, 3)\n"
          ]
        },
        {
          "output_type": "stream",
          "name": "stderr",
          "text": [
            "\r 94%|█████████▍| 15/16 [00:16<00:01,  1.05s/it]"
          ]
        },
        {
          "output_type": "stream",
          "name": "stdout",
          "text": [
            "(1760, 2048, 3) (1760, 2048, 3)\n"
          ]
        },
        {
          "output_type": "stream",
          "name": "stderr",
          "text": [
            "100%|██████████| 16/16 [00:17<00:00,  1.09s/it]"
          ]
        },
        {
          "output_type": "stream",
          "name": "stdout",
          "text": [
            "(1758, 2050, 3) (1758, 2050, 3)\n"
          ]
        },
        {
          "output_type": "stream",
          "name": "stderr",
          "text": [
            "\n"
          ]
        }
      ]
    },
    {
      "cell_type": "markdown",
      "metadata": {
        "id": "9iM1FW5QtYoj"
      },
      "source": [
        "# Model"
      ]
    },
    {
      "cell_type": "code",
      "metadata": {
        "id": "5QCzO0gBtd6f",
        "colab": {
          "base_uri": "https://localhost:8080/"
        },
        "outputId": "68f71913-08bb-43fa-d021-3ee4d5b51f30"
      },
      "source": [
        "from tensorflow.keras.layers import Conv2D, BatchNormalization, Activation, MaxPool2D, Conv2DTranspose, Concatenate, Input\n",
        "from tensorflow.keras.models import Model\n",
        "\n",
        "def conv_block(inputs, num_filters):\n",
        "    x = Conv2D(num_filters, 3, padding=\"same\")(inputs)\n",
        "    x = BatchNormalization()(x)\n",
        "    x = Activation(\"relu\")(x)\n",
        "\n",
        "    x = Conv2D(num_filters, 3, padding=\"same\")(x)\n",
        "    x = BatchNormalization()(x)\n",
        "    x = Activation(\"relu\")(x)\n",
        "\n",
        "    return x\n",
        "\n",
        "def encoder_block(inputs, num_filters):\n",
        "    x = conv_block(inputs, num_filters)\n",
        "    p = MaxPool2D((2, 2))(x)\n",
        "    return x, p\n",
        "\n",
        "def decoder_block(inputs, skip_features, num_filters):\n",
        "    x = Conv2DTranspose(num_filters, (2, 2), strides=2, padding=\"same\")(inputs)\n",
        "    x = Concatenate()([x, skip_features])\n",
        "    x = conv_block(x, num_filters)\n",
        "    return x\n",
        "\n",
        "def build_unet(input_shape):\n",
        "    inputs = Input(input_shape)\n",
        "\n",
        "    s1, p1 = encoder_block(inputs, 64)\n",
        "    s2, p2 = encoder_block(p1, 128)\n",
        "    s3, p3 = encoder_block(p2, 256)\n",
        "    s4, p4 = encoder_block(p3, 512)\n",
        "\n",
        "    b1 = conv_block(p4, 1024)\n",
        "\n",
        "    d1 = decoder_block(b1, s4, 512)\n",
        "    d2 = decoder_block(d1, s3, 256)\n",
        "    d3 = decoder_block(d2, s2, 128)\n",
        "    d4 = decoder_block(d3, s1, 64)\n",
        "\n",
        "    outputs = Conv2D(1, 1, padding=\"same\", activation=\"sigmoid\")(d4)\n",
        "\n",
        "    model = Model(inputs, outputs, name=\"UNET\")\n",
        "    return model\n",
        "\n",
        "if __name__ == \"__main__\":\n",
        "    input_shape = (512, 512, 3)\n",
        "    model = build_unet(input_shape)\n",
        "    model.summary()"
      ],
      "execution_count": 3,
      "outputs": [
        {
          "output_type": "stream",
          "name": "stdout",
          "text": [
            "Model: \"UNET\"\n",
            "__________________________________________________________________________________________________\n",
            "Layer (type)                    Output Shape         Param #     Connected to                     \n",
            "==================================================================================================\n",
            "input_1 (InputLayer)            [(None, 512, 512, 3) 0                                            \n",
            "__________________________________________________________________________________________________\n",
            "conv2d (Conv2D)                 (None, 512, 512, 64) 1792        input_1[0][0]                    \n",
            "__________________________________________________________________________________________________\n",
            "batch_normalization (BatchNorma (None, 512, 512, 64) 256         conv2d[0][0]                     \n",
            "__________________________________________________________________________________________________\n",
            "activation (Activation)         (None, 512, 512, 64) 0           batch_normalization[0][0]        \n",
            "__________________________________________________________________________________________________\n",
            "conv2d_1 (Conv2D)               (None, 512, 512, 64) 36928       activation[0][0]                 \n",
            "__________________________________________________________________________________________________\n",
            "batch_normalization_1 (BatchNor (None, 512, 512, 64) 256         conv2d_1[0][0]                   \n",
            "__________________________________________________________________________________________________\n",
            "activation_1 (Activation)       (None, 512, 512, 64) 0           batch_normalization_1[0][0]      \n",
            "__________________________________________________________________________________________________\n",
            "max_pooling2d (MaxPooling2D)    (None, 256, 256, 64) 0           activation_1[0][0]               \n",
            "__________________________________________________________________________________________________\n",
            "conv2d_2 (Conv2D)               (None, 256, 256, 128 73856       max_pooling2d[0][0]              \n",
            "__________________________________________________________________________________________________\n",
            "batch_normalization_2 (BatchNor (None, 256, 256, 128 512         conv2d_2[0][0]                   \n",
            "__________________________________________________________________________________________________\n",
            "activation_2 (Activation)       (None, 256, 256, 128 0           batch_normalization_2[0][0]      \n",
            "__________________________________________________________________________________________________\n",
            "conv2d_3 (Conv2D)               (None, 256, 256, 128 147584      activation_2[0][0]               \n",
            "__________________________________________________________________________________________________\n",
            "batch_normalization_3 (BatchNor (None, 256, 256, 128 512         conv2d_3[0][0]                   \n",
            "__________________________________________________________________________________________________\n",
            "activation_3 (Activation)       (None, 256, 256, 128 0           batch_normalization_3[0][0]      \n",
            "__________________________________________________________________________________________________\n",
            "max_pooling2d_1 (MaxPooling2D)  (None, 128, 128, 128 0           activation_3[0][0]               \n",
            "__________________________________________________________________________________________________\n",
            "conv2d_4 (Conv2D)               (None, 128, 128, 256 295168      max_pooling2d_1[0][0]            \n",
            "__________________________________________________________________________________________________\n",
            "batch_normalization_4 (BatchNor (None, 128, 128, 256 1024        conv2d_4[0][0]                   \n",
            "__________________________________________________________________________________________________\n",
            "activation_4 (Activation)       (None, 128, 128, 256 0           batch_normalization_4[0][0]      \n",
            "__________________________________________________________________________________________________\n",
            "conv2d_5 (Conv2D)               (None, 128, 128, 256 590080      activation_4[0][0]               \n",
            "__________________________________________________________________________________________________\n",
            "batch_normalization_5 (BatchNor (None, 128, 128, 256 1024        conv2d_5[0][0]                   \n",
            "__________________________________________________________________________________________________\n",
            "activation_5 (Activation)       (None, 128, 128, 256 0           batch_normalization_5[0][0]      \n",
            "__________________________________________________________________________________________________\n",
            "max_pooling2d_2 (MaxPooling2D)  (None, 64, 64, 256)  0           activation_5[0][0]               \n",
            "__________________________________________________________________________________________________\n",
            "conv2d_6 (Conv2D)               (None, 64, 64, 512)  1180160     max_pooling2d_2[0][0]            \n",
            "__________________________________________________________________________________________________\n",
            "batch_normalization_6 (BatchNor (None, 64, 64, 512)  2048        conv2d_6[0][0]                   \n",
            "__________________________________________________________________________________________________\n",
            "activation_6 (Activation)       (None, 64, 64, 512)  0           batch_normalization_6[0][0]      \n",
            "__________________________________________________________________________________________________\n",
            "conv2d_7 (Conv2D)               (None, 64, 64, 512)  2359808     activation_6[0][0]               \n",
            "__________________________________________________________________________________________________\n",
            "batch_normalization_7 (BatchNor (None, 64, 64, 512)  2048        conv2d_7[0][0]                   \n",
            "__________________________________________________________________________________________________\n",
            "activation_7 (Activation)       (None, 64, 64, 512)  0           batch_normalization_7[0][0]      \n",
            "__________________________________________________________________________________________________\n",
            "max_pooling2d_3 (MaxPooling2D)  (None, 32, 32, 512)  0           activation_7[0][0]               \n",
            "__________________________________________________________________________________________________\n",
            "conv2d_8 (Conv2D)               (None, 32, 32, 1024) 4719616     max_pooling2d_3[0][0]            \n",
            "__________________________________________________________________________________________________\n",
            "batch_normalization_8 (BatchNor (None, 32, 32, 1024) 4096        conv2d_8[0][0]                   \n",
            "__________________________________________________________________________________________________\n",
            "activation_8 (Activation)       (None, 32, 32, 1024) 0           batch_normalization_8[0][0]      \n",
            "__________________________________________________________________________________________________\n",
            "conv2d_9 (Conv2D)               (None, 32, 32, 1024) 9438208     activation_8[0][0]               \n",
            "__________________________________________________________________________________________________\n",
            "batch_normalization_9 (BatchNor (None, 32, 32, 1024) 4096        conv2d_9[0][0]                   \n",
            "__________________________________________________________________________________________________\n",
            "activation_9 (Activation)       (None, 32, 32, 1024) 0           batch_normalization_9[0][0]      \n",
            "__________________________________________________________________________________________________\n",
            "conv2d_transpose (Conv2DTranspo (None, 64, 64, 512)  2097664     activation_9[0][0]               \n",
            "__________________________________________________________________________________________________\n",
            "concatenate (Concatenate)       (None, 64, 64, 1024) 0           conv2d_transpose[0][0]           \n",
            "                                                                 activation_7[0][0]               \n",
            "__________________________________________________________________________________________________\n",
            "conv2d_10 (Conv2D)              (None, 64, 64, 512)  4719104     concatenate[0][0]                \n",
            "__________________________________________________________________________________________________\n",
            "batch_normalization_10 (BatchNo (None, 64, 64, 512)  2048        conv2d_10[0][0]                  \n",
            "__________________________________________________________________________________________________\n",
            "activation_10 (Activation)      (None, 64, 64, 512)  0           batch_normalization_10[0][0]     \n",
            "__________________________________________________________________________________________________\n",
            "conv2d_11 (Conv2D)              (None, 64, 64, 512)  2359808     activation_10[0][0]              \n",
            "__________________________________________________________________________________________________\n",
            "batch_normalization_11 (BatchNo (None, 64, 64, 512)  2048        conv2d_11[0][0]                  \n",
            "__________________________________________________________________________________________________\n",
            "activation_11 (Activation)      (None, 64, 64, 512)  0           batch_normalization_11[0][0]     \n",
            "__________________________________________________________________________________________________\n",
            "conv2d_transpose_1 (Conv2DTrans (None, 128, 128, 256 524544      activation_11[0][0]              \n",
            "__________________________________________________________________________________________________\n",
            "concatenate_1 (Concatenate)     (None, 128, 128, 512 0           conv2d_transpose_1[0][0]         \n",
            "                                                                 activation_5[0][0]               \n",
            "__________________________________________________________________________________________________\n",
            "conv2d_12 (Conv2D)              (None, 128, 128, 256 1179904     concatenate_1[0][0]              \n",
            "__________________________________________________________________________________________________\n",
            "batch_normalization_12 (BatchNo (None, 128, 128, 256 1024        conv2d_12[0][0]                  \n",
            "__________________________________________________________________________________________________\n",
            "activation_12 (Activation)      (None, 128, 128, 256 0           batch_normalization_12[0][0]     \n",
            "__________________________________________________________________________________________________\n",
            "conv2d_13 (Conv2D)              (None, 128, 128, 256 590080      activation_12[0][0]              \n",
            "__________________________________________________________________________________________________\n",
            "batch_normalization_13 (BatchNo (None, 128, 128, 256 1024        conv2d_13[0][0]                  \n",
            "__________________________________________________________________________________________________\n",
            "activation_13 (Activation)      (None, 128, 128, 256 0           batch_normalization_13[0][0]     \n",
            "__________________________________________________________________________________________________\n",
            "conv2d_transpose_2 (Conv2DTrans (None, 256, 256, 128 131200      activation_13[0][0]              \n",
            "__________________________________________________________________________________________________\n",
            "concatenate_2 (Concatenate)     (None, 256, 256, 256 0           conv2d_transpose_2[0][0]         \n",
            "                                                                 activation_3[0][0]               \n",
            "__________________________________________________________________________________________________\n",
            "conv2d_14 (Conv2D)              (None, 256, 256, 128 295040      concatenate_2[0][0]              \n",
            "__________________________________________________________________________________________________\n",
            "batch_normalization_14 (BatchNo (None, 256, 256, 128 512         conv2d_14[0][0]                  \n",
            "__________________________________________________________________________________________________\n",
            "activation_14 (Activation)      (None, 256, 256, 128 0           batch_normalization_14[0][0]     \n",
            "__________________________________________________________________________________________________\n",
            "conv2d_15 (Conv2D)              (None, 256, 256, 128 147584      activation_14[0][0]              \n",
            "__________________________________________________________________________________________________\n",
            "batch_normalization_15 (BatchNo (None, 256, 256, 128 512         conv2d_15[0][0]                  \n",
            "__________________________________________________________________________________________________\n",
            "activation_15 (Activation)      (None, 256, 256, 128 0           batch_normalization_15[0][0]     \n",
            "__________________________________________________________________________________________________\n",
            "conv2d_transpose_3 (Conv2DTrans (None, 512, 512, 64) 32832       activation_15[0][0]              \n",
            "__________________________________________________________________________________________________\n",
            "concatenate_3 (Concatenate)     (None, 512, 512, 128 0           conv2d_transpose_3[0][0]         \n",
            "                                                                 activation_1[0][0]               \n",
            "__________________________________________________________________________________________________\n",
            "conv2d_16 (Conv2D)              (None, 512, 512, 64) 73792       concatenate_3[0][0]              \n",
            "__________________________________________________________________________________________________\n",
            "batch_normalization_16 (BatchNo (None, 512, 512, 64) 256         conv2d_16[0][0]                  \n",
            "__________________________________________________________________________________________________\n",
            "activation_16 (Activation)      (None, 512, 512, 64) 0           batch_normalization_16[0][0]     \n",
            "__________________________________________________________________________________________________\n",
            "conv2d_17 (Conv2D)              (None, 512, 512, 64) 36928       activation_16[0][0]              \n",
            "__________________________________________________________________________________________________\n",
            "batch_normalization_17 (BatchNo (None, 512, 512, 64) 256         conv2d_17[0][0]                  \n",
            "__________________________________________________________________________________________________\n",
            "activation_17 (Activation)      (None, 512, 512, 64) 0           batch_normalization_17[0][0]     \n",
            "__________________________________________________________________________________________________\n",
            "conv2d_18 (Conv2D)              (None, 512, 512, 1)  65          activation_17[0][0]              \n",
            "==================================================================================================\n",
            "Total params: 31,055,297\n",
            "Trainable params: 31,043,521\n",
            "Non-trainable params: 11,776\n",
            "__________________________________________________________________________________________________\n"
          ]
        }
      ]
    },
    {
      "cell_type": "markdown",
      "metadata": {
        "id": "46CeXq0Atiu7"
      },
      "source": [
        "# Metrices"
      ]
    },
    {
      "cell_type": "code",
      "metadata": {
        "id": "ZaJzqEjjtpRv"
      },
      "source": [
        "import numpy as np\n",
        "import tensorflow as tf\n",
        "from tensorflow.keras import backend as K\n",
        "\n",
        "def iou(y_true, y_pred):\n",
        "    def f(y_true, y_pred):\n",
        "        intersection = (y_true * y_pred).sum()\n",
        "        union = y_true.sum() + y_pred.sum() - intersection\n",
        "        x = (intersection + 1e-15) / (union + 1e-15)\n",
        "        x = x.astype(np.float32)\n",
        "        return x\n",
        "    return tf.numpy_function(f, [y_true, y_pred], tf.float32)\n",
        "\n",
        "smooth = 1e-15\n",
        "def dice_coef(y_true, y_pred):\n",
        "    y_true = tf.keras.layers.Flatten()(y_true)\n",
        "    y_pred = tf.keras.layers.Flatten()(y_pred)\n",
        "    intersection = tf.reduce_sum(y_true * y_pred)\n",
        "    return (2. * intersection + smooth) / (tf.reduce_sum(y_true) + tf.reduce_sum(y_pred) + smooth)\n",
        "\n",
        "def dice_loss(y_true, y_pred):\n",
        "    return 1.0 - dice_coef(y_true, y_pred)"
      ],
      "execution_count": 4,
      "outputs": []
    },
    {
      "cell_type": "markdown",
      "metadata": {
        "id": "XSmGxnhMtx2g"
      },
      "source": [
        "# Train"
      ]
    },
    {
      "cell_type": "code",
      "metadata": {
        "colab": {
          "base_uri": "https://localhost:8080/"
        },
        "id": "rAJHk8GCt1MW",
        "outputId": "acad7530-03ff-4385-9271-66f7d12902ec"
      },
      "source": [
        "import os\n",
        "os.environ[\"TF_CPP_MIN_LOG_LEVEL\"] = \"2\"\n",
        "import numpy as np\n",
        "import cv2\n",
        "from glob import glob\n",
        "from sklearn.utils import shuffle\n",
        "import tensorflow as tf\n",
        "from tensorflow.keras.callbacks import ModelCheckpoint, CSVLogger, ReduceLROnPlateau, EarlyStopping, TensorBoard\n",
        "from tensorflow.keras.optimizers import Adam\n",
        "from tensorflow.keras.metrics import Recall, Precision\n",
        "#from Model_UNet_Simple import build_unet\n",
        "#from Metrices import dice_loss, dice_coef, iou\n",
        "\n",
        "H = 512\n",
        "W = 512\n",
        "\n",
        "def create_dir(path):\n",
        "    if not os.path.exists(path):\n",
        "        os.makedirs(path)\n",
        "\n",
        "def load_data(path):\n",
        "    x = sorted(glob(os.path.join(path, \"image\", \"*.png\")))\n",
        "    y = sorted(glob(os.path.join(path, \"mask\", \"*.png\")))\n",
        "    return x, y\n",
        "\n",
        "def shuffling(x, y):\n",
        "    x, y = shuffle(x, y, random_state=42)\n",
        "    return x, y\n",
        "\n",
        "def read_image(path):\n",
        "    path = path.decode()\n",
        "    x = cv2.imread(path, cv2.IMREAD_COLOR)\n",
        "    # x = cv2.resize(x, (W, H))\n",
        "    x = x/255.0\n",
        "    x = x.astype(np.float32)\n",
        "    return x\n",
        "\n",
        "def read_mask(path):\n",
        "    path = path.decode()\n",
        "    x = cv2.imread(path, cv2.IMREAD_GRAYSCALE)  ## (512, 512)\n",
        "    # x = cv2.resize(x, (W, H))\n",
        "    x = x/255.0\n",
        "    x = x.astype(np.float32)\n",
        "    x = np.expand_dims(x, axis=-1)              ## (512, 512, 1)\n",
        "    return x\n",
        "\n",
        "def tf_parse(x, y):\n",
        "    def _parse(x, y):\n",
        "        x = read_image(x)\n",
        "        y = read_mask(y)\n",
        "        return x, y\n",
        "\n",
        "    x, y = tf.numpy_function(_parse, [x, y], [tf.float32, tf.float32])\n",
        "    x.set_shape([H, W, 3])\n",
        "    y.set_shape([H, W, 1])\n",
        "    return x, y\n",
        "\n",
        "def tf_dataset(X, Y, batch_size=2):\n",
        "    dataset = tf.data.Dataset.from_tensor_slices((X, Y))\n",
        "    dataset = dataset.map(tf_parse)\n",
        "    dataset = dataset.batch(batch_size)\n",
        "    dataset = dataset.prefetch(4)\n",
        "    return dataset\n",
        "\n",
        "if __name__ == \"__main__\":\n",
        "    \"\"\" Seeding \"\"\"\n",
        "    np.random.seed(42)\n",
        "    tf.random.set_seed(42)\n",
        "\n",
        "    \"\"\" Directory to save files \"\"\"\n",
        "    create_dir(\"files\")\n",
        "\n",
        "    \"\"\" Hyperparameters \"\"\"\n",
        "    batch_size = 2\n",
        "    lr = 1e-4\n",
        "    num_epochs = 100\n",
        "    model_path = os.path.join(\"files\", \"model.h5\")\n",
        "    csv_path = os.path.join(\"files\", \"data.csv\")\n",
        "\n",
        "    \"\"\" Dataset \"\"\"\n",
        "    dataset_path = \"new_data\"\n",
        "    train_path = os.path.join(dataset_path, \"train\")\n",
        "    valid_path = os.path.join(dataset_path, \"test\")\n",
        "\n",
        "    train_x, train_y = load_data(train_path)\n",
        "    train_x, train_y = shuffling(train_x, train_y)\n",
        "    valid_x, valid_y = load_data(valid_path)\n",
        "\n",
        "    print(f\"Train: {len(train_x)} - {len(train_y)}\")\n",
        "    print(f\"Valid: {len(valid_x)} - {len(valid_y)}\")\n",
        "\n",
        "    train_dataset = tf_dataset(train_x, train_y, batch_size=batch_size)\n",
        "    valid_dataset = tf_dataset(valid_x, valid_y, batch_size=batch_size)\n",
        "\n",
        "    train_steps = len(train_x)//batch_size\n",
        "    valid_setps = len(valid_x)//batch_size\n",
        "\n",
        "    if len(train_x) % batch_size != 0:\n",
        "        train_steps += 1\n",
        "    if len(valid_x) % batch_size != 0:\n",
        "        valid_setps += 1\n",
        "\n",
        "    \"\"\" Model \"\"\"\n",
        "    model = build_unet((H, W, 3))\n",
        "    model.compile(loss=dice_loss, optimizer=Adam(lr), metrics=[dice_coef, iou, Recall(), Precision()])\n",
        "    #model.summary()\n",
        "\n",
        "    callbacks = [\n",
        "        ModelCheckpoint(model_path, verbose=1, save_best_only=True),\n",
        "        #ReduceLROnPlateau(monitor=\"val_loss\", factor=0.1, patience=5, min_lr=1e-6, verbose=1),\n",
        "        CSVLogger(csv_path),\n",
        "        TensorBoard(),\n",
        "        #EarlyStopping(monitor=\"val_loss\", patience=10, restore_best_weights=False)\n",
        "    ]\n",
        "\n",
        "    model.fit(\n",
        "        train_dataset,\n",
        "        epochs=num_epochs,\n",
        "        validation_data=valid_dataset,\n",
        "        steps_per_epoch=train_steps,\n",
        "        validation_steps=valid_setps,\n",
        "        callbacks=callbacks\n",
        "    )"
      ],
      "execution_count": 5,
      "outputs": [
        {
          "output_type": "stream",
          "name": "stdout",
          "text": [
            "Train: 80 - 80\n",
            "Valid: 16 - 16\n",
            "Epoch 1/100\n",
            "40/40 [==============================] - 126s 2s/step - loss: 0.8047 - dice_coef: 0.1953 - iou: 0.1100 - recall: 0.9445 - precision: 0.1824 - val_loss: 0.9331 - val_dice_coef: 0.0669 - val_iou: 0.0347 - val_recall: 0.0041 - val_precision: 0.9613\n",
            "\n",
            "Epoch 00001: val_loss improved from inf to 0.93307, saving model to files/model.h5\n",
            "Epoch 2/100\n",
            "40/40 [==============================] - 77s 2s/step - loss: 0.6281 - dice_coef: 0.3719 - iou: 0.2297 - recall: 0.9581 - precision: 0.7422 - val_loss: 0.9172 - val_dice_coef: 0.0828 - val_iou: 0.0432 - val_recall: 0.4655 - val_precision: 0.3763\n",
            "\n",
            "Epoch 00002: val_loss improved from 0.93307 to 0.91718, saving model to files/model.h5\n",
            "Epoch 3/100\n",
            "40/40 [==============================] - 72s 2s/step - loss: 0.5569 - dice_coef: 0.4431 - iou: 0.2856 - recall: 0.9566 - precision: 0.8439 - val_loss: 0.9263 - val_dice_coef: 0.0737 - val_iou: 0.0383 - val_recall: 0.0391 - val_precision: 1.0000\n",
            "\n",
            "Epoch 00003: val_loss did not improve from 0.91718\n",
            "Epoch 4/100\n",
            "40/40 [==============================] - 72s 2s/step - loss: 0.5215 - dice_coef: 0.4785 - iou: 0.3155 - recall: 0.9487 - precision: 0.8454 - val_loss: 0.9016 - val_dice_coef: 0.0984 - val_iou: 0.0519 - val_recall: 0.1252 - val_precision: 0.9763\n",
            "\n",
            "Epoch 00004: val_loss improved from 0.91718 to 0.90158, saving model to files/model.h5\n",
            "Epoch 5/100\n",
            "40/40 [==============================] - 72s 2s/step - loss: 0.4796 - dice_coef: 0.5204 - iou: 0.3528 - recall: 0.9538 - precision: 0.8955 - val_loss: 0.9488 - val_dice_coef: 0.0512 - val_iou: 0.0263 - val_recall: 0.0000e+00 - val_precision: 0.0000e+00\n",
            "\n",
            "Epoch 00005: val_loss did not improve from 0.90158\n",
            "Epoch 6/100\n",
            "40/40 [==============================] - 77s 2s/step - loss: 0.4452 - dice_coef: 0.5548 - iou: 0.3850 - recall: 0.9535 - precision: 0.9246 - val_loss: 0.9543 - val_dice_coef: 0.0457 - val_iou: 0.0234 - val_recall: 0.0000e+00 - val_precision: 0.0000e+00\n",
            "\n",
            "Epoch 00006: val_loss did not improve from 0.90158\n",
            "Epoch 7/100\n",
            "40/40 [==============================] - 72s 2s/step - loss: 0.4188 - dice_coef: 0.5812 - iou: 0.4107 - recall: 0.9474 - precision: 0.9274 - val_loss: 0.9200 - val_dice_coef: 0.0800 - val_iou: 0.0424 - val_recall: 0.0528 - val_precision: 1.0000\n",
            "\n",
            "Epoch 00007: val_loss did not improve from 0.90158\n",
            "Epoch 8/100\n",
            "40/40 [==============================] - 72s 2s/step - loss: 0.3908 - dice_coef: 0.6092 - iou: 0.4392 - recall: 0.9482 - precision: 0.9300 - val_loss: 0.9612 - val_dice_coef: 0.0388 - val_iou: 0.0198 - val_recall: 0.0000e+00 - val_precision: 0.0000e+00\n",
            "\n",
            "Epoch 00008: val_loss did not improve from 0.90158\n",
            "Epoch 9/100\n",
            "40/40 [==============================] - 72s 2s/step - loss: 0.3626 - dice_coef: 0.6374 - iou: 0.4689 - recall: 0.9482 - precision: 0.9477 - val_loss: 0.9436 - val_dice_coef: 0.0564 - val_iou: 0.0291 - val_recall: 0.0184 - val_precision: 1.0000\n",
            "\n",
            "Epoch 00009: val_loss did not improve from 0.90158\n",
            "Epoch 10/100\n",
            "40/40 [==============================] - 77s 2s/step - loss: 0.3318 - dice_coef: 0.6682 - iou: 0.5028 - recall: 0.9491 - precision: 0.9645 - val_loss: 0.9697 - val_dice_coef: 0.0303 - val_iou: 0.0154 - val_recall: 0.0000e+00 - val_precision: 0.0000e+00\n",
            "\n",
            "Epoch 00010: val_loss did not improve from 0.90158\n",
            "Epoch 11/100\n",
            "40/40 [==============================] - 72s 2s/step - loss: 0.3152 - dice_coef: 0.6848 - iou: 0.5216 - recall: 0.9448 - precision: 0.9499 - val_loss: 0.7784 - val_dice_coef: 0.2216 - val_iou: 0.1281 - val_recall: 0.1697 - val_precision: 1.0000\n",
            "\n",
            "Epoch 00011: val_loss improved from 0.90158 to 0.77840, saving model to files/model.h5\n",
            "Epoch 12/100\n",
            "40/40 [==============================] - 77s 2s/step - loss: 0.2888 - dice_coef: 0.7112 - iou: 0.5528 - recall: 0.9458 - precision: 0.9698 - val_loss: 0.7686 - val_dice_coef: 0.2314 - val_iou: 0.1356 - val_recall: 0.1800 - val_precision: 1.0000\n",
            "\n",
            "Epoch 00012: val_loss improved from 0.77840 to 0.76865, saving model to files/model.h5\n",
            "Epoch 13/100\n",
            "40/40 [==============================] - 77s 2s/step - loss: 0.2670 - dice_coef: 0.7330 - iou: 0.5794 - recall: 0.9460 - precision: 0.9763 - val_loss: 0.7219 - val_dice_coef: 0.2781 - val_iou: 0.1665 - val_recall: 0.2134 - val_precision: 0.9988\n",
            "\n",
            "Epoch 00013: val_loss improved from 0.76865 to 0.72187, saving model to files/model.h5\n",
            "Epoch 14/100\n",
            "40/40 [==============================] - 77s 2s/step - loss: 0.2481 - dice_coef: 0.7519 - iou: 0.6033 - recall: 0.9430 - precision: 0.9805 - val_loss: 0.6446 - val_dice_coef: 0.3554 - val_iou: 0.2262 - val_recall: 0.3006 - val_precision: 0.9991\n",
            "\n",
            "Epoch 00014: val_loss improved from 0.72187 to 0.64462, saving model to files/model.h5\n",
            "Epoch 15/100\n",
            "40/40 [==============================] - 72s 2s/step - loss: 0.2375 - dice_coef: 0.7625 - iou: 0.6170 - recall: 0.9409 - precision: 0.9743 - val_loss: 0.2968 - val_dice_coef: 0.7032 - val_iou: 0.5510 - val_recall: 0.7440 - val_precision: 0.9926\n",
            "\n",
            "Epoch 00015: val_loss improved from 0.64462 to 0.29683, saving model to files/model.h5\n",
            "Epoch 16/100\n",
            "40/40 [==============================] - 71s 2s/step - loss: 0.2177 - dice_coef: 0.7823 - iou: 0.6432 - recall: 0.9429 - precision: 0.9814 - val_loss: 0.2630 - val_dice_coef: 0.7370 - val_iou: 0.5902 - val_recall: 0.7831 - val_precision: 0.9960\n",
            "\n",
            "Epoch 00016: val_loss improved from 0.29683 to 0.26300, saving model to files/model.h5\n",
            "Epoch 17/100\n",
            "40/40 [==============================] - 71s 2s/step - loss: 0.2011 - dice_coef: 0.7989 - iou: 0.6659 - recall: 0.9422 - precision: 0.9854 - val_loss: 0.2728 - val_dice_coef: 0.7272 - val_iou: 0.5804 - val_recall: 0.7607 - val_precision: 0.9979\n",
            "\n",
            "Epoch 00017: val_loss did not improve from 0.26300\n",
            "Epoch 18/100\n",
            "40/40 [==============================] - 71s 2s/step - loss: 0.1873 - dice_coef: 0.8127 - iou: 0.6851 - recall: 0.9415 - precision: 0.9880 - val_loss: 0.1899 - val_dice_coef: 0.8101 - val_iou: 0.6834 - val_recall: 0.8808 - val_precision: 0.9906\n",
            "\n",
            "Epoch 00018: val_loss improved from 0.26300 to 0.18991, saving model to files/model.h5\n",
            "Epoch 19/100\n",
            "40/40 [==============================] - 71s 2s/step - loss: 0.1747 - dice_coef: 0.8253 - iou: 0.7032 - recall: 0.9429 - precision: 0.9900 - val_loss: 0.1972 - val_dice_coef: 0.8028 - val_iou: 0.6741 - val_recall: 0.8334 - val_precision: 0.9968\n",
            "\n",
            "Epoch 00019: val_loss did not improve from 0.18991\n",
            "Epoch 20/100\n",
            "40/40 [==============================] - 71s 2s/step - loss: 0.1632 - dice_coef: 0.8368 - iou: 0.7199 - recall: 0.9415 - precision: 0.9920 - val_loss: 0.1769 - val_dice_coef: 0.8231 - val_iou: 0.7021 - val_recall: 0.8561 - val_precision: 0.9948\n",
            "\n",
            "Epoch 00020: val_loss improved from 0.18991 to 0.17690, saving model to files/model.h5\n",
            "Epoch 21/100\n",
            "40/40 [==============================] - 71s 2s/step - loss: 0.1554 - dice_coef: 0.8446 - iou: 0.7315 - recall: 0.9369 - precision: 0.9905 - val_loss: 0.1615 - val_dice_coef: 0.8385 - val_iou: 0.7237 - val_recall: 0.9134 - val_precision: 0.9718\n",
            "\n",
            "Epoch 00021: val_loss improved from 0.17690 to 0.16149, saving model to files/model.h5\n",
            "Epoch 22/100\n",
            "40/40 [==============================] - 71s 2s/step - loss: 0.1796 - dice_coef: 0.8204 - iou: 0.6975 - recall: 0.9226 - precision: 0.9418 - val_loss: 0.4428 - val_dice_coef: 0.5572 - val_iou: 0.3919 - val_recall: 0.9817 - val_precision: 0.4303\n",
            "\n",
            "Epoch 00022: val_loss did not improve from 0.16149\n",
            "Epoch 23/100\n",
            "40/40 [==============================] - 71s 2s/step - loss: 0.1623 - dice_coef: 0.8377 - iou: 0.7217 - recall: 0.9234 - precision: 0.9644 - val_loss: 0.3372 - val_dice_coef: 0.6628 - val_iou: 0.4993 - val_recall: 0.9931 - val_precision: 0.5830\n",
            "\n",
            "Epoch 00023: val_loss did not improve from 0.16149\n",
            "Epoch 24/100\n",
            "40/40 [==============================] - 71s 2s/step - loss: 0.1413 - dice_coef: 0.8587 - iou: 0.7529 - recall: 0.9315 - precision: 0.9811 - val_loss: 0.3561 - val_dice_coef: 0.6439 - val_iou: 0.4796 - val_recall: 0.9976 - val_precision: 0.5370\n",
            "\n",
            "Epoch 00024: val_loss did not improve from 0.16149\n",
            "Epoch 25/100\n",
            "40/40 [==============================] - 71s 2s/step - loss: 0.1302 - dice_coef: 0.8698 - iou: 0.7700 - recall: 0.9346 - precision: 0.9869 - val_loss: 0.1568 - val_dice_coef: 0.8432 - val_iou: 0.7309 - val_recall: 0.9605 - val_precision: 0.8995\n",
            "\n",
            "Epoch 00025: val_loss improved from 0.16149 to 0.15680, saving model to files/model.h5\n",
            "Epoch 26/100\n",
            "40/40 [==============================] - 71s 2s/step - loss: 0.1213 - dice_coef: 0.8787 - iou: 0.7840 - recall: 0.9362 - precision: 0.9901 - val_loss: 0.1266 - val_dice_coef: 0.8734 - val_iou: 0.7764 - val_recall: 0.9233 - val_precision: 0.9663\n",
            "\n",
            "Epoch 00026: val_loss improved from 0.15680 to 0.12655, saving model to files/model.h5\n",
            "Epoch 27/100\n",
            "40/40 [==============================] - 71s 2s/step - loss: 0.1145 - dice_coef: 0.8855 - iou: 0.7948 - recall: 0.9360 - precision: 0.9918 - val_loss: 0.1202 - val_dice_coef: 0.8798 - val_iou: 0.7868 - val_recall: 0.8938 - val_precision: 0.9942\n",
            "\n",
            "Epoch 00027: val_loss improved from 0.12655 to 0.12020, saving model to files/model.h5\n",
            "Epoch 28/100\n",
            "40/40 [==============================] - 71s 2s/step - loss: 0.1084 - dice_coef: 0.8916 - iou: 0.8047 - recall: 0.9352 - precision: 0.9929 - val_loss: 0.1281 - val_dice_coef: 0.8719 - val_iou: 0.7757 - val_recall: 0.8912 - val_precision: 0.9635\n",
            "\n",
            "Epoch 00028: val_loss did not improve from 0.12020\n",
            "Epoch 29/100\n",
            "40/40 [==============================] - 71s 2s/step - loss: 0.1072 - dice_coef: 0.8928 - iou: 0.8067 - recall: 0.9349 - precision: 0.9889 - val_loss: 0.1446 - val_dice_coef: 0.8554 - val_iou: 0.7493 - val_recall: 0.9320 - val_precision: 0.9300\n",
            "\n",
            "Epoch 00029: val_loss did not improve from 0.12020\n",
            "Epoch 30/100\n",
            "40/40 [==============================] - 71s 2s/step - loss: 0.1058 - dice_coef: 0.8942 - iou: 0.8090 - recall: 0.9313 - precision: 0.9872 - val_loss: 0.1242 - val_dice_coef: 0.8758 - val_iou: 0.7812 - val_recall: 0.8834 - val_precision: 0.9945\n",
            "\n",
            "Epoch 00030: val_loss did not improve from 0.12020\n",
            "Epoch 31/100\n",
            "40/40 [==============================] - 71s 2s/step - loss: 0.0968 - dice_coef: 0.9032 - iou: 0.8237 - recall: 0.9313 - precision: 0.9921 - val_loss: 0.1026 - val_dice_coef: 0.8974 - val_iou: 0.8146 - val_recall: 0.9191 - val_precision: 0.9806\n",
            "\n",
            "Epoch 00031: val_loss improved from 0.12020 to 0.10258, saving model to files/model.h5\n",
            "Epoch 32/100\n",
            "40/40 [==============================] - 71s 2s/step - loss: 0.0926 - dice_coef: 0.9074 - iou: 0.8308 - recall: 0.9330 - precision: 0.9922 - val_loss: 0.0950 - val_dice_coef: 0.9050 - val_iou: 0.8269 - val_recall: 0.9374 - val_precision: 0.9815\n",
            "\n",
            "Epoch 00032: val_loss improved from 0.10258 to 0.09503, saving model to files/model.h5\n",
            "Epoch 33/100\n",
            "40/40 [==============================] - 71s 2s/step - loss: 0.0869 - dice_coef: 0.9131 - iou: 0.8404 - recall: 0.9343 - precision: 0.9947 - val_loss: 0.0987 - val_dice_coef: 0.9013 - val_iou: 0.8215 - val_recall: 0.8915 - val_precision: 0.9964\n",
            "\n",
            "Epoch 00033: val_loss did not improve from 0.09503\n",
            "Epoch 34/100\n",
            "40/40 [==============================] - 71s 2s/step - loss: 0.0824 - dice_coef: 0.9176 - iou: 0.8480 - recall: 0.9349 - precision: 0.9959 - val_loss: 0.0925 - val_dice_coef: 0.9075 - val_iou: 0.8316 - val_recall: 0.9030 - val_precision: 0.9939\n",
            "\n",
            "Epoch 00034: val_loss improved from 0.09503 to 0.09254, saving model to files/model.h5\n",
            "Epoch 35/100\n",
            "40/40 [==============================] - 71s 2s/step - loss: 0.0785 - dice_coef: 0.9215 - iou: 0.8546 - recall: 0.9349 - precision: 0.9968 - val_loss: 0.1051 - val_dice_coef: 0.8949 - val_iou: 0.8120 - val_recall: 0.8624 - val_precision: 0.9983\n",
            "\n",
            "Epoch 00035: val_loss did not improve from 0.09254\n",
            "Epoch 36/100\n",
            "40/40 [==============================] - 71s 2s/step - loss: 0.0756 - dice_coef: 0.9244 - iou: 0.8596 - recall: 0.9345 - precision: 0.9973 - val_loss: 0.0989 - val_dice_coef: 0.9011 - val_iou: 0.8220 - val_recall: 0.8738 - val_precision: 0.9962\n",
            "\n",
            "Epoch 00036: val_loss did not improve from 0.09254\n",
            "Epoch 37/100\n",
            "40/40 [==============================] - 71s 2s/step - loss: 0.0729 - dice_coef: 0.9271 - iou: 0.8642 - recall: 0.9341 - precision: 0.9973 - val_loss: 0.0903 - val_dice_coef: 0.9097 - val_iou: 0.8357 - val_recall: 0.8846 - val_precision: 0.9966\n",
            "\n",
            "Epoch 00037: val_loss improved from 0.09254 to 0.09034, saving model to files/model.h5\n",
            "Epoch 38/100\n",
            "40/40 [==============================] - 71s 2s/step - loss: 0.0720 - dice_coef: 0.9280 - iou: 0.8658 - recall: 0.9345 - precision: 0.9960 - val_loss: 0.0797 - val_dice_coef: 0.9203 - val_iou: 0.8529 - val_recall: 0.9112 - val_precision: 0.9903\n",
            "\n",
            "Epoch 00038: val_loss improved from 0.09034 to 0.07975, saving model to files/model.h5\n",
            "Epoch 39/100\n",
            "40/40 [==============================] - 71s 2s/step - loss: 0.0700 - dice_coef: 0.9300 - iou: 0.8693 - recall: 0.9326 - precision: 0.9960 - val_loss: 0.0720 - val_dice_coef: 0.9280 - val_iou: 0.8660 - val_recall: 0.9174 - val_precision: 0.9901\n",
            "\n",
            "Epoch 00039: val_loss improved from 0.07975 to 0.07201, saving model to files/model.h5\n",
            "Epoch 40/100\n",
            "40/40 [==============================] - 71s 2s/step - loss: 0.0674 - dice_coef: 0.9326 - iou: 0.8739 - recall: 0.9344 - precision: 0.9965 - val_loss: 0.0756 - val_dice_coef: 0.9244 - val_iou: 0.8600 - val_recall: 0.9126 - val_precision: 0.9916\n",
            "\n",
            "Epoch 00040: val_loss did not improve from 0.07201\n",
            "Epoch 41/100\n",
            "40/40 [==============================] - 71s 2s/step - loss: 0.0643 - dice_coef: 0.9357 - iou: 0.8794 - recall: 0.9336 - precision: 0.9976 - val_loss: 0.0816 - val_dice_coef: 0.9184 - val_iou: 0.8503 - val_recall: 0.8971 - val_precision: 0.9920\n",
            "\n",
            "Epoch 00041: val_loss did not improve from 0.07201\n",
            "Epoch 42/100\n",
            "40/40 [==============================] - 71s 2s/step - loss: 0.0622 - dice_coef: 0.9378 - iou: 0.8830 - recall: 0.9335 - precision: 0.9978 - val_loss: 0.0759 - val_dice_coef: 0.9241 - val_iou: 0.8596 - val_recall: 0.9044 - val_precision: 0.9919\n",
            "\n",
            "Epoch 00042: val_loss did not improve from 0.07201\n",
            "Epoch 43/100\n",
            "40/40 [==============================] - 71s 2s/step - loss: 0.0610 - dice_coef: 0.9390 - iou: 0.8851 - recall: 0.9340 - precision: 0.9977 - val_loss: 0.0753 - val_dice_coef: 0.9247 - val_iou: 0.8607 - val_recall: 0.8936 - val_precision: 0.9942\n",
            "\n",
            "Epoch 00043: val_loss did not improve from 0.07201\n",
            "Epoch 44/100\n",
            "40/40 [==============================] - 71s 2s/step - loss: 0.0597 - dice_coef: 0.9403 - iou: 0.8875 - recall: 0.9336 - precision: 0.9971 - val_loss: 0.0711 - val_dice_coef: 0.9289 - val_iou: 0.8678 - val_recall: 0.9063 - val_precision: 0.9897\n",
            "\n",
            "Epoch 00044: val_loss improved from 0.07201 to 0.07113, saving model to files/model.h5\n",
            "Epoch 45/100\n",
            "40/40 [==============================] - 71s 2s/step - loss: 0.0582 - dice_coef: 0.9418 - iou: 0.8901 - recall: 0.9323 - precision: 0.9971 - val_loss: 0.0830 - val_dice_coef: 0.9170 - val_iou: 0.8492 - val_recall: 0.9325 - val_precision: 0.9392\n",
            "\n",
            "Epoch 00045: val_loss did not improve from 0.07113\n",
            "Epoch 46/100\n",
            "40/40 [==============================] - 71s 2s/step - loss: 0.0578 - dice_coef: 0.9422 - iou: 0.8908 - recall: 0.9340 - precision: 0.9963 - val_loss: 0.0690 - val_dice_coef: 0.9310 - val_iou: 0.8714 - val_recall: 0.9008 - val_precision: 0.9942\n",
            "\n",
            "Epoch 00046: val_loss improved from 0.07113 to 0.06903, saving model to files/model.h5\n",
            "Epoch 47/100\n",
            "40/40 [==============================] - 71s 2s/step - loss: 0.0570 - dice_coef: 0.9430 - iou: 0.8923 - recall: 0.9325 - precision: 0.9963 - val_loss: 0.0661 - val_dice_coef: 0.9339 - val_iou: 0.8764 - val_recall: 0.9017 - val_precision: 0.9927\n",
            "\n",
            "Epoch 00047: val_loss improved from 0.06903 to 0.06612, saving model to files/model.h5\n",
            "Epoch 48/100\n",
            "40/40 [==============================] - 71s 2s/step - loss: 0.0561 - dice_coef: 0.9439 - iou: 0.8938 - recall: 0.9325 - precision: 0.9963 - val_loss: 0.0660 - val_dice_coef: 0.9340 - val_iou: 0.8765 - val_recall: 0.9209 - val_precision: 0.9807\n",
            "\n",
            "Epoch 00048: val_loss improved from 0.06612 to 0.06599, saving model to files/model.h5\n",
            "Epoch 49/100\n",
            "40/40 [==============================] - 71s 2s/step - loss: 0.0545 - dice_coef: 0.9455 - iou: 0.8967 - recall: 0.9329 - precision: 0.9966 - val_loss: 0.0694 - val_dice_coef: 0.9306 - val_iou: 0.8708 - val_recall: 0.8991 - val_precision: 0.9894\n",
            "\n",
            "Epoch 00049: val_loss did not improve from 0.06599\n",
            "Epoch 50/100\n",
            "40/40 [==============================] - 71s 2s/step - loss: 0.0523 - dice_coef: 0.9477 - iou: 0.9008 - recall: 0.9318 - precision: 0.9975 - val_loss: 0.0660 - val_dice_coef: 0.9340 - val_iou: 0.8768 - val_recall: 0.9228 - val_precision: 0.9734\n",
            "\n",
            "Epoch 00050: val_loss did not improve from 0.06599\n",
            "Epoch 51/100\n",
            "40/40 [==============================] - 71s 2s/step - loss: 0.0505 - dice_coef: 0.9495 - iou: 0.9039 - recall: 0.9331 - precision: 0.9980 - val_loss: 0.0642 - val_dice_coef: 0.9358 - val_iou: 0.8798 - val_recall: 0.9389 - val_precision: 0.9729\n",
            "\n",
            "Epoch 00051: val_loss improved from 0.06599 to 0.06417, saving model to files/model.h5\n",
            "Epoch 52/100\n",
            "40/40 [==============================] - 71s 2s/step - loss: 0.0496 - dice_coef: 0.9504 - iou: 0.9056 - recall: 0.9317 - precision: 0.9976 - val_loss: 0.0701 - val_dice_coef: 0.9299 - val_iou: 0.8707 - val_recall: 0.9371 - val_precision: 0.9528\n",
            "\n",
            "Epoch 00052: val_loss did not improve from 0.06417\n",
            "Epoch 53/100\n",
            "40/40 [==============================] - 72s 2s/step - loss: 0.0488 - dice_coef: 0.9512 - iou: 0.9072 - recall: 0.9327 - precision: 0.9981 - val_loss: 0.0623 - val_dice_coef: 0.9377 - val_iou: 0.8833 - val_recall: 0.9067 - val_precision: 0.9924\n",
            "\n",
            "Epoch 00053: val_loss improved from 0.06417 to 0.06230, saving model to files/model.h5\n",
            "Epoch 54/100\n",
            "40/40 [==============================] - 72s 2s/step - loss: 0.0473 - dice_coef: 0.9527 - iou: 0.9098 - recall: 0.9333 - precision: 0.9983 - val_loss: 0.0596 - val_dice_coef: 0.9404 - val_iou: 0.8880 - val_recall: 0.9076 - val_precision: 0.9948\n",
            "\n",
            "Epoch 00054: val_loss improved from 0.06230 to 0.05957, saving model to files/model.h5\n",
            "Epoch 55/100\n",
            "40/40 [==============================] - 77s 2s/step - loss: 0.0457 - dice_coef: 0.9543 - iou: 0.9127 - recall: 0.9323 - precision: 0.9989 - val_loss: 0.0604 - val_dice_coef: 0.9396 - val_iou: 0.8867 - val_recall: 0.9118 - val_precision: 0.9919\n",
            "\n",
            "Epoch 00055: val_loss did not improve from 0.05957\n",
            "Epoch 56/100\n",
            "40/40 [==============================] - 72s 2s/step - loss: 0.0446 - dice_coef: 0.9554 - iou: 0.9147 - recall: 0.9329 - precision: 0.9990 - val_loss: 0.0569 - val_dice_coef: 0.9431 - val_iou: 0.8929 - val_recall: 0.9131 - val_precision: 0.9935\n",
            "\n",
            "Epoch 00056: val_loss improved from 0.05957 to 0.05691, saving model to files/model.h5\n",
            "Epoch 57/100\n",
            "40/40 [==============================] - 72s 2s/step - loss: 0.0441 - dice_coef: 0.9559 - iou: 0.9157 - recall: 0.9335 - precision: 0.9990 - val_loss: 0.0589 - val_dice_coef: 0.9411 - val_iou: 0.8895 - val_recall: 0.9017 - val_precision: 0.9950\n",
            "\n",
            "Epoch 00057: val_loss did not improve from 0.05691\n",
            "Epoch 58/100\n",
            "40/40 [==============================] - 72s 2s/step - loss: 0.0435 - dice_coef: 0.9565 - iou: 0.9168 - recall: 0.9335 - precision: 0.9988 - val_loss: 0.0591 - val_dice_coef: 0.9409 - val_iou: 0.8891 - val_recall: 0.8989 - val_precision: 0.9947\n",
            "\n",
            "Epoch 00058: val_loss did not improve from 0.05691\n",
            "Epoch 59/100\n",
            "40/40 [==============================] - 72s 2s/step - loss: 0.0431 - dice_coef: 0.9569 - iou: 0.9175 - recall: 0.9335 - precision: 0.9985 - val_loss: 0.0783 - val_dice_coef: 0.9217 - val_iou: 0.8582 - val_recall: 0.9299 - val_precision: 0.9326\n",
            "\n",
            "Epoch 00059: val_loss did not improve from 0.05691\n",
            "Epoch 60/100\n",
            "40/40 [==============================] - 71s 2s/step - loss: 0.0430 - dice_coef: 0.9570 - iou: 0.9177 - recall: 0.9321 - precision: 0.9984 - val_loss: 0.0637 - val_dice_coef: 0.9363 - val_iou: 0.8812 - val_recall: 0.9155 - val_precision: 0.9672\n",
            "\n",
            "Epoch 00060: val_loss did not improve from 0.05691\n",
            "Epoch 61/100\n",
            "40/40 [==============================] - 71s 2s/step - loss: 0.0424 - dice_coef: 0.9576 - iou: 0.9188 - recall: 0.9331 - precision: 0.9983 - val_loss: 0.0595 - val_dice_coef: 0.9405 - val_iou: 0.8883 - val_recall: 0.9180 - val_precision: 0.9800\n",
            "\n",
            "Epoch 00061: val_loss did not improve from 0.05691\n",
            "Epoch 62/100\n",
            "40/40 [==============================] - 71s 2s/step - loss: 0.0423 - dice_coef: 0.9577 - iou: 0.9189 - recall: 0.9321 - precision: 0.9977 - val_loss: 0.0804 - val_dice_coef: 0.9196 - val_iou: 0.8543 - val_recall: 0.9067 - val_precision: 0.9458\n",
            "\n",
            "Epoch 00062: val_loss did not improve from 0.05691\n",
            "Epoch 63/100\n",
            "40/40 [==============================] - 71s 2s/step - loss: 0.0519 - dice_coef: 0.9481 - iou: 0.9016 - recall: 0.9245 - precision: 0.9910 - val_loss: 0.1284 - val_dice_coef: 0.8716 - val_iou: 0.7768 - val_recall: 0.9748 - val_precision: 0.8217\n",
            "\n",
            "Epoch 00063: val_loss did not improve from 0.05691\n",
            "Epoch 64/100\n",
            "40/40 [==============================] - 71s 2s/step - loss: 0.0458 - dice_coef: 0.9542 - iou: 0.9127 - recall: 0.9296 - precision: 0.9942 - val_loss: 0.0987 - val_dice_coef: 0.9013 - val_iou: 0.8235 - val_recall: 0.9683 - val_precision: 0.8792\n",
            "\n",
            "Epoch 00064: val_loss did not improve from 0.05691\n",
            "Epoch 65/100\n",
            "40/40 [==============================] - 71s 2s/step - loss: 0.0442 - dice_coef: 0.9558 - iou: 0.9155 - recall: 0.9313 - precision: 0.9939 - val_loss: 0.0643 - val_dice_coef: 0.9357 - val_iou: 0.8806 - val_recall: 0.9193 - val_precision: 0.9762\n",
            "\n",
            "Epoch 00065: val_loss did not improve from 0.05691\n",
            "Epoch 66/100\n",
            "40/40 [==============================] - 71s 2s/step - loss: 0.0415 - dice_coef: 0.9585 - iou: 0.9204 - recall: 0.9305 - precision: 0.9974 - val_loss: 0.0579 - val_dice_coef: 0.9421 - val_iou: 0.8914 - val_recall: 0.8912 - val_precision: 0.9970\n",
            "\n",
            "Epoch 00066: val_loss did not improve from 0.05691\n",
            "Epoch 67/100\n",
            "40/40 [==============================] - 71s 2s/step - loss: 0.0398 - dice_coef: 0.9602 - iou: 0.9236 - recall: 0.9324 - precision: 0.9982 - val_loss: 0.0561 - val_dice_coef: 0.9439 - val_iou: 0.8944 - val_recall: 0.8964 - val_precision: 0.9958\n",
            "\n",
            "Epoch 00067: val_loss improved from 0.05691 to 0.05613, saving model to files/model.h5\n",
            "Epoch 68/100\n",
            "40/40 [==============================] - 71s 2s/step - loss: 0.0384 - dice_coef: 0.9616 - iou: 0.9261 - recall: 0.9319 - precision: 0.9985 - val_loss: 0.0576 - val_dice_coef: 0.9424 - val_iou: 0.8918 - val_recall: 0.8976 - val_precision: 0.9926\n",
            "\n",
            "Epoch 00068: val_loss did not improve from 0.05613\n",
            "Epoch 69/100\n",
            "40/40 [==============================] - 71s 2s/step - loss: 0.0381 - dice_coef: 0.9619 - iou: 0.9268 - recall: 0.9312 - precision: 0.9986 - val_loss: 0.0549 - val_dice_coef: 0.9451 - val_iou: 0.8966 - val_recall: 0.9042 - val_precision: 0.9925\n",
            "\n",
            "Epoch 00069: val_loss improved from 0.05613 to 0.05493, saving model to files/model.h5\n",
            "Epoch 70/100\n",
            "40/40 [==============================] - 71s 2s/step - loss: 0.0371 - dice_coef: 0.9629 - iou: 0.9286 - recall: 0.9331 - precision: 0.9990 - val_loss: 0.0622 - val_dice_coef: 0.9378 - val_iou: 0.8846 - val_recall: 0.8803 - val_precision: 0.9971\n",
            "\n",
            "Epoch 00070: val_loss did not improve from 0.05493\n",
            "Epoch 71/100\n",
            "40/40 [==============================] - 71s 2s/step - loss: 0.0372 - dice_coef: 0.9628 - iou: 0.9284 - recall: 0.9318 - precision: 0.9986 - val_loss: 0.0581 - val_dice_coef: 0.9419 - val_iou: 0.8913 - val_recall: 0.8984 - val_precision: 0.9933\n",
            "\n",
            "Epoch 00071: val_loss did not improve from 0.05493\n",
            "Epoch 72/100\n",
            "40/40 [==============================] - 72s 2s/step - loss: 0.0362 - dice_coef: 0.9638 - iou: 0.9302 - recall: 0.9324 - precision: 0.9990 - val_loss: 0.0660 - val_dice_coef: 0.9340 - val_iou: 0.8785 - val_recall: 0.9239 - val_precision: 0.9539\n",
            "\n",
            "Epoch 00072: val_loss did not improve from 0.05493\n",
            "Epoch 73/100\n",
            "40/40 [==============================] - 71s 2s/step - loss: 0.0369 - dice_coef: 0.9631 - iou: 0.9290 - recall: 0.9325 - precision: 0.9982 - val_loss: 0.0575 - val_dice_coef: 0.9425 - val_iou: 0.8923 - val_recall: 0.8944 - val_precision: 0.9900\n",
            "\n",
            "Epoch 00073: val_loss did not improve from 0.05493\n",
            "Epoch 74/100\n",
            "40/40 [==============================] - 71s 2s/step - loss: 0.0365 - dice_coef: 0.9635 - iou: 0.9296 - recall: 0.9328 - precision: 0.9985 - val_loss: 0.0742 - val_dice_coef: 0.9258 - val_iou: 0.8642 - val_recall: 0.8585 - val_precision: 0.9956\n",
            "\n",
            "Epoch 00074: val_loss did not improve from 0.05493\n",
            "Epoch 75/100\n",
            "40/40 [==============================] - 71s 2s/step - loss: 0.0361 - dice_coef: 0.9639 - iou: 0.9305 - recall: 0.9321 - precision: 0.9985 - val_loss: 0.0652 - val_dice_coef: 0.9348 - val_iou: 0.8796 - val_recall: 0.8825 - val_precision: 0.9943\n",
            "\n",
            "Epoch 00075: val_loss did not improve from 0.05493\n",
            "Epoch 76/100\n",
            "40/40 [==============================] - 72s 2s/step - loss: 0.0356 - dice_coef: 0.9644 - iou: 0.9314 - recall: 0.9320 - precision: 0.9985 - val_loss: 0.0530 - val_dice_coef: 0.9470 - val_iou: 0.9001 - val_recall: 0.8990 - val_precision: 0.9943\n",
            "\n",
            "Epoch 00076: val_loss improved from 0.05493 to 0.05302, saving model to files/model.h5\n",
            "Epoch 77/100\n",
            "40/40 [==============================] - 71s 2s/step - loss: 0.0354 - dice_coef: 0.9646 - iou: 0.9317 - recall: 0.9324 - precision: 0.9984 - val_loss: 0.0593 - val_dice_coef: 0.9407 - val_iou: 0.8897 - val_recall: 0.8864 - val_precision: 0.9955\n",
            "\n",
            "Epoch 00077: val_loss did not improve from 0.05302\n",
            "Epoch 78/100\n",
            "40/40 [==============================] - 71s 2s/step - loss: 0.0345 - dice_coef: 0.9655 - iou: 0.9333 - recall: 0.9337 - precision: 0.9988 - val_loss: 0.0577 - val_dice_coef: 0.9423 - val_iou: 0.8920 - val_recall: 0.8967 - val_precision: 0.9851\n",
            "\n",
            "Epoch 00078: val_loss did not improve from 0.05302\n",
            "Epoch 79/100\n",
            "40/40 [==============================] - 71s 2s/step - loss: 0.0343 - dice_coef: 0.9657 - iou: 0.9338 - recall: 0.9335 - precision: 0.9985 - val_loss: 0.0506 - val_dice_coef: 0.9494 - val_iou: 0.9042 - val_recall: 0.9143 - val_precision: 0.9853\n",
            "\n",
            "Epoch 00079: val_loss improved from 0.05302 to 0.05058, saving model to files/model.h5\n",
            "Epoch 80/100\n",
            "40/40 [==============================] - 71s 2s/step - loss: 0.0336 - dice_coef: 0.9664 - iou: 0.9350 - recall: 0.9320 - precision: 0.9990 - val_loss: 0.0554 - val_dice_coef: 0.9446 - val_iou: 0.8959 - val_recall: 0.9287 - val_precision: 0.9660\n",
            "\n",
            "Epoch 00080: val_loss did not improve from 0.05058\n",
            "Epoch 81/100\n",
            "40/40 [==============================] - 71s 2s/step - loss: 0.0337 - dice_coef: 0.9663 - iou: 0.9350 - recall: 0.9312 - precision: 0.9988 - val_loss: 0.0556 - val_dice_coef: 0.9444 - val_iou: 0.8955 - val_recall: 0.9224 - val_precision: 0.9703\n",
            "\n",
            "Epoch 00081: val_loss did not improve from 0.05058\n",
            "Epoch 82/100\n",
            "40/40 [==============================] - 71s 2s/step - loss: 0.0346 - dice_coef: 0.9654 - iou: 0.9331 - recall: 0.9317 - precision: 0.9980 - val_loss: 0.0561 - val_dice_coef: 0.9439 - val_iou: 0.8949 - val_recall: 0.9304 - val_precision: 0.9676\n",
            "\n",
            "Epoch 00082: val_loss did not improve from 0.05058\n",
            "Epoch 83/100\n",
            "40/40 [==============================] - 71s 2s/step - loss: 0.0331 - dice_coef: 0.9669 - iou: 0.9361 - recall: 0.9315 - precision: 0.9989 - val_loss: 0.0561 - val_dice_coef: 0.9439 - val_iou: 0.8950 - val_recall: 0.8909 - val_precision: 0.9966\n",
            "\n",
            "Epoch 00083: val_loss did not improve from 0.05058\n",
            "Epoch 84/100\n",
            "40/40 [==============================] - 71s 2s/step - loss: 0.0325 - dice_coef: 0.9675 - iou: 0.9372 - recall: 0.9330 - precision: 0.9990 - val_loss: 0.0512 - val_dice_coef: 0.9488 - val_iou: 0.9030 - val_recall: 0.9165 - val_precision: 0.9826\n",
            "\n",
            "Epoch 00084: val_loss did not improve from 0.05058\n",
            "Epoch 85/100\n",
            "40/40 [==============================] - 71s 2s/step - loss: 0.0319 - dice_coef: 0.9681 - iou: 0.9383 - recall: 0.9329 - precision: 0.9992 - val_loss: 0.0534 - val_dice_coef: 0.9466 - val_iou: 0.8997 - val_recall: 0.8966 - val_precision: 0.9947\n",
            "\n",
            "Epoch 00085: val_loss did not improve from 0.05058\n",
            "Epoch 86/100\n",
            "40/40 [==============================] - 71s 2s/step - loss: 0.0309 - dice_coef: 0.9691 - iou: 0.9401 - recall: 0.9322 - precision: 0.9996 - val_loss: 0.0491 - val_dice_coef: 0.9509 - val_iou: 0.9072 - val_recall: 0.9104 - val_precision: 0.9892\n",
            "\n",
            "Epoch 00086: val_loss improved from 0.05058 to 0.04909, saving model to files/model.h5\n",
            "Epoch 87/100\n",
            "40/40 [==============================] - 71s 2s/step - loss: 0.0305 - dice_coef: 0.9695 - iou: 0.9410 - recall: 0.9325 - precision: 0.9996 - val_loss: 0.0476 - val_dice_coef: 0.9524 - val_iou: 0.9096 - val_recall: 0.9113 - val_precision: 0.9914\n",
            "\n",
            "Epoch 00087: val_loss improved from 0.04909 to 0.04763, saving model to files/model.h5\n",
            "Epoch 88/100\n",
            "40/40 [==============================] - 72s 2s/step - loss: 0.0302 - dice_coef: 0.9698 - iou: 0.9415 - recall: 0.9332 - precision: 0.9997 - val_loss: 0.0588 - val_dice_coef: 0.9412 - val_iou: 0.8908 - val_recall: 0.8800 - val_precision: 0.9960\n",
            "\n",
            "Epoch 00088: val_loss did not improve from 0.04763\n",
            "Epoch 89/100\n",
            "40/40 [==============================] - 71s 2s/step - loss: 0.0304 - dice_coef: 0.9696 - iou: 0.9410 - recall: 0.9335 - precision: 0.9995 - val_loss: 0.0537 - val_dice_coef: 0.9463 - val_iou: 0.8988 - val_recall: 0.9074 - val_precision: 0.9800\n",
            "\n",
            "Epoch 00089: val_loss did not improve from 0.04763\n",
            "Epoch 90/100\n",
            "40/40 [==============================] - 71s 2s/step - loss: 0.0311 - dice_coef: 0.9689 - iou: 0.9397 - recall: 0.9321 - precision: 0.9990 - val_loss: 0.0875 - val_dice_coef: 0.9125 - val_iou: 0.8443 - val_recall: 0.8478 - val_precision: 0.9735\n",
            "\n",
            "Epoch 00090: val_loss did not improve from 0.04763\n",
            "Epoch 91/100\n",
            "40/40 [==============================] - 71s 2s/step - loss: 0.0310 - dice_coef: 0.9690 - iou: 0.9400 - recall: 0.9327 - precision: 0.9993 - val_loss: 0.0675 - val_dice_coef: 0.9325 - val_iou: 0.8765 - val_recall: 0.9021 - val_precision: 0.9598\n",
            "\n",
            "Epoch 00091: val_loss did not improve from 0.04763\n",
            "Epoch 92/100\n",
            "40/40 [==============================] - 71s 2s/step - loss: 0.0299 - dice_coef: 0.9701 - iou: 0.9421 - recall: 0.9320 - precision: 0.9995 - val_loss: 0.0677 - val_dice_coef: 0.9323 - val_iou: 0.8758 - val_recall: 0.8896 - val_precision: 0.9680\n",
            "\n",
            "Epoch 00092: val_loss did not improve from 0.04763\n",
            "Epoch 93/100\n",
            "40/40 [==============================] - 71s 2s/step - loss: 0.0294 - dice_coef: 0.9706 - iou: 0.9430 - recall: 0.9333 - precision: 0.9998 - val_loss: 0.0664 - val_dice_coef: 0.9336 - val_iou: 0.8788 - val_recall: 0.9021 - val_precision: 0.9514\n",
            "\n",
            "Epoch 00093: val_loss did not improve from 0.04763\n",
            "Epoch 94/100\n",
            "40/40 [==============================] - 72s 2s/step - loss: 0.0293 - dice_coef: 0.9707 - iou: 0.9432 - recall: 0.9328 - precision: 0.9997 - val_loss: 0.0668 - val_dice_coef: 0.9332 - val_iou: 0.8787 - val_recall: 0.9041 - val_precision: 0.9476\n",
            "\n",
            "Epoch 00094: val_loss did not improve from 0.04763\n",
            "Epoch 95/100\n",
            "40/40 [==============================] - 71s 2s/step - loss: 0.0294 - dice_coef: 0.9706 - iou: 0.9430 - recall: 0.9324 - precision: 0.9995 - val_loss: 0.0711 - val_dice_coef: 0.9289 - val_iou: 0.8715 - val_recall: 0.8918 - val_precision: 0.9582\n",
            "\n",
            "Epoch 00095: val_loss did not improve from 0.04763\n",
            "Epoch 96/100\n",
            "40/40 [==============================] - 71s 2s/step - loss: 0.0297 - dice_coef: 0.9703 - iou: 0.9425 - recall: 0.9315 - precision: 0.9993 - val_loss: 0.0600 - val_dice_coef: 0.9400 - val_iou: 0.8896 - val_recall: 0.9239 - val_precision: 0.9523\n",
            "\n",
            "Epoch 00096: val_loss did not improve from 0.04763\n",
            "Epoch 97/100\n",
            "40/40 [==============================] - 71s 2s/step - loss: 0.0311 - dice_coef: 0.9689 - iou: 0.9397 - recall: 0.9331 - precision: 0.9982 - val_loss: 0.0493 - val_dice_coef: 0.9507 - val_iou: 0.9069 - val_recall: 0.9058 - val_precision: 0.9933\n",
            "\n",
            "Epoch 00097: val_loss did not improve from 0.04763\n",
            "Epoch 98/100\n",
            "40/40 [==============================] - 72s 2s/step - loss: 0.0310 - dice_coef: 0.9690 - iou: 0.9400 - recall: 0.9310 - precision: 0.9988 - val_loss: 0.0620 - val_dice_coef: 0.9380 - val_iou: 0.8871 - val_recall: 0.9266 - val_precision: 0.9432\n",
            "\n",
            "Epoch 00098: val_loss did not improve from 0.04763\n",
            "Epoch 99/100\n",
            "40/40 [==============================] - 72s 2s/step - loss: 0.0312 - dice_coef: 0.9688 - iou: 0.9396 - recall: 0.9317 - precision: 0.9984 - val_loss: 0.0552 - val_dice_coef: 0.9448 - val_iou: 0.8963 - val_recall: 0.9461 - val_precision: 0.9564\n",
            "\n",
            "Epoch 00099: val_loss did not improve from 0.04763\n",
            "Epoch 100/100\n",
            "40/40 [==============================] - 71s 2s/step - loss: 0.0299 - dice_coef: 0.9701 - iou: 0.9420 - recall: 0.9312 - precision: 0.9990 - val_loss: 0.0547 - val_dice_coef: 0.9453 - val_iou: 0.8979 - val_recall: 0.8980 - val_precision: 0.9908\n",
            "\n",
            "Epoch 00100: val_loss did not improve from 0.04763\n"
          ]
        }
      ]
    },
    {
      "cell_type": "markdown",
      "metadata": {
        "id": "o3GLIWUgt6rM"
      },
      "source": [
        "# Eval"
      ]
    },
    {
      "cell_type": "code",
      "metadata": {
        "colab": {
          "base_uri": "https://localhost:8080/"
        },
        "id": "VPl4QZBsuDkg",
        "outputId": "8f50dd71-8251-406d-b490-9c440e96499f"
      },
      "source": [
        "import os\n",
        "os.environ[\"TF_CPP_MIN_LOG_LEVEL\"] = \"2\"\n",
        "import numpy as np\n",
        "import pandas as pd\n",
        "import cv2\n",
        "from glob import glob\n",
        "from tqdm import tqdm\n",
        "import tensorflow as tf\n",
        "from tensorflow.keras.utils import CustomObjectScope\n",
        "from sklearn.metrics import accuracy_score, f1_score, jaccard_score, precision_score, recall_score\n",
        "#from metrics import dice_loss, dice_coef, iou\n",
        "\n",
        "H = 512\n",
        "W = 512\n",
        "\n",
        "def create_dir(path):\n",
        "    if not os.path.exists(path):\n",
        "        os.makedirs(path)\n",
        "\n",
        "def read_image(path):\n",
        "    x = cv2.imread(path, cv2.IMREAD_COLOR)\n",
        "    # x = cv2.resize(x, (W, H))\n",
        "    ori_x = x\n",
        "    x = x/255.0\n",
        "    x = x.astype(np.float32)\n",
        "    return ori_x, x\n",
        "\n",
        "def read_mask(path):\n",
        "    x = cv2.imread(path, cv2.IMREAD_GRAYSCALE)  ## (512, 512)\n",
        "    # x = cv2.resize(x, (W, H))\n",
        "    ori_x = x\n",
        "    x = x/255.0\n",
        "    x = x.astype(np.int32)\n",
        "    return ori_x, x\n",
        "\n",
        "def load_data(path):\n",
        "    x = sorted(glob(os.path.join(path, \"image\", \"*.png\")))\n",
        "    y = sorted(glob(os.path.join(path, \"mask\", \"*.png\")))\n",
        "    return x, y\n",
        "\n",
        "def save_results(ori_x, ori_y, y_pred, save_image_path):\n",
        "    line = np.ones((H, 10, 3)) * 255\n",
        "\n",
        "    ori_y = np.expand_dims(ori_y, axis=-1)\n",
        "    ori_y = np.concatenate([ori_y, ori_y, ori_y], axis=-1)\n",
        "\n",
        "    y_pred = np.expand_dims(y_pred, axis=-1)\n",
        "    y_pred = np.concatenate([y_pred, y_pred, y_pred], axis=-1) * 255\n",
        "\n",
        "    cat_images = np.concatenate([ori_x, line, ori_y, line, y_pred], axis=1)\n",
        "    cv2.imwrite(save_image_path, cat_images)\n",
        "\n",
        "if __name__ == \"__main__\":\n",
        "    \"\"\" Save the results in this folder \"\"\"\n",
        "    create_dir(\"results\")\n",
        "\n",
        "    \"\"\" Load the model \"\"\"\n",
        "    with CustomObjectScope({'iou': iou, 'dice_coef': dice_coef, 'dice_loss': dice_loss}):\n",
        "        model = tf.keras.models.load_model(\"files/model.h5\")\n",
        "\n",
        "    \"\"\" Load the dataset \"\"\"\n",
        "    dataset_path = os.path.join(\"new_data\", \"test\")\n",
        "    test_x, test_y = load_data(dataset_path)\n",
        "\n",
        "    \"\"\" Make the prediction and calculate the metrics values \"\"\"\n",
        "    SCORE = []\n",
        "    for x, y in tqdm(zip(test_x, test_y), total=len(test_x)):\n",
        "        \"\"\" Extracting name \"\"\"\n",
        "        name = x.split(\"/\")[-1].split(\".\")[0]\n",
        "\n",
        "        \"\"\" Read the image and mask \"\"\"\n",
        "        ori_x, x = read_image(x)\n",
        "        ori_y, y = read_mask(y)\n",
        "\n",
        "        \"\"\" Prediction \"\"\"\n",
        "        y_pred = model.predict(np.expand_dims(x, axis=0))[0]\n",
        "        y_pred = y_pred > 0.5\n",
        "        y_pred = y_pred.astype(np.int32)\n",
        "        y_pred = np.squeeze(y_pred, axis=-1)\n",
        "\n",
        "        \"\"\" Saving the images \"\"\"\n",
        "        save_image_path = f\"results/{name}.png\"\n",
        "        save_results(ori_x, ori_y, y_pred, save_image_path)\n",
        "\n",
        "        \"\"\" Flatten the array \"\"\"\n",
        "        y = y.flatten()\n",
        "        y_pred = y_pred.flatten()\n",
        "\n",
        "        \"\"\" Calculate the metrics \"\"\"\n",
        "        acc_value = accuracy_score(y, y_pred)\n",
        "        f1_value = f1_score(y, y_pred, labels=[0, 1], average=\"binary\")\n",
        "        jac_value = jaccard_score(y, y_pred, labels=[0, 1], average=\"binary\")\n",
        "        recall_value = recall_score(y, y_pred, labels=[0, 1], average=\"binary\")\n",
        "        precision_value = precision_score(y, y_pred, labels=[0, 1], average=\"binary\")\n",
        "        SCORE.append([name, acc_value, f1_value, jac_value, recall_value, precision_value])\n",
        "\n",
        "    score = [s[1:] for s in SCORE]\n",
        "    score = np.mean(score, axis=0)\n",
        "    print(f\"Accuracy: {score[0]:0.5f}\")\n",
        "    print(f\"F1: {score[1]:0.5f}\")\n",
        "    print(f\"Jaccard: {score[2]:0.5f}\")\n",
        "    print(f\"Recall: {score[3]:0.5f}\")\n",
        "    print(f\"Precision: {score[4]:0.5f}\")\n",
        "\n",
        "    \"\"\" Saving \"\"\"\n",
        "    df = pd.DataFrame(SCORE, columns=[\"Image\", \"Acc\", \"F1\", \"Jaccard\", \"Recall\", \"Precision\"])\n",
        "    df.to_csv(\"files/score.csv\")"
      ],
      "execution_count": 6,
      "outputs": [
        {
          "output_type": "stream",
          "name": "stderr",
          "text": [
            "100%|██████████| 16/16 [00:14<00:00,  1.08it/s]"
          ]
        },
        {
          "output_type": "stream",
          "name": "stdout",
          "text": [
            "Accuracy: 0.99697\n",
            "F1: 0.95229\n",
            "Jaccard: 0.90973\n",
            "Recall: 0.98103\n",
            "Precision: 0.92654\n"
          ]
        },
        {
          "output_type": "stream",
          "name": "stderr",
          "text": [
            "\n"
          ]
        }
      ]
    },
    {
      "cell_type": "markdown",
      "metadata": {
        "id": "NN0NgyIvuILo"
      },
      "source": [
        "# Downloading Results"
      ]
    },
    {
      "cell_type": "code",
      "metadata": {
        "colab": {
          "base_uri": "https://localhost:8080/"
        },
        "id": "9r99YD_buM7J",
        "outputId": "cff673fd-9f2c-4755-9d5b-907c9c866415"
      },
      "source": [
        "!zip -r /content/results.zip /content/results"
      ],
      "execution_count": 7,
      "outputs": [
        {
          "output_type": "stream",
          "name": "stdout",
          "text": [
            "  adding: content/results/ (stored 0%)\n",
            "  adding: content/results/drishtiGS_007.png (deflated 3%)\n",
            "  adding: content/results/drishtiGS_011.png (deflated 3%)\n",
            "  adding: content/results/drishtiGS_001.png (deflated 3%)\n",
            "  adding: content/results/drishtiGS_019.png (deflated 3%)\n",
            "  adding: content/results/drishtiGS_034.png (deflated 3%)\n",
            "  adding: content/results/drishtiGS_028.png (deflated 3%)\n",
            "  adding: content/results/drishtiGS_025.png (deflated 5%)\n",
            "  adding: content/results/drishtiGS_014.png (deflated 3%)\n",
            "  adding: content/results/drishtiGS_009.png (deflated 4%)\n",
            "  adding: content/results/drishtiGS_006.png (deflated 3%)\n",
            "  adding: content/results/drishtiGS_021.png (deflated 3%)\n",
            "  adding: content/results/drishtiGS_030.png (deflated 4%)\n",
            "  adding: content/results/drishtiGS_003.png (deflated 3%)\n",
            "  adding: content/results/drishtiGS_020.png (deflated 3%)\n",
            "  adding: content/results/drishtiGS_013.png (deflated 6%)\n",
            "  adding: content/results/drishtiGS_005.png (deflated 3%)\n"
          ]
        }
      ]
    },
    {
      "cell_type": "code",
      "metadata": {
        "colab": {
          "base_uri": "https://localhost:8080/",
          "height": 17
        },
        "id": "ZUdgyLIPuPU9",
        "outputId": "425e209b-7ee0-438b-aeda-c749b0375945"
      },
      "source": [
        "from google.colab import files\n",
        "files.download(\"/content/results.zip\")"
      ],
      "execution_count": 8,
      "outputs": [
        {
          "output_type": "display_data",
          "data": {
            "application/javascript": [
              "\n",
              "    async function download(id, filename, size) {\n",
              "      if (!google.colab.kernel.accessAllowed) {\n",
              "        return;\n",
              "      }\n",
              "      const div = document.createElement('div');\n",
              "      const label = document.createElement('label');\n",
              "      label.textContent = `Downloading \"${filename}\": `;\n",
              "      div.appendChild(label);\n",
              "      const progress = document.createElement('progress');\n",
              "      progress.max = size;\n",
              "      div.appendChild(progress);\n",
              "      document.body.appendChild(div);\n",
              "\n",
              "      const buffers = [];\n",
              "      let downloaded = 0;\n",
              "\n",
              "      const channel = await google.colab.kernel.comms.open(id);\n",
              "      // Send a message to notify the kernel that we're ready.\n",
              "      channel.send({})\n",
              "\n",
              "      for await (const message of channel.messages) {\n",
              "        // Send a message to notify the kernel that we're ready.\n",
              "        channel.send({})\n",
              "        if (message.buffers) {\n",
              "          for (const buffer of message.buffers) {\n",
              "            buffers.push(buffer);\n",
              "            downloaded += buffer.byteLength;\n",
              "            progress.value = downloaded;\n",
              "          }\n",
              "        }\n",
              "      }\n",
              "      const blob = new Blob(buffers, {type: 'application/binary'});\n",
              "      const a = document.createElement('a');\n",
              "      a.href = window.URL.createObjectURL(blob);\n",
              "      a.download = filename;\n",
              "      div.appendChild(a);\n",
              "      a.click();\n",
              "      div.remove();\n",
              "    }\n",
              "  "
            ],
            "text/plain": [
              "<IPython.core.display.Javascript object>"
            ]
          },
          "metadata": {}
        },
        {
          "output_type": "display_data",
          "data": {
            "application/javascript": [
              "download(\"download_966d6483-6981-48a8-af33-6c7060a786aa\", \"results.zip\", 8091317)"
            ],
            "text/plain": [
              "<IPython.core.display.Javascript object>"
            ]
          },
          "metadata": {}
        }
      ]
    }
  ]
}